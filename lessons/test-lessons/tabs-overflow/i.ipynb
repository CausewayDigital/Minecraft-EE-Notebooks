{
 "cells": [
  {
   "cell_type": "markdown",
   "metadata": {},
   "source": [
    "# Welcome to Jupyter Notebooks in Minecraft!\n",
    "You are learning how to code by playing Minecraft! In Minecraft Education Edition you can code your Agent to help you play the game! We are going to make your agent be able to cut down and replant trees. It's important to always plant as many trees as you cut down so that the forest doesn't run out of trees!\n",
    "\n",
    "Let's start by having the agent say hello to us!"
   ]
  },
  {
   "cell_type": "code",
   "execution_count": null,
   "metadata": {
    "minecraft": {
     "hidden": true
    }
   },
   "outputs": [],
   "source": [
    "#FYI many of the code cells have meta data associated with them\n",
    "give(\"sapling\", 30)\n",
    "_exec(\"/give @a dye 30 15\")\n",
    "@user-code"
   ]
  },
  {
   "cell_type": "code",
   "execution_count": null,
   "metadata": {
    "minecraft": {
     "numberOfLines": 1,
     "overridePython": "give('sapling', 30)\n_exec('/give @a dye 30 15')\n@user-code",
     "readonly": true
    }
   },
   "outputs": [],
   "source": [
    "agent.say(\"Hello! I'm giving you the tree saplings to plant and bonemeal to make the trees grow instantly!\")"
   ]
  },
  {
   "cell_type": "markdown",
   "metadata": {},
   "source": [
    "You can tell the agent to move in any direction: \n",
    "- left\n",
    "- right\n",
    "- forward\n",
    "- back\n",
    "- up\n",
    "- down\n",
    "Try to make it move up and back down!"
   ]
  },
  {
   "cell_type": "code",
   "execution_count": null,
   "metadata": {
    "minecraft": {
     "numberOfLines": 1
    }
   },
   "outputs": [],
   "source": [
    "#Write your code here to move the agent\n",
    "agent.move(\"up\")"
   ]
  },
  {
   "cell_type": "markdown",
   "metadata": {},
   "source": [
    "Great! When you're ready, press next to move to the next step of the project!"
   ]
  }
 ],
 "metadata": {
  "kernelspec": {
   "display_name": "",
   "name": ""
  },
  "language_info": {
   "name": ""
  },
  "minecraft": {
   "description": "Learn to make the Agent move",
   "page_id": "i",
   "page_name": "iMove",
   "style": "minecraft.css"
  }
 },
 "nbformat": 4,
 "nbformat_minor": 4
}
