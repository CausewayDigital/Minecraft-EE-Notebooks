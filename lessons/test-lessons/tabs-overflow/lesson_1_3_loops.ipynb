{
 "cells": [
  {
   "cell_type": "markdown",
   "metadata": {},
   "source": [
    "# Loops\n",
    "A **while** loop is basically an if statement that keeps running while it is true. For example, this will make the agent move up while there are logs in front of it"
   ]
  },
  {
   "cell_type": "code",
   "execution_count": null,
   "metadata": {
    "minecraft": {
     "numberOfLines": 2,
     "readonly": true
    }
   },
   "outputs": [],
   "source": [
    "while agent.inspect(\"forward\") == \"log\":\n",
    "    agent.move(\"up\")"
   ]
  },
  {
   "cell_type": "markdown",
   "metadata": {},
   "source": [
    "Try having the agent chop down the trunk of the tree!"
   ]
  },
  {
   "cell_type": "code",
   "execution_count": null,
   "metadata": {
    "minecraft": {
     "numberOfLines": 5
    }
   },
   "outputs": [],
   "source": []
  },
  {
   "cell_type": "markdown",
   "metadata": {},
   "source": [
    "Great! When you're ready, press next to move to the next step of the project!"
   ]
  }
 ],
 "metadata": {
  "kernelspec": {
   "display_name": "",
   "name": ""
  },
  "language_info": {
    "mimetype": "text/ x - python",
    "nbconvert_exporter": "python",
    "version": "3.6.0",
    "name": "python",
    "file_extension": ".py",
    "pygments_lexer": "ipython2",
    "codemirror_mode": {
    "version": 2,
    "name": "ipython"
    }
  },
  "minecraft": {
   "description": "Learn to use while loops to make code run repeatedly",
   "page_id": "1.3",
   "page_name": "While loop",
   "style": "minecraft.css"
  }
 },
 "nbformat": 4,
 "nbformat_minor": 4
}
