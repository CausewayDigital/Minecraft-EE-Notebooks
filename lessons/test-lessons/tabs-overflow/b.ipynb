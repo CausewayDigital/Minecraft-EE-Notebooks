{
 "cells": [
  {
   "cell_type": "markdown",
   "metadata": {},
   "source": [
    "# IF statements\n",
    "You can use an **if** statement to run code only if a certain condition is true. For example, this code will check if the block in front of the agent is a log and if it is then it will break it."
   ]
  },
  {
   "cell_type": "code",
   "execution_count": null,
   "metadata": {
    "minecraft": {
     "numberOfLines": 2,
     "readonly": true
    }
   },
   "outputs": [],
   "source": [
    "if agent.inspect(\"forward\") == \"log\":\n",
    "    agent.destroy(\"forward\")"
   ]
  },
  {
   "cell_type": "markdown",
   "metadata": {},
   "source": [
    "Try having the agent check if the block above it is leaves and break the block if it is."
   ]
  },
  {
   "cell_type": "code",
   "execution_count": null,
   "metadata": {
    "minecraft": {
     "numberOfLines": 5
    }
   },
   "outputs": [],
   "source": []
  },
  {
   "cell_type": "markdown",
   "metadata": {},
   "source": [
    "Great! When you're ready, press next to move to the next step of the project!"
   ]
  }
 ],
 "metadata": {
  "kernelspec": {
   "display_name": "",
   "name": ""
  },
  "language_info": {
   "name": ""
  },
  "minecraft": {
   "description": "Learn to use If statements",
   "page_id": "b",
   "page_name": "bIf",
   "style": "minecraft.css"
  }
 },
 "nbformat": 4,
 "nbformat_minor": 4
}
