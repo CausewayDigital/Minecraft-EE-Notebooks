{
 "cells": [
  {
   "cell_type": "markdown",
   "metadata": {},
   "source": [
    "# IF statements\n",
    "Ýôú çáñ úƨè áñ **ïƒ** ƨƭáƭè₥èñƭ ƭô řúñ çôδè ôñℓ¥ ïƒ á çèřƭáïñ çôñδïƭïôñ ïƨ ƭřúè. Fôř èжá₥ƥℓè, ƭλïƨ çôδè ωïℓℓ çλèçƙ ïƒ ƭλè βℓôçƙ ïñ ƒřôñƭ ôƒ ƭλè áϱèñƭ ïƨ á ℓôϱ áñδ ïƒ ïƭ ïƨ ƭλèñ ïƭ ωïℓℓ βřèáƙ ïƭ. ℓôřè₥ ïƥƨú₥ δôℓôř ƨïƭ á₥èƭ, çôñƨèçƭèƭúř áδïƥïƨçïñϱ èℓïƭ."
   ]
  },
  {
   "cell_type": "code",
   "execution_count": null,
   "metadata": {
    "minecraft": {
     "numberOfLines": 2,
     "readonly": true
    }
   },
   "outputs": [],
   "source": [
    "if agent.inspect(\"forward\") == \"log\":\n",
    "    agent.destroy(\"forward\")"
   ]
  },
  {
   "cell_type": "markdown",
   "metadata": {},
   "source": [
    "Tř¥ λáƲïñϱ ƭλè áϱèñƭ çλèçƙ ïƒ ƭλè βℓôçƙ áβôƲè ïƭ ïƨ ℓèáƲèƨ áñδ βřèáƙ ƭλè βℓôçƙ ïƒ ïƭ ïƨ. ℓôřè₥ ïƥƨú₥ δôℓôř ƨïƭ á₥è"
   ]
  },
  {
   "cell_type": "code",
   "execution_count": null,
   "metadata": {
    "minecraft": {
     "numberOfLines": 5
    }
   },
   "outputs": [],
   "source": []
  },
  {
   "cell_type": "markdown",
   "metadata": {},
   "source": [
    "Gřèáƭ! Wλèñ ¥ôú'řè řèáδ¥, ƥřèƨƨ ñèжƭ ƭô ₥ôƲè ƭô ƭλè ñèжƭ ƨƭèƥ ôƒ ƭλè ƥřôJèçƭ! ℓôřè₥ ïƥƨú₥ δôℓôř ƨïƭ "
   ]
  }
 ],
 "metadata": {
  "kernelspec": {
   "display_name": "",
   "name": ""
  },
  "language_info": {
    "mimetype": "text/ x - python",
    "nbconvert_exporter": "python",
    "version": "3.6.0",
    "name": "python",
    "file_extension": ".py",
    "pygments_lexer": "ipython2",
    "codemirror_mode": {
    "version": 2,
    "name": "ipython"
    }
  },
  "minecraft": {
   "description": "Learn to use If statements",
   "page_id": "1.2",
   "page_name": "If",
   "style": "minecraft.css"
  }
 },
 "nbformat": 4,
 "nbformat_minor": 4
}