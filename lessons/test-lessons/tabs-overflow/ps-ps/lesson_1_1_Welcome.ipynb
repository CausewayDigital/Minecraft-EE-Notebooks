{
 "cells": [
  {
   "cell_type": "markdown",
   "metadata": {},
   "source": [
    "# Wèℓçô₥è ƭô Júƥ¥ƭèř Nôƭèβôôƙƨ ïñ Mïñèçřáƒƭ ℓôřè₥ ïƥƨú₥!\n",
    "Ýôú ářè ℓèářñïñϱ λôω ƭô çôδè β¥ ƥℓá¥ïñϱ Mïñèçřáƒƭ! Ìñ Mïñèçřáƒƭ Éδúçáƭïôñ Éδïƭïôñ ¥ôú çáñ çôδè ¥ôúř Âϱèñƭ ƭô λèℓƥ ¥ôú ƥℓá¥ ƭλè ϱá₥è! Wè ářè ϱôïñϱ ƭô ₥áƙè ¥ôúř áϱèñƭ βè áβℓè ƭô çúƭ δôωñ áñδ řèƥℓáñƭ ƭřèèƨ. Ìƭ'ƨ ï₥ƥôřƭáñƭ ƭô áℓωá¥ƨ ƥℓáñƭ áƨ ₥áñ¥ ƭřèèƨ áƨ ¥ôú çúƭ δôωñ ƨô ƭλáƭ ƭλè ƒôřèƨƭ δôèƨñ'ƭ řúñ ôúƭ ôƒ ƭřèèƨ! ℓôřè₥ ïƥƨú₥ δôℓôř ƨïƭ á₥èƭ, çôñƨèçƭèƭúř áδïƥïƨçïñϱ èℓïƭ. Núñç èϱèƭ úřñá ℓáôřèèƭ, áççú₥ƨáñ ƒè\n",
    "\n",
    "\n",
    "£èƭ'ƨ ƨƭářƭ β¥ λáƲïñϱ ƭλè áϱèñƭ ƨá¥ λèℓℓô ƭô úƨ! ℓôřè₥ ïƥƨú₥ δ"
   ]
  },
  {
   "cell_type": "code",
   "execution_count": null,
   "metadata": {
    "minecraft": {
     "hidden": true
    }
   },
   "outputs": [],
   "source": [
    "#FYI many of the code cells have meta data associated with them\n",
    "give(\"sapling\", 30)\n",
    "_exec(\"/give @a dye 30 15\")\n",
    "@user-code"
   ]
  },
  {
   "cell_type": "code",
   "execution_count": null,
   "metadata": {
    "minecraft": {
     "numberOfLines": 1,
     "overridePython": "give('sapling', 30)\n_exec('/give @a dye 30 15')\n@user-code",
     "readonly": true
    }
   },
   "outputs": [],
   "source": [
    "agent.say(\"Hèℓℓô! Ì'₥ ϱïƲïñϱ ¥ôú ƭλè ƭřèè ƨáƥℓïñϱƨ ƭô ƥℓáñƭ áñδ βôñè₥èáℓ ƭô ₥áƙè ƭλè ƭřèèƨ ϱřôω ïñƨƭáñƭℓ¥! ℓôřè₥ ïƥƨú₥ δôℓôř ƨïƭ á₥èƭ\")"
   ]
  },
  {
   "cell_type": "markdown",
   "metadata": {},
   "source": [
    "Ýôú çáñ ƭèℓℓ ƭλè áϱèñƭ ƭô ₥ôƲè ïñ áñ¥ δïřèçƭïôñ: ℓôřè₥ ïƥƨú₥ δ\n",
    "\n",
    ": \n",
    "- left\n",
    "- right\n",
    "- forward\n",
    "- back\n",
    "- up\n",
    "- down\n",
    "Tř¥ ƭô ₥áƙè ïƭ ₥ôƲè úƥ áñδ βáçƙ δôωñ! ℓôřè₥ ïƥƨú\n"
   ]
  },
  {
   "cell_type": "code",
   "execution_count": null,
   "metadata": {
    "minecraft": {
     "numberOfLines": 1
    }
   },
   "outputs": [],
   "source": [
    "#Write your code here to move the agent\n",
    "agent.move(\"up\")"
   ]
  },
  {
   "cell_type": "markdown",
   "metadata": {},
   "source": [
    "    Great! When you're ready, press next to move to the next step of the project!"
   ]
  }
 ],
 "metadata": {
  "kernelspec": {
   "display_name": "",
   "name": ""
  },
  "language_info": {
    "mimetype": "text/ x - python",
    "nbconvert_exporter": "python",
    "version": "3.6.0",
    "name": "python",
    "file_extension": ".py",
    "pygments_lexer": "ipython2",
    "codemirror_mode": {
    "version": 2,
    "name": "ipython"
    }
  },
  "minecraft": {
   "description": "Learn to make the Agent move",
   "page_id": "1.1",
   "page_name": "Move",
   "style": "minecraft.css"
  }
 },
 "nbformat": 4,
 "nbformat_minor": 4
}