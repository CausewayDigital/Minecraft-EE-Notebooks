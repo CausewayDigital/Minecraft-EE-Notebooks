{
 "cells": [
  {
   "cell_type": "markdown",
   "metadata": {},
   "source": [
    "# 任务1 夜视魔法\n",
    "\n",
    "这里一片漆黑，我们可以使用以前学习过的user.add_effect()函数赋予自己夜视魔法！"
   ]
  },
  {
   "cell_type": "markdown",
   "metadata": {
    "minecraft": {
     "hidden": true,
     "override": true
    }
   },
   "source": [
    "\n",
    "## 知识点\n",
    "\n",
    "- 缺省参数-概念\n",
    "\n",
    "## 学习\n",
    "在上个学期的课程中，我们学习了如何使用user.add_effect()函数实现一些特效，比如user.add_effect('Jump_boost')实现跳跃提升效果。在后面的学习中，我们需要通过实现“夜视”效果来学习函数中的缺省参数概念，然后对其进行应用。\n",
    "\n",
    "## 任务1-1\n",
    "赋予自己夜视效果"
   ]
  },
  {
   "cell_type": "code",
   "execution_count": null,
   "metadata": {},
   "outputs": [],
   "source": [
    "#coding\n",
    "user.add_effect('night_vision')"
   ]
  },
  {
   "cell_type": "markdown",
   "metadata": {},
   "source": [
    "### 编程提示\n",
    "1、使用user.add_effect()函数完成任务。\n",
    "\n",
    "2、夜视效果的字符串是：'night_vision'"
   ]
  },
  {
   "cell_type": "markdown",
   "metadata": {},
   "source": [
    "## 任务1-2 \n",
    "赋予自己夜视效果并让效果持续100秒\n"
   ]
  },
  {
   "cell_type": "code",
   "execution_count": null,
   "metadata": {},
   "outputs": [],
   "source": [
    "#coding\n",
    "user.add_effect('night_vision',100)"
   ]
  },
  {
   "cell_type": "markdown",
   "metadata": {},
   "source": [
    "### 提示\n",
    "1、夜视效果的字符串是：'night_vision'\n",
    "\n",
    "2、可以给函数传递两个参数，第一个参数是效果名称，第二个参数是效果持续的时间。"
   ]
  },
  {
   "cell_type": "markdown",
   "metadata": {},
   "source": [
    "\n",
    "## 学习\n",
    "通过前面的任务我们可以看到，在调用user对象的add_effect()函数的时候\n",
    "我们既可以给他们传递一个参数，也可以传递两个参数。那为什么会出现这样的现象呢？\n",
    "\n",
    "user.add_effect()函数是这样定义的：\n",
    "def add_effect(effect, seconds = 30, amplifier = 1, hide_particles = False):\n",
    "    ...\n",
    "\n",
    "我们可以看到其实user.add_effect()函数一共有四个参数\n",
    "1、effect 效果名称(必填)\n",
    "\n",
    "2、seconds=30 持续时间（选填,默认为30,单位为秒）\n",
    "\n",
    "3、amplifier=1 效果强度（选填,默认为1）\n",
    "\n",
    "4、hide_particles=False 隐藏粒子效果（选填,默认为False）\n",
    "\n",
    "除了effect参数以外，其他的参数都为缺省参数，调用函数时默认参数的值如果没有传入，则被认为是默认值。\n"
   ]
  },
  {
   "cell_type": "markdown",
   "metadata": {},
   "source": [
    "## 示例"
   ]
  },
  {
   "cell_type": "code",
   "execution_count": null,
   "metadata": {},
   "outputs": [],
   "source": [
    "# 实现速度提升效果，持续10秒，效果强度是10，不隐藏粒子效果\n",
    "user.add_effect('speed',100,10)"
   ]
  }
 ],
 "metadata": {
  "kernelspec": {
   "display_name": "Python 3",
   "language": "python",
   "name": "python3"
  },
  "language_info": {
   "codemirror_mode": {
    "name": "ipython",
    "version": 3
   },
   "file_extension": ".py",
   "mimetype": "text/x-python",
   "name": "python",
   "nbconvert_exporter": "python",
   "pygments_lexer": "ipython3",
   "version": "3.7.3"
  },
  "minecraft": {
   "description": "基本操作",
   "page_id": "1.1",
   "page_name": "任务1",
   "style": "minecraft.css"
  }
 },
 "nbformat": 4,
 "nbformat_minor": 4
}
