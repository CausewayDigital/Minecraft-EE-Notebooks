{
 "cells": [
  {
   "cell_type": "markdown",
   "metadata": {},
   "source": [
    "# 任务4  补全KAMO"
   ]
  },
  {
   "cell_type": "markdown",
   "metadata": {},
   "source": [
    "对不定长参数进行实际应用"
   ]
  },
  {
   "cell_type": "markdown",
   "metadata": {},
   "source": [
    "## 知识点\n",
    "- 不定长参数-应用\n",
    "\n",
    "## 学习\n",
    "不定长参数的应用范围很广，比如你可以使用他做一些参数数量不定长的数学运算函数，或者对不确定数量的数据进行处理。在本任务中，我们将使用补全KAMO的练习帮助我们更好的理解不定长参数的应用场景。"
   ]
  },
  {
   "cell_type": "markdown",
   "metadata": {},
   "source": [
    "\n",
    "## 任务4-1\n",
    "在你周围能看到墙上有一些字母，每个字母上都存在一个钻石块，我们要做的，就是将这些字母上的钻石块替换成和每个字母本体相对应的方块。这里我们会提供几个函数工具供你使用。"
   ]
  },
  {
   "cell_type": "code",
   "execution_count": null,
   "metadata": {},
   "outputs": [],
   "source": [
    "#工具函数，在列表中指定的坐标点按顺序批量放置方块\n",
    "def compared_name_to_coordinate(name_list,coordinates):\n",
    "    for index in range(len(name_list)):\n",
    "            world.set(coordinates[index],name_list[index])\n",
    "#coding           \n",
    "# 编写一个set_block函数，包含两个参数，第一个参数是block_datas,用来接收传入的方块类型列表。第二个参数coordinates是一个不定长参数，用来接收多个字母需替换处的坐标元组\n",
    "def set_blocks(block_datas,*coordinates):\n",
    "    #调用compared_name_to_coordinate函数，传递方块列表参数和包含将要放置的所有位置坐标的元组参数（注意：不定长参数在函数内部以元组的形式存在！）\n",
    "    compared_name_to_coordinate(block_datas,coordinates)   \n",
    "# 定义一个列表，按顺序传入四个字母对应的方块名称\n",
    "block_datas = ['concrete#1','concrete#11','concrete#6','concrete#5']  \n",
    "# 定义四个变量K，A，M，O，分别储存每个字母需替换位置的绝对坐标元组。\n",
    "K,A,M,O = (174,105,252),(183,106,257),(189,104,247),(193,105,254)\n",
    "# 调用set_blocks函数，按顺序分别传递blocks_datas参数和K，A，M，O四个变量\n",
    "set_blocks(block_datas,K,A,M,O)\n"
   ]
  },
  {
   "cell_type": "markdown",
   "metadata": {},
   "source": [
    "## 提示:\n",
    "1、K的坐标值:(174,105,252)  \n",
    "\n",
    "2、K材料名称:'concrete#1'\n",
    "\n",
    "3、A的坐标值:(183,106,257)\n",
    "\n",
    "4、A材料名称:'concrete#11'\n",
    "\n",
    "5、M的坐标值:(189,104,247)\n",
    "\n",
    "6、M材料名称:'concrete#6'\n",
    "\n",
    "7、O的坐标值:(193,105,254)\n",
    "\n",
    "8、O材料名称:'concrete#5'\n",
    "\n",
    "9、\n",
    "```python\n",
    "#工具函数，在列表中指定的坐标点按顺序批量放置方块\n",
    "#其中name_list参数接收方块名列表，coordinates用来接收要批量处理的方块坐标（元组）\n",
    "def compared_name_to_coordinate(name_list,coordinates)\n",
    "    for index in range(len(name_list)):\n",
    "            world.set(coordinates[index],name_list[index])\n",
    "```\n",
    "\n"
   ]
  }
 ],
 "metadata": {
  "kernelspec": {
   "display_name": "Python 3",
   "language": "python",
   "name": "python3"
  },
  "language_info": {
   "codemirror_mode": {
    "name": "ipython",
    "version": 3
   },
   "file_extension": ".py",
   "mimetype": "text/x-python",
   "name": "python",
   "nbconvert_exporter": "python",
   "pygments_lexer": "ipython3",
   "version": "3.7.3"
  },
  "minecraft": {
   "description": "修复信标台",
   "page_id": "1.4",
   "page_name": "任务4",
   "style": "minecraft.css"
  }
 },
 "nbformat": 4,
 "nbformat_minor": 4
}
