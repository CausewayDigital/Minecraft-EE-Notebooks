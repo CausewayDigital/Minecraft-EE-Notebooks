{
 "cells": [
  {
   "cell_type": "markdown",
   "metadata": {},
   "source": [
    "# 任务2 点亮学院"
   ]
  },
  {
   "cell_type": "markdown",
   "metadata": {},
   "source": [
    "让小精灵打碎黑曜石，并使用铁块修复。以打开学院照明系统。\n"
   ]
  },
  {
   "cell_type": "markdown",
   "metadata": {},
   "source": [
    "## 知识点\n",
    "\n",
    "- 缺省参数-应用\n",
    "\n",
    "## 学习\n",
    "\n",
    "通过刚才的学习，想必你已经知道缺省参数的概念了，现在我们需要结合前几节课学习的知识，进行集中练习。\n",
    "\n",
    "## 任务2-1：\n",
    "将黑曜石替换成铁块，完成电路修复。"
   ]
  },
  {
   "cell_type": "code",
   "execution_count": null,
   "metadata": {},
   "outputs": [],
   "source": [
    "# 工具：调用此函数可以让小精灵替换指定方向(参数为direction)的方块为指定物品栏(参数为id)的方块，如果不传递id参数那默认取1，也就是物品栏1\n",
    "user.add_effect('night_vision',100)\n",
    "def agent_replace_block(direction,id = 1):\n",
    "    agent.destroy(direction)\n",
    "    agent.collect()\n",
    "    agent.place(id,direction)\n",
    "# 工具：调用下面的三个函数分别可以向不同方向移动指定参数(参数为step)的步数，步数默认为1\n",
    "def agent_up(step = 1):\n",
    "    for i in range(step):\n",
    "        agent.move('up')\n",
    "def agent_left(step = 1):\n",
    "    for i in range(step):\n",
    "        agent.move('left')\n",
    "def agent_down(step = 1):\n",
    "    for i in range(step):\n",
    "        agent.move('down')\n",
    "#coding\n",
    "# 需求：编写一个函数，建议命名为 inspect_and_replace.包含参数 material 和 direction 其中material参数指定要替换的材料块，direction参数指定要替换的方向(默认值是 'forward')实现如果小精灵前面的方块是黑曜石方块那就调用agent_replace_block函数实现替换的功能。\n",
    "def inspect_and_replace(material ,direction = 'forward'):\n",
    "    if agent.inspect(direction) == material:\n",
    "        agent_replace_block(direction)\n",
    "        \n",
    "        \n",
    "#coding       \n",
    "#需求：编写一段程序，可以对整个配电墙进行扫描，并替换黑曜石方块为铁块。\n",
    "for i in range(5):\n",
    "    for j in range(5):\n",
    "        inspect_and_replace('obsidian')\n",
    "        agent_up()\n",
    "    agent_down(5)\n",
    "    agent_left()"
   ]
  },
  {
   "cell_type": "markdown",
   "metadata": {},
   "source": [
    "## 提示\n",
    "\n",
    "1、扫描配电墙的程序可以使用双层for循环嵌套实现。\n",
    "\n",
    "2、需要使用到的功能函数：\n",
    "\n",
    "``` python\n",
    "# 工具：调用此函数可以让小精灵替换指定方向(参数为direction)的方块为指定物品栏(参数为id)的方块，如果不传递id参数那默认取1，也就是物品栏1\n",
    "def agent_replace_block(direction,id = 1):\n",
    "    agent.destroy(direction)\n",
    "    agent.collect()\n",
    "    agent.place(id,direction)\n",
    "# 工具：调用下面的三个函数分别可以向不同方向移动指定参数(参数为step)的步数，步数默认为1\n",
    "def agent_up(step = 1):\n",
    "    for i in range(step):\n",
    "        agent.move('up')\n",
    "def agent_right(step = 1):\n",
    "    for i in range(step):\n",
    "        agent.move('right')\n",
    "def agent_down(step = 1):\n",
    "    for i in range(step):\n",
    "        agent.move('down')\n",
    "```\n",
    "\n",
    "\n"
   ]
  }
 ],
 "metadata": {
  "kernelspec": {
   "display_name": "Python 3",
   "language": "python",
   "name": "python3"
  },
  "language_info": {
   "codemirror_mode": {
    "name": "ipython",
    "version": 3
   },
   "file_extension": ".py",
   "mimetype": "text/x-python",
   "name": "python",
   "nbconvert_exporter": "python",
   "pygments_lexer": "ipython3",
   "version": "3.7.3"
  },
  "minecraft": {
   "description": "操作进阶",
   "page_id": "1.2",
   "page_name": "任务2",
   "style": "minecraft.css"
  }
 },
 "nbformat": 4,
 "nbformat_minor": 4
}
