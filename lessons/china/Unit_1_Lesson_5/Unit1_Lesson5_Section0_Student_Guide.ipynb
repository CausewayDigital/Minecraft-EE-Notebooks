{
 "cells": [
  {
   "cell_type": "markdown",
   "metadata": {},
   "source": [
    "# 第五课 彩色魔法实验室\n",
    "\n",
    "------\n",
    "\n",
    "欢迎来到彩色魔法实验室，这里有很多被腐蚀的魔法阵。这节课你需要与小精灵一起修复它们。我们每修复一个魔法阵，大厅中心就会点亮一个信标，当所有的信标被点亮时，你就会进入到浮空岛的核心之处了。本节课我们将学习一下知识点：\n",
    "\n",
    "> * 学习参数与变量\n",
    "> * 学习变量的作用域\n",
    "> * 学习全局变量与局部变量\n",
    "> * 学习更改全局变量"
   ]
  },
  {
   "cell_type": "markdown",
   "metadata": {},
   "source": [
    "\n",
    "\n",
    "### 知识回顾\n",
    "\n",
    "> * __agent的移动__：</br>\n",
    "agent.move(direction)。其中ditection是字符串类型，代表agent移动的方向，agent可以向上(up)下(down)左(left)右(right)前(forward)后(backward)这6个方向移动。\n",
    "> * __agent放置方块__：</br>\n",
    "agent.place(slot_number,driection)。其中slot_number是int类型，代表放置的是agent第几个装备栏的材料块。ditection是字符串类型，代表agent移动的方向，agent可以向上(up)下(down)左(left)右(right)前(forward)后(backward)这6个方向放置方块。\n",
    "> * __给agent物品__：</br>\n",
    "agent.give(item, quantity, slot number)。其中item是字符串类型，代表给agent的是什么物品。quantity是int类型，代表给agent多少个物品。slot number是int类型，代表将物品放到agent第几个装备栏中。\n",
    "\n"
   ]
  },
  {
   "cell_type": "markdown",
   "metadata": {},
   "source": [
    "### 本节课任务\n",
    "\n",
    "这节课会有六个任务，根据NPC的提示完成六个任务就可以完成课程，进入浮空岛的核心之处啦。"
   ]
  }
 ],
 "metadata": {
  "kernelspec": {
   "display_name": "Python 3",
   "language": "python",
   "name": "python3"
  },
  "language_info": {
   "codemirror_mode": {
    "name": "ipython",
    "version": 3
   },
   "file_extension": ".py",
   "mimetype": "text/x-python",
   "name": "python",
   "nbconvert_exporter": "python",
   "pygments_lexer": "ipython3",
   "version": "3.7.4"
  },
  "minecraft": {
   "description": "简介",
   "page_id": "5.0",
   "page_name": "简介",
   "style": "minecraft.css"
  }
 },
 "nbformat": 4,
 "nbformat_minor": 4
}
