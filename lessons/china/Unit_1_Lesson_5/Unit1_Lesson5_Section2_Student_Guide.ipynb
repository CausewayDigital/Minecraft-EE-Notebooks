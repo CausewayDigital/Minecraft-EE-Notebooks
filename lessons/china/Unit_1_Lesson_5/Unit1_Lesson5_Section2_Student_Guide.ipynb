{
 "cells": [
  {
   "cell_type": "markdown",
   "metadata": {},
   "source": [
    "\n",
    "# 任务2 根据变量关系改造代码破解阵法\n",
    "\n",
    "------\n",
    "### 知识讲解\n",
    "\n",
    "- 在上一任务中我们发现只要更改slot，ColorNumber，side的值即可。\n",
    "- 我的世界中混凝土的颜色编号从0到15，一共16种颜色。如果我们只在agent的1到16的装备栏放置不同颜色的混凝土方块， 这样ColorNumber=slot-1。\n",
    "- 如果边长为4，那么就用agent的第4个装备栏的方块放置，以此类推，如果边长为16，那么就用agent的第16个装备栏的方块放置。边长为17时，再重新回到第一个装备栏,放置第一个装备栏的方块，如果循环下去，这样slot=(side-1)%16+1\n",
    "\n",
    "### 挑战\n",
    "\n",
    "- 根据上面的变量关系的分析，我们将程序改造，搭建一个边长为5的正方形："
   ]
  },
  {
   "cell_type": "code",
   "execution_count": null,
   "metadata": {},
   "outputs": [],
   "source": [
    "#将side赋值为5\n",
    "\n",
    "#将slot赋值为由side组成的数学算式\n",
    "\n",
    "#将ColorNumber赋值为由side组成的数学算式\n",
    "\n",
    "#创建指定边长为side,立在墙上的，空心正方形\n",
    "\n",
    "\n",
    "\n",
    "\n",
    "\n",
    "\n",
    "\n",
    "\n",
    "\n",
    "\n",
    "\n",
    "\n"
   ]
  }
 ],
 "metadata": {
  "kernelspec": {
   "display_name": "Python 3",
   "language": "python",
   "name": "python3"
  },
  "language_info": {
   "codemirror_mode": {
    "name": "ipython",
    "version": 3
   },
   "file_extension": ".py",
   "mimetype": "text/x-python",
   "name": "python",
   "nbconvert_exporter": "python",
   "pygments_lexer": "ipython3",
   "version": "3.7.3"
  },
  "minecraft": {
   "description": "任务二",
   "page_id": "5.2",
   "page_name": "任务二",
   "style": "minecraft.css"
  }
 },
 "nbformat": 4,
 "nbformat_minor": 4
}
