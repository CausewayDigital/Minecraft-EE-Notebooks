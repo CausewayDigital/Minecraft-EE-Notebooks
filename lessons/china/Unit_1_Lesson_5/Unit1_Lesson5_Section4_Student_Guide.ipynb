{
 "cells": [
  {
   "cell_type": "markdown",
   "metadata": {},
   "source": [
    "\n",
    "# 任务4 学习全局变量破解阵法\n",
    "\n",
    "------\n",
    "\n",
    "### 知识讲解\n",
    "\n",
    "- 在函数内的变量我们称为局部变量，上一任务中slot，ColorNumber，side这些的变量都是局部变量。他们所在的函数执行完毕后，这些变量就会被销毁。比如square5函数执行时，会创建一个side变量，被赋值为5，square5执行完毕后，side变量被删除。\n",
    "- 在执行square3时，会从新生成一个side变量，被赋值为3，square3执行完毕后，side变量再次被删除。\n",
    "\n",
    "### 挑战\n",
    "\n",
    "- 虽然上面我们完成了，一个边长为5的正方形套着边长为3的正方形的程序效果，但是程序看起来不简洁，我们接下来尝试用全局变量来完成该效果："
   ]
  },
  {
   "cell_type": "code",
   "execution_count": null,
   "metadata": {},
   "outputs": [],
   "source": [
    "#创建无参函数square，这个函数中的没有变量side的赋值，也不知道side被赋值为多少，只能直接调用side变量，完成边长为side的正方形的搭建\n",
    "\n",
    "\n",
    "\n",
    "\n",
    "\n",
    "\n",
    "\n",
    "\n",
    "\n",
    "\n",
    "\n",
    "\n",
    "\n",
    "\n",
    "\n",
    "\n",
    "#创建全局变量side，并赋值为5\n",
    "\n",
    "#调用square函数搭建正方形\n",
    "\n",
    "#移动agent，使得agent可以完成下个图形的搭建\n",
    "\n",
    "\n",
    "#创建全局变量side，并赋值为5\n",
    "\n",
    "#调用square函数搭建正方形\n"
   ]
  }
 ],
 "metadata": {
  "kernelspec": {
   "display_name": "Python 3",
   "language": "python",
   "name": "python3"
  },
  "language_info": {
   "codemirror_mode": {
    "name": "ipython",
    "version": 3
   },
   "file_extension": ".py",
   "mimetype": "text/x-python",
   "name": "python",
   "nbconvert_exporter": "python",
   "pygments_lexer": "ipython3",
   "version": "3.7.3"
  },
  "minecraft": {
   "description": "任务四",
   "page_id": "5.4",
   "page_name": "任务四",
   "style": "minecraft.css"
  }
 },
 "nbformat": 4,
 "nbformat_minor": 4
}
