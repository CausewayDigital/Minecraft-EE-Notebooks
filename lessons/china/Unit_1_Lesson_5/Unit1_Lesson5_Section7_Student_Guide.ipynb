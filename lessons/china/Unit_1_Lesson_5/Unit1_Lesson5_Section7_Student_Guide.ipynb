{
 "cells": [
  {
   "cell_type": "markdown",
   "metadata": {},
   "source": [
    "\n",
    "# 任务7 课程总结与讨论\n",
    "\n",
    "------\n",
    "- 我们在这里继续完成任务7\n",
    "\n",
    "- 如果程序这样写，会搭建一个多大的正方形呢？\n"
   ]
  },
  {
   "cell_type": "code",
   "execution_count": null,
   "metadata": {},
   "outputs": [],
   "source": [
    "def square(side):\n",
    "    side=5\n",
    "    slot=(side-1)%16+1\n",
    "    ColorNumber=slot-1\n",
    "    for i in range(4):\n",
    "        for j in range(side-1):\n",
    "            if agent.get_item_count(slot)==0:\n",
    "                agent.give((\"concrete\",ColorNumber), 64, slot)\n",
    "            agent.place(slot, \"forward\")\n",
    "            if i==0:\n",
    "                agent.move(\"up\")\n",
    "            elif i==1:\n",
    "                agent.move(\"right\")\n",
    "            elif i==2:\n",
    "                agent.move(\"down\")\n",
    "            elif i==3:\n",
    "                agent.move(\"left\")\n",
    "side=3\n",
    "square(8)"
   ]
  },
  {
   "cell_type": "markdown",
   "metadata": {},
   "source": [
    "- 我们会发现agent会帮我们搭建一个边长为5的正方形\n",
    "- 首先程序从上向下执行，而函数体只有在被调用的情况下才会被执行。所以首先会生成一个全局变量side，被赋值为3\n",
    "- 当函数被调用时，函数的参数side，被赋值为8，这个side参数相当于在函数体第一行加入了side=3，这个side是输入函数体的是局部变量\n",
    "- 然后执行函数体的过程中，局部变量side会被重新赋值，为5\n",
    "- 这时候局部变量side和全局变量side是同时存在的，是两个不同的变量，在函数体内的程序默认使用局部变量side的\n",
    "- 然后该函数搭建一个边长为5的正方形\n",
    "\n",
    "\n",
    "------\n",
    "\n",
    "\n",
    "- 函数体执行完毕，该函数体中的局部变量side被销毁，这个时候就只剩下全局变量side值了，我们可以尝试执行下面的程序，看看side的值得变化\n"
   ]
  },
  {
   "cell_type": "code",
   "execution_count": null,
   "metadata": {},
   "outputs": [],
   "source": [
    "def square(side):\n",
    "    agent.say(\"函数的参数side被赋值，生成局部变量side，side的值为\",side)\n",
    "    side=5\n",
    "    agent.say(\"局部变量side的值被重新赋值为\",side)\n",
    "    slot=(side-1)%16+1\n",
    "    ColorNumber=slot-1\n",
    "    for i in range(4):\n",
    "        for j in range(side-1):\n",
    "            if agent.get_item_count(slot)==0:\n",
    "                agent.give((\"concrete\",ColorNumber), 64, slot)\n",
    "            agent.place(slot, \"forward\")\n",
    "            if i==0:\n",
    "                agent.move(\"up\")\n",
    "            elif i==1:\n",
    "                agent.move(\"right\")\n",
    "            elif i==2:\n",
    "                agent.move(\"down\")\n",
    "            elif i==3:\n",
    "                agent.move(\"left\")\n",
    "side=3\n",
    "square(8)\n",
    "agent.say(\"函数体执行完毕，函数中的局部变量side被销毁，只剩下全局变量side，side的值为\",side)"
   ]
  }
 ],
 "metadata": {
  "kernelspec": {
   "display_name": "Python 3",
   "language": "python",
   "name": "python3"
  },
  "language_info": {
   "codemirror_mode": {
    "name": "ipython",
    "version": 3
   },
   "file_extension": ".py",
   "mimetype": "text/x-python",
   "name": "python",
   "nbconvert_exporter": "python",
   "pygments_lexer": "ipython3",
   "version": "3.7.3"
  },
  "minecraft": {
   "description": "总结",
   "page_id": "5.7",
   "page_name": "总结",
   "style": "minecraft.css"
  }
 },
 "nbformat": 4,
 "nbformat_minor": 4
}
