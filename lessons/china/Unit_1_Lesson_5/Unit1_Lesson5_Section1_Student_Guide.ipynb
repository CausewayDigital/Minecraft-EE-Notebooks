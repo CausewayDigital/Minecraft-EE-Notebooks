{
 "cells": [
  {
   "cell_type": "markdown",
   "metadata": {},
   "source": [
    "# 任务1 破解空心正方形阵\n",
    "\n",
    "------\n",
    "### 样例\n",
    "\n",
    "- 现在我们执行下面的代码程序，执行一个颜色编号为5的黏土方块，组成的边长为6的正方形：\n",
    "- slot变量代表agent的装备栏\n",
    "- ColorNumber变量代表混凝土在我的世界中的颜色编号\n",
    "- side变量代表搭建的正方形的边长"
   ]
  },
  {
   "cell_type": "code",
   "execution_count": null,
   "metadata": {},
   "outputs": [],
   "source": [
    "side=6\n",
    "slot=6\n",
    "ColorNumber=5\n",
    "for i in range(4):\n",
    "    for j in range(side-1):\n",
    "        if agent.get_item_count(slot)==0:\n",
    "            agent.give((\"concrete\",ColorNumber), 64, slot)\n",
    "        agent.place(slot, \"forward\")\n",
    "        if i==0:\n",
    "            agent.move(\"up\")\n",
    "        elif i==1:\n",
    "            agent.move(\"right\")\n",
    "        elif i==2:\n",
    "            agent.move(\"down\")\n",
    "        elif i==3:\n",
    "            agent.move(\"left\")"
   ]
  },
  {
   "cell_type": "markdown",
   "metadata": {},
   "source": [
    "### 挑战\n",
    "\n",
    "- 请在下方完成程序，执行一个颜色编号为3的黏土方块，组成的边长为4的正方形："
   ]
  },
  {
   "cell_type": "code",
   "execution_count": null,
   "metadata": {},
   "outputs": [],
   "source": [
    "#将side赋值为4\n",
    "\n",
    "#将slot赋值为4\n",
    "\n",
    "#将colorNumber赋值为3\n",
    "\n",
    "#创建指定边长为side,立在墙上的，空心正方形\n",
    "\n",
    "\n",
    "\n",
    "\n",
    "\n",
    "\n",
    "\n",
    "\n",
    "\n",
    "\n",
    "\n",
    "\n"
   ]
  }
 ],
 "metadata": {
  "kernelspec": {
   "display_name": "Python 3",
   "language": "python",
   "name": "python3"
  },
  "language_info": {
   "codemirror_mode": {
    "name": "ipython",
    "version": 3
   },
   "file_extension": ".py",
   "mimetype": "text/x-python",
   "name": "python",
   "nbconvert_exporter": "python",
   "pygments_lexer": "ipython3",
   "version": "3.7.3"
  },
  "minecraft": {
   "description": "任务一",
   "page_id": "5.1",
   "page_name": "任务一",
   "style": "minecraft.css"
  }
 },
 "nbformat": 4,
 "nbformat_minor": 4
}
