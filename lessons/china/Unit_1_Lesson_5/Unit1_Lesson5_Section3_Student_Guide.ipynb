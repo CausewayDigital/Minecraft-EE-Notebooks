{
 "cells": [
  {
   "cell_type": "markdown",
   "metadata": {},
   "source": [
    "\n",
    "# 任务3 学习局部变量破解阵法\n",
    "\n",
    "------\n",
    "\n",
    "\n",
    "- 这里我们的任务三任务四和任务五是在同一个地点，完成了任务三任务四后不要着急过关卡，将任务五完成后，再通关才可以完成任务六的任务哦\n",
    "### 样例\n",
    "\n",
    "- 我们将上一任务的代码封装为函数square5，然后通过调用square5函数，来搭建一个边长为5的正方形：\n"
   ]
  },
  {
   "cell_type": "code",
   "execution_count": null,
   "metadata": {},
   "outputs": [],
   "source": [
    "#创建无参函数square，这个函数可以搭建边长为5,立在墙上的，空心正方形\n",
    "def square5():\n",
    "    side=5\n",
    "    slot=(side-1)%16+1\n",
    "    ColorNumber=slot-1\n",
    "    for i in range(4):\n",
    "        for j in range(side-1):\n",
    "            if agent.get_item_count(slot)==0:\n",
    "                agent.give((\"concrete\",ColorNumber), 64, slot)\n",
    "            agent.place(slot, \"forward\")\n",
    "            if i==0:\n",
    "                agent.move(\"up\")\n",
    "            elif i==1:\n",
    "                agent.move(\"right\")\n",
    "            elif i==2:\n",
    "                agent.move(\"down\")\n",
    "            elif i==3:\n",
    "                agent.move(\"left\")\n",
    "\n",
    "square5()"
   ]
  },
  {
   "cell_type": "markdown",
   "metadata": {},
   "source": [
    "\n",
    "\n",
    "### 挑战\n",
    "\n",
    "- 我们仿照样例程序来构建一个square3函数，这个函数可以的搭建一个边长为3的正方形。然后通过调用square5函数与square3函数，执行出一个边长为5的正方形，套着边长为3的正方形的图形："
   ]
  },
  {
   "cell_type": "code",
   "execution_count": null,
   "metadata": {},
   "outputs": [],
   "source": [
    "#创建无参函数square，这个函数可以搭建边长为5,立在墙上的，空心正方形\n",
    "\n",
    "\n",
    "\n",
    "\n",
    "\n",
    "\n",
    "\n",
    "\n",
    "\n",
    "\n",
    "\n",
    "\n",
    "\n",
    "\n",
    "\n",
    "\n",
    "\n",
    "#创建无参函数square，这个函数可以搭建边长为3,立在墙上的，空心正方形\n",
    "\n",
    "\n",
    "\n",
    "\n",
    "\n",
    "\n",
    "\n",
    "\n",
    "\n",
    "\n",
    "\n",
    "\n",
    "\n",
    "\n",
    "\n",
    "\n",
    "\n",
    "#调用square函数，搭建一个边长为5的正方形                  \n",
    "\n",
    "#移动agent，使得agent可以完成下个图形的搭建\n",
    "\n",
    "\n",
    "#调用square函数，搭建一个边长为3的正方形  \n"
   ]
  }
 ],
 "metadata": {
  "kernelspec": {
   "display_name": "Python 3",
   "language": "python",
   "name": "python3"
  },
  "language_info": {
   "codemirror_mode": {
    "name": "ipython",
    "version": 3
   },
   "file_extension": ".py",
   "mimetype": "text/x-python",
   "name": "python",
   "nbconvert_exporter": "python",
   "pygments_lexer": "ipython3",
   "version": "3.7.3"
  },
  "minecraft": {
   "description": "任务三",
   "page_id": "5.3",
   "page_name": "任务三",
   "style": "minecraft.css"
  }
 },
 "nbformat": 4,
 "nbformat_minor": 4
}
