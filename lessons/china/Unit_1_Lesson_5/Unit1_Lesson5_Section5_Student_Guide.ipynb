{
 "cells": [
  {
   "cell_type": "markdown",
   "metadata": {},
   "source": [
    "\n",
    "# 任务5 学习函数的参数破解阵法\n",
    "\n",
    "------\n",
    "\n",
    "### 知识讲解\n",
    "\n",
    "- 我们发现任务4挑战的程序比任务3挑战的程序要简洁，但是有以下问题：</br>\n",
    "1.如果调用square的时候不知道必须有一个side的全局变量，程序就会报错。如果我们定义大量函数后，很难会记住每个函数需要几个全局变量。\n",
    "2.程序执行的过程中，全局变量side会一直占用内存空间，直到整个程序关闭。而side只在函数执行时是被需要的，函数执行后就会占用不必要的内存。\n",
    "- 程序任务五，虽然代码简洁了，但是全局变量占用了不必要的内存空间，如果这样的变量大量存在，会影响程序的运行速度\n",
    "- 程序任务四，虽然用了局部变量节省了内存空间，但是代码量非常多\n",
    "\n",
    "### 挑战\n",
    "\n",
    "- 请通过函数的参数来定义局部变量，来完成一个边长为5的正方形套着边长为3的正方形："
   ]
  },
  {
   "cell_type": "code",
   "execution_count": null,
   "metadata": {},
   "outputs": [],
   "source": [
    "#创建含有参数side的函数square，这个函数可以搭建指定边长为side,立在墙上的，空心正方形\n",
    "\n",
    "\n",
    "\n",
    "\n",
    "\n",
    "\n",
    "\n",
    "\n",
    "\n",
    "\n",
    "\n",
    "\n",
    "\n",
    "\n",
    "\n",
    "\n",
    "#调用square函数，搭建一个边长为5的正方形             \n",
    "\n",
    "#移动agent，使得agent可以完成下个图形的搭建\n",
    "\n",
    "\n",
    "#调用square函数，搭建一个边长为3的正方形 \n"
   ]
  }
 ],
 "metadata": {
  "kernelspec": {
   "display_name": "Python 3",
   "language": "python",
   "name": "python3"
  },
  "language_info": {
   "codemirror_mode": {
    "name": "ipython",
    "version": 3
   },
   "file_extension": ".py",
   "mimetype": "text/x-python",
   "name": "python",
   "nbconvert_exporter": "python",
   "pygments_lexer": "ipython3",
   "version": "3.7.3"
  },
  "minecraft": {
   "description": "任务五",
   "page_id": "5.5",
   "page_name": "任务五",
   "style": "minecraft.css"
  }
 },
 "nbformat": 4,
 "nbformat_minor": 4
}
