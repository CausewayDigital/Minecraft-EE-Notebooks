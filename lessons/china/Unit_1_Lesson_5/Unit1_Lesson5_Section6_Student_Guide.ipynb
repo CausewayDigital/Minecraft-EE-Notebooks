{
 "cells": [
  {
   "cell_type": "markdown",
   "metadata": {},
   "source": [
    "\n",
    "# 任务6 破解靶子阵\n",
    "\n",
    "------\n",
    "\n",
    "### 知识讲解\n",
    "\n",
    "- 函数的参数也是局部变量，它没有在定义函数时确定变量的值，而是在每次调用函数的时候对函数的局部变量赋值。\n",
    "- 为了可以节约内存空间，提高代码重复利用率，任务3-5中任务5的解决办法是最佳的\n",
    "\n",
    "### 挑战：\n",
    "\n",
    "- 我们通过程序，完成一个边长为13的靶子的搭建吧："
   ]
  },
  {
   "cell_type": "code",
   "execution_count": null,
   "metadata": {},
   "outputs": [],
   "source": [
    "#创建含有参数side的函数square，这个函数可以搭建指定边长为side,立在墙上的，空心正方形\n",
    "\n",
    "\n",
    "\n",
    "\n",
    "\n",
    "\n",
    "\n",
    "\n",
    "\n",
    "\n",
    "\n",
    "\n",
    "\n",
    "\n",
    "\n",
    "\n",
    "#通过for循环，生成一个变量，变量的变化规律是13，11，9，，，3，1\n",
    "\n",
    "    #for循环的循环体，依次搭建边长为13，11，9，，，3，1的正方形\n",
    "\n",
    "    #for循环的循环体，需要让这些正方形为同心正方形\n",
    "\n",
    "\n",
    "#最后放置同心正方形最中心的一个方块，判断一下第一个装备栏是否有方块。如果没有方块，就填充上一个材料块\n",
    "\n",
    "\n",
    "\n"
   ]
  }
 ],
 "metadata": {
  "kernelspec": {
   "display_name": "Python 3",
   "language": "python",
   "name": "python3"
  },
  "language_info": {
   "codemirror_mode": {
    "name": "ipython",
    "version": 3
   },
   "file_extension": ".py",
   "mimetype": "text/x-python",
   "name": "python",
   "nbconvert_exporter": "python",
   "pygments_lexer": "ipython3",
   "version": "3.7.3"
  },
  "minecraft": {
   "description": "任务六",
   "page_id": "5.6",
   "page_name": "任务六",
   "style": "minecraft.css"
  }
 },
 "nbformat": 4,
 "nbformat_minor": 4
}
