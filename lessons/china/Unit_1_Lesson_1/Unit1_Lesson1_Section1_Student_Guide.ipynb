{
 "cells": [
  {
   "cell_type": "markdown",
   "metadata": {},
   "source": [
    "# 任务1 初到Kamo星球\n",
    "\n",
    "这个世界只剩下一个悬空岛，前方道路曲折，需要按照指示牌的提示，通过键盘和鼠标操纵自己的角色，通过前边的道路。任务一需要你初步掌握函数的调用"
   ]
  },
  {
   "cell_type": "markdown",
   "metadata": {
    "minecraft": {
     "hidden": true,
     "override": true
    }
   },
   "source": [
    "## 知识点\n",
    "\n",
    "- 函数概念\n",
    "- 函数调用"
   ]
  },
  {
   "cell_type": "markdown",
   "metadata": {},
   "source": [
    "## 任务 1-1"
   ]
  },
  {
   "cell_type": "markdown",
   "metadata": {},
   "source": [
    "学习函数知识：\n",
    "\n",
    "- 学习黑板上的Python函数知识，掌握Python函数的命名规则，以及函数的调用"
   ]
  },
  {
   "cell_type": "markdown",
   "metadata": {
    "minecraft": {
     "numberOfLines": 1
    }
   },
   "source": [
    "## 任务 1-2"
   ]
  },
  {
   "cell_type": "markdown",
   "metadata": {},
   "source": [
    "函数的调用：\n",
    "\n",
    "- 前面的楼梯消失，需要调用已经写好的函数\n",
    "- 示例1中的代码已经将建造楼梯的方法写好\n",
    "- 调用函数buildstairs()制造楼梯"
   ]
  },
  {
   "cell_type": "markdown",
   "metadata": {},
   "source": [
    "示例1:"
   ]
  },
  {
   "cell_type": "code",
   "execution_count": null,
   "metadata": {},
   "outputs": [],
   "source": [
    "# 搭建楼梯的函数\n",
    "def buildstairs():\n",
    "    # 使用沙块(sandstone)搭建楼梯\n",
    "    block=\"sandstone\"\n",
    "\n",
    "    # 搭建下楼楼梯\n",
    "    world.fill((667,144.5,230),(665,144.5,230),block)\n",
    "    world.fill((667,143.5,231),(665,143.5,231),block)\n",
    "    world.fill((667,142.5,232),(665,142.5,232),block)\n",
    "\n",
    "    # 搭建悬空平面\n",
    "    world.fill((667,142,233),(665,142,235),block)\n",
    "\n",
    "    # 搭建上楼楼梯\n",
    "    world.fill((668,142,233),(668,142,235),block)\n",
    "    world.fill((669,143,233),(669,143,235),block)\n",
    "    world.fill((670,144,233),(670,144,235),block)"
   ]
  },
  {
   "cell_type": "markdown",
   "metadata": {},
   "source": [
    "\n",
    "## ___函数world.fill(begin, end, block)___\n",
    "### __1、使用方法：__\n",
    "这个方法的功能是将方块从初始的坐标位置一直填充到结束坐标位置\n",
    "\n",
    "___注意：begin是初始坐标位置,end是结束坐标位置,block是搭建的材料块,。___\n",
    "\n",
    "### __2、示例1：__\n",
    "\n",
    "搭建坐标从667,144.5,230到坐标665,144.5,230的楼梯\n",
    "\n",
    "world.fill((667,144.5,230),(665,144.5,230),block)\n",
    "\n"
   ]
  },
  {
   "cell_type": "markdown",
   "metadata": {},
   "source": [
    "<font color=red>注意：当你掉下去后，你会返回楼梯的初始位置</font>"
   ]
  },
  {
   "cell_type": "code",
   "execution_count": null,
   "metadata": {},
   "outputs": [],
   "source": [
    "# 搭建楼梯的函数\n",
    "def build_stairs():\n",
    "    # 使用沙块(sandstone)搭建楼梯\n",
    "    block=\"sandstone\"\n",
    "\n",
    "    # 搭建下楼楼梯\n",
    "    world.fill((667,144.5,230),(665,144.5,230),block)\n",
    "    world.fill((667,143.5,231),(665,143.5,231),block)\n",
    "    world.fill((667,142.5,232),(665,142.5,232),block)\n",
    "\n",
    "    # 搭建悬空平面\n",
    "    world.fill((667,142,233),(665,142,235),block)\n",
    "\n",
    "    # 搭建上楼楼梯\n",
    "    world.fill((668,142,233),(668,142,235),block)\n",
    "    world.fill((669,143,233),(669,143,235),block)\n",
    "    world.fill((670,144,233),(670,144,235),block)\n",
    "    \n",
    "\n",
    "# 在这里完成你的代码\n",
    "# 调用大家楼梯的方法\n",
    "# coding\n",
    "build_stairs()\n",
    "\n"
   ]
  }
 ],
 "metadata": {
  "kernelspec": {
   "display_name": "Python 3",
   "language": "python",
   "name": "python3"
  },
  "language_info": {
   "codemirror_mode": {
    "name": "ipython",
    "version": 3
   },
   "file_extension": ".py",
   "mimetype": "text/x-python",
   "name": "python",
   "nbconvert_exporter": "python",
   "pygments_lexer": "ipython3",
   "version": "3.7.3"
  },
  "minecraft": {
   "description": "基本操作",
   "page_id": "1.1",
   "page_name": "任务1",
   "style": "minecraft.css"
  }
 },
 "nbformat": 4,
 "nbformat_minor": 4
}
