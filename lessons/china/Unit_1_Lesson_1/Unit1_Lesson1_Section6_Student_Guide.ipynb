{
 "cells": [
  {
   "cell_type": "markdown",
   "metadata": {},
   "source": [
    "# 任务6  自定义函数"
   ]
  },
  {
   "cell_type": "markdown",
   "metadata": {},
   "source": [
    "通过之前的学习，你已经学会了函数的基本使用和顺序执行，现在你可以自己定义函数，使agent移动。"
   ]
  },
  {
   "cell_type": "markdown",
   "metadata": {},
   "source": [
    "## 知识点\n",
    "\n",
    "- 自定义函数"
   ]
  },
  {
   "cell_type": "markdown",
   "metadata": {},
   "source": [
    "## 任务6-1"
   ]
  },
  {
   "cell_type": "markdown",
   "metadata": {},
   "source": [
    "参考下列示例，定义agent函数，将方法和方向都写在里面，"
   ]
  },
  {
   "cell_type": "code",
   "execution_count": null,
   "metadata": {},
   "outputs": [],
   "source": [
    "示例:"
   ]
  },
  {
   "cell_type": "code",
   "execution_count": null,
   "metadata": {},
   "outputs": [],
   "source": [
    "# forward x step\n",
    "def agent_forward(step=1):\n",
    "    for i in range(step):\n",
    "        agent.move(\"forward\")\n"
   ]
  },
  {
   "cell_type": "code",
   "execution_count": null,
   "metadata": {},
   "outputs": [],
   "source": [
    "# 试着编写代码自定义agent移动\n",
    "# coding\n",
    "def agent_forward(step=1):\n",
    "    for i in range(step):\n",
    "        agent.move(\"forward\")\n",
    "def agent_backward(step=1):\n",
    "    for i in range(step):\n",
    "        agent.move(\"backward\")\n",
    "def agent_left(step=1):\n",
    "    for i in range(step):\n",
    "        agent.move(\"left\")        \n",
    "def agent_right(step=1):\n",
    "    for i in range(step):\n",
    "        agent.move(\"right\")\n",
    "def agent_direction_step(direction,step=1):\n",
    "    for i in range(step):\n",
    "        agent.move(directio)\n",
    "\n",
    "\n",
    "# 调用自己写的函数方法\n",
    "agent_forward(2)\n",
    "agent_backward(2)\n",
    "agent_left(2)\n",
    "agent_right(2)\n",
    "agent_direction_step(\"forward\",2)\n",
    "agent_direction_step(\"backward\",2)\n",
    "\n"
   ]
  },
  {
   "cell_type": "markdown",
   "metadata": {},
   "source": [
    "## 任务6-2\n",
    "\n",
    "完成练习后与小助手沟通，答对题目，身后的铁门下面会有压力板，踩上压力板后，门可以打开"
   ]
  }
 ],
 "metadata": {
  "kernelspec": {
   "display_name": "Python 3",
   "language": "python",
   "name": "python3"
  },
  "language_info": {
   "codemirror_mode": {
    "name": "ipython",
    "version": 3
   },
   "file_extension": ".py",
   "mimetype": "text/x-python",
   "name": "python",
   "nbconvert_exporter": "python",
   "pygments_lexer": "ipython3",
   "version": "3.7.3"
  },
  "minecraft": {
   "description": "对话",
   "page_id": "1.6",
   "page_name": "任务6",
   "style": "minecraft.css"
  }
 },
 "nbformat": 4,
 "nbformat_minor": 4
}
