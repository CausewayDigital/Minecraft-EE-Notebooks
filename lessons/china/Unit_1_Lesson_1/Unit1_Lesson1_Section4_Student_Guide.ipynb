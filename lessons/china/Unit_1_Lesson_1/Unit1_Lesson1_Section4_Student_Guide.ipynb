{
 "cells": [
  {
   "cell_type": "markdown",
   "metadata": {},
   "source": [
    "# 任务4  修复信标台"
   ]
  },
  {
   "cell_type": "markdown",
   "metadata": {},
   "source": [
    "到达光柱位置，信标台位置上出现了一个悬浮的精灵蛋，任务四需要你需要你修复信标台，获得精灵蛋。"
   ]
  },
  {
   "cell_type": "markdown",
   "metadata": {},
   "source": [
    "## 知识点\n",
    "\n",
    "- 双层for循环调用函数\n"
   ]
  },
  {
   "cell_type": "markdown",
   "metadata": {},
   "source": [
    "任务4-1\n",
    "\n",
    "你现在看到的这个发光的东西叫做‘信标’，信标是一种特殊的功能型方块，它可以发射一条直射云端的地标性光柱，可以在很远的距离外看到。但是信标台需要3X3的钻石块提供能源才能够发光\n",
    "\n",
    "在你面前是一个残缺的信标台，完成下列代码，修复4个信标台，使它们发光激活机关，悬浮在空中的精灵蛋就会落到地面，走近并收集精灵蛋"
   ]
  },
  {
   "cell_type": "markdown",
   "metadata": {},
   "source": [
    "根据下列代码的提示，编写函数"
   ]
  },
  {
   "cell_type": "code",
   "execution_count": null,
   "metadata": {},
   "outputs": [],
   "source": [
    "# 在这里编写你写的函数\n",
    "# coding\n",
    "def set_block(x,y,z,material):\n",
    "    world.set((x,y,z),material)\n",
    "\n",
    "# 通过循环的方式调用你写函数\n",
    "x = 787\n",
    "y = 174\n",
    "z = 247\n",
    "\n",
    "material = \"diamond block\"\n",
    "for i in range(0,3,1):\n",
    "    for j in range(0,3,1):\n",
    "        # 在这里调用你的函数\n",
    "        set_block(x+i,y,z+j,material)\n",
    "\n",
    "material = \"beacon\"\n",
    "#放置信标\n",
    "set_block(x+1,y+1,z+1,material)\n",
    "\n"
   ]
  }
 ],
 "metadata": {
  "kernelspec": {
   "display_name": "Python 3",
   "language": "python",
   "name": "python3"
  },
  "language_info": {
   "codemirror_mode": {
    "name": "ipython",
    "version": 3
   },
   "file_extension": ".py",
   "mimetype": "text/x-python",
   "name": "python",
   "nbconvert_exporter": "python",
   "pygments_lexer": "ipython3",
   "version": "3.7.3"
  },
  "minecraft": {
   "description": "修复信标台",
   "page_id": "1.4",
   "page_name": "任务4",
   "style": "minecraft.css"
  }
 },
 "nbformat": 4,
 "nbformat_minor": 4
}
