{
 "cells": [
  {
   "cell_type": "markdown",
   "metadata": {},
   "source": [
    "# 总结\n",
    "\n",
    "恭喜你顺利完成了这节课！\n",
    "\n",
    "总结一下你在本课程学到的知识：\n",
    "\n",
    "- 函数调用\n",
    "- 函数的参数\n",
    "- for循环调用函数\n",
    "- 双层for循环调用函数\n",
    "- 面向过程编程\n",
    "- 自定义函数"
   ]
  }
 ],
 "metadata": {
  "kernelspec": {
   "display_name": "Python 3",
   "language": "python",
   "name": "python3"
  },
  "language_info": {
   "codemirror_mode": {
    "name": "ipython",
    "version": 3
   },
   "file_extension": ".py",
   "mimetype": "text/x-python",
   "name": "python",
   "nbconvert_exporter": "python",
   "pygments_lexer": "ipython3",
   "version": "3.7.4"
  },
  "minecraft": {
   "description": "总结",
   "page_id": "1.7",
   "page_name": "总结",
   "style": "minecraft.css"
  }
 },
 "nbformat": 4,
 "nbformat_minor": 4
}
