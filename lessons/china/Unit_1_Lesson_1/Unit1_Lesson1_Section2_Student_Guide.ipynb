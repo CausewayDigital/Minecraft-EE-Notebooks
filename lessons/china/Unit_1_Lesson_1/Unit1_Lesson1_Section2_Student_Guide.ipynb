{
 "cells": [
  {
   "cell_type": "markdown",
   "metadata": {},
   "source": [
    "# 任务2 操作进阶"
   ]
  },
  {
   "cell_type": "markdown",
   "metadata": {},
   "source": [
    "成功过了第一关后，你已经学会了调用函数的方法，现在需要你调用函数的同时传入参数"
   ]
  },
  {
   "cell_type": "markdown",
   "metadata": {},
   "source": [
    "## 知识点\n",
    "\n",
    "- 函数的调用\n",
    "- 调用函数，传入参数"
   ]
  },
  {
   "cell_type": "markdown",
   "metadata": {},
   "source": [
    "## 任务2-1\n",
    "\n",
    "- 使用“空格键”，跳越楼梯间的空隙\n",
    "\n",
    "- 按“空格键”可以跳跃，向前移动中跳跃需要同时按“W”和“空格键”。\n"
   ]
  },
  {
   "cell_type": "markdown",
   "metadata": {},
   "source": [
    "## 任务2-2\n",
    "\n",
    "- 在水中如果自己右边的小气泡耗尽，就会溺水\n",
    "\n",
    "- 按住空格键向上浮。以防溺水\n",
    "\n",
    "- WASD键+空格键可以在水面上游泳\n",
    "\n",
    "- 遇到瀑布时，按住空格键可以游到瀑布上面\n",
    "\n",
    "- 你需要同时按住W键和空格键\n",
    "\n",
    "- 调用函数方法并传入参数"
   ]
  },
  {
   "cell_type": "markdown",
   "metadata": {},
   "source": [
    "调用打开水闸代码，并传入参数"
   ]
  },
  {
   "cell_type": "code",
   "execution_count": null,
   "metadata": {},
   "outputs": [],
   "source": [
    "# 关闭水闸的函数方法\n",
    "def open_sluice(material):\n",
    "\n",
    "    # 按坐标位置将淡蓝色玻璃变为空气\n",
    "    world.set((686,160,232),material)\n",
    "    world.set((685,160,231),material)\n",
    "    world.set((686,160,230),material)\n",
    "    world.set((687,160,231),material)\n",
    "\n",
    "# 在这里完成你的代码\n",
    "# 调用大家楼梯的方法\n",
    "\n",
    "# 使用空气块(air)将蓝色玻璃替换\n",
    "material = \"air\"\n",
    "\n",
    "# coding\n",
    "open_sluice(material)\n",
    "\n",
    "\n",
    "\n",
    "\n",
    "\n"
   ]
  },
  {
   "cell_type": "markdown",
   "metadata": {},
   "source": [
    "## __函数world.set(location, block)__\n",
    "\n",
    "### __1、使用方法：__\n",
    "这个方法的功能是将方块按照坐标的位置码放\n",
    "\n",
    "___注意：location是方块坐标位置,block是搭建的材料块,。___\n",
    "\n",
    "### __2、示例1：__\n",
    "\n",
    "\n",
    "在坐标686,160,232位置，码放空气块\n",
    "\n",
    "world.set((686,160,232),\"air\")\n"
   ]
  }
 ],
 "metadata": {
  "kernelspec": {
   "display_name": "Python 3",
   "language": "python",
   "name": "python3"
  },
  "language_info": {
   "codemirror_mode": {
    "name": "ipython",
    "version": 3
   },
   "file_extension": ".py",
   "mimetype": "text/x-python",
   "name": "python",
   "nbconvert_exporter": "python",
   "pygments_lexer": "ipython3",
   "version": "3.7.3"
  },
  "minecraft": {
   "description": "操作进阶",
   "page_id": "1.2",
   "page_name": "任务2",
   "style": "minecraft.css"
  }
 },
 "nbformat": 4,
 "nbformat_minor": 4
}
