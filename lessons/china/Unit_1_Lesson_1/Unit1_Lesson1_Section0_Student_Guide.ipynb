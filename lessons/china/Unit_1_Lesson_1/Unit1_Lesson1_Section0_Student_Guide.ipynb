{
 "cells": [
  {
   "cell_type": "markdown",
   "metadata": {},
   "source": [
    "# 第一课   神奇的蛋!\n",
    "\n",
    "你在假期的第一天做了一个奇怪的梦，梦中你来到了一个废弃星球的浮空岛，在那里，你在小助手的帮助下，闯过各种关卡，最后召唤出小精灵，并且学习如何让小精灵说话。\n",
    "\n"
   ]
  },
  {
   "cell_type": "markdown",
   "metadata": {},
   "source": [
    "## 知识点\n",
    "\n",
    "- 函数调用\n",
    "- 函数的参数\n",
    "- for循环调用函数\n",
    "- 双层for循环调用函数\n",
    "- 面向过程编程\n",
    "- 自定义函数"
   ]
  },
  {
   "cell_type": "markdown",
   "metadata": {},
   "source": [
    "## 任务\n",
    "\n",
    "这一节课一共会有6个任务，根据小助手的提示完成这六个任务就可以完成课程。"
   ]
  }
 ],
 "metadata": {
  "kernelspec": {
   "display_name": "Python 3",
   "language": "python",
   "name": "python3"
  },
  "language_info": {
   "codemirror_mode": {
    "name": "ipython",
    "version": 3
   },
   "file_extension": ".py",
   "mimetype": "text/x-python",
   "name": "python",
   "nbconvert_exporter": "python",
   "pygments_lexer": "ipython3",
   "version": "3.7.4"
  },
  "minecraft": {
   "description": "初到卡墨星球",
   "page_id": "1.0",
   "page_name": "简介",
   "style": "minecraft.css"
  }
 },
 "nbformat": 4,
 "nbformat_minor": 4
}
