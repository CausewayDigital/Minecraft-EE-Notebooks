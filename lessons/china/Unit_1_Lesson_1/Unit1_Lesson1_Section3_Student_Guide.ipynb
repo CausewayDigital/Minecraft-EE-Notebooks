{
 "cells": [
  {
   "cell_type": "markdown",
   "metadata": {},
   "source": [
    "# 任务3 编程魔法"
   ]
  },
  {
   "cell_type": "markdown",
   "metadata": {},
   "source": [
    "通过瀑布后，你来到了一个水池，前面的道路被挡住了，需要你使用物品栏中的铁镐敲碎墙面，然后利用代码的魔力，将玻璃幕墙消失，\n",
    "通过仅有的材料块搭建楼梯，攀爬梯子和藤曼到底塔的顶部，机器人将你传送到光柱位置。"
   ]
  },
  {
   "cell_type": "markdown",
   "metadata": {},
   "source": [
    "## 知识点 \n",
    "\n",
    "- for循环调用函数\n"
   ]
  },
  {
   "cell_type": "markdown",
   "metadata": {},
   "source": [
    "## 任务3-1\n",
    "\n",
    "按1-9数字键切换物品栏，使用手中的铁镐，将白色的方块敲碎，翻越过去"
   ]
  },
  {
   "cell_type": "markdown",
   "metadata": {},
   "source": [
    "## 任务3-2\n",
    "\n",
    "前方是玻璃大门，结合world.fill()和world.set()，已经for循环调用，通过时需要将玻璃大门变为空气才能通过"
   ]
  },
  {
   "cell_type": "markdown",
   "metadata": {},
   "source": [
    "示例1:"
   ]
  },
  {
   "cell_type": "code",
   "execution_count": null,
   "metadata": {},
   "outputs": [],
   "source": [
    "# 根据下列调用代码的线索，编写你要完成的函数代码\n",
    "# 将玻璃变为空气\n",
    "# coding\n",
    "def break_block(x,y,z):\n",
    "    world.set((x,y,z),\"air\")\n",
    "\n",
    "# 调用函数\n",
    "world.fill((734,152,238),(734,147,244),\"air\")\n",
    "\n",
    "\n",
    "x = 734\n",
    "y = 153\n",
    "z = 239\n",
    "\n",
    "# for循环调用函数\n",
    "for i in range(0,5,1):\n",
    "    break_block(x,y,z+i)"
   ]
  },
  {
   "cell_type": "markdown",
   "metadata": {},
   "source": [
    "## 任务3-3\n",
    "\n",
    "右键放置方块，补全台阶到达梯子的位置（如果物品栏的方块用尽，可以敲击已放置方块并收集）\n",
    "\n",
    "通过梯子和藤曼爬上塔顶，需要按住W键向上攀爬"
   ]
  }
 ],
 "metadata": {
  "kernelspec": {
   "display_name": "Python 3",
   "language": "python",
   "name": "python3"
  },
  "language_info": {
   "codemirror_mode": {
    "name": "ipython",
    "version": 3
   },
   "file_extension": ".py",
   "mimetype": "text/x-python",
   "name": "python",
   "nbconvert_exporter": "python",
   "pygments_lexer": "ipython3",
   "version": "3.7.3"
  },
  "minecraft": {
   "description": "编程魔法",
   "page_id": "1.3",
   "page_name": "任务3",
   "style": "minecraft.css"
  }
 },
 "nbformat": 4,
 "nbformat_minor": 4
}
