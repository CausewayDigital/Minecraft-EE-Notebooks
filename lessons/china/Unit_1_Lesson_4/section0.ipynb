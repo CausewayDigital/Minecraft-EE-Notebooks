{
 "cells": [
  {
   "cell_type": "markdown",
   "metadata": {},
   "source": [
    "# 第三课   初入学院\n",
    "\n",
    "欢迎来到魔法学院！在这里，你和小精灵将要学习到很多有趣且非常有用的Python知识，它们可以让你在后面的学习中得心应手，快进入学院探索吧！\n",
    "\n"
   ]
  },
  {
   "cell_type": "markdown",
   "metadata": {},
   "source": [
    "## 知识点\n",
    "- 缺省参数的概念及应用\n",
    "- 不定长参数的概念及应用\n",
    "- 函数多个返回值\n",
    "- 函数返回表达式"
   ]
  },
  {
   "cell_type": "markdown",
   "metadata": {},
   "source": [
    "## 任务\n",
    "\n",
    "这一节课一共会有6个任务，根据小助手的提示完成这六个任务就可以完成课程。"
   ]
  }
 ],
 "metadata": {
  "kernelspec": {
   "display_name": "Python 3",
   "language": "python",
   "name": "python3"
  },
  "language_info": {
   "codemirror_mode": {
    "name": "ipython",
    "version": 3
   },
   "file_extension": ".py",
   "mimetype": "text/x-python",
   "name": "python",
   "nbconvert_exporter": "python",
   "pygments_lexer": "ipython3",
   "version": "3.7.4"
  },
  "minecraft": {
   "description": "初到卡墨星球",
   "page_id": "1.0",
   "page_name": "简介",
   "style": "minecraft.css"
  }
 },
 "nbformat": 4,
 "nbformat_minor": 4
}
