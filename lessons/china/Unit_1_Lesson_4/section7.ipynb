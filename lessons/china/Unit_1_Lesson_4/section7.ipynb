{
 "cells": [
  {
   "cell_type": "markdown",
   "metadata": {},
   "source": [
    "# 总结\n",
    "\n",
    "恭喜你顺利完成了这节课！\n",
    "\n",
    "总结一下你在本课程学到的知识：\n",
    "\n",
    "- 缺省参数的概念及应用\n",
    "- 不定长参数的概念及应用\n",
    "- 函数多个返回值\n",
    "- 函数返回表达式"
   ]
  }
 ],
 "metadata": {
  "kernelspec": {
   "display_name": "Python 3",
   "language": "python",
   "name": "python3"
  },
  "language_info": {
   "codemirror_mode": {
    "name": "ipython",
    "version": 3
   },
   "file_extension": ".py",
   "mimetype": "text/x-python",
   "name": "python",
   "nbconvert_exporter": "python",
   "pygments_lexer": "ipython3",
   "version": "3.7.4"
  },
  "minecraft": {
   "description": "总结",
   "page_id": "1.7",
   "page_name": "总结",
   "style": "minecraft.css"
  }
 },
 "nbformat": 4,
 "nbformat_minor": 4
}
