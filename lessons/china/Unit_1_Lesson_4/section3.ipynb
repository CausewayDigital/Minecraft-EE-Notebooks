{
 "cells": [
  {
   "cell_type": "markdown",
   "metadata": {},
   "source": [
    "# 任务3 学习不定长参数"
   ]
  },
  {
   "cell_type": "markdown",
   "metadata": {},
   "source": [
    "学习不定长参数的概念，在答题器上完回答问题。"
   ]
  },
  {
   "cell_type": "markdown",
   "metadata": {},
   "source": [
    "## 知识点 \n",
    "\n",
    "- 不定长参数-概念\n",
    "\n",
    "## 学习\n",
    "你可能需要一个函数能处理比当初声明时更多的参数。这些参数叫做不定长参数。和前面的缺省参数不同，声明时不会命名。基本语法如下："
   ]
  },
  {
   "cell_type": "markdown",
   "metadata": {},
   "source": [
    "    def 函数名(参数1,*参数2):\n",
    "        ...\n",
    "        \n",
    "其中 参数1为普通参数，参数2是一个不定长参数。加了*号的参数会存放所有未命名的参数,这些参数会以tuple的形式存在。运行下面的示例程序，学习如何定义不定长参数。\n"
   ]
  },
  {
   "cell_type": "code",
   "execution_count": null,
   "metadata": {},
   "outputs": [],
   "source": [
    "def numbers(num_1,*num_n):\n",
    "    say(num_1)\n",
    "    say(num_n)\n",
    "numbers(1,2,3,4,5)"
   ]
  },
  {
   "cell_type": "markdown",
   "metadata": {},
   "source": [
    "比如，我们可以使用不定长参数编写一些很有用的函数。下面的程序直接返回了这个不定长参数的值，其实就是把传递进去的数字变成了元组传递回来。我们可以使用这个函数，将传递进去的x,y,z坐标转换为元组形式的position。\n"
   ]
  },
  {
   "cell_type": "code",
   "execution_count": null,
   "metadata": {},
   "outputs": [],
   "source": [
    "def get_position(*pos):\n",
    "    return pos\n",
    "\n",
    "say(get_position(1,2,3))"
   ]
  },
  {
   "cell_type": "markdown",
   "metadata": {},
   "source": [
    "\n",
    "        \n",
    "## 任务3-1\n",
    "完成小助手提出的问题，即可通过本关卡。  \n",
    "   \n",
    "   <br/>\n",
    "提示：\n",
    "如看不清黑板上内容，请查看下面的内容。\n",
    "\n",
    "#第一题：下面程序运行之后，屏幕左侧将打印的结果是多少？\n",
    "```python\n",
    "    sum = 0\n",
    "    def get_sum(number_1,*numbers):\n",
    "        for number in numbers:\n",
    "            sum += number\n",
    "        return sum\n",
    "    say(get_sum(10,20,30,40,50))\n",
    "```\n",
    "#第二题：哪种方式可以获取num不定长参数中第一个参数？（func[0] or func[1]）\n",
    "#第三题：缺省参数指定一个默认值。调用该函数时，如没有指定参数则采用该默认值，否则使用指定的实参（yes or no）\n",
    "#第四题：下面的程序正确吗？（yes or no）\n",
    "```python\n",
    "    def func(var1,var2 = var1):\n",
    "      return var2\n",
    "```"
   ]
  }
 ],
 "metadata": {
  "kernelspec": {
   "display_name": "Python 3",
   "language": "python",
   "name": "python3"
  },
  "language_info": {
   "codemirror_mode": {
    "name": "ipython",
    "version": 3
   },
   "file_extension": ".py",
   "mimetype": "text/x-python",
   "name": "python",
   "nbconvert_exporter": "python",
   "pygments_lexer": "ipython3",
   "version": "3.7.4"
  },
  "minecraft": {
   "description": "编程魔法",
   "page_id": "1.3",
   "page_name": "任务3",
   "style": "minecraft.css"
  }
 },
 "nbformat": 4,
 "nbformat_minor": 4
}
