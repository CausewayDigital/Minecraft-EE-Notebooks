{
 "cells": [
  {
   "cell_type": "markdown",
   "metadata": {},
   "source": [
    "# 任务1 魔法屏障\n",
    "\n",
    "你在通往精灵学院的路上遇到了一个魔法屏障，需要通过函数的相关知识做出函数，通过小精灵使用函数来关闭魔法屏障"
   ]
  },
  {
   "cell_type": "markdown",
   "metadata": {
    "minecraft": {
     "hidden": true,
     "override": true
    }
   },
   "source": [
    "## 知识点\n",
    "\n",
    "封装出控制小精灵移动的函数：agent_move()\n"
   ]
  },
  {
   "cell_type": "markdown",
   "metadata": {},
   "source": [
    "## 任务1-1\n",
    "封装一个让agent向前移动5步的函数agent_forward_3_step()，控制小精灵移动，运行示例程序看看效果"
   ]
  },
  {
   "cell_type": "markdown",
   "metadata": {},
   "source": [
    "### 说明：\n",
    "- 调用函数会使小精灵向前移动5步"
   ]
  },
  {
   "cell_type": "markdown",
   "metadata": {},
   "source": [
    "### 示例："
   ]
  },
  {
   "cell_type": "code",
   "execution_count": null,
   "metadata": {},
   "outputs": [],
   "source": [
    "def agent_forward_3_step():\n",
    "    for _ in range(3):\n",
    "        agent.move(\"forward\")\n",
    "\n",
    "agent_forward_3_step()"
   ]
  },
  {
   "cell_type": "markdown",
   "metadata": {},
   "source": [
    "## 任务1-2\n",
    "利用函数的参数把agent_forward_3_step()改为agent_forward(step)"
   ]
  },
  {
   "cell_type": "markdown",
   "metadata": {},
   "source": [
    "### 说明：\n",
    "- 回想学过的参数的概念\n",
    "- 把小精灵移动的距离作为参数step传递给函数agent_forward\n",
    "- 在for循环中使用这个参数"
   ]
  },
  {
   "cell_type": "code",
   "execution_count": null,
   "metadata": {},
   "outputs": [],
   "source": [
    "def agent_forward(step):\n",
    "    for _ in range(step):\n",
    "        agent.move(\"forward\")\n",
    "\n",
    "agent_forward(3)"
   ]
  },
  {
   "cell_type": "markdown",
   "metadata": {},
   "source": [
    "与NPC交谈，点击开始任务<br>\n",
    "然后在下列代码框中输入你的代码，使小精灵走到魔法屏障中的蓝色方块上，关闭魔法屏障"
   ]
  },
  {
   "cell_type": "code",
   "execution_count": null,
   "metadata": {},
   "outputs": [],
   "source": [
    "agent_forward(5)"
   ]
  },
  {
   "cell_type": "code",
   "execution_count": null,
   "metadata": {},
   "outputs": [],
   "source": [
    "# 学生代码\n",
    "\n",
    "def agent_forward(step):\n",
    "    for _ in range(step):\n",
    "        agent.move(\"forward\")\n",
    "\n",
    "agent_forward(5)"
   ]
  }
 ],
 "metadata": {
  "kernelspec": {
   "display_name": "Python 3",
   "language": "python",
   "name": "python3"
  },
  "language_info": {
   "codemirror_mode": {
    "name": "ipython",
    "version": 3
   },
   "file_extension": ".py",
   "mimetype": "text/x-python",
   "name": "python",
   "nbconvert_exporter": "python",
   "pygments_lexer": "ipython3",
   "version": "3.7.6"
  },
  "minecraft": {
   "description": "任务1",
   "page_id": "1.1",
   "page_name": "任务1",
   "style": "minecraft.css"
  }
 },
 "nbformat": 4,
 "nbformat_minor": 4
}
