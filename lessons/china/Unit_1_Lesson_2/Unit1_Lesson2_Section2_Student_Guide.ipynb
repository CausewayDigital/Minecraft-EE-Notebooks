{
 "cells": [
  {
   "cell_type": "markdown",
   "metadata": {},
   "source": [
    "# 任务二 通过彩虹桥"
   ]
  },
  {
   "cell_type": "markdown",
   "metadata": {},
   "source": [
    "现在你走上了一座彩虹桥，但是桥断开了，你需要与小精灵配合起来才能让断开的彩虹桥重新连接起来以便通过"
   ]
  },
  {
   "cell_type": "markdown",
   "metadata": {},
   "source": [
    "## 知识点\n",
    "\n",
    "- 封装agent.right(step)函数\n",
    "- 找出agent.right(step)与agent.forward(step)函数的共性\n",
    "- 提炼共性进一步封装出agent.move()函数\n",
    "- 使用agent.move()函数优化agent.right(step)与agent.forward(step)函数\n",
    "- 任务分析观察能力"
   ]
  },
  {
   "cell_type": "markdown",
   "metadata": {},
   "source": [
    "## 任务1-1\n",
    "封装agent_right(step)函数"
   ]
  },
  {
   "cell_type": "code",
   "execution_count": null,
   "metadata": {},
   "outputs": [],
   "source": [
    "def agent_right(step):\n",
    "    for _ in range(step):\n",
    "        agent.move(\"right\")\n",
    "\n",
    "agent_right(5)"
   ]
  },
  {
   "cell_type": "markdown",
   "metadata": {},
   "source": [
    "## 示例\n",
    "比较agent_forward()与agent_right()函数，会发现这两个函数的实现其实都是利用循环，而且代码的实现语句都一样，那么我们就可以进一步封装出一个基础函数agent_move()出来，把方向设置为参数："
   ]
  },
  {
   "cell_type": "code",
   "execution_count": null,
   "metadata": {},
   "outputs": [],
   "source": [
    "def agent_move(direction, step):\n",
    "    for _ in range(step):\n",
    "        agent.move(direction)"
   ]
  },
  {
   "cell_type": "code",
   "execution_count": null,
   "metadata": {},
   "outputs": [],
   "source": [
    "这样agent_forward()函数也需要修改为："
   ]
  },
  {
   "cell_type": "code",
   "execution_count": null,
   "metadata": {},
   "outputs": [],
   "source": [
    "def agent_forward(step):\n",
    "    agent_move(\"forward\", step)"
   ]
  },
  {
   "cell_type": "markdown",
   "metadata": {},
   "source": [
    "## 任务1-2：\n",
    "\n",
    "按照示例编写agent_right()函数，并调用已封装好的程序使得断开的彩虹桥恢复畅通\n",
    "## 说明：\n",
    "- 与小助手对话，点击开始任务后会出现金色压力板\n",
    "- 你踩上压力板彩虹桥中间会出现一条通路，但是如果你离开压力板，通路会消失\n",
    "- 编写程序使小精灵通过路面并踩到对面的压力板上\n",
    "- 这时候桥面恢复，你就可以走过去了\n",
    "### 注意：\n",
    "可以通过机器人小助手重新开始\n"
   ]
  },
  {
   "cell_type": "code",
   "execution_count": null,
   "metadata": {},
   "outputs": [],
   "source": [
    "def agent_right(step):\n",
    "    agent_move(\"right\", step)\n",
    "\n",
    "agent_forward(4)\n",
    "agent_right(1)\n",
    "agent_forward(4)\n",
    "agent_right(1)"
   ]
  },
  {
   "cell_type": "markdown",
   "metadata": {},
   "source": [
    "## 挑战：\n",
    "- 尝试利用循环优化以上实现逻辑\n",
    "- 可以通过NPC重置关卡来再次挑战"
   ]
  },
  {
   "cell_type": "code",
   "execution_count": null,
   "metadata": {},
   "outputs": [],
   "source": [
    "for _ in range(2):\n",
    "    agent_forward(4)\n",
    "    agent_right(1)"
   ]
  },
  {
   "cell_type": "code",
   "execution_count": null,
   "metadata": {},
   "outputs": [],
   "source": [
    "# 学生代码\n",
    "\n",
    "def agent_move(direction, step):\n",
    "    for _ in range(step):\n",
    "        agent.move(direction)\n",
    "        \n",
    "def agent_forward(step):\n",
    "    agent_move(\"forward\", step)\n",
    "    \n",
    "def agent_right(step):\n",
    "    agent_move(\"right\", step)\n",
    "    \n",
    "for i in range(2):\n",
    "    agent_forward(4)\n",
    "    agent_right(1)"
   ]
  }
 ],
 "metadata": {
  "kernelspec": {
   "display_name": "Python 3",
   "language": "python",
   "name": "python3"
  },
  "language_info": {
   "codemirror_mode": {
    "name": "ipython",
    "version": 3
   },
   "file_extension": ".py",
   "mimetype": "text/x-python",
   "name": "python",
   "nbconvert_exporter": "python",
   "pygments_lexer": "ipython3",
   "version": "3.7.6"
  },
  "minecraft": {
   "description": "任务2",
   "page_id": "2.2",
   "page_name": "任务2",
   "style": "minecraft.css"
  }
 },
 "nbformat": 4,
 "nbformat_minor": 4
}
