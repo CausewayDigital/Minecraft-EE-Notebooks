{
 "cells": [
  {
   "cell_type": "markdown",
   "metadata": {},
   "source": [
    "## 任务三 修复台阶"
   ]
  },
  {
   "cell_type": "markdown",
   "metadata": {},
   "source": [
    "现在你来到了一处破损的台阶前，而且被桦木围墙围了起来。只能依靠小精灵去修复台阶，台阶修复完成围墙就会消失"
   ]
  },
  {
   "cell_type": "markdown",
   "metadata": {},
   "source": [
    "## 知识点 \n",
    "\n",
    "- 封装agent_move_repair()函数\n",
    "- 封装agent_repair()函数里实现判断台阶破损的逻辑并修复面前的石台阶\n",
    "- 在循环里调用封装函数"
   ]
  },
  {
   "cell_type": "markdown",
   "metadata": {},
   "source": [
    "## 学习：\n",
    "\n",
    "封装agent_repair()函数，这个函数的作用是判断agent面前的台阶有没有破损，如果有破损，那么就修复破碎的台阶<br>\n",
    "\n",
    "参考下列示例代码：\n"
   ]
  },
  {
   "cell_type": "markdown",
   "metadata": {},
   "source": [
    "### 示例：\n",
    "- 将箱子里的石英台阶拿出来给小精灵，并且放到slot 1里面\n",
    "- 与小助手对话，开始任务\n",
    "- 运行下面的示例程序"
   ]
  },
  {
   "cell_type": "code",
   "execution_count": null,
   "metadata": {},
   "outputs": [],
   "source": [
    "def agent_repair():\n",
    "    if (agent.inspect(\"forward\") == \"air\"):\n",
    "        agent.place(1, \"forward\")\n",
    "\n",
    "agent_repair()"
   ]
  },
  {
   "cell_type": "markdown",
   "metadata": {},
   "source": [
    "## 任务3-1：\n",
    "制作一个让小精灵一边移动一边修补台阶的函数agent_move_repair(direction, step)\n",
    "并调用这个函数完成一排台阶的修补"
   ]
  },
  {
   "cell_type": "code",
   "execution_count": null,
   "metadata": {},
   "outputs": [],
   "source": [
    "def agent_move_repair(direction, step):\n",
    "    for _ in range(step):\n",
    "        agent_repair()\n",
    "        agent.move(direction)\n",
    "\n",
    "agent_move_repair(\"right\", 7)"
   ]
  },
  {
   "cell_type": "markdown",
   "metadata": {},
   "source": [
    "## 任务3-2：\n",
    "调用agent_move_repair()函数完成整个台阶的修补工作"
   ]
  },
  {
   "cell_type": "code",
   "execution_count": null,
   "metadata": {},
   "outputs": [],
   "source": [
    "for i in range(5):\n",
    "    agent_move_repair(\"right\", 7)\n",
    "    agent_left(7)\n",
    "    agent_up(7)"
   ]
  },
  {
   "cell_type": "markdown",
   "metadata": {},
   "source": [
    "提示：\n",
    "- 利用agent.move()语句控制小精灵移动\n",
    "- 利用agent.place()语句搭建楼梯"
   ]
  },
  {
   "cell_type": "code",
   "execution_count": null,
   "metadata": {},
   "outputs": [],
   "source": [
    "# 学生代码\n",
    "\n",
    "def agent_move(direction, step):\n",
    "    for _ in range(step):\n",
    "        agent.move(direction)\n",
    "\n",
    "def agent_repair():\n",
    "    if (agent.inspect(\"forward\") == \"air\"):\n",
    "        agent.place(1, \"forward\")\n",
    "\n",
    "def agent_move_repair(direction, step):\n",
    "    for _ in range(step):\n",
    "        agent_repair()\n",
    "        agent.move(direction)\n",
    "\n",
    "def agent_forward(step):\n",
    "    agent_move(\"forward\", step)\n",
    "    \n",
    "def agent_left(step):\n",
    "    agent_move(\"left\", step)\n",
    "    \n",
    "def agent_up(step):\n",
    "    agent_move(\"up\", step)\n",
    "\n",
    "for i in range(5):\n",
    "    agent_move_repair(\"right\", 7)\n",
    "    agent_left(7)\n",
    "    agent_up(1)\n",
    "    agent_forward(1)"
   ]
  }
 ],
 "metadata": {
  "kernelspec": {
   "display_name": "Python 3",
   "language": "python",
   "name": "python3"
  },
  "language_info": {
   "codemirror_mode": {
    "name": "ipython",
    "version": 3
   },
   "file_extension": ".py",
   "mimetype": "text/x-python",
   "name": "python",
   "nbconvert_exporter": "python",
   "pygments_lexer": "ipython3",
   "version": "3.7.6"
  },
  "minecraft": {
   "description": "任务3",
   "page_id": "2.3",
   "page_name": "任务3",
   "style": "minecraft.css"
  }
 },
 "nbformat": 4,
 "nbformat_minor": 4
}
