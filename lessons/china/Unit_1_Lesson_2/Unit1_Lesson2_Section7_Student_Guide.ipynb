{
 "cells": [
  {
   "cell_type": "markdown",
   "metadata": {},
   "source": [
    "# 总结\n",
    "\n",
    "恭喜你顺利完成了这节课！\n",
    "\n",
    "总结一下你在本课程学到的知识：\n",
    "\n",
    "## 在课程中你将学到以下知识点：\n",
    "\n",
    "- 封装函数的方法与实践\n",
    "- 封装agent_move())函数\n",
    "- 封装agent_repair()函数\n",
    "- 学习如何通过调用agent.rotation得到方向\n",
    "- 封装get_agent_front_pos()函数\n",
    "- 封装summon_lightning()函数\n",
    "- 结合循环，条件判断调用封装的函数"
   ]
  }
 ],
 "metadata": {
  "kernelspec": {
   "display_name": "Python 3",
   "language": "python",
   "name": "python3"
  },
  "language_info": {
   "codemirror_mode": {
    "name": "ipython",
    "version": 3
   },
   "file_extension": ".py",
   "mimetype": "text/x-python",
   "name": "python",
   "nbconvert_exporter": "python",
   "pygments_lexer": "ipython3",
   "version": "3.7.6"
  },
  "minecraft": {
   "description": "总结",
   "page_id": "2.7",
   "page_name": "总结",
   "style": "minecraft.css"
  }
 },
 "nbformat": 4,
 "nbformat_minor": 4
}
