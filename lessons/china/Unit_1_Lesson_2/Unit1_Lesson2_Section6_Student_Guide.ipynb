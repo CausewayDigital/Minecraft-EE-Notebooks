{
 "cells": [
  {
   "cell_type": "markdown",
   "metadata": {},
   "source": [
    "# 任务六  走向魔法学院"
   ]
  },
  {
   "cell_type": "markdown",
   "metadata": {},
   "source": [
    "你走过桥来到魔法学院大门前，发现门是关闭的无法通过，回到桥上发现看桥的两侧有两个迷宫，与小助手沟通后，选择一个迷宫，编写代码使小精灵走完迷宫就会打开精灵学院的大门"
   ]
  },
  {
   "cell_type": "markdown",
   "metadata": {},
   "source": [
    "## 知识点\n",
    "\n",
    "- 综合运用这节课学习的知识完成迷宫"
   ]
  },
  {
   "cell_type": "markdown",
   "metadata": {},
   "source": [
    "## 任务\n",
    "\n",
    "与小助手沟通，选择一个迷宫的难易程度，在下列代码框中完成代码，使小精灵走完迷宫，激活机关，从而完成任务"
   ]
  },
  {
   "cell_type": "code",
   "execution_count": null,
   "metadata": {},
   "outputs": [],
   "source": []
  },
  {
   "cell_type": "markdown",
   "metadata": {},
   "source": [
    "提示：\n",
    "- 小精灵的朝向不是那么容易看清楚，可以先写程序判断出小精灵的朝向"
   ]
  },
  {
   "cell_type": "code",
   "execution_count": null,
   "metadata": {},
   "outputs": [],
   "source": [
    "# 学生代码：简单模式\n",
    "\n",
    "def agent_move(direction, step):\n",
    "    for _ in range(step):\n",
    "        agent.move(direction)\n",
    "        \n",
    "def agent_left(step):\n",
    "    agent_move(\"left\", step)\n",
    "\n",
    "def agent_right(step):\n",
    "    agent_move(\"right\", step)\n",
    "    \n",
    "def agent_forward(step):\n",
    "    agent_move(\"forward\", step)\n",
    "    \n",
    "agent_forward(3)\n",
    "agent_left(7)\n",
    "agent_forward(3)\n",
    "agent_left(4)\n",
    "agent_forward(4)"
   ]
  },
  {
   "cell_type": "code",
   "execution_count": null,
   "metadata": {},
   "outputs": [],
   "source": [
    "# 学生代码：挑战模式\n",
    "\n",
    "def agent_move(direction, step):\n",
    "    for _ in range(step):\n",
    "        agent.move(direction)\n",
    "        \n",
    "def agent_left(step):\n",
    "    agent_move(\"left\", step)\n",
    "\n",
    "def agent_right(step):\n",
    "    agent_move(\"right\", step)\n",
    "    \n",
    "def agent_forward(step):\n",
    "    agent_move(\"forward\", step)\n",
    "    \n",
    "agent_forward(3)\n",
    "agent_left(5)\n",
    "agent_forward(4)\n",
    "agent_right(2)\n",
    "agent_forward(4)\n",
    "agent_right(3)\n",
    "agent_forward(1)\n",
    "agent_right(1)\n",
    "agent_forward(2)\n",
    "agent_left(1)\n",
    "agent_forward(1)\n",
    "agent_left(2)\n",
    "agent_forward(3)"
   ]
  }
 ],
 "metadata": {
  "kernelspec": {
   "display_name": "Python 3",
   "language": "python",
   "name": "python3"
  },
  "language_info": {
   "codemirror_mode": {
    "name": "ipython",
    "version": 3
   },
   "file_extension": ".py",
   "mimetype": "text/x-python",
   "name": "python",
   "nbconvert_exporter": "python",
   "pygments_lexer": "ipython3",
   "version": "3.7.3"
  },
  "minecraft": {
   "description": "任务6",
   "page_id": "2.6",
   "page_name": "任务6",
   "style": "minecraft.css"
  }
 },
 "nbformat": 4,
 "nbformat_minor": 4
}
