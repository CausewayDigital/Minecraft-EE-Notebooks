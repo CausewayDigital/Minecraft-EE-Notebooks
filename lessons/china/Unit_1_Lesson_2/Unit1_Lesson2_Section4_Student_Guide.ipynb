{
 "cells": [
  {
   "cell_type": "markdown",
   "metadata": {},
   "source": [
    "# 任务四  修复棋盘"
   ]
  },
  {
   "cell_type": "markdown",
   "metadata": {},
   "source": [
    "现在你前方有一面棋盘墙面，上面缺少了4块材料，需要按照棋盘的规则补全大门就会自动打开"
   ]
  },
  {
   "cell_type": "markdown",
   "metadata": {},
   "source": [
    "## 知识点\n",
    "\n",
    "- 学习如何得到小精灵面向的方向\n",
    "- 封装get_agent_front_pos()函数\n",
    "- 利用world.set()放置方块"
   ]
  },
  {
   "cell_type": "code",
   "execution_count": null,
   "metadata": {},
   "outputs": [],
   "source": []
  },
  {
   "cell_type": "markdown",
   "metadata": {},
   "source": [
    "## 学习：\n",
    "Minecraft中的一个位置可以用三个坐标值确定，分别是x, y, z坐标<br>\n",
    "同时Minecraft中也有6个方向，分别是x, -x, y, -y, z, -z<br>\n",
    "通过agent.rotation可以得到小精灵面对的方向，agent.rotation的值具体如下：<br>\n",
    "- 0代表z轴正方向，也就是南\n",
    "- 90代表x轴正方向，也就是东\n",
    "- -90代表x轴负方向，也就是西\n",
    "- -180代表z轴负方向，也就是北\n",
    "\n",
    "我们可以变相通过agent面对的方向来判断整个世界正确的坐标"
   ]
  },
  {
   "cell_type": "markdown",
   "metadata": {},
   "source": [
    "## 示例：\n",
    "运行一下程序看看结果："
   ]
  },
  {
   "cell_type": "code",
   "execution_count": null,
   "metadata": {},
   "outputs": [],
   "source": [
    "agent.say(agent.rotation)"
   ]
  },
  {
   "cell_type": "markdown",
   "metadata": {},
   "source": [
    "得到了方向我们就可以用world.set精确的做建筑了<br>\n",
    "在这里我们提供一个叫get_agent_front_pos()的函数，这个函数的作用是得到agent往前一步的位置<br>\n",
    "我们首先来运行下面的示例："
   ]
  },
  {
   "cell_type": "code",
   "execution_count": null,
   "metadata": {},
   "outputs": [],
   "source": [
    "def get_agent_front_pos():\n",
    "    facing = agent.rotation\n",
    "    step = (0, 0, 0)\n",
    "    if facing == 0:\n",
    "        step = (0, 0, 1)\n",
    "    elif facing == 90:\n",
    "        step = (-1, 0, 0)\n",
    "    elif facing == -90:\n",
    "        step = (1, 0, 0)\n",
    "    else:\n",
    "        step =  (0, 0, -1)\n",
    "\n",
    "    return agent.position + step\n",
    "\n",
    "agent.say(agent.position)\n",
    "agent.say(get_agent_front_pos())"
   ]
  },
  {
   "cell_type": "markdown",
   "metadata": {},
   "source": [
    "## 任务：\n",
    "- 观察棋盘缺失的位置\n",
    "- 与小助手对话开始任务\n",
    "- 编写代码让小精灵移动到棋盘缺失的位置前\n",
    "- 调用get_agent_front_pos()得到agent面前缺失方块的位置\n",
    "- 利用world.set()添加黑色方块，材料是wool#15"
   ]
  },
  {
   "cell_type": "code",
   "execution_count": null,
   "metadata": {},
   "outputs": [],
   "source": [
    "world.set((get_agent_front_pos()), \"wool#15\")\n",
    "agent_up()"
   ]
  },
  {
   "cell_type": "code",
   "execution_count": null,
   "metadata": {},
   "outputs": [],
   "source": [
    "# 学生代码\n",
    "\n",
    "def get_agent_front_pos():\n",
    "    facing = agent.rotation\n",
    "    step = (0, 0, 0)\n",
    "    if facing == 0:\n",
    "        step = (0, 0, 1)\n",
    "    elif facing == 90:\n",
    "        step = (-1, 0, 0)\n",
    "    elif facing == -90:\n",
    "        step = (1, 0, 0)\n",
    "    else:\n",
    "        step =  (0, 0, -1)\n",
    "\n",
    "    return agent.position + step\n",
    "\n",
    "def agent_move(direction, step):\n",
    "    for _ in range(step):\n",
    "        agent.move(direction)\n",
    "\n",
    "def agent_left(step):\n",
    "    agent_move(\"left\", step)\n",
    "\n",
    "def agent_right(step):\n",
    "    agent_move(\"right\", step)\n",
    "    \n",
    "def agent_up(step):\n",
    "    agent_move(\"up\", step)\n",
    "    \n",
    "def agent_down(step):\n",
    "    agent_move(\"down\", step)\n",
    "    \n",
    "agent_left(2)\n",
    "world.set((get_agent_front_pos()), \"wool#15\")\n",
    "agent_up(4)\n",
    "world.set((get_agent_front_pos()), \"wool#15\")\n",
    "agent_right(4)\n",
    "world.set((get_agent_front_pos()), \"wool#15\")\n",
    "agent_down(4)\n",
    "world.set((get_agent_front_pos()), \"wool#15\")\n",
    "\n"
   ]
  }
 ],
 "metadata": {
  "kernelspec": {
   "display_name": "Python 3",
   "language": "python",
   "name": "python3"
  },
  "language_info": {
   "codemirror_mode": {
    "name": "ipython",
    "version": 3
   },
   "file_extension": ".py",
   "mimetype": "text/x-python",
   "name": "python",
   "nbconvert_exporter": "python",
   "pygments_lexer": "ipython3",
   "version": "3.7.6"
  },
  "minecraft": {
   "description": "任务4",
   "page_id": "2.4",
   "page_name": "任务4",
   "style": "minecraft.css"
  }
 },
 "nbformat": 4,
 "nbformat_minor": 4
}
