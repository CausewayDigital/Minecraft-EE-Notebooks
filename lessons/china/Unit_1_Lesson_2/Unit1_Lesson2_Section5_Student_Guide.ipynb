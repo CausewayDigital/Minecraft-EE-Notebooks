{
 "cells": [
  {
   "cell_type": "markdown",
   "metadata": {},
   "source": [
    "# 任务5 激活魔法阵"
   ]
  },
  {
   "cell_type": "markdown",
   "metadata": {},
   "source": [
    "通过棋盘墙后，你来到了一个魔法平台，发现前面没有路了，需要你根据指定的坐标，召唤闪电，激活信标出现道路"
   ]
  },
  {
   "cell_type": "markdown",
   "metadata": {},
   "source": [
    "## 知识点：\n",
    "- 封装召唤闪电的函数summon_lightning(position)"
   ]
  },
  {
   "cell_type": "markdown",
   "metadata": {},
   "source": [
    "## 学习：\n",
    "- 召唤闪电是一种特殊的操作，系统没有提供，我们需要自己封装\n",
    "- 召唤闪电的命令是\"/summon lightning_bolt x y z\""
   ]
  },
  {
   "cell_type": "markdown",
   "metadata": {},
   "source": [
    "## 任务5.1\n",
    "封装召唤闪电的函数，调用它在前方三格的位置召唤出闪电"
   ]
  },
  {
   "cell_type": "code",
   "execution_count": null,
   "metadata": {},
   "outputs": [],
   "source": [
    "def summon_lightning(pos):\n",
    "    command = \"/summon lightning_bolt \" + str(pos.x) + \" \" + str(pos.y) + \" \" + str(pos.z)\n",
    "    _exec(command)\n",
    "\n",
    "summon_lightning(from_me(3, 0, 0))"
   ]
  },
  {
   "cell_type": "markdown",
   "metadata": {},
   "source": [
    "## 任务5.2\n",
    "根据指定坐标，召唤闪电，打开机关桥\n",
    "- 利用上个任务的知识找到小精灵面对的方向\n",
    "- 召唤闪电的位置在小精灵面前3格，左边9格，下方2格"
   ]
  },
  {
   "cell_type": "code",
   "execution_count": null,
   "metadata": {},
   "outputs": [],
   "source": [
    "agent.say(agent.rotation)\n",
    "\n",
    "summon_lightning(agent.position + (9, 3, -2))"
   ]
  },
  {
   "cell_type": "markdown",
   "metadata": {},
   "source": [
    "## 提示\n",
    "- 玩家可以运行agent.ratation得到朝向，从而推算出召唤闪电的坐标"
   ]
  },
  {
   "cell_type": "code",
   "execution_count": null,
   "metadata": {},
   "outputs": [],
   "source": [
    "# # 学生代码\n",
    "\n",
    "def summon_lightning(pos):\n",
    "    command = \"/summon lightning_bolt \" + str(pos.x) + \" \" + str(pos.y) + \" \" + str(pos.z)\n",
    "    _exec(command)\n",
    "    \n",
    "summon_lightning(agent.position + (9, 3, -2))"
   ]
  }
 ],
 "metadata": {
  "kernelspec": {
   "display_name": "Python 3",
   "language": "python",
   "name": "python3"
  },
  "language_info": {
   "codemirror_mode": {
    "name": "ipython",
    "version": 3
   },
   "file_extension": ".py",
   "mimetype": "text/x-python",
   "name": "python",
   "nbconvert_exporter": "python",
   "pygments_lexer": "ipython3",
   "version": "3.7.6"
  },
  "minecraft": {
   "description": "任务5",
   "page_id": "2.5",
   "page_name": "任务5",
   "style": "minecraft.css"
  }
 },
 "nbformat": 4,
 "nbformat_minor": 4
}
