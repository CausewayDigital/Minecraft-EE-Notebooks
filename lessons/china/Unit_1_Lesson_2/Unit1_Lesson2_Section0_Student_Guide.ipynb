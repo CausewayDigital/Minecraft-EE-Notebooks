{
 "cells": [
  {
   "cell_type": "markdown",
   "metadata": {},
   "source": [
    "# 第二课  前往精灵学院!\n",
    "\n",
    "在第一课中你获得了小精灵，并且学习了函数的相关只是，现在你需要前往精灵学院，教授小精灵更多关于Python函数的知识。在去精灵学院的路上，你们需要完成冲破各种阻碍才能到达精灵学院，那么现在请开始你的冒险旅程吧！"
   ]
  },
  {
   "cell_type": "markdown",
   "metadata": {},
   "source": [
    "## 在课程中你将学到以下知识点：\n",
    "\n",
    "- 封装函数的方法与实践\n",
    "- 封装agent_move())函数使得agent不用再一步一步走\n",
    "- 封装agent_repair()函数\n",
    "- 学习如何通过调用agent.rotation得到方向\n",
    "- 封装get_agent_front_pos()函数\n",
    "- 结合循环，条件判断调用封装的函数"
   ]
  },
  {
   "cell_type": "markdown",
   "metadata": {},
   "source": [
    "## 这些知识点将在完成以下的任务中学会：\n",
    "\n",
    "- 魔法屏障\n",
    "- 通过彩虹桥\n",
    "- 修复台阶\n",
    "- 修复棋盘\n",
    "- 激活魔法阵\n",
    "- 打开学院大门"
   ]
  },
  {
   "cell_type": "code",
   "execution_count": null,
   "metadata": {},
   "outputs": [],
   "source": []
  }
 ],
 "metadata": {
  "kernelspec": {
   "display_name": "Python 3",
   "language": "python",
   "name": "python3"
  },
  "language_info": {
   "codemirror_mode": {
    "name": "ipython",
    "version": 3
   },
   "file_extension": ".py",
   "mimetype": "text/x-python",
   "name": "python",
   "nbconvert_exporter": "python",
   "pygments_lexer": "ipython3",
   "version": "3.7.6"
  },
  "minecraft": {
   "description": "简介",
   "page_id": "2.0",
   "page_name": "简介",
   "style": "minecraft.css"
  }
 },
 "nbformat": 4,
 "nbformat_minor": 4
}
