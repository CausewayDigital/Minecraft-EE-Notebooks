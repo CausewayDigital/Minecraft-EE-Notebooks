{
 "cells": [
  {
   "cell_type": "markdown",
   "metadata": {},
   "source": [
    "# 任务四  火箭发射台"
   ]
  },
  {
   "cell_type": "markdown",
   "metadata": {},
   "source": [
    "当你把墙上的图腾填充完成后，突然被传送到天空上的火箭发射台，寻找三个墙壁上图形的规律，来做出第四面墙壁上的图形。"
   ]
  },
  {
   "cell_type": "markdown",
   "metadata": {},
   "source": [
    "## 知识点\n",
    "\n",
    "- 复习使用之前用到的 agent_move()函数\n",
    "- 复习使用之前用到的 agent_place()函数"
   ]
  },
  {
   "cell_type": "markdown",
   "metadata": {},
   "source": [
    "## 示例："
   ]
  },
  {
   "cell_type": "code",
   "execution_count": null,
   "metadata": {},
   "outputs": [],
   "source": [
    "# Agent移动\n",
    "def agent_move(direction=\"FORWARD\", distance=1):\n",
    "    for _ in range(distance):\n",
    "        agent.move(direction)\n",
    "\n",
    "# Agent放置\n",
    "def agent_place(n):\n",
    "    agent.place(n, \"FORWARD\")\n"
   ]
  },
  {
   "cell_type": "markdown",
   "metadata": {},
   "source": [
    "## 任务：\n",
    "\n",
    "与NPC交谈后，点击`开始任务`<br>\n",
    "然后在下列代码框中输入你的代码，使小精灵恢复墙面内容"
   ]
  },
  {
   "cell_type": "markdown",
   "metadata": {},
   "source": [
    "### 说明：\n",
    "\n",
    "- 回想学过的函数的概念\n",
    "- 调用agent_place(1)函数放置第一个槽位内容等\n",
    "- 把小精灵移动的方向和距离作为参数传递给函数agent_move()，使其可以移动至预想位置\n",
    "- 嵌套的for循环"
   ]
  },
  {
   "cell_type": "markdown",
   "metadata": {},
   "source": [
    "## Hints:\n",
    "\n",
    "1. 经观察可知，墙面上的造型由两种方块组成，让Agent先到其中一面墙上，自主获取两个方块，并计算出需要的数量加进自己的库存；(inspect give)\n",
    "2. 同时需要计算出整面墙的高度、宽度等信息；(position)\n",
    "3. 回到身后这面空白的墙上，开始放置。(place)\n",
    "\n",
    "所需材料已经给到"
   ]
  },
  {
   "cell_type": "code",
   "execution_count": null,
   "metadata": {},
   "outputs": [],
   "source": [
    "# Agent移动\n",
    "def agent_move(direction=\"FORWARD\", distance=1):\n",
    "    for _ in range(distance):\n",
    "        agent.move(direction)\n",
    "\n",
    "# Agent放置\n",
    "def agent_place(n):\n",
    "    agent.place(n, \"FORWARD\")\n",
    "#coding\n",
    "n = 4\n",
    "m = 1\n",
    "for i in range(5):\n",
    "    for j in range(n):\n",
    "        agent.place(1, \"FORWARD\")\n",
    "        agent_move(\"RIGHT\")\n",
    "    for k in range(m):\n",
    "        agent.place(2, \"FORWARD\")\n",
    "        agent_move(\"RIGHT\")\n",
    "    agent_move(\"DOWN\")\n",
    "    agent_move(\"LEFT\", 5)\n",
    "    n = n - 1\n",
    "    m = m + 1\n",
    "        "
   ]
  }
 ],
 "metadata": {
  "kernelspec": {
   "display_name": "Python 3",
   "language": "python",
   "name": "python3"
  },
  "language_info": {
   "codemirror_mode": {
    "name": "ipython",
    "version": 3
   },
   "file_extension": ".py",
   "mimetype": "text/x-python",
   "name": "python",
   "nbconvert_exporter": "python",
   "pygments_lexer": "ipython3",
   "version": "3.7.3"
  },
  "minecraft": {
   "description": "任务4",
   "page_id": "2.4",
   "page_name": "任务4",
   "style": "minecraft.css"
  }
 },
 "nbformat": 4,
 "nbformat_minor": 4
}
