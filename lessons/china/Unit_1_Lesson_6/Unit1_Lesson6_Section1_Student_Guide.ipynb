{
 "cells": [
  {
   "cell_type": "markdown",
   "metadata": {},
   "source": [
    "# 任务一 寻找时光机\n",
    "\n",
    "你在浮空岛中枢大厅门口，机器人告诉你，时空装置是这个星球的智慧的结晶，它被层层保护起来，如果你有能力就把它取出来。"
   ]
  },
  {
   "cell_type": "markdown",
   "metadata": {
    "minecraft": {
     "hidden": true,
     "override": true
    }
   },
   "source": [
    "## 知识点\n",
    "\n",
    "利用小精灵自身的特性，使其在移动和放置物品中具备更多的灵活性。\n"
   ]
  },
  {
   "cell_type": "markdown",
   "metadata": {},
   "source": [
    "## 任务1-1\n",
    "\n",
    "封装一个让agent移动的函数agent_move()，这里我们不仅有移动的方向，还有移动的距离。\n",
    "\n",
    "快来运行示例程序看看效果吧！"
   ]
  },
  {
   "cell_type": "markdown",
   "metadata": {},
   "source": [
    "### 说明：\n",
    "- 调用函数会使小精灵自己控制移动方向和距离"
   ]
  },
  {
   "cell_type": "markdown",
   "metadata": {},
   "source": [
    "### 示例："
   ]
  },
  {
   "cell_type": "code",
   "execution_count": null,
   "metadata": {},
   "outputs": [],
   "source": [
    "def agent_move(direction=\"FORWARD\", distance=1):\n",
    "    for _ in range(distance):\n",
    "        agent.move(direction)\n",
    "\n",
    "# 向前一步（默认调用）\n",
    "agent_move()\n",
    "# 向后两步\n",
    "agent_move(\"BACK\", 2)\n",
    "# 向左三步\n",
    "agent_move(\"LEFT\", 3)\n",
    "# 向右四步\n",
    "agent_move(\"RIGHT\", 4)\n"
   ]
  },
  {
   "cell_type": "markdown",
   "metadata": {},
   "source": [
    "## 任务1-2\n",
    "\n",
    "封装一个让agent放置信标的函数agent_place_beacon()，控制信标的放置。"
   ]
  },
  {
   "cell_type": "markdown",
   "metadata": {},
   "source": [
    "### 说明：\n",
    "- 调用函数会使小精灵自己放置信标"
   ]
  },
  {
   "cell_type": "code",
   "execution_count": null,
   "metadata": {},
   "outputs": [],
   "source": [
    "def agent_place_beacon():\n",
    "    agent.destroy(\"DOWN\")\n",
    "    agent.collect()\n",
    "    agent.place(1, \"DOWN\")\n",
    "    \n",
    "# 小精灵在脚下放置一个信标    \n",
    "agent_place_beacon()"
   ]
  },
  {
   "cell_type": "markdown",
   "metadata": {},
   "source": [
    "## 任务1-3\n",
    "\n",
    "与NPC交谈后，点击`开始任务`<br>\n",
    "然后在下列代码框中输入你的代码，使小精灵放置好信标"
   ]
  },
  {
   "cell_type": "markdown",
   "metadata": {},
   "source": [
    "### 说明：\n",
    "- 回想学过的函数的概念\n",
    "- 调用agent_place_beacon()函数放置信标\n",
    "- 把小精灵移动的方向和距离作为参数传递给函数agent_move()，使其可以移动至预想位置\n",
    "- 在for循环中使用这个函数"
   ]
  },
  {
   "cell_type": "code",
   "execution_count": null,
   "metadata": {},
   "outputs": [],
   "source": [
    "# agent.give(\"beacon\", 4, 1)\n",
    "#coding\n",
    "def agent_place_beacon():\n",
    "    agent.destroy(\"DOWN\")\n",
    "    agent.collect()\n",
    "    agent.place(1, \"DOWN\")\n",
    "\n",
    "for _ in range(4):\n",
    "    agent_place_beacon()\n",
    "    agent.move(\"RIGHT\")\n",
    "    agent.move(\"RIGHT\")\n",
    "    agent.turn(\"LEFT\")\n",
    "    "
   ]
  }
 ],
 "metadata": {
  "kernelspec": {
   "display_name": "Python 3",
   "language": "python",
   "name": "python3"
  },
  "language_info": {
   "codemirror_mode": {
    "name": "ipython",
    "version": 3
   },
   "file_extension": ".py",
   "mimetype": "text/x-python",
   "name": "python",
   "nbconvert_exporter": "python",
   "pygments_lexer": "ipython3",
   "version": "3.7.3"
  },
  "minecraft": {
   "description": "任务1",
   "page_id": "1.1",
   "page_name": "任务1",
   "style": "minecraft.css"
  }
 },
 "nbformat": 4,
 "nbformat_minor": 4
}
