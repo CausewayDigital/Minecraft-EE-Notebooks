{
 "cells": [
  {
   "cell_type": "markdown",
   "metadata": {},
   "source": [
    "## 任务三 拼接图腾"
   ]
  },
  {
   "cell_type": "markdown",
   "metadata": {},
   "source": [
    "墙上有一个图形是kamo星球的图腾，尝试使用所学的知识去把墙上残缺的地方填充完成。"
   ]
  },
  {
   "cell_type": "markdown",
   "metadata": {},
   "source": [
    "## 知识点 \n",
    "\n",
    "- 学习将agent.inspect()函数封装进自己的函数里\n",
    "- 在函数里调用循环"
   ]
  },
  {
   "cell_type": "markdown",
   "metadata": {},
   "source": [
    "### 示例："
   ]
  },
  {
   "cell_type": "code",
   "execution_count": null,
   "metadata": {},
   "outputs": [],
   "source": [
    "def get_block_texture():\n",
    "    agent.give(agent.inspect(\"FORWARD\"), 4, 2)\n",
    "    \n",
    "get_block_texture()"
   ]
  },
  {
   "cell_type": "markdown",
   "metadata": {},
   "source": [
    "## 任务3-1：\n",
    "\n",
    "放置钻石块，补全部分钻石镐"
   ]
  },
  {
   "cell_type": "markdown",
   "metadata": {},
   "source": [
    "### 示例："
   ]
  },
  {
   "cell_type": "code",
   "execution_count": null,
   "metadata": {},
   "outputs": [],
   "source": [
    "# 放置钻石块\n",
    "def agent_place_diamond():\n",
    "    for i in range(3):\n",
    "        agent.destroy(\"FORWARD\")\n",
    "        agent.place(1, \"FORWARD\")\n",
    "        agent_move(\"DOWN\")\n",
    "        agent.destroy(\"FORWARD\")\n",
    "        agent.place(1, \"FORWARD\")\n",
    "        agent_move(\"RIGHT\")\n",
    "\n",
    "place_diamond()"
   ]
  },
  {
   "cell_type": "markdown",
   "metadata": {},
   "source": [
    "## 任务3-2：\n",
    "\n",
    "放置橡木木板，补全部分钻石镐"
   ]
  },
  {
   "cell_type": "markdown",
   "metadata": {},
   "source": [
    "### 示例："
   ]
  },
  {
   "cell_type": "code",
   "execution_count": null,
   "metadata": {},
   "outputs": [],
   "source": [
    "# 放置橡木木板\n",
    "def agent_place_plank(n):\n",
    "    for i in range(n):\n",
    "        agent_move(\"DOWN\")\n",
    "        agent_move(\"LEFT\")\n",
    "        agent.destroy(\"FORWARD\")\n",
    "        agent.place(2, \"FORWARD\")"
   ]
  },
  {
   "cell_type": "markdown",
   "metadata": {},
   "source": [
    "## 任务3-3：\n",
    "\n",
    "与NPC交谈后，点击`开始任务`<br>\n",
    "然后在下列代码框中输入你的代码，使小精灵补全钻石镐"
   ]
  },
  {
   "cell_type": "markdown",
   "metadata": {},
   "source": [
    "### 说明：\n",
    "- 回想学过的函数的概念\n",
    "- 调用agent_place_diamond()函数放置钻石块等\n",
    "- 把小精灵移动的方向和距离作为参数传递给函数agent_move()，使其可以移动至预想位置"
   ]
  },
  {
   "cell_type": "code",
   "execution_count": null,
   "metadata": {},
   "outputs": [],
   "source": [
    "#coding\n",
    "# Agent移动\n",
    "def agent_move(direction=\"FORWARD\", distance=1):\n",
    "    for i in range(distance):\n",
    "        agent.move(direction)\n",
    "\n",
    "# 移动至开始位置\n",
    "def move_to_start_1():\n",
    "    # agent_move(\"RIGHT\", 5)\n",
    "    agent_move(\"DOWN\")\n",
    "\n",
    "# 放置钻石块\n",
    "def place_diamond():\n",
    "    for i in range(3):\n",
    "        agent.destroy(\"FORWARD\")\n",
    "        agent.place(1, \"FORWARD\")\n",
    "        agent_move(\"DOWN\")\n",
    "        agent.destroy(\"FORWARD\")\n",
    "        agent.place(1, \"FORWARD\")\n",
    "        agent_move(\"RIGHT\")\n",
    "\n",
    "# 移动至手柄位置处\n",
    "def move_to_start_2(n):\n",
    "    agent_move(\"LEFT\", n)\n",
    "\n",
    "# 获取材料块\n",
    "# new_texture = ''\n",
    "def get_block_texture():\n",
    "    agent.give(agent.inspect(\"FORWARD\"), 4, 2)\n",
    "\n",
    "# 放置橡木木板\n",
    "def place_plank(n):\n",
    "    for i in range(n):\n",
    "        agent_move(\"DOWN\")\n",
    "        agent_move(\"LEFT\")\n",
    "        agent.destroy(\"FORWARD\")\n",
    "        agent.place(2, \"FORWARD\")\n",
    "\n",
    "# 移动至开始位置\n",
    "move_to_start_1()\n",
    "# Agent放置钻石块\n",
    "place_diamond()\n",
    "\n",
    "# 移动至手柄位置处\n",
    "move_to_start_2(3)\n",
    "# 获取材料块\n",
    "get_block_texture()\n",
    "# 放置橡木木板\n",
    "place_plank(5)"
   ]
  }
 ],
 "metadata": {
  "kernelspec": {
   "display_name": "Python 3",
   "language": "python",
   "name": "python3"
  },
  "language_info": {
   "codemirror_mode": {
    "name": "ipython",
    "version": 3
   },
   "file_extension": ".py",
   "mimetype": "text/x-python",
   "name": "python",
   "nbconvert_exporter": "python",
   "pygments_lexer": "ipython3",
   "version": "3.7.3"
  },
  "minecraft": {
   "description": "任务3",
   "page_id": "2.3",
   "page_name": "任务3",
   "style": "minecraft.css"
  }
 },
 "nbformat": 4,
 "nbformat_minor": 4
}
