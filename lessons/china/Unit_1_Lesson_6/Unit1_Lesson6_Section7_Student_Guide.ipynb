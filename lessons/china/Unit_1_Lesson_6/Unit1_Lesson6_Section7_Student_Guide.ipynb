{
 "cells": [
  {
   "cell_type": "markdown",
   "metadata": {},
   "source": [
    "# 总结\n",
    "\n",
    "恭喜你顺利完成了这节课，也成功地逃离了浮空岛！\n",
    "\n",
    "前方还有更多的关卡在等着你，向前进发吧！\n",
    "\n",
    "总结一下你在本课程学到的知识：\n",
    "\n",
    "## 在课程中你学到了以下知识点：\n",
    "\n",
    "- 封装函数的更多实践\n",
    "- 小精灵自身灵活的特性，让突破关卡的方式也更加丰富"
   ]
  }
 ],
 "metadata": {
  "kernelspec": {
   "display_name": "Python 3",
   "language": "python",
   "name": "python3"
  },
  "language_info": {
   "codemirror_mode": {
    "name": "ipython",
    "version": 3
   },
   "file_extension": ".py",
   "mimetype": "text/x-python",
   "name": "python",
   "nbconvert_exporter": "python",
   "pygments_lexer": "ipython3",
   "version": "3.7.4"
  },
  "minecraft": {
   "description": "总结",
   "page_id": "2.7",
   "page_name": "总结",
   "style": "minecraft.css"
  }
 },
 "nbformat": 4,
 "nbformat_minor": 4
}
