{
 "cells": [
  {
   "cell_type": "markdown",
   "metadata": {},
   "source": [
    "# 任务五 火箭能量阵"
   ]
  },
  {
   "cell_type": "markdown",
   "metadata": {},
   "source": [
    "和小精灵一起补全火箭下方的能量阵,将菱形的金块替换成黑曜石"
   ]
  },
  {
   "cell_type": "markdown",
   "metadata": {},
   "source": [
    "## 知识点：\n",
    "\n",
    "- 复习使用之前用到的 agent_move()函数\n",
    "- 复习使用之前用到的 agent_place()函数"
   ]
  },
  {
   "cell_type": "markdown",
   "metadata": {},
   "source": [
    "## 任务\n",
    "\n",
    "与NPC交谈后，点击`开始任务`<br>\n",
    "然后在下列代码框中输入你的代码，使小精灵恢复墙面内容"
   ]
  },
  {
   "cell_type": "markdown",
   "metadata": {},
   "source": [
    "### 说明：\n",
    "\n",
    "- 回想学过的函数的概念\n",
    "- 调用 agent_place_obsidian()函数放置黑曜石等\n",
    "- 把小精灵移动的方向和距离作为参数传递给函数agent_move()，使其可以移动至预想位置\n",
    "- 使用for循环调用函数"
   ]
  },
  {
   "cell_type": "markdown",
   "metadata": {},
   "source": [
    "## Hints:\n",
    "\n",
    "1. 经观察可知，造型为一个大菱形，参考第一关的移动方式来进行移动和放置\n",
    "\n",
    "所需材料已经给到"
   ]
  },
  {
   "cell_type": "code",
   "execution_count": null,
   "metadata": {},
   "outputs": [],
   "source": [
    "#coding\n",
    "# Agent移动\n",
    "def agent_move(direction=\"FORWARD\", distance=1):\n",
    "    for i in range(distance):\n",
    "        agent.move(direction)\n",
    "\n",
    "'''\n",
    "Hints:\n",
    "1. 经观察可知，造型为一个大菱形\n",
    "需要用到的有:\n",
    "黑曜石*12 obsidian*12\n",
    "'''\n",
    "\n",
    "# 为节省操作，我们直接开始放置的操作\n",
    "# agent.give(\"obsidian\", 12, 1)\n",
    "\n",
    "def agent_place_obsidian():\n",
    "    for _ in range(3):\n",
    "        agent.destroy(\"down\")\n",
    "        agent.collect()\n",
    "        agent.place(1, \"down\")\n",
    "        agent.move(\"forward\")\n",
    "        agent.move(\"left\")\n",
    "\n",
    "for _ in range(4):\n",
    "    agent_place_obsidian()\n",
    "    agent.turn(\"right\")\n",
    "    "
   ]
  }
 ],
 "metadata": {
  "kernelspec": {
   "display_name": "Python 3",
   "language": "python",
   "name": "python3"
  },
  "language_info": {
   "codemirror_mode": {
    "name": "ipython",
    "version": 3
   },
   "file_extension": ".py",
   "mimetype": "text/x-python",
   "name": "python",
   "nbconvert_exporter": "python",
   "pygments_lexer": "ipython3",
   "version": "3.7.3"
  },
  "minecraft": {
   "description": "任务5",
   "page_id": "2.5",
   "page_name": "任务5",
   "style": "minecraft.css"
  }
 },
 "nbformat": 4,
 "nbformat_minor": 4
}
