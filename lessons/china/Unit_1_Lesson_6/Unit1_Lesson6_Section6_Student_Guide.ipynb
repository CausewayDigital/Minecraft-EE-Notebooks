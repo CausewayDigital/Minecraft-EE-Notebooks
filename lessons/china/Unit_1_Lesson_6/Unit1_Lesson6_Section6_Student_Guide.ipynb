{
 "cells": [
  {
   "cell_type": "markdown",
   "metadata": {},
   "source": [
    "# 任务六  启动飞船"
   ]
  },
  {
   "cell_type": "markdown",
   "metadata": {},
   "source": [
    "现在飞行器已经准备就绪，但是还需要启动发射装置，需要你协助小精灵搭建楼梯，到达箱子对面的高台上，按下发射按钮。"
   ]
  },
  {
   "cell_type": "markdown",
   "metadata": {},
   "source": [
    "## 知识点\n",
    "\n",
    "- 综合运用这节课学习的知识完成迷宫"
   ]
  },
  {
   "cell_type": "markdown",
   "metadata": {},
   "source": [
    "## 任务\n",
    "\n",
    "与NPC交谈后，点击`开始任务`<br>\n",
    "然后在下列代码框中输入你的代码，使小精灵建造阶梯。"
   ]
  },
  {
   "cell_type": "markdown",
   "metadata": {},
   "source": [
    "### 说明：\n",
    "\n",
    "- 回想本节课所学内容，灵活运用"
   ]
  },
  {
   "cell_type": "markdown",
   "metadata": {},
   "source": [
    "## Hints:\n",
    "\n",
    "1. 注意小精灵的移动以及放置方向\n",
    "\n",
    "所需材料已经给到"
   ]
  },
  {
   "cell_type": "code",
   "execution_count": null,
   "metadata": {},
   "outputs": [],
   "source": [
    "#coding\n",
    "def agent_place_stone():\n",
    "    for _ in range(5):\n",
    "        agent.destroy(\"FORWARD\")\n",
    "        agent.collect()\n",
    "        agent.place(1, \"FORWARD\")\n",
    "        agent.move(\"RIGHT\")\n",
    "    for _ in range(5):\n",
    "        agent.move(\"LEFT\")\n",
    "\n",
    "for _ in range(8):\n",
    "    agent_place_stone()\n",
    "    agent.move(\"UP\")\n",
    "    agent.move(\"FORWARD\")\n",
    "    "
   ]
  }
 ],
 "metadata": {
  "kernelspec": {
   "display_name": "Python 3",
   "language": "python",
   "name": "python3"
  },
  "language_info": {
   "codemirror_mode": {
    "name": "ipython",
    "version": 3
   },
   "file_extension": ".py",
   "mimetype": "text/x-python",
   "name": "python",
   "nbconvert_exporter": "python",
   "pygments_lexer": "ipython3",
   "version": "3.7.3"
  },
  "minecraft": {
   "description": "任务6",
   "page_id": "2.6",
   "page_name": "任务6",
   "style": "minecraft.css"
  }
 },
 "nbformat": 4,
 "nbformat_minor": 4
}
