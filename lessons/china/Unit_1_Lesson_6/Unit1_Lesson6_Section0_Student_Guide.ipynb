{
 "cells": [
  {
   "cell_type": "markdown",
   "metadata": {},
   "source": [
    "# 第六课  逃离浮空岛!\n",
    "\n",
    "在前几课的学习中你获得了小精灵，并且学习了函数的相关知识技巧，现在你来到了浮空岛的中枢大厅，浮空岛即将爆炸，在这里你利用前5课学到知识，和小精灵一起突破重重关卡，离开浮空岛吧！"
   ]
  },
  {
   "cell_type": "markdown",
   "metadata": {},
   "source": [
    "## 在课程中你将学到以下知识点：\n",
    "\n",
    "- 有关函数的更多实践\n",
    "- 如何更巧妙地利用Agent自身的特性来完成算法任务"
   ]
  },
  {
   "cell_type": "markdown",
   "metadata": {},
   "source": [
    "## 这些知识点将在完成以下的任务中学会：\n",
    "\n",
    "- 寻找时光机\n",
    "- 倒立三角门\n",
    "- 拼接图腾\n",
    "- 火箭发射台\n",
    "- 火箭能量阵\n",
    "- 启动飞船"
   ]
  },
  {
   "cell_type": "code",
   "execution_count": null,
   "metadata": {},
   "outputs": [],
   "source": []
  }
 ],
 "metadata": {
  "celltoolbar": "编辑元数据",
  "kernelspec": {
   "display_name": "Python 3",
   "language": "python",
   "name": "python3"
  },
  "language_info": {
   "codemirror_mode": {
    "name": "ipython",
    "version": 3
   },
   "file_extension": ".py",
   "mimetype": "text/x-python",
   "name": "python",
   "nbconvert_exporter": "python",
   "pygments_lexer": "ipython3",
   "version": "3.7.4"
  },
  "minecraft": {
   "description": "简介",
   "page_id": "2.0",
   "page_name": "简介",
   "style": "minecraft.css"
  }
 },
 "nbformat": 4,
 "nbformat_minor": 4
}
