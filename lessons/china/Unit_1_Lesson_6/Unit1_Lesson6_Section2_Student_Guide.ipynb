{
 "cells": [
  {
   "cell_type": "markdown",
   "metadata": {},
   "source": [
    "# 任务二 倒立三角门"
   ]
  },
  {
   "cell_type": "markdown",
   "metadata": {},
   "source": [
    "现在来到了地下，发现了一个倒立的三角图形。任务二需要你能够在三角图形的位置放置指定方块。"
   ]
  },
  {
   "cell_type": "markdown",
   "metadata": {},
   "source": [
    "## 知识点\n",
    "\n",
    "- 继续使用上一关卡中的用到的agent_move()函数\n",
    "- 新建两个新的使小精灵放置海晶灯的函数"
   ]
  },
  {
   "cell_type": "markdown",
   "metadata": {},
   "source": [
    "## 任务2-1\n",
    "\n",
    "封装 agent_place_sealantern_1()函数\n",
    "封装 agent_place_sealantern_2()函数"
   ]
  },
  {
   "cell_type": "markdown",
   "metadata": {},
   "source": [
    "### 说明"
   ]
  },
  {
   "cell_type": "markdown",
   "metadata": {},
   "source": [
    "根据示例中的 agent_place_sealantern_1() 写出 agent_place_sealantern_2()"
   ]
  },
  {
   "cell_type": "markdown",
   "metadata": {},
   "source": [
    "### 示例"
   ]
  },
  {
   "cell_type": "code",
   "execution_count": null,
   "metadata": {},
   "outputs": [],
   "source": [
    "def agent_place_sealantern_1():\n",
    "    for _ in range(4):\n",
    "        agent.destroy(\"FORWARD\")\n",
    "        agent.collect()\n",
    "        agent.place(1, \"FORWARD\")\n",
    "        agent.move(\"RIGHT\")\n",
    "        agent.move(\"UP\")\n"
   ]
  },
  {
   "cell_type": "code",
   "execution_count": null,
   "metadata": {},
   "outputs": [],
   "source": [
    "#coding\n",
    "def agent_place_sealantern_2():\n",
    "    for _ in range(3):\n",
    "        agent.move(\"LEFT\")\n",
    "        agent.move(\"UP\")\n",
    "        agent.destroy(\"FORWARD\")\n",
    "        agent.collect()\n",
    "        agent.place(1, \"FORWARD\")\n",
    "        "
   ]
  },
  {
   "cell_type": "markdown",
   "metadata": {},
   "source": [
    "## 任2-2：\n",
    "\n",
    "与NPC交谈后，点击`开始任务`<br>\n",
    "然后在下列代码框中输入你的代码，使小精灵放置好海晶灯\n"
   ]
  },
  {
   "cell_type": "markdown",
   "metadata": {},
   "source": [
    "### 说明：\n",
    "- 回想学过的函数的概念\n",
    "- 调用agent_place_sealantern_1()、agent_place_sealantern_2()函数放置海晶灯\n",
    "- 把小精灵移动的方向和距离作为参数传递给函数agent_move()，使其可以移动至预想位置\n",
    "- 在for循环中使用这个参数"
   ]
  },
  {
   "cell_type": "code",
   "execution_count": null,
   "metadata": {},
   "outputs": [],
   "source": [
    "def agent_right(step):\n",
    "    agent.move(\"right\", step)\n",
    "\n",
    "agent_forward(4)\n",
    "agent_right(1)\n",
    "agent_forward(4)\n",
    "agent_right(1)"
   ]
  },
  {
   "cell_type": "markdown",
   "metadata": {},
   "source": [
    "## 挑战：\n",
    "- 尝试利用循环优化以上实现逻辑\n",
    "- 可以通过NPC重置关卡来再次挑战"
   ]
  },
  {
   "cell_type": "code",
   "execution_count": null,
   "metadata": {},
   "outputs": [],
   "source": [
    "def agent_place_sealantern_1():\n",
    "    for _ in range(4):\n",
    "        agent.destroy(\"FORWARD\")\n",
    "        agent.collect()\n",
    "        agent.place(1, \"FORWARD\")\n",
    "        agent.move(\"RIGHT\")\n",
    "        agent.move(\"UP\")\n",
    "\n",
    "#coding\n",
    "def agent_place_sealantern_2():\n",
    "    for _ in range(3):\n",
    "        agent.move(\"LEFT\")\n",
    "        agent.move(\"UP\")\n",
    "        agent.destroy(\"FORWARD\")\n",
    "        agent.collect()\n",
    "        agent.place(1, \"FORWARD\")\n",
    "\n",
    "agent_place_sealantern_1()\n",
    "for _ in range(4):\n",
    "#coding\n",
    "    agent.move(\"DOWN\")\n",
    "    agent.move(\"LEFT\")\n",
    "agent_place_sealantern_2()\n",
    "\n"
   ]
  }
 ],
 "metadata": {
  "kernelspec": {
   "display_name": "Python 3",
   "language": "python",
   "name": "python3"
  },
  "language_info": {
   "codemirror_mode": {
    "name": "ipython",
    "version": 3
   },
   "file_extension": ".py",
   "mimetype": "text/x-python",
   "name": "python",
   "nbconvert_exporter": "python",
   "pygments_lexer": "ipython3",
   "version": "3.7.3"
  },
  "minecraft": {
   "description": "任务2",
   "page_id": "2.2",
   "page_name": "任务2",
   "style": "minecraft.css"
  }
 },
 "nbformat": 4,
 "nbformat_minor": 4
}
