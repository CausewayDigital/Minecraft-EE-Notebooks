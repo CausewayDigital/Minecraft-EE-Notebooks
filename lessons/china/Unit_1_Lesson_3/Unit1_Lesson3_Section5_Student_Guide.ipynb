{
 "cells": [
  {
   "cell_type": "markdown",
   "metadata": {},
   "source": [
    "# __任务5 修复魔法阵五__\n",
    "\n",
    "现在在你面前的是第五个魔法阵，当你完全修复魔法阵时，任务完成，大厅会亮起紫色信标。"
   ]
  },
  {
   "cell_type": "markdown",
   "metadata": {},
   "source": [
    "## __知识点__\n",
    "* 分解问题\n",
    "* 自定义函数\n",
    "* 关键字参数\n",
    "* 重用函数"
   ]
  },
  {
   "cell_type": "markdown",
   "metadata": {},
   "source": [
    "## __任务__\n",
    "尝试利用之前四个任务中定义的函数，将图形中所有的石块变成金块。  \n",
    "_注意：对于这个图形，在图形外侧编写程序会比在内部编写更简单。_"
   ]
  },
  {
   "cell_type": "code",
   "execution_count": null,
   "metadata": {},
   "outputs": [],
   "source": [
    "def move(direction,step=1):\n",
    "    for i in range(step):\n",
    "        agent.move(direction)\n",
    "    \n",
    "def agent_replace_block(id=1,direction='forward'):\n",
    "    agent.destroy(direction)\n",
    "    agent.place(id,direction)\n",
    "def agent_replace_line(move_direction, step, id = 1, place_direction='forward'):\n",
    "    for i in range(step):\n",
    "        agent.destroy(place_direction)\n",
    "        agent.collect()\n",
    "        agent.place(id,place_direction)\n",
    "        agent.move(move_direction)\n",
    "#主程序\n",
    "#coding\n",
    "move('left')\n",
    "move('forward')\n",
    "for k in range(2):\n",
    "    for j in range(4):\n",
    "        agent_replace_block(1,'right')\n",
    "        move('forward',4)\n",
    "        agent.turn('right')\n",
    "        move('forward')\n",
    "    move('up')\n",
    "move('up')\n",
    "move('right')\n",
    "for i in range(4):\n",
    "    agent_replace_line('forward',3,1,'down')\n",
    "    agent.turn('right')"
   ]
  },
  {
   "cell_type": "markdown",
   "metadata": {},
   "source": [
    "## __任务提示：__\n",
    "* 下面两层的结构是一样的，以第一层为例，打碎加放置一个方块后，向前移动四格距离，向右转，再向前移动一格距离到下一个方块的左手边，如此循环四次。\n",
    "* 第二层的代码和第一层一样，需要注意先向上移动一格，再开始循环。\n",
    "* 第三层的代码其实和任务4-2是一样的，需要注意先移动到第三层的上方，再编写程序。"
   ]
  }
 ],
 "metadata": {
  "kernelspec": {
   "display_name": "Python 3",
   "language": "python",
   "name": "python3"
  },
  "language_info": {
   "codemirror_mode": {
    "name": "ipython",
    "version": 3
   },
   "file_extension": ".py",
   "mimetype": "text/x-python",
   "name": "python",
   "nbconvert_exporter": "python",
   "pygments_lexer": "ipython3",
   "version": "3.7.3"
  },
  "minecraft": {
   "description": "修复魔法阵五",
   "page_id": "1.5",
   "page_name": "任务5",
   "style": "minecraft.css"
  }
 },
 "nbformat": 4,
 "nbformat_minor": 4
}
