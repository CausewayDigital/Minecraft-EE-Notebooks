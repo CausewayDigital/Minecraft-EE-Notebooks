{
 "cells": [
  {
   "cell_type": "markdown",
   "metadata": {},
   "source": [
    "# __任务1 修复魔法阵一__\n",
    "\n",
    "现在在你面前的是第一个魔法阵，你需要让agent使用箱子里的金块去修复它，当你将全部的石块变成金块时，任务完成，大厅会亮起粉色信标。"
   ]
  },
  {
   "cell_type": "markdown",
   "metadata": {},
   "source": [
    "## __知识点__\n",
    "* 关键字参数\n",
    "* 注释解释函数"
   ]
  },
  {
   "cell_type": "markdown",
   "metadata": {},
   "source": [
    "## __简单for循环回顾：__\n",
    "###  __语法：__\n",
    "```python\n",
    "for i in range(n):\n",
    "    code block\n",
    "```\n",
    "###   __使用方法：__\n",
    "  简单for循环是一种解决大量重复性操作的语句。其中重复的次数由range函数中的数字n决定，重复的内容由冒号下方缩进的code block决定。\n",
    "###   __示例一：__"
   ]
  },
  {
   "cell_type": "code",
   "execution_count": null,
   "metadata": {},
   "outputs": [],
   "source": [
    "for i in range(5):\n",
    "    agent.move('')"
   ]
  },
  {
   "cell_type": "markdown",
   "metadata": {},
   "source": [
    "##  __任务__\n",
    "编写程序，将图形中所有的石块变成金块。要求自定义一个能够让agent在一个方向上替换多个方块的函数，并需要给函数添加注释。"
   ]
  },
  {
   "cell_type": "markdown",
   "metadata": {},
   "source": [
    "## 注释解释函数\n",
    "默认情况下，会将对函数的注释写在函数名下方一开始的位置。需要分别解释*函数*和*各个参数*的功能。  \n",
    "例如：\n",
    "```python\n",
    "def agent_forward(step):\n",
    "    '''\n",
    "    可以实现agent在前进方向多次移动。\n",
    "    step: 移动的次数\n",
    "    '''\n",
    "    for _ in range(step):\n",
    "        agent.move(\"forward\")\n",
    "```"
   ]
  },
  {
   "cell_type": "code",
   "execution_count": null,
   "metadata": {},
   "outputs": [],
   "source": [
    "#coding\n",
    "def agent_replace_line(move_direction, step, id = 1, place_direction='forward'):\n",
    "    '''\n",
    "    实现agent在一个方向上打碎并放置多个方块\n",
    "    move_direction:agent移动的方向\n",
    "    step:需要打碎和放置的方块数量\n",
    "    id:agent物品栏位置，默认为第一个物品栏的方块\n",
    "    direction:agent放置和打碎的方向,默认为forward\n",
    "    '''\n",
    "    for i in range(step):\n",
    "        agent.destroy(place_direction)\n",
    "        agent.collect()\n",
    "        agent.place(id,place_direction)\n",
    "        agent.move(move_direction)\n",
    "#主程序\n",
    "agent_replace_line('right',8)\n",
    "agent_replace_line('up',4)\n",
    "agent_replace_line('left',8)\n",
    "agent_replace_line('down',4)\n"
   ]
  },
  {
   "cell_type": "markdown",
   "metadata": {},
   "source": [
    "## __任务提示：__\n",
    "* 编写一个函数，包含destroy()、collect()、place()、move()的自定义函数，并通过内部for循环控制次数。\n"
   ]
  }
 ],
 "metadata": {
  "kernelspec": {
   "display_name": "Python 3",
   "language": "python",
   "name": "python3"
  },
  "language_info": {
   "codemirror_mode": {
    "name": "ipython",
    "version": 3
   },
   "file_extension": ".py",
   "mimetype": "text/x-python",
   "name": "python",
   "nbconvert_exporter": "python",
   "pygments_lexer": "ipython3",
   "version": "3.7.3"
  },
  "minecraft": {
   "description": "修复魔法阵一",
   "page_id": "1.1",
   "page_name": "任务1",
   "style": "minecraft.css"
  }
 },
 "nbformat": 4,
 "nbformat_minor": 4
}
