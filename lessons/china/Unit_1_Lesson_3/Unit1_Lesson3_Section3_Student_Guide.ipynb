{
 "cells": [
  {
   "cell_type": "markdown",
   "metadata": {},
   "source": [
    "# __任务3 修复魔法阵三__\n",
    "\n",
    "现在在你面前的是第三个魔法阵，但现在你需要先要让agent放置信标块去点亮魔法灯，再修复魔法阵。任务完成，大厅会亮起黄色信标。"
   ]
  },
  {
   "cell_type": "markdown",
   "metadata": {},
   "source": [
    "## __知识点__\n",
    "* 分解问题\n",
    "* 自定义函数\n",
    "* 关键字参数"
   ]
  },
  {
   "cell_type": "markdown",
   "metadata": {},
   "source": [
    "## __任务3-1__\n",
    "你需要在不需要agent移动的情况下把agent的四周放置四个信标块。"
   ]
  },
  {
   "cell_type": "code",
   "execution_count": null,
   "metadata": {},
   "outputs": [],
   "source": [
    "def agent_replace_block(id=1,direction='forward'):\n",
    "    agent.destroy(direction)\n",
    "    agent.collect()\n",
    "    agent.place(id,direction)\n",
    "    \n",
    "agent_replace_block(2,'forward')\n",
    "agent_replace_block(2,'right')\n",
    "agent_replace_block(2,'backward')\n",
    "agent_replace_block(2,'left')"
   ]
  },
  {
   "cell_type": "markdown",
   "metadata": {},
   "source": [
    "## __任务提示：__\n",
    "* 使用agent在前后左右四个方向分别打碎和放置方块即可。"
   ]
  },
  {
   "cell_type": "markdown",
   "metadata": {},
   "source": [
    "##  __任务3-2__\n",
    "结合for循环与move()、destroy()、place()函数去编写程序，将图形中所有的石块变成金块。  "
   ]
  },
  {
   "cell_type": "code",
   "execution_count": null,
   "metadata": {},
   "outputs": [],
   "source": [
    "def move(direction,step=1):\n",
    "    for i in range(step):\n",
    "        agent.move(direction)\n",
    "\n",
    "def agent_replace_line(move_direction, step, id = 1, place_direction='forward'):\n",
    "    for i in range(step):\n",
    "        agent.destroy(place_direction)\n",
    "        agent.collect()\n",
    "        agent.place(id,place_direction)\n",
    "        agent.move(move_direction)\n",
    "#coding\n",
    "#主程序\n",
    "for j in range(4):\n",
    "    agent_replace_line('right',4)\n",
    "    move('left',4)\n",
    "    move('up')"
   ]
  },
  {
   "cell_type": "markdown",
   "metadata": {},
   "source": [
    "## __任务提示：__\n",
    "* 制作正方形时，将图形拆分成四行/列，每次用循环完成一行/列。\n",
    "* 以行为例，每次打碎加放置一个方块，横向移动，循环4次。然后向上移动后，来到第二行开始的位置，重复刚才的操作，直到完成。\n",
    "* 要时刻注意每一行循环的开始是先移动还是先打碎放置方块。"
   ]
  }
 ],
 "metadata": {
  "kernelspec": {
   "display_name": "Python 3",
   "language": "python",
   "name": "python3"
  },
  "language_info": {
   "codemirror_mode": {
    "name": "ipython",
    "version": 3
   },
   "file_extension": ".py",
   "mimetype": "text/x-python",
   "name": "python",
   "nbconvert_exporter": "python",
   "pygments_lexer": "ipython3",
   "version": "3.7.3"
  },
  "minecraft": {
   "description": "修复魔法阵三",
   "page_id": "1.3",
   "page_name": "任务3",
   "style": "minecraft.css"
  }
 },
 "nbformat": 4,
 "nbformat_minor": 4
}
