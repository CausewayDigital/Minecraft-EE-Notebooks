{
 "cells": [
  {
   "cell_type": "markdown",
   "metadata": {},
   "source": [
    "# __第三课 魔法学徒__\n",
    "\n",
    "你在完成第二课的任务后，被传送到了学院专用的魔法实验室，这里有很多被腐蚀的魔法阵。这节课需要你与小精灵一起修复它们，并且每修复一个魔法阵，大厅中心就会点亮一个信标，当所有的信标被点亮时，你将被传送到浮空岛的魔法学院。"
   ]
  },
  {
   "cell_type": "markdown",
   "metadata": {},
   "source": [
    "## __知识点__\n",
    "在课程中你将学到以下知识点：\n",
    "* 分解问题\n",
    "* DRY原则\n",
    "* 函数作用注释\n",
    "* 编写通用函数并利用\n",
    "* 函数与循环结合\n",
    "\n",
    "## __*agent*函数回顾__\n",
    "* ___agent.move(direction)___函数：使agent在diection方向移动一个方块的距离。__注意：diection需要是字符串（string）。__\n",
    "* ___agent.place(slot_number,driection)___函数：使agent在direction方向放置agent第slot_number个物品栏的方块。__注意：slot_number需要是整数（int），diection需要是字符串（string）。__\n",
    "* ___agent.destroy(direciton)___函数：让agent破坏在direction方向上的一个方块。__注意：diection需要是字符串（string）。__\n"
   ]
  },
  {
   "cell_type": "markdown",
   "metadata": {},
   "source": [
    "## __任务与挑战__\n",
    "这节课会有六个任务，根据NPC的提示完成六个任务就可以完成课程。\n",
    "* 任务1：修复魔法阵一\n",
    "* 任务2：修复魔法阵二\n",
    "* 任务3：修复魔法阵三\n",
    "* 任务4：修复魔法阵四\n",
    "* 任务5：修复魔法阵五\n",
    "* 任务6：修复魔法阵六"
   ]
  }
 ],
 "metadata": {
  "kernelspec": {
   "display_name": "Python 3",
   "language": "python",
   "name": "python3"
  },
  "language_info": {
   "codemirror_mode": {
    "name": "ipython",
    "version": 3
   },
   "file_extension": ".py",
   "mimetype": "text/x-python",
   "name": "python",
   "nbconvert_exporter": "python",
   "pygments_lexer": "ipython3",
   "version": "3.7.4"
  },
  "minecraft": {
   "description": "修复魔法阵一",
   "page_id": "1.0",
   "page_name": "简介",
   "style": "minecraft.css"
  }
 },
 "nbformat": 4,
 "nbformat_minor": 4
}
