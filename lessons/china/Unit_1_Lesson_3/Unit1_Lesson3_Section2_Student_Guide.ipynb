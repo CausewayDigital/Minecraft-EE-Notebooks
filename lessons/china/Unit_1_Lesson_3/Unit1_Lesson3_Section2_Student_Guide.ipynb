{
 "cells": [
  {
   "cell_type": "markdown",
   "metadata": {},
   "source": [
    "# __任务2 修复魔法阵二__\n",
    "\n",
    "现在在你面前的是第二个魔法阵，你需要让agent使用箱子里的金块去修复它，当你将全部的石块变成金块时，任务完成，大厅会亮起绿色信标。"
   ]
  },
  {
   "cell_type": "markdown",
   "metadata": {},
   "source": [
    "## __知识点__\n",
    "* 分解问题\n",
    "* 自定义函数\n",
    "* 关键字参数"
   ]
  },
  {
   "cell_type": "markdown",
   "metadata": {},
   "source": [
    "##  __任务__\n",
    "找到规律，拆分过程，将移动和打碎放置封装成函数，编写相应的程序，将图形中所有的石块变成金块。  \n",
    "*注意：这个图形比看上去更有规律，试着去一行一行的完成图形，而不是看作左中右三个部分。*"
   ]
  },
  {
   "cell_type": "code",
   "execution_count": null,
   "metadata": {},
   "outputs": [],
   "source": [
    "#coding\n",
    "def move(direction,step=1):\n",
    "    '''\n",
    "    可以实现让agent一个方向多次移动\n",
    "    direction:移动的方向\n",
    "    step:移动的次数，默认1格\n",
    "    '''\n",
    "    for i in range(step):\n",
    "        agent.move(direction)\n",
    "    \n",
    "def agent_replace_block( id = 1,direction='forward'):\n",
    "    '''\n",
    "    可以实现让agent同时打碎和放置方块\n",
    "    id:agent物品栏位置，默认为第一个物品栏的方块\n",
    "    direction:agent放置和打碎的方向,默认为forward\n",
    "    '''\n",
    "    agent.destroy(direction)\n",
    "    agent.collect()\n",
    "    agent.place(id,direction)\n",
    "#主程序    \n",
    "for i in range(3):\n",
    "    agent_replace_block()\n",
    "    move('right',2)\n",
    "move('left')\n",
    "move('up')\n",
    "for i in range(3):\n",
    "    agent_replace_block()\n",
    "    move('left',3)\n",
    "move('right',2)\n",
    "move('up')\n",
    "for i in range(5):\n",
    "    agent_replace_block()\n",
    "    move('right',2)"
   ]
  },
  {
   "cell_type": "markdown",
   "metadata": {},
   "source": [
    "## __任务提示：__\n",
    "* 首先完成最底部一行图形，观察可以发现，agent每次需要向右移动两个方块的距离，然后依次破坏和放置方块，如此循环三次。然后向上向右移动到第二行的最右侧方块位置。\n",
    "* 其次完成最中间一行图形，观察可以发现，agent每次需要依次破坏和放置方块，然后向左移动三个方块的距离，如此循环三次。然后向上向右移动到第三行的最左侧方块位置。\n",
    "* 最后完成最上方一行图形，观察可以发现，agent每次需要依次破坏和放置方块，然后向右移动两个方块的距离，如此循环五次。"
   ]
  }
 ],
 "metadata": {
  "kernelspec": {
   "display_name": "Python 3",
   "language": "python",
   "name": "python3"
  },
  "language_info": {
   "codemirror_mode": {
    "name": "ipython",
    "version": 3
   },
   "file_extension": ".py",
   "mimetype": "text/x-python",
   "name": "python",
   "nbconvert_exporter": "python",
   "pygments_lexer": "ipython3",
   "version": "3.7.3"
  },
  "minecraft": {
   "description": "修复魔法阵二",
   "page_id": "1.2",
   "page_name": "任务2",
   "style": "minecraft.css"
  }
 },
 "nbformat": 4,
 "nbformat_minor": 4
}
