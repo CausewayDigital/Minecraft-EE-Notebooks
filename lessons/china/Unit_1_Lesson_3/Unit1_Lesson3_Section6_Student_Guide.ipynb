{
 "cells": [
  {
   "cell_type": "markdown",
   "metadata": {},
   "source": [
    "# __任务6 修复魔法阵六__\n",
    "\n",
    "现在在你面前的是第六个魔法阵，与之前的五个魔法阵不同，这里需要修复的魔法阵被分为两个完全一样的部分，上面为主，下面为副，现在你需要参考副阵的图形，去修复天上的主阵。当你完全修复魔法阵时，任务完成，大厅会亮起蓝色信标。"
   ]
  },
  {
   "cell_type": "markdown",
   "metadata": {},
   "source": [
    "## __知识点__\n",
    "* 分解问题\n",
    "* DRY原则\n",
    "* 函数作用注释\n",
    "* 编写通用函数并利用\n",
    "* 函数与循环结合"
   ]
  },
  {
   "cell_type": "markdown",
   "metadata": {},
   "source": [
    "## __任务__\n",
    "尝试定义一个绘制斜线的函数，将图形中所有的石块变成金块。  \n",
    "_注意：当你抬起头时，相对方向可能会发生改变，建议参看地面的图形编写程序。_"
   ]
  },
  {
   "cell_type": "code",
   "execution_count": null,
   "metadata": {},
   "outputs": [],
   "source": [
    "def move(direction,step=1):\n",
    "    for i in range(step):\n",
    "        agent.move(direction)\n",
    "    \n",
    "def agent_replace_block(direction,id=1):\n",
    "    agent.destroy(direction)\n",
    "    agent.collect()\n",
    "    agent.place(id,direction)\n",
    "def agent_build_slash(move_direction,step,direction,turn,id=1):\n",
    "    '''\n",
    "    实现让agent放置斜边方块\n",
    "    move_direction: agent移动的方向\n",
    "    step: 移动的次数，默认1格\n",
    "    id: agent物品栏位置，默认为第一个物品栏的方块\n",
    "    direction: agent放置和打碎的方向\n",
    "    turn:agent倾斜的方向，1向右，-1向左\n",
    "    '''\n",
    "    for i in range(step):\n",
    "        agent_replace_block(direction, id)\n",
    "        agent.move(move_direction)\n",
    "        if turn == 1:\n",
    "            agent.move('right')\n",
    "        if turn == -1:\n",
    "            agent.move('left')\n",
    "agent_build_slash('forward',5,'up',1)\n",
    "move('backward',5)\n",
    "move('left')\n",
    "agent_build_slash('forward',5,'up',-1)"
   ]
  },
  {
   "cell_type": "markdown",
   "metadata": {},
   "source": [
    "## __任务提示：__\n",
    "* 可以分别放置左右两条斜线,先完成左下到右上的方块，每次打碎加放置上方的方块，然后向前加向右移动，如此循环五次。\n",
    "* 做完第一条斜线后，向后移动五个方块的距离，来到右下角，完成右下到左上的方块，每次打碎加放置上方的方块，然后向前加向左移动，如此循环五次。"
   ]
  },
  {
   "cell_type": "markdown",
   "metadata": {},
   "source": [
    "## __挑战__\n",
    "你也可以试着挑战一下更难的方式\n",
    "尝试使用一个for循环完成任务六的图形。"
   ]
  },
  {
   "cell_type": "code",
   "execution_count": null,
   "metadata": {},
   "outputs": [],
   "source": [
    "def move(direction,step=1):\n",
    "    for i in range(step):\n",
    "        agent.move(direction)\n",
    "    \n",
    "def agent_replace_block(direction,id=1):\n",
    "    agent.destroy(direction)\n",
    "    agent.collect()\n",
    "    agent.place(id,direction)\n",
    "#coding\n",
    "def agent_build_slash(move_direction,step,direction,turn,id=1):\n",
    "    for i in range(step):\n",
    "        agent_replace_block(direction, id)\n",
    "        agent.move(move_direction)\n",
    "        if turn == 1:\n",
    "            agent.move('right')\n",
    "        if turn == -1:\n",
    "            agent.move('left')\n",
    "for i in range(4):\n",
    "    agent_build_slash('forward',3,'up',1)\n",
    "    move('backward',3)\n",
    "    move('left',3)\n",
    "    agent.turn('right')"
   ]
  },
  {
   "cell_type": "markdown",
   "metadata": {},
   "source": [
    "## __挑战提示__\n",
    "* 首先放置正上方的方块后，可以将剩下的方块分解成四个相同的部分，都是倾斜放置的两个方块。\n",
    "* 并且它们以agent为原点呈中心对称所以只需要完成一个部分后，回到原点，旋转90度，继续相同放置方式即可，如此重复四次。"
   ]
  }
 ],
 "metadata": {
  "kernelspec": {
   "display_name": "Python 3",
   "language": "python",
   "name": "python3"
  },
  "language_info": {
   "codemirror_mode": {
    "name": "ipython",
    "version": 3
   },
   "file_extension": ".py",
   "mimetype": "text/x-python",
   "name": "python",
   "nbconvert_exporter": "python",
   "pygments_lexer": "ipython3",
   "version": "3.7.3"
  },
  "minecraft": {
   "description": "修复魔法阵六",
   "page_id": "1.6",
   "page_name": "任务6",
   "style": "minecraft.css"
  }
 },
 "nbformat": 4,
 "nbformat_minor": 4
}
