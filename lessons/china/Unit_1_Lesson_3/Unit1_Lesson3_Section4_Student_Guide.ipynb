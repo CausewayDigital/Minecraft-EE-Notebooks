{
 "cells": [
  {
   "cell_type": "markdown",
   "metadata": {},
   "source": [
    "# __任务4 修复魔法阵四__\n",
    "\n",
    "现在在你面前的是第四个魔法阵，但现在你需要先要让agent点亮魔法灯，当魔法灯点亮后，再修复魔法阵。任务完成，大厅会亮起橙色信标。"
   ]
  },
  {
   "cell_type": "markdown",
   "metadata": {},
   "source": [
    "## __知识点__\n",
    "* 分解问题\n",
    "* 自定义函数\n",
    "* 关键字参数"
   ]
  },
  {
   "cell_type": "markdown",
   "metadata": {},
   "source": [
    "## __任务4-1__\n",
    "你需要使用___agent.turn()___,在不需要agent移动的情况下把agent的四周放置四个信标块。"
   ]
  },
  {
   "cell_type": "code",
   "execution_count": null,
   "metadata": {},
   "outputs": [],
   "source": [
    "def agent_replace_block(id=1,direction='forward'):\n",
    "    agent.destroy(direction)\n",
    "    agent.collect()\n",
    "    agent.place(id,direction)\n",
    "#主程序\n",
    "#coding\n",
    "for i in range(4):\n",
    "    agent_replace_block(2)\n",
    "    agent.turn('left')"
   ]
  },
  {
   "cell_type": "markdown",
   "metadata": {},
   "source": [
    "## __任务提示__\n",
    "* 打碎和放置方块后，agent旋转一次，如此循环四次。"
   ]
  },
  {
   "cell_type": "markdown",
   "metadata": {},
   "source": [
    "##  __任务4-2__\n",
    "尝试把turn()函数与for循环、move()、destroy()、place()函数结合去编写程序，将图形中所有的石块变成金块。  "
   ]
  },
  {
   "cell_type": "code",
   "execution_count": null,
   "metadata": {},
   "outputs": [],
   "source": [
    "def agent_replace_line(move_direction, step, id = 1, place_direction='forward'):\n",
    "    for i in range(step):\n",
    "        agent.destroy(place_direction)\n",
    "        agent.collect()\n",
    "        agent.place(id,place_direction)\n",
    "        agent.move(move_direction)\n",
    "#主程序\n",
    "#coding\n",
    "for j in range(4):\n",
    "    agent_replace_line('forward',3,1,'down')\n",
    "    agent.turn('right')"
   ]
  },
  {
   "cell_type": "markdown",
   "metadata": {},
   "source": [
    "## __任务提示：__"
   ]
  },
  {
   "cell_type": "markdown",
   "metadata": {},
   "source": [
    "* 现在把正方形边框分成四条边，每完成一条边后进行转向，需要循环4次。\n",
    "* 注意：实际上放置4x4的正方形边框时，每条边只需要放置3个方块。"
   ]
  }
 ],
 "metadata": {
  "kernelspec": {
   "display_name": "Python 3",
   "language": "python",
   "name": "python3"
  },
  "language_info": {
   "codemirror_mode": {
    "name": "ipython",
    "version": 3
   },
   "file_extension": ".py",
   "mimetype": "text/x-python",
   "name": "python",
   "nbconvert_exporter": "python",
   "pygments_lexer": "ipython3",
   "version": "3.7.3"
  },
  "minecraft": {
   "description": "修复魔法阵四",
   "page_id": "1.4",
   "page_name": "任务4",
   "style": "minecraft.css"
  }
 },
 "nbformat": 4,
 "nbformat_minor": 4
}
