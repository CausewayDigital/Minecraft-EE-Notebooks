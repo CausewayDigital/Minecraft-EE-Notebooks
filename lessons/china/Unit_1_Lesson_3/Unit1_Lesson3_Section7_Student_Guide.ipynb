{
 "cells": [
  {
   "cell_type": "markdown",
   "metadata": {},
   "source": [
    "# __总结__\n",
    "\n",
    "恭喜你顺利完成了这节课！\n",
    "\n",
    "总结一下你在本课程学到的知识：\n",
    "* 分解问题\n",
    "* DRY原则\n",
    "* 函数作用注释\n",
    "* 编写通用函数并利用\n",
    "* 函数与循环结合"
   ]
  }
 ],
 "metadata": {
  "kernelspec": {
   "display_name": "Python 3",
   "language": "python",
   "name": "python3"
  },
  "language_info": {
   "codemirror_mode": {
    "name": "ipython",
    "version": 3
   },
   "file_extension": ".py",
   "mimetype": "text/x-python",
   "name": "python",
   "nbconvert_exporter": "python",
   "pygments_lexer": "ipython3",
   "version": "3.7.4"
  },
  "minecraft": {
   "description": "总结",
   "page_id": "1.",
   "page_name": "总结",
   "style": "minecraft.css"
  }
 },
 "nbformat": 4,
 "nbformat_minor": 4
}
