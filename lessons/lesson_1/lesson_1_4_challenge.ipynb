{
 "cells": [
  {
   "cell_type": "markdown",
   "metadata": {},
   "source": [
    "# Challenge\n",
    "Don't forget to replant the trees that you chop down! If you give the agent saplings in its first item slot (the top left) then it can plant a sapling using this code:"
   ]
  },
  {
   "cell_type": "code",
   "execution_count": null,
   "metadata": {
    "minecraft": {
     "hidden": true
    }
   },
   "outputs": [],
   "source": [
    "agent.give(\"sapling\", 30, 1)\n",
    "@user-code"
   ]
  },
  {
   "cell_type": "code",
   "execution_count": null,
   "metadata": {
    "minecraft": {
     "numberOfLines": 1,
     "readonly": true,
     "onCodeErrorCommand": "scoreboard players set @s codeExecution -1",
     "onCodeCancelledCommand": "scoreboard players set @s codeExecution 0",
     "onCodeStoppedCommand": "scoreboard players set @s codeExecution 0",
     "onCodeStartedCommand": "scoreboard players set @s codeExecution 1",
     "onCodeSuccessfulCommand": "scoreboard players set @s codeExecution 2",
	 "overridePython": "agent.give(\"sapling\", 30, 1)\n@user-code"
    }
   },
   "outputs": [],
   "source": [
    "agent.place(1, \"forward\")"
   ]
  },
  {
   "cell_type": "markdown",
   "metadata": {},
   "source": [
    "Now try putting everything together! Make the agent break the trunk of the tree and go back to the bottom and plant a sapling!"
   ]
  },
  {
   "cell_type": "code",
   "execution_count": null,
   "metadata": {
    "minecraft": {
     "numberOfLines": 10,
     "onCodeErrorCommand": "scoreboard players set @s codeExecution -1",
     "onCodeCancelledCommand": "scoreboard players set @s codeExecution 0",
     "onCodeStoppedCommand": "scoreboard players set @s codeExecution 0",
     "onCodeStartedCommand": "scoreboard players set @s codeExecution 1",
     "onCodeSuccessfulCommand": "scoreboard players set @s codeExecution 2"
    }
   },
   "outputs": [],
   "source": []
  },
  {
   "cell_type": "markdown",
   "metadata": {},
   "source": [
    "Once you finish this you have completed the lesson! But feel free to try making your tree chopping program even better! One idea is to make the agent grow the sapling using the bonemeal and repeat the whole process."
   ]
  }
 ],
 "metadata": {
  "kernelspec": {
   "display_name": "",
   "name": ""
  },
  "language_info": {
    "mimetype": "text/ x - python",
    "nbconvert_exporter": "python",
    "version": "3.6.0",
    "name": "python",
    "file_extension": ".py",
    "pygments_lexer": "ipython2",
    "codemirror_mode": {
    "version": 2,
    "name": "ipython"
    }
  },
  "minecraft": {
   "description": "Put your knowledge to the test",
   "page_id": "1.4",
   "page_name": "Challenge",
   "style": "minecraft.css"
  }
 },
 "nbformat": 4,
 "nbformat_minor": 4
}
