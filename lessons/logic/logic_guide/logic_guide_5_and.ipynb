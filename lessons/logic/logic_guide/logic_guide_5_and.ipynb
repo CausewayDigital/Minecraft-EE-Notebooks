{
 "cells": [
  {
   "cell_type": "markdown",
   "id": "lined-token",
   "metadata": {},
   "source": [
    "# AND Gates\n",
    "With an AND gate, the output is on if both inputs are also on. Otherwise it is off.\n",
    "\n",
    "# Circuit diagram and truth table\n",
    "\n",
    "![AND truth table](tables/and.png)\n"
   ]
  },
  {
   "cell_type": "markdown",
   "id": "classical-score",
   "metadata": {},
   "source": [
    "## Building within Minecraft\n",
    "AND gates require the following materials\n",
    "- x3 blocks\n",
    "- x3 redstone torches\n",
    "- x1 redstone dust\n",
    "\n",
    "![AND Gate front](screenshots/and_1.png)\n",
    "![AND Gate back](screenshots/and_2.png)\n"
   ]
  }
 ],
 "metadata": {
  "kernelspec": {
   "display_name": "Python 3",
   "language": "python",
   "name": "python3"
  },
  "language_info": {
   "codemirror_mode": {
    "name": "ipython",
    "version": 3
   },
   "file_extension": ".py",
   "mimetype": "text/x-python",
   "name": "python",
   "nbconvert_exporter": "python",
   "pygments_lexer": "ipython3",
   "version": "3.9.1"
  },
  "minecraft": {
   "description": "AND Gates",
   "page_id": "1.5",
   "page_name": "AND Gates",
   "style": "minecraft.css"
  }
 },
 "nbformat": 4,
 "nbformat_minor": 5
}
