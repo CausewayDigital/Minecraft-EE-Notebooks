{
 "cells": [
  {
   "cell_type": "markdown",
   "id": "raising-puppy",
   "metadata": {},
   "source": [
    "# NOR Gates\n",
    "With a NOR (Not OR) gate, the ouput is on if neither of the inputs are on. Otherwise it is off.\n",
    "\n",
    "# Circuit diagram and truth table\n",
    "\n",
    "![NOR truth table](tables/nor.png)"
   ]
  },
  {
   "cell_type": "markdown",
   "id": "thirty-browse",
   "metadata": {
    "minecraft": {
     "closeCodeBuilderOnRun": true,
     "onCodeCancelledCommand": "scoreboard players set @s codeExecution 0",
     "onCodeErrorCommand": "scoreboard players set @s codeExecution -1",
     "onCodeStartedCommand": "scoreboard players set @s codeExecution 1",
     "onCodeStoppedCommand": "scoreboard players set @s codeExecution 0",
     "onCodeSuccessfulCommand": "scoreboard players set @s codeExecution 2",
     "overridePython": "",
     "readonly": false
    }
   },
   "source": [
    "## Building within Minecraft\n",
    "NOR gates require the following materials\n",
    "- x1 block\n",
    "- x2 redstone repeators\n",
    "- x1 redstone torch\n",
    "\n",
    "\n",
    "![NOR Gate front](screenshots/nor_1.png)\n",
    "![NOR Gate back](screenshots/nor_2.png)"
   ]
  }
 ],
 "metadata": {
  "kernelspec": {
   "display_name": "Python 3",
   "language": "python",
   "name": "python3"
  },
  "language_info": {
   "codemirror_mode": {
    "name": "ipython",
    "version": 3
   },
   "file_extension": ".py",
   "mimetype": "text/x-python",
   "name": "python",
   "nbconvert_exporter": "python",
   "pygments_lexer": "ipython3",
   "version": "3.9.1"
  },
  "minecraft": {
   "description": "NOR Gates",
   "page_id": "1.4",
   "page_name": "NOR Gates",
   "style": "minecraft.css"
  }
 },
 "nbformat": 4,
 "nbformat_minor": 5
}
