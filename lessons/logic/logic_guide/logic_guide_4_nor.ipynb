{
 "cells": [
  {
   "cell_type": "markdown",
   "id": "dense-stanley",
   "metadata": {},
   "source": [
    "# NOR Gates\n",
    "With a NOR gate, the ouput is on if neither of the inputs are on. Otherwise it is off."
   ]
  },
  {
   "cell_type": "markdown",
   "id": "seasonal-royal",
   "metadata": {
    "minecraft": {
     "closeCodeBuilderOnRun": true,
     "onCodeCancelledCommand": "scoreboard players set @s codeExecution 0",
     "onCodeErrorCommand": "scoreboard players set @s codeExecution -1",
     "onCodeStartedCommand": "scoreboard players set @s codeExecution 1",
     "onCodeStoppedCommand": "scoreboard players set @s codeExecution 0",
     "onCodeSuccessfulCommand": "scoreboard players set @s codeExecution 2",
     "overridePython": "",
     "readonly": false
    }
   },
   "source": [
    "## Building within Minecraft\n",
    "NOR gates require the following materials\n",
    "\n",
    "\n",
    "![NOR Gate front](screenshots/nor_1.png)\n",
    "![NOR Gate back](screenshots/nor_2.png)"
   ]
  }
 ],
 "metadata": {
  "kernelspec": {
   "display_name": "",
   "name": ""
  },
  "language_info": {
   "name": ""
  },
  "minecraft": {
   "description": "NOR Gates",
   "page_id": "1.4",
   "page_name": "NOR Gates",
   "style": "minecraft.css"
  }
 },
 "nbformat": 4,
 "nbformat_minor": 5
}
