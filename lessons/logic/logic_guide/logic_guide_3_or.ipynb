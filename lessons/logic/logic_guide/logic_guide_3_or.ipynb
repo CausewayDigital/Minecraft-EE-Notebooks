{
 "cells": [
  {
   "cell_type": "markdown",
   "id": "excess-guyana",
   "metadata": {},
   "source": [
    "# OR Gates\n",
    "\n",
    "With an OR gate, the output is on if either input is on. Otherwise it is off.\n",
    "\n",
    "# Circuit diagram and truth table\n",
    "\n",
    "![OR gate](or.png)"
   ]
  },
  {
   "cell_type": "markdown",
   "id": "roman-latin",
   "metadata": {
    "minecraft": {
     "closeCodeBuilderOnRun": true,
     "onCodeCancelledCommand": "scoreboard players set @s codeExecution 0",
     "onCodeErrorCommand": "scoreboard players set @s codeExecution -1",
     "onCodeStartedCommand": "scoreboard players set @s codeExecution 1",
     "onCodeStoppedCommand": "scoreboard players set @s codeExecution 0",
     "onCodeSuccessfulCommand": "scoreboard players set @s codeExecution 2",
     "overridePython": "",
     "readonly": false
    }
   },
   "source": [
    "# Building within Minecraft\n",
    "OR gates require (ideally) the following materials\n",
    "- x1 block\n",
    "- x2 redstone repeators\n",
    "- x1 redstone dust\n",
    "\n",
    "![OR gate front](screenshots/or_1.png)   \n",
    "   \n",
    "![OR gate back](screenshots/or_2.png)\n"
   ]
  }
 ],
 "metadata": {
  "kernelspec": {
   "display_name": "Python 3",
   "language": "python",
   "name": "python3"
  },
  "language_info": {
   "codemirror_mode": {
    "name": "ipython",
    "version": 3
   },
   "file_extension": ".py",
   "mimetype": "text/x-python",
   "name": "python",
   "nbconvert_exporter": "python",
   "pygments_lexer": "ipython3",
   "version": "3.9.1"
  },
  "minecraft": {
   "description": "OR Gates",
   "page_id": "1.3",
   "page_name": "OR Gates",
   "style": "minecraft.css"
  }
 },
 "nbformat": 4,
 "nbformat_minor": 5
}
