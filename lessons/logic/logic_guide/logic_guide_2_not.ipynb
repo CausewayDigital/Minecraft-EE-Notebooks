{
 "cells": [
  {
   "cell_type": "markdown",
   "id": "executive-execution",
   "metadata": {},
   "source": [
    "# NOT Gates\n",
    "A NOT gate is also known as an inverting gate.   \n",
    "It has a single input and a single output. It simply inverts the signal.\n",
    "\n",
    "# Circuit diagram and truth table\n",
    "\n",
    "![NOT truth table](tables/not.png)"
   ]
  },
  {
   "cell_type": "markdown",
   "id": "divided-genome",
   "metadata": {},
   "source": [
    "## Building within Minecraft   \n",
    "NOT gates require the following materials\n",
    "- x1 block\n",
    "- x1 redstone torch\n",
    "\n",
    "\n",
    "![NOT Gate front](screenshots/not_1.png)\n",
    "![NOT Gate back](screenshots/not_2.png)"
   ]
  }
 ],
 "metadata": {
  "kernelspec": {
   "display_name": "Python 3",
   "language": "python",
   "name": "python3"
  },
  "language_info": {
   "codemirror_mode": {
    "name": "ipython",
    "version": 3
   },
   "file_extension": ".py",
   "mimetype": "text/x-python",
   "name": "python",
   "nbconvert_exporter": "python",
   "pygments_lexer": "ipython3",
   "version": "3.9.1"
  },
  "minecraft": {
   "description": "NOT Gate",
   "page_id": "1.2",
   "page_name": "NOT Gates",
   "style": "minecraft.css"
  }
 },
 "nbformat": 4,
 "nbformat_minor": 5
}
