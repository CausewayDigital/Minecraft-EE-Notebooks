{
 "cells": [
  {
   "cell_type": "markdown",
   "id": "vital-description",
   "metadata": {},
   "source": [
    "# NOT Gates\n",
    "A NOT gate is also known as an inverting gate.   \n",
    "It has a single input and a single output. It simply inverts the signal."
   ]
  },
  {
   "cell_type": "markdown",
   "id": "double-surface",
   "metadata": {},
   "source": [
    "## Building within Minecraft\n",
    "NOR gates require the following materials\n",
    "\n",
    "\n",
    "![NOR Gate front](screenshots/nor_1.png)\n",
    "![NOR Gate back](screenshots/nor_2.png)"
   ]
  }
 ],
 "metadata": {
  "kernelspec": {
   "display_name": "Python 3",
   "language": "python",
   "name": "python3"
  },
  "language_info": {
   "codemirror_mode": {
    "name": "ipython",
    "version": 3
   },
   "file_extension": ".py",
   "mimetype": "text/x-python",
   "name": "python",
   "nbconvert_exporter": "python",
   "pygments_lexer": "ipython3",
   "version": "3.9.1"
  },
  "minecraft": {
   "description": "NOT Gate",
   "page_id": "1.2",
   "page_name": "NOT Gates",
   "style": "minecraft.css"
  }
 },
 "nbformat": 4,
 "nbformat_minor": 5
}
