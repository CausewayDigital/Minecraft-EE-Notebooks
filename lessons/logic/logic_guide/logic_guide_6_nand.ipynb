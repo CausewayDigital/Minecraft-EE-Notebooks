{
 "cells": [
  {
   "cell_type": "markdown",
   "id": "ignored-chess",
   "metadata": {},
   "source": [
    "# NAND Gate\n",
    "With a NAND (Not AND) gate, the output is 1 if both inputs are off. Otherwise the output is off.\n",
    "\n",
    "# Circuit diagram and truth table\n",
    "\n",
    "![NAND truth table](tables/nand.png)"
   ]
  },
  {
   "cell_type": "markdown",
   "id": "damaged-marijuana",
   "metadata": {
    "minecraft": {
     "closeCodeBuilderOnRun": true,
     "onCodeCancelledCommand": "scoreboard players set @s codeExecution 0",
     "onCodeErrorCommand": "scoreboard players set @s codeExecution -1",
     "onCodeStartedCommand": "scoreboard players set @s codeExecution 1",
     "onCodeStoppedCommand": "scoreboard players set @s codeExecution 0",
     "onCodeSuccessfulCommand": "scoreboard players set @s codeExecution 2",
     "overridePython": "",
     "readonly": false
    }
   },
   "source": [
    "## Building within Minecraft\n",
    "NAND gates require the following materials\n",
    "- x3 blocks\n",
    "- x2 redstone torches\n",
    "- x1 redstone dust\n",
    "\n",
    "\n",
    "![NAND Gate front](screenshots/nand_1.png)\n",
    "![NAND Gate back](screenshots/nand_2.png)"
   ]
  }
 ],
 "metadata": {
  "kernelspec": {
   "display_name": "Python 3",
   "language": "python",
   "name": "python3"
  },
  "language_info": {
   "codemirror_mode": {
    "name": "ipython",
    "version": 3
   },
   "file_extension": ".py",
   "mimetype": "text/x-python",
   "name": "python",
   "nbconvert_exporter": "python",
   "pygments_lexer": "ipython3",
   "version": "3.9.1"
  },
  "minecraft": {
   "description": "NAND Gates",
   "page_id": "1.6",
   "page_name": "NAND Gates",
   "style": "minecraft.css"
  }
 },
 "nbformat": 4,
 "nbformat_minor": 5
}
