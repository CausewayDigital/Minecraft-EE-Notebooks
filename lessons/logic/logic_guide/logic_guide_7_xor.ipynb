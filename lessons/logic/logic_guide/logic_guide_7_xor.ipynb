{
 "cells": [
  {
   "cell_type": "markdown",
   "id": "filled-leonard",
   "metadata": {},
   "source": [
    "# XOR gates\n",
    "With an XOR gate, the output is on if only one of the inputs is on. Otherwise the output is off."
   ]
  },
  {
   "cell_type": "markdown",
   "id": "present-winner",
   "metadata": {
    "minecraft": {
     "closeCodeBuilderOnRun": true,
     "onCodeCancelledCommand": "scoreboard players set @s codeExecution 0",
     "onCodeErrorCommand": "scoreboard players set @s codeExecution -1",
     "onCodeStartedCommand": "scoreboard players set @s codeExecution 1",
     "onCodeStoppedCommand": "scoreboard players set @s codeExecution 0",
     "onCodeSuccessfulCommand": "scoreboard players set @s codeExecution 2",
     "overridePython": "",
     "readonly": false
    }
   },
   "source": [
    "## Building within Minecraft\n",
    "XOR gates require the following materials\n",
    "\n",
    "\n",
    "![XOR Gate front](screenshots/xor_1.png)\n",
    "![XOR Gate back](screenshots/xor_2.png)"
   ]
  }
 ],
 "metadata": {
  "kernelspec": {
   "display_name": "Python 3",
   "language": "python",
   "name": "python3"
  },
  "language_info": {
   "codemirror_mode": {
    "name": "ipython",
    "version": 3
   },
   "file_extension": ".py",
   "mimetype": "text/x-python",
   "name": "python",
   "nbconvert_exporter": "python",
   "pygments_lexer": "ipython3",
   "version": "3.9.1"
  },
  "minecraft": {
   "description": "XOR Gates",
   "page_id": "1.7",
   "page_name": "XOR Gates",
   "style": "minecraft.css"
  }
 },
 "nbformat": 4,
 "nbformat_minor": 5
}
