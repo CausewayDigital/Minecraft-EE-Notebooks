{
 "cells": [
  {
   "cell_type": "markdown",
   "id": "prospective-electricity",
   "metadata": {},
   "source": [
    "# XOR gates\n",
    "With an XOR (eXclusive OR) gate, the output is on if only one of the inputs is on. Otherwise the output is off.\n",
    "\n",
    "**Warning** - Building XOR gates within Minecraft is complicated. Make sure to study the images below in detail.\n",
    "\n",
    "# Circuit diagram and truth table\n",
    "\n",
    "![XOR truth table](tables/xor.png)"
   ]
  },
  {
   "cell_type": "markdown",
   "id": "thermal-biotechnology",
   "metadata": {
    "minecraft": {
     "closeCodeBuilderOnRun": true,
     "onCodeCancelledCommand": "scoreboard players set @s codeExecution 0",
     "onCodeErrorCommand": "scoreboard players set @s codeExecution -1",
     "onCodeStartedCommand": "scoreboard players set @s codeExecution 1",
     "onCodeStoppedCommand": "scoreboard players set @s codeExecution 0",
     "onCodeSuccessfulCommand": "scoreboard players set @s codeExecution 2",
     "overridePython": "",
     "readonly": false
    }
   },
   "source": [
    "## Building within Minecraft\n",
    "XOR gates require the following materials\n",
    "- x6 blocks\n",
    "- x7 redstone torches\n",
    "- x7 redstone dust\n",
    "\n",
    "\n",
    "![XOR Gate front](screenshots/xor_1.png)\n",
    "![XOR Gate back](screenshots/xor_2.png)"
   ]
  }
 ],
 "metadata": {
  "kernelspec": {
   "display_name": "Python 3",
   "language": "python",
   "name": "python3"
  },
  "language_info": {
   "codemirror_mode": {
    "name": "ipython",
    "version": 3
   },
   "file_extension": ".py",
   "mimetype": "text/x-python",
   "name": "python",
   "nbconvert_exporter": "python",
   "pygments_lexer": "ipython3",
   "version": "3.9.1"
  },
  "minecraft": {
   "description": "XOR Gates",
   "page_id": "1.7",
   "page_name": "XOR Gates",
   "style": "minecraft.css"
  }
 },
 "nbformat": 4,
 "nbformat_minor": 5
}
