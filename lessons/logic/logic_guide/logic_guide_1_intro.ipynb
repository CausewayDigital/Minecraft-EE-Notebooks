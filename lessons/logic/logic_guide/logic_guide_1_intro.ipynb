{
 "cells": [
  {
   "cell_type": "markdown",
   "id": "given-samba",
   "metadata": {},
   "source": [
    "# Logic Gates Guide\n",
    "\n",
    "Logic gates allow you to create some pretty advanced circuits, within Minecraft. Using basic redstone components, it is possible to create just about every standard logic gate from the real world, within the game.   \n",
    "This guide has been written to help you translate logic gates from the real world, into their Minecraft block versions.   "
   ]
  },
  {
   "cell_type": "markdown",
   "id": "geological-library",
   "metadata": {},
   "source": [
    "## Levels\n",
    "There are 7 levels for you to complete, each featuring a particular logic gate puzzle that must be solved. Each level involves 3 inputs and 1 output. The automated program will test your logic gates when you are ready, allowing you to proceed if your answer is correct.   \n",
    "\n"
   ]
  },
  {
   "cell_type": "markdown",
   "id": "periodic-selection",
   "metadata": {},
   "source": [
    "## Logic Gates\n",
    "This world will require knowing about 6 logic gates. These can be seen below.   \n",
    "For more information about how to build each logic gate, check the individual tabs above.   \n",
    "![Gates list](gates2.png)\n",
    ""
   ]
  }
 ],
 "metadata": {
  "kernelspec": {
   "display_name": "Python 3",
   "language": "python",
   "name": "python3"
  },
  "language_info": {
   "codemirror_mode": {
    "name": "ipython",
    "version": 3
   },
   "file_extension": ".py",
   "mimetype": "text/x-python",
   "name": "python",
   "nbconvert_exporter": "python",
   "pygments_lexer": "ipython3",
   "version": "3.9.1"
  },
  "minecraft": {
   "description": "Intro",
   "page_id": "1.1",
   "page_name": "Intro",
   "style": "minecraft.css"
  },
  "toc-showcode": false,
  "toc-showmarkdowntxt": false
 },
 "nbformat": 4,
 "nbformat_minor": 5
}
