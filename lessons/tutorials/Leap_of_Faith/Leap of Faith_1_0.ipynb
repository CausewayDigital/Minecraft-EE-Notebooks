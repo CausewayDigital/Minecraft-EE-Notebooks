{
 "cells": [
  {
   "cell_type": "markdown",
   "metadata": {
    "minecraft": {
     "onCodeCancelledCommand": "scoreboard players set @s codeExecution 0",
     "onCodeErrorCommand": "scoreboard players set @s codeExecution -1",
     "onCodeStartedCommand": "scoreboard players set @s codeExecution 1",
     "onCodeStoppedCommand": "scoreboard players set @s codeExecution 0",
     "onCodeSuccessfulCommand": "scoreboard players set @s codeExecution 2"
    }
   },
   "source": [
    "# Leap of faith\n",
    "Let’s build a Leap of Faith mini-game."
   ]
  },
  {
   "cell_type": "markdown",
   "metadata": {},
   "source": [
    "## Step 1\n",
    "\n",
    "First lets create a `3x3x3` pool of water in the ground for us to jump into.\n",
    "\n",
    "To do this we're going to use `world.fill()` to create the pool of water. This allows us to fills from one location to another location with blocks we want. To set the location to fill between, we're going to use `from_me()`.\n",
    "\n",
    "It's used like so:\n",
    "```python\n",
    "world.fill(begin, end, block)\n",
    "```\n",
    "`begin` and `end`: There's are the locations you want to fill in between.\n",
    "\n",
    "`block`: This is the block you want to fill with.\n",
    "\n",
    "**Right now we're going to be jumping into a pool of lava, could you change that to `\"water\"` please?**"
   ]
  },
  {
   "cell_type": "code",
   "execution_count": null,
   "metadata": {
    "minecraft": {
     "onCodeCancelledCommand": "scoreboard players set @s codeExecution 0",
     "onCodeErrorCommand": "scoreboard players set @s codeExecution -1",
     "onCodeStartedCommand": "scoreboard players set @s codeExecution 1",
     "onCodeStoppedCommand": "scoreboard players set @s codeExecution 0",
     "onCodeSuccessfulCommand": "scoreboard players set @s codeExecution 2"
    }
   },
   "outputs": [],
   "source": [
    "world.fill(from_me(-1, -3, -1), from_me(1, -1, 1), \"lava\")\n",
    "# Edit the line above to make it a pool of \"water\" instead of lava"
   ]
  },
  {
   "cell_type": "markdown",
   "metadata": {},
   "source": [
    "## Step 2\n",
    "\n",
    "Now we've got our pool of water sorted, we need to create the 3x3 stone platform that's **128** blocks high.\n",
    "\n",
    "For this we're going to use the `world.fill()` command again, but we need to change the location to make sure we get a **128** block high platform. For that we're going to need to use `from_me()` again with the right location for our platform.\n",
    "\n",
    "we use `from_me()` like so:\n",
    "```python\n",
    "from_me(X, Y, Z)\n",
    "```\n",
    "\n",
    "`X` , `Y` and `Z`: These is how much you want to off set the location from where you're standing.\n",
    "\n",
    "**Right now our stone platform is at a hight(`Y`) of 50 blocks up, could you change that to be in 128 blocks up instead?**"
   ]
  },
  {
   "cell_type": "code",
   "execution_count": null,
   "metadata": {
    "minecraft": {
     "onCodeCancelledCommand": "scoreboard players set @s codeExecution 0",
     "onCodeErrorCommand": "scoreboard players set @s codeExecution -1",
     "onCodeStartedCommand": "scoreboard players set @s codeExecution 1",
     "onCodeStoppedCommand": "scoreboard players set @s codeExecution 0",
     "onCodeSuccessfulCommand": "scoreboard players set @s codeExecution 2"
    }
   },
   "outputs": [],
   "source": [
    "world.fill(from_me(-1, -3, -1), from_me(1, -1, 1), \"water\")\n",
    "world.fill(from_me(-1, 50, -1), from_me(1, 50, 1), \"stone\")\n",
    "# Edit the line above to be 128 instead of 50 blocks up."
   ]
  },
  {
   "cell_type": "markdown",
   "metadata": {},
   "source": [
    "Great! Now run that code and make sure the platform and pool appear in the right place.\n",
    "\n",
    "When you're ready, press next to move to the next section of the project!"
   ]
  }
 ],
 "metadata": {
  "kernelspec": {
   "display_name": "Python 3",
   "language": "python",
   "name": "python3"
  },
  "language_info": {
   "codemirror_mode": {
    "name": "ipython",
    "version": 3
   },
   "file_extension": ".py",
   "mimetype": "text/x-python",
   "name": "python",
   "nbconvert_exporter": "python",
   "pygments_lexer": "ipython3",
   "version": "3.8.1"
  },
  "minecraft": {
   "description": "Section 1",
   "page_id": "1.0",
   "page_name": "Section 1",
   "style": "minecraft.css"
  }
 },
 "nbformat": 4,
 "nbformat_minor": 4
}
