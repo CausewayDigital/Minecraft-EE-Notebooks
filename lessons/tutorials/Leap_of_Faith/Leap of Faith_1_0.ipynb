{
 "cells": [
  {
   "cell_type": "markdown",
   "metadata": {
    "minecraft": {
     "onCodeCancelledCommand": "scoreboard players set @s codeExecution 0",
     "onCodeErrorCommand": "scoreboard players set @s codeExecution -1",
     "onCodeStartedCommand": "scoreboard players set @s codeExecution 1",
     "onCodeStoppedCommand": "scoreboard players set @s codeExecution 0",
     "onCodeSuccessfulCommand": "scoreboard players set @s codeExecution 2"
    }
   },
   "source": [
    "# Leap of faith\n",
    "Let’s build a Leap of Faith mini-game."
   ]
  },
  {
   "cell_type": "markdown",
   "metadata": {},
   "source": [
    "## Step 1\n",
    "\n",
    "First we'll create a `3x3x3` pool of water in the ground for us to jump into.\n",
    "\n",
    "To do this, we're going to use the `world.fill()` function to create the pool of water. This function lets us fill an area of blocks from one location to another with a block we pick. To make sure the pool is built close to us, we're going to use `from_me()`.\n",
    "\n",
    "Here's how to use `world.fill()`:\n",
    "```python\n",
    "world.fill(begin, end, block)\n",
    "```\n",
    "- `begin` and `end`: The locations you want to fill in between.   \n",
    "- `block`: The block you want to fill with.\n",
    "\n",
    "**Right now we're going to be jumping into a pool of lava! Could you change it to `\"water\"` please?**"
   ]
  },
  {
   "cell_type": "code",
   "execution_count": null,
   "metadata": {
    "minecraft": {
     "closeCodeBuilderOnRun": true,
     "onCodeCancelledCommand": "scoreboard players set @s codeExecution 0",
     "onCodeErrorCommand": "scoreboard players set @s codeExecution -1",
     "onCodeStartedCommand": "scoreboard players set @s codeExecution 1",
     "onCodeStoppedCommand": "scoreboard players set @s codeExecution 0",
     "onCodeSuccessfulCommand": "scoreboard players set @s codeExecution 2"
    }
   },
   "outputs": [],
   "source": [
    "world.fill(from_me(-1, -3, -1), from_me(1, -1, 1), \"lava\")\n",
    "# Edit the line above to make it a pool of \"water\" instead of lava"
   ]
  },
  {
   "cell_type": "markdown",
   "metadata": {},
   "source": [
    "## Step 2\n",
    "\n",
    "Now that we have our pool of water made, we need to create the 3x3 stone platform that's **128** blocks high.\n",
    "\n",
    "For this we're going to use the `world.fill()` command again, but we need to change the `begin` and `end` locations to make a **128** block high platform. For this, we're going to use `from_me()` again but with different values.\n",
    "\n",
    "We use `from_me()` like so:\n",
    "```python\n",
    "from_me(X, Y, Z)\n",
    "```\n",
    "\n",
    "- `X` , `Y` and `Z`: The number of blocks you want to offset the location from where you're standing.\n",
    "\n",
    "**Right now our stone platform is at a height(`Y` value) of 50 blocks up, could you change that to be in 128 blocks up and make is fill with stone blocks?**"
   ]
  },
  {
   "cell_type": "code",
   "execution_count": null,
   "metadata": {
    "minecraft": {
     "closeCodeBuilderOnRun": true,
     "onCodeCancelledCommand": "scoreboard players set @s codeExecution 0",
     "onCodeErrorCommand": "scoreboard players set @s codeExecution -1",
     "onCodeStartedCommand": "scoreboard players set @s codeExecution 1",
     "onCodeStoppedCommand": "scoreboard players set @s codeExecution 0",
     "onCodeSuccessfulCommand": "scoreboard players set @s codeExecution 2"
    }
   },
   "outputs": [],
   "source": [
    "world.fill(from_me(-1, -3, -1), from_me(1, -1, 1), \"water\")\n",
    "world.fill(from_me(-1, 50, -1), from_me(1, 50, 1), )\n",
    "# Edit the line above to be 128 instead of 50 blocks up and set the block to stone"
   ]
  },
  {
   "cell_type": "markdown",
   "metadata": {},
   "source": [
    "Great! Now run that code and make sure the platform and pool appear in the right place.\n",
    "\n",
    "When you're ready, press next to move to the next section of the project!"
   ]
  }
 ],
 "metadata": {
  "kernelspec": {
   "display_name": "Python 3",
   "language": "python",
   "name": "python3"
  },
  "language_info": {
   "codemirror_mode": {
    "name": "ipython",
    "version": 3
   },
   "file_extension": ".py",
   "mimetype": "text/x-python",
   "name": "python",
   "nbconvert_exporter": "python",
   "pygments_lexer": "ipython3",
   "version": "3.8.2"
  },
  "minecraft": {
   "description": "Section 1",
   "page_id": "1.0",
   "page_name": "Section 1",
   "style": "minecraft.css"
  }
 },
 "nbformat": 4,
 "nbformat_minor": 4
}
