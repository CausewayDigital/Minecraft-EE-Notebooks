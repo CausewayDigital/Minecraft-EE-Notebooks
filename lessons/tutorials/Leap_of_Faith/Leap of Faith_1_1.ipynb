{
 "cells": [
  {
   "cell_type": "markdown",
   "metadata": {
    "minecraft": {
     "onCodeCancelledCommand": "scoreboard players set @s codeExecution 0",
     "onCodeErrorCommand": "scoreboard players set @s codeExecution -1",
     "onCodeStartedCommand": "scoreboard players set @s codeExecution 1",
     "onCodeStoppedCommand": "scoreboard players set @s codeExecution 0",
     "onCodeSuccessfulCommand": "scoreboard players set @s codeExecution 2"
    }
   },
   "source": [
    "# Step 3\n",
    "\n",
    "Now that we have both our pool of water and the platform we're going to jump off of sorted, we need to be able to get up to the platform.\n",
    "\n",
    "To do this we're going to use `player.teleport()` to teleport the player, and `from_me()` to make sure that we have the location we get teleported offset to us, like how we did the fills earlier.\n",
    "\n",
    "This is how `player.teleport()` works:\n",
    "```python\n",
    "player.teleport(location)\n",
    "```\n",
    "\n",
    "`location`: This is the location we want to teleport to.\n",
    "\n",
    "**The code bellow doesn't teleport us all the way to the platfom, could you make it so it teleports us to `130` instead of 120?**"
   ]
  },
  {
   "cell_type": "code",
   "execution_count": null,
   "metadata": {
    "minecraft": {
     "onCodeCancelledCommand": "scoreboard players set @s codeExecution 0",
     "onCodeErrorCommand": "scoreboard players set @s codeExecution -1",
     "onCodeStartedCommand": "scoreboard players set @s codeExecution 1",
     "onCodeStoppedCommand": "scoreboard players set @s codeExecution 0",
     "onCodeSuccessfulCommand": "scoreboard players set @s codeExecution 2"
    }
   },
   "outputs": [],
   "source": [
    "world.fill(from_me(-1, -3, -1), from_me(1, -1, 1), \"water\")\n",
    "world.fill(from_me(-1, 50, -1), from_me(1, 128, 1), \"stone\")\n",
    "player.teleport(from_me(0, 120, 0))\n",
    "# Edit the line above to teleport us 130 blocks up instead of 120"
   ]
  },
  {
   "cell_type": "markdown",
   "metadata": {},
   "source": [
    "# Step 4\n",
    "\n",
    "Finally! What's a leap of faith if we're in creative mode? So for this final step, we're going to make it so at we switched to survial mode before we're ment to take the jump. We can do this by using `player.gamemode()`.\n",
    "\n",
    "How to use it:\n",
    "```python\n",
    "player.gamemode(mode)\n",
    "```\n",
    "\n",
    "`mode`: The mode you want to set the player to, such as `creative`, `survival` etc.\n",
    "\n",
    "**Could you add the code bellow to set the yourself to `\"survival\"` mode with `player.gamemode()`?**"
   ]
  },
  {
   "cell_type": "code",
   "execution_count": null,
   "metadata": {
    "minecraft": {
     "onCodeCancelledCommand": "scoreboard players set @s codeExecution 0",
     "onCodeErrorCommand": "scoreboard players set @s codeExecution -1",
     "onCodeStartedCommand": "scoreboard players set @s codeExecution 1",
     "onCodeStoppedCommand": "scoreboard players set @s codeExecution 0",
     "onCodeSuccessfulCommand": "scoreboard players set @s codeExecution 2"
    }
   },
   "outputs": [],
   "source": [
    "world.fill(from_me(-1, -3, -1), from_me(1, -1, 1), \"water\")\n",
    "world.fill(from_me(-1, 50, -1), from_me(1, 50, 1), \"stone\")\n",
    "player.teleport(from_me(0, 130, 0))\n",
    "\n",
    "# Add you code above here"
   ]
  },
  {
   "cell_type": "markdown",
   "metadata": {},
   "source": [
    "One you have the code done, go and give it a go and take the jump!"
   ]
  }
 ],
 "metadata": {
  "kernelspec": {
   "display_name": "Python 3",
   "language": "python",
   "name": "python3"
  },
  "language_info": {
   "codemirror_mode": {
    "name": "ipython",
    "version": 3
   },
   "file_extension": ".py",
   "mimetype": "text/x-python",
   "name": "python",
   "nbconvert_exporter": "python",
   "pygments_lexer": "ipython3",
   "version": "3.8.1"
  },
  "minecraft": {
   "description": "Section 2",
   "page_id": "1.1",
   "page_name": "Section 2",
   "style": "minecraft.css"
  }
 },
 "nbformat": 4,
 "nbformat_minor": 4
}
