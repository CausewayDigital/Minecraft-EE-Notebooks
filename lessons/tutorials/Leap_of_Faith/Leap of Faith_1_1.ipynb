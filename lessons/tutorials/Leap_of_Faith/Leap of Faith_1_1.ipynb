{
 "cells": [
  {
   "cell_type": "markdown",
   "metadata": {
    "minecraft": {
     "onCodeCancelledCommand": "scoreboard players set @s codeExecution 0",
     "onCodeErrorCommand": "scoreboard players set @s codeExecution -1",
     "onCodeStartedCommand": "scoreboard players set @s codeExecution 1",
     "onCodeStoppedCommand": "scoreboard players set @s codeExecution 0",
     "onCodeSuccessfulCommand": "scoreboard players set @s codeExecution 2"
    }
   },
   "source": [
    "# Step 3\n",
    "\n",
    "Great! We've got both our pool of water and the platform we're going to jump off of sorted. All we need to is get up to the platform.\n",
    "\n",
    "To do this, we'll use the `user.teleport()` function to teleport the us to the platform. Inside of the function we'll also use `from_me()` again to make sure that the location we get teleported to is offset from us, similar to how we did the `world.fill`s earlier.\n",
    "\n",
    "This is how `user.teleport()` works:\n",
    "```python\n",
    "user.teleport(location)\n",
    "```\n",
    "\n",
    "- `location`: The location we want to teleport to.\n",
    "\n",
    "**Can you add the `from_me()` function inside the `user.teleport()` function, and set it to teleport your player 130 blocks up the `Y` axis and keep the `X` and `Z` axis at 0?**"
   ]
  },
  {
   "cell_type": "code",
   "execution_count": null,
   "metadata": {
    "minecraft": {
     "closeCodeBuilderOnRun": true,
     "onCodeCancelledCommand": "scoreboard players set @s codeExecution 0",
     "onCodeErrorCommand": "scoreboard players set @s codeExecution -1",
     "onCodeStartedCommand": "scoreboard players set @s codeExecution 1",
     "onCodeStoppedCommand": "scoreboard players set @s codeExecution 0",
     "onCodeSuccessfulCommand": "scoreboard players set @s codeExecution 2"
    }
   },
   "outputs": [],
   "source": [
    "world.fill(from_me(-1, -3, -1), from_me(1, -1, 1), \"water\")\n",
    "world.fill(from_me(-1, 128, -1), from_me(1, 128, 1), \"stone\")\n",
    "user.teleport()\n",
    "# Edit the line above to teleport us to the platform"
   ]
  },
  {
   "cell_type": "markdown",
   "metadata": {},
   "source": [
    "# Step 4\n",
    "\n",
    "Finally! What's a leap of faith if we're in creative mode? So, for the final step we're going to switch to survial mode before we jump. We can do this by using the `user.gamemode()` function.\n",
    "\n",
    "Here's how to use it:\n",
    "```python\n",
    "user.gamemode(mode)\n",
    "```\n",
    "\n",
    "- `mode`: The gamemode you want to set the user to. For example `creative` or `survival`.\n",
    "\n",
    "**Could you add the code below to change your gamemode to `\"survival\"` with `user.gamemode()`?**"
   ]
  },
  {
   "cell_type": "code",
   "execution_count": null,
   "metadata": {
    "minecraft": {
     "closeCodeBuilderOnRun": true,
     "onCodeCancelledCommand": "scoreboard players set @s codeExecution 0",
     "onCodeErrorCommand": "scoreboard players set @s codeExecution -1",
     "onCodeStartedCommand": "scoreboard players set @s codeExecution 1",
     "onCodeStoppedCommand": "scoreboard players set @s codeExecution 0",
     "onCodeSuccessfulCommand": "scoreboard players set @s codeExecution 2"
    }
   },
   "outputs": [],
   "source": [
    "world.fill(from_me(-1, -3, -1), from_me(1, -1, 1), \"water\")\n",
    "world.fill(from_me(-1, 128, -1), from_me(1, 128, 1), \"stone\")\n",
    "user.teleport(from_me(0, 130, 0))\n",
    "\n",
    "# Add you code above here"
   ]
  },
  {
   "cell_type": "markdown",
   "metadata": {},
   "source": [
    "Once you have the code complete, go and take the leap! Good luck!"
   ]
  }
 ],
 "metadata": {
  "kernelspec": {
   "display_name": "Python 3",
   "language": "python",
   "name": "python3"
  },
  "language_info": {
   "codemirror_mode": {
    "name": "ipython",
    "version": 3
   },
   "file_extension": ".py",
   "mimetype": "text/x-python",
   "name": "python",
   "nbconvert_exporter": "python",
   "pygments_lexer": "ipython3",
   "version": "3.8.2"
  },
  "minecraft": {
   "description": "Section 2",
   "page_id": "1.1",
   "page_name": "Section 2",
   "style": "minecraft.css"
  }
 },
 "nbformat": 4,
 "nbformat_minor": 4
}
