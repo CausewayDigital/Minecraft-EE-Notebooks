{
 "cells": [
  {
   "cell_type": "markdown",
   "metadata": {
    "minecraft": {
     "onCodeCancelledCommand": "scoreboard players set @s codeExecution 0",
     "onCodeErrorCommand": "scoreboard players set @s codeExecution -1",
     "onCodeStartedCommand": "scoreboard players set @s codeExecution 1",
     "onCodeStoppedCommand": "scoreboard players set @s codeExecution 0",
     "onCodeSuccessfulCommand": "scoreboard players set @s codeExecution 2"
    }
   },
   "source": [
    "## Step 3\n",
    "\n",
    "Great! You've got both the pool of water and the platform made, now you need to add the teleport in to get yourself up there.\n",
    "\n",
    "To do this, you can use the `player.teleport()` command to teleport yourself to the platform. Inside the command, you'll also use `from_me()` again. This is to make sure that the location you get teleported to, is offset from you.   \n",
    "\n",
    "This is how `user.teleport()` works:\n",
    "```python\n",
    "user.teleport(location)\n",
    "```\n",
    "\n",
    "- `location`: The location you want to teleport to.\n",
    "\n",
    "**Can you add the `from_me()` function inside the `user.teleport()` function, set it to teleport your player `130` blocks up the `Y` axis and keep the `X` and `Z` axis at `0`?**"
   ]
  },
  {
   "cell_type": "code",
   "execution_count": null,
   "metadata": {
    "minecraft": {
     "closeCodeBuilderOnRun": true,
     "onCodeCancelledCommand": "scoreboard players set @s codeExecution 0",
     "onCodeErrorCommand": "scoreboard players set @s codeExecution -1",
     "onCodeStartedCommand": "scoreboard players set @s codeExecution 1",
     "onCodeStoppedCommand": "scoreboard players set @s codeExecution 0",
     "onCodeSuccessfulCommand": "scoreboard players set @s codeExecution 2"
    }
   },
   "outputs": [],
   "source": [
    "world.fill(from_me(-1, -3, -1), from_me(1, -1, 1), \"flowing water\")\n",
    "world.fill(from_me(-1, 128, -1), from_me(1, 128, 1), \"stone\")\n",
    "\n",
    "user.teleport()\n",
    "# Edit the line above to teleport you to the platform, 130 blocks up."
   ]
  },
  {
   "cell_type": "markdown",
   "metadata": {},
   "source": [
    "## Step 4\n",
    "\n",
    "Finally! What's a leap of faith if you're in creative mode? So, for the last step, you're going to switch to survival mode before you jump. You can do this by using the `user.gamemode()` function.\n",
    "\n",
    "Here's how to use it:\n",
    "```python\n",
    "user.gamemode(mode)\n",
    "```\n",
    "\n",
    "- `mode`: The gamemode you want to set the user to. For example `creative` or `survival`.\n",
    "\n",
    "**Could you add the code below to change your gamemode to `\"survival\"` with `user.gamemode()`?**"
   ]
  },
  {
   "cell_type": "code",
   "execution_count": null,
   "metadata": {
    "minecraft": {
     "closeCodeBuilderOnRun": true,
     "onCodeCancelledCommand": "scoreboard players set @s codeExecution 0",
     "onCodeErrorCommand": "scoreboard players set @s codeExecution -1",
     "onCodeStartedCommand": "scoreboard players set @s codeExecution 1",
     "onCodeStoppedCommand": "scoreboard players set @s codeExecution 0",
     "onCodeSuccessfulCommand": "scoreboard players set @s codeExecution 2"
    }
   },
   "outputs": [],
   "source": [
    "world.fill(from_me(-1, -3, -1), from_me(1, -1, 1), \"flowing water\")\n",
    "world.fill(from_me(-1, 128, -1), from_me(1, 128, 1), \"stone\")\n",
    "user.teleport(from_me(0, 130, 0))\n",
    "\n",
    "\n",
    "# Add you code above here"
   ]
  },
  {
   "cell_type": "markdown",
   "metadata": {},
   "source": [
    "Once you have the code complete, go and take the leap! Good luck!"
   ]
  }
 ],
 "metadata": {
  "kernelspec": {
   "display_name": "Python 3",
   "language": "python",
   "name": "python3"
  },
  "language_info": {
   "codemirror_mode": {
    "name": "ipython",
    "version": 3
   },
   "file_extension": ".py",
   "mimetype": "text/x-python",
   "name": "python",
   "nbconvert_exporter": "python",
   "pygments_lexer": "ipython3",
   "version": "3.8.6"
  },
  "minecraft": {
   "description": "Section 2",
   "page_id": "1.1",
   "page_name": "Section 2",
   "style": "minecraft.css"
  }
 },
 "nbformat": 4,
 "nbformat_minor": 4
}
