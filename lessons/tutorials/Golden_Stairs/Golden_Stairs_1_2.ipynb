{
 "cells": [
  {
   "cell_type": "markdown",
   "metadata": {},
   "source": [
    "## Step 5\n",
    "\n",
    "Now we have the main actions added to tell the agent how to move and place blocks we've ran into a little issue, our agent only runs the actions one for placing the block and then moving on top of it. We want our agent to place a block and mvoe on top of it over and over again to make a staircase. To do this we can use something called `loops`\n",
    "\n",
    "`Loops` allow us to repeat chunks of code over and over again and can be created like so.\n",
    "\n",
    "```python\n",
    "for count in range(repeat_for):\n",
    "    #code here runs for the number set in repeat_for\n",
    "```\n",
    "\n",
    "`repeat_for`: this is the number of times we want to repeat the chunk of code to repeat for.\n",
    "\n",
    "**The code bellow only repeats the code 2 times, could you fix it to have it repeat for 64 times instead?**"
   ]
  },
  {
   "cell_type": "code",
   "execution_count": null,
   "metadata": {
    "minecraft": {
     "onCodeCancelledCommand": "scoreboard players set @s codeExecution 0",
     "onCodeErrorCommand": "scoreboard players set @s codeExecution -1",
     "onCodeStartedCommand": "scoreboard players set @s codeExecution 1",
     "onCodeStoppedCommand": "scoreboard players set @s codeExecution 0",
     "onCodeSuccessfulCommand": "scoreboard players set @s codeExecution 2"
    }
   },
   "outputs": [],
   "source": [
    "agent.teleport()\n",
    "agent.give(\"gold block\", 64, 1)\n",
    "for count in range(2):\n",
    "    # Edit the line above to make the repeat_for 64 instead of 2\n",
    "    agent.place(1, \"forward\")\n",
    "    agent.move(\"up\")\n",
    "    agent.move(\"forward\")"
   ]
  },
  {
   "cell_type": "markdown",
   "metadata": {},
   "source": [
    "Now that you've got all the code done, try and run it and walk to sky and beyond!"
   ]
  }
 ],
 "metadata": {
  "kernelspec": {
   "display_name": "Python 3",
   "language": "python",
   "name": "python3"
  },
  "language_info": {
   "codemirror_mode": {
    "name": "ipython",
    "version": 3
   },
   "file_extension": ".py",
   "mimetype": "text/x-python",
   "name": "python",
   "nbconvert_exporter": "python",
   "pygments_lexer": "ipython3",
   "version": "3.8.1"
  },
  "minecraft": {
   "description": "Section 3",
   "page_id": "1.2",
   "page_name": "Section 3",
   "style": "minecraft.css"
  }
 },
 "nbformat": 4,
 "nbformat_minor": 4
}
