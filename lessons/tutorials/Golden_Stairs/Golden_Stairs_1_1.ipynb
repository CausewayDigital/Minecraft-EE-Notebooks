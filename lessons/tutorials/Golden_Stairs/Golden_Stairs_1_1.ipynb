{
 "cells": [
  {
   "cell_type": "markdown",
   "metadata": {},
   "source": [
    "## Step 3\n",
    "\n",
    "Now that we've given our agent some gold blocks to work with, we can start to build our stairs. To do this we can use `agent.place()`. This will tell the agent to palce down a block in a certain direction. So the stairs we're going to have the agent place a block in front of it.\n",
    "\n",
    "Here's an example:\n",
    "```python\n",
    "agent.place(slot, direction)\n",
    "```\n",
    "\n",
    "`slot`: The inventory slot from the agent that we want to select. (From step 2, this would be slot 1)\n",
    "`direction`: The direction to place down the block. The directions you can use are: `forward`, `back`, `left`, `right`, `up`, `down`.\n",
    "\n",
    "**Hey, so we gave the agent gold blocks in slot `1`, but it's set to slot `8` down bellow, could you fix this?**"
   ]
  },
  {
   "cell_type": "code",
   "execution_count": null,
   "metadata": {
    "minecraft": {
     "closeCodeBuilderOnRun": true,
     "onCodeCancelledCommand": "scoreboard players set @s codeExecution 0",
     "onCodeErrorCommand": "scoreboard players set @s codeExecution -1",
     "onCodeStartedCommand": "scoreboard players set @s codeExecution 1",
     "onCodeStoppedCommand": "scoreboard players set @s codeExecution 0",
     "onCodeSuccessfulCommand": "scoreboard players set @s codeExecution 2"
    }
   },
   "outputs": [],
   "source": [
    "agent.give(\"gold block\", 64, 1)\n",
    "agent.place(8, \"forward\")\n",
    "# Correct the line above to be slot 1 instead of 8."
   ]
  },
  {
   "cell_type": "markdown",
   "metadata": {},
   "source": [
    "## Step 4\n",
    "\n",
    "After we've got the agent to place down a block of gold, we need it to **move up and then move forwards** to be able to place the next block of gold. To tell the agent to move we can use `agent.move()`.\n",
    "\n",
    "This is how we use it:\n",
    "```python\n",
    "agent.move(direction)\n",
    "```\n",
    "\n",
    "`direction`: The direction we want to have the agent move in. The directions you can use are: `forward`, `back`, `left`, `right`, `up`, `down`.\n",
    "\n",
    "**The code to move the agent up a block is down below, but it still needs to move `\"forward`\", can you add this?**"
   ]
  },
  {
   "cell_type": "code",
   "execution_count": null,
   "metadata": {
    "minecraft": {
     "closeCodeBuilderOnRun": true,
     "onCodeCancelledCommand": "scoreboard players set @s codeExecution 0",
     "onCodeErrorCommand": "scoreboard players set @s codeExecution -1",
     "onCodeStartedCommand": "scoreboard players set @s codeExecution 1",
     "onCodeStoppedCommand": "scoreboard players set @s codeExecution 0",
     "onCodeSuccessfulCommand": "scoreboard players set @s codeExecution 2"
    }
   },
   "outputs": [],
   "source": [
    "agent.give(\"gold block\", 64, 1)\n",
    "agent.place(1, \"forward\")\n",
    "agent.move(\"up\")\n",
    "\n",
    "# Add the line of code to make the agent move forward above here."
   ]
  },
  {
   "cell_type": "markdown",
   "metadata": {},
   "source": [
    "When you have that done, continue final section of the tutorial!"
   ]
  }
 ],
 "metadata": {
  "kernelspec": {
   "display_name": "Python 3",
   "language": "python",
   "name": "python3"
  },
  "language_info": {
   "codemirror_mode": {
    "name": "ipython",
    "version": 3
   },
   "file_extension": ".py",
   "mimetype": "text/x-python",
   "name": "python",
   "nbconvert_exporter": "python",
   "pygments_lexer": "ipython3",
   "version": "3.8.2"
  },
  "minecraft": {
   "description": "Section 2",
   "page_id": "1.1",
   "page_name": "Section 2",
   "style": "minecraft.css"
  }
 },
 "nbformat": 4,
 "nbformat_minor": 4
}
