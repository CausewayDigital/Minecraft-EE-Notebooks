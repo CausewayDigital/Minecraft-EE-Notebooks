{
 "cells": [
  {
   "cell_type": "markdown",
   "metadata": {},
   "source": [
    "# Golden Stairs\n",
    "\n",
    "In this tutorial you're going to use your `agent` to create a golden staircase, which will build itself as you go up.\n",
    "\n",
    "![Golden Stairs](gold-stairs.gif)"
   ]
  },
  {
   "cell_type": "markdown",
   "metadata": {},
   "source": [
    "## Step 1\n",
    "\n",
    "Minecraft have robots that you can program, called **agent**. You can use Python to program your agent to do all sorts of tasks like building.\n",
    "\n",
    "To start off, you'll need to get your agent to appear beside you. To do this you can use the following command: \n",
    "```python\n",
    "agent.teleport()\n",
    "```\n",
    "\n",
    "**Press `Run` and see what happens! Can you find your agent?**"
   ]
  },
  {
   "cell_type": "code",
   "execution_count": null,
   "metadata": {
    "minecraft": {
     "closeCodeBuilderOnRun": true,
     "onCodeCancelledCommand": "scoreboard players set @s codeExecution 0",
     "onCodeErrorCommand": "scoreboard players set @s codeExecution -1",
     "onCodeStartedCommand": "scoreboard players set @s codeExecution 1",
     "onCodeStoppedCommand": "scoreboard players set @s codeExecution 0",
     "onCodeSuccessfulCommand": "scoreboard players set @s codeExecution 2",
     "readonly": true
    }
   },
   "outputs": [],
   "source": [
    "agent.teleport()"
   ]
  },
  {
   "cell_type": "markdown",
   "metadata": {},
   "source": [
    "## Step 2\n",
    "\n",
    "Now you'll need to give your agent some materials to build with. You can do this by using the `agent.give()` function.\n",
    "\n",
    "This is how you use it:\n",
    "```python\n",
    "agent.give(item, quantity, slot)\n",
    "```\n",
    "\n",
    "- `item`: The item you want to give to the agent, like `\"stone\"`.\n",
    "- `quantity`: How much of the item you want to give to the agent.\n",
    "- `slot`: The inventory slot you want to place the item in, usually this is slot 1 but your agent has up to 27!\n",
    "\n",
    "**Add into the code box below, an `agent.give` line with `\"gold block\"` as the item, quantity of `64` and place it in slot `1`**"
   ]
  },
  {
   "cell_type": "code",
   "execution_count": null,
   "metadata": {
    "minecraft": {
     "onCodeCancelledCommand": "scoreboard players set @s codeExecution 0",
     "onCodeErrorCommand": "scoreboard players set @s codeExecution -1",
     "onCodeStartedCommand": "scoreboard players set @s codeExecution 1",
     "onCodeStoppedCommand": "scoreboard players set @s codeExecution 0",
     "onCodeSuccessfulCommand": "scoreboard players set @s codeExecution 2"
    }
   },
   "outputs": [],
   "source": [
    "agent.teleport()\n",
    "# Add your code below\n",
    "\n"
   ]
  },
  {
   "cell_type": "markdown",
   "metadata": {},
   "source": [
    "Also, you can check your agent's inventory by right-clicking on it.\n",
    "\n",
    "Great! When you're ready, press next to move to the next section of the project!"
   ]
  }
 ],
 "metadata": {
  "kernelspec": {
   "display_name": "Python 3",
   "language": "python",
   "name": "python3"
  },
  "language_info": {
   "codemirror_mode": {
    "name": "ipython",
    "version": 3
   },
   "file_extension": ".py",
   "mimetype": "text/x-python",
   "name": "python",
   "nbconvert_exporter": "python",
   "pygments_lexer": "ipython3",
   "version": "3.8.3"
  },
  "minecraft": {
   "description": "Section 1",
   "page_id": "1.0",
   "page_name": "Section 1",
   "style": "minecraft.css"
  }
 },
 "nbformat": 4,
 "nbformat_minor": 4
}
