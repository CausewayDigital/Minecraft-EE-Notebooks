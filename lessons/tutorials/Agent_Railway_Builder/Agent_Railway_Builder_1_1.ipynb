{
 "cells": [
  {
   "cell_type": "markdown",
   "metadata": {},
   "source": [
    "## Step 3\n",
    "\n",
    "Now we're going to start making our railway, we'll start by placing down a stone block to place the track on. To do this we can use `agent.place()`. This will tell the agent to palce down a block in a certain direction. So the stairs we're going to have the agent place a block in front of it.\n",
    "\n",
    "Here's an example:\n",
    "```python\n",
    "agent.place(slot, direction)\n",
    "```\n",
    "\n",
    "`slot`: The inventory slot from the agent that we want to select. (From step 2, this would be slot 1 for stone) direction: The direction to place down the block. The directions you can use are: `forward`, `back`, `left`, `right`, `up`, `down`.\n",
    "\n",
    "Add code bellow to have our agent to palce down a stone block from slot `1` in the direction `\"down\"`"
   ]
  },
  {
   "cell_type": "code",
   "execution_count": null,
   "metadata": {
    "minecraft": {
     "onCodeCancelledCommand": "scoreboard players set @s codeExecution 0",
     "onCodeErrorCommand": "scoreboard players set @s codeExecution -1",
     "onCodeStartedCommand": "scoreboard players set @s codeExecution 1",
     "onCodeStoppedCommand": "scoreboard players set @s codeExecution 0",
     "onCodeSuccessfulCommand": "scoreboard players set @s codeExecution 2"
    }
   },
   "outputs": [],
   "source": [
    "agent.teleport()\n",
    "agent.give(\"stone\", 64, 1)\n",
    "agent.give(\"rail\", 64, 2)\n",
    "\n",
    "\n",
    "# Add you code to the line above"
   ]
  },
  {
   "cell_type": "markdown",
   "metadata": {},
   "source": [
    "## Step 4\n",
    "\n",
    "After placing down a block lets have our agent move **forward** out of the way so it can palce down a rail, to do this we can use `agent.move()` with the direction to move in.\n",
    "\n",
    "This is how we use it:\n",
    "```python\n",
    "agent.move(direction)\n",
    "```\n",
    "\n",
    "`direction`: The direction we want to have the agent move in. The directions you can use are: `forward`, `back`, `left`, `right`, `up`, `down`.\n",
    "\n",
    "**Add the code bellow to have the agent move `\"forward\"` out of the way?**"
   ]
  },
  {
   "cell_type": "code",
   "execution_count": null,
   "metadata": {
    "minecraft": {
     "onCodeCancelledCommand": "scoreboard players set @s codeExecution 0",
     "onCodeErrorCommand": "scoreboard players set @s codeExecution -1",
     "onCodeStartedCommand": "scoreboard players set @s codeExecution 1",
     "onCodeStoppedCommand": "scoreboard players set @s codeExecution 0",
     "onCodeSuccessfulCommand": "scoreboard players set @s codeExecution 2"
    }
   },
   "outputs": [],
   "source": [
    "agent.teleport()\n",
    "agent.give(\"stone\", 64, 1)\n",
    "agent.give(\"rail\", 64, 2)\n",
    "\n",
    "agent.place(1, \"down\")\n",
    "\n",
    "# Add you code to the line above"
   ]
  },
  {
   "cell_type": "markdown",
   "metadata": {},
   "source": [
    "When you have that done proceed to the last section of the tutorial."
   ]
  }
 ],
 "metadata": {
  "kernelspec": {
   "display_name": "Python 3",
   "language": "python",
   "name": "python3"
  },
  "language_info": {
   "codemirror_mode": {
    "name": "ipython",
    "version": 3
   },
   "file_extension": ".py",
   "mimetype": "text/x-python",
   "name": "python",
   "nbconvert_exporter": "python",
   "pygments_lexer": "ipython3",
   "version": "3.8.1"
  },
  "minecraft": {
   "description": "Section 2",
   "page_id": "1.1",
   "page_name": "Section 2",
   "style": "minecraft.css"
  }
 },
 "nbformat": 4,
 "nbformat_minor": 4
}
