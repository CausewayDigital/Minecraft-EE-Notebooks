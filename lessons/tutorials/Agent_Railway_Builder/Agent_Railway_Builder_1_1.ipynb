{
 "cells": [
  {
   "cell_type": "markdown",
   "metadata": {},
   "source": [
    "## Step 3\n",
    "\n",
    "Now you're going to start making the railway!\n",
    "\n",
    "Start by placing down a stone block for the track to go on. To do this, you can use the `agent.place()` command. This will tell the agent to place down a block in a certain direction.\n",
    "\n",
    "Here's what it looks like:\n",
    "```python\n",
    "agent.place(slot, direction)\n",
    "```\n",
    "\n",
    "- `slot`: The inventory slot from the agent that you want to select.\n",
    "- `direction`: The direction to place down the block. The directions are: `forward`, `back`, `left`, `right`, `up` and `down`.\n",
    "\n",
    "**Add code below to have your agent place `\"down\"` a stone block from slot `1`.**"
   ]
  },
  {
   "cell_type": "code",
   "execution_count": null,
   "metadata": {
    "minecraft": {
     "closeCodeBuilderOnRun": true,
     "onCodeCancelledCommand": "scoreboard players set @s codeExecution 0",
     "onCodeErrorCommand": "scoreboard players set @s codeExecution -1",
     "onCodeStartedCommand": "scoreboard players set @s codeExecution 1",
     "onCodeStoppedCommand": "scoreboard players set @s codeExecution 0",
     "onCodeSuccessfulCommand": "scoreboard players set @s codeExecution 2"
    }
   },
   "outputs": [],
   "source": [
    "agent.teleport()\n",
    "agent.give(\"stone\", 64, 1)\n",
    "agent.give(\"rail\", 64, 2)\n",
    "\n",
    "# Add your code above"
   ]
  },
  {
   "cell_type": "markdown",
   "metadata": {},
   "source": [
    "## Step 4\n",
    "\n",
    "After placing down a block, you can move your agent `forward` so it can place down a rail. To move your agent, you use `agent.move()` with the direction you want to move in.\n",
    "\n",
    "This is how you use it:\n",
    "```python\n",
    "agent.move(direction)\n",
    "```\n",
    "\n",
    "- `direction`: The direction you want to have the agent move in. The directions are: `forward`, `back`, `left`, `right`, `up` and `down`.\n",
    "\n",
    "**Add the code below to have the agent move `\"forward\"` after placing.**"
   ]
  },
  {
   "cell_type": "code",
   "execution_count": null,
   "metadata": {
    "minecraft": {
     "closeCodeBuilderOnRun": true,
     "onCodeCancelledCommand": "scoreboard players set @s codeExecution 0",
     "onCodeErrorCommand": "scoreboard players set @s codeExecution -1",
     "onCodeStartedCommand": "scoreboard players set @s codeExecution 1",
     "onCodeStoppedCommand": "scoreboard players set @s codeExecution 0",
     "onCodeSuccessfulCommand": "scoreboard players set @s codeExecution 2"
    }
   },
   "outputs": [],
   "source": [
    "agent.teleport()\n",
    "agent.give(\"stone\", 64, 1)\n",
    "agent.give(\"rail\", 64, 2)\n",
    "\n",
    "agent.place(1, \"down\")\n",
    "\n",
    "# Add your code above"
   ]
  },
  {
   "cell_type": "markdown",
   "metadata": {},
   "source": [
    "Great! When you're ready, move on to the final section!"
   ]
  }
 ],
 "metadata": {
  "kernelspec": {
   "display_name": "Python 3",
   "language": "python",
   "name": "python3"
  },
  "language_info": {
   "codemirror_mode": {
    "name": "ipython",
    "version": 3
   },
   "file_extension": ".py",
   "mimetype": "text/x-python",
   "name": "python",
   "nbconvert_exporter": "python",
   "pygments_lexer": "ipython3",
   "version": "3.8.3"
  },
  "minecraft": {
   "description": "Section 2",
   "page_id": "1.1",
   "page_name": "Section 2",
   "style": "minecraft.css"
  }
 },
 "nbformat": 4,
 "nbformat_minor": 4
}
