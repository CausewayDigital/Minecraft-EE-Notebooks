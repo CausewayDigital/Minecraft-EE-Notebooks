{
 "cells": [
  {
   "cell_type": "markdown",
   "metadata": {},
   "source": [
    "# Agent Railway Builder\n",
    "\n",
    "Automated railway laying.\n",
    "\n"
   ]
  },
  {
   "cell_type": "markdown",
   "metadata": {},
   "source": [
    "## Step 1\n",
    "\n",
    "Minecraft Education Edition has a little helper we can program called **agents**. We can use Python to program our agents to do all sorts of jobs like building.\n",
    "\n",
    "To start off we need to get our agent to appear beside us, to do this we can use the following command...\n",
    "```python\n",
    "agent.teleport()\n",
    "```\n",
    "\n",
    "Press `Run` and see what happens!"
   ]
  },
  {
   "cell_type": "code",
   "execution_count": null,
   "metadata": {
    "minecraft": {
     "onCodeCancelledCommand": "scoreboard players set @s codeExecution 0",
     "onCodeErrorCommand": "scoreboard players set @s codeExecution -1",
     "onCodeStartedCommand": "scoreboard players set @s codeExecution 1",
     "onCodeStoppedCommand": "scoreboard players set @s codeExecution 0",
     "onCodeSuccessfulCommand": "scoreboard players set @s codeExecution 2",
     "readonly": true
    }
   },
   "outputs": [],
   "source": [
    "agent.teleport()"
   ]
  },
  {
   "cell_type": "markdown",
   "metadata": {},
   "source": [
    "## Step 2\n",
    "\n",
    "Now we need to give our agent the materials it will need to lay down the tracks. We need to give out agent **\"stone\"**, **\"rails\"**, **\"powered rails\"**, **\"detector rails\"**.\n",
    "We can do this by using the `agent.give()` function, to give items to the agent.\n",
    "\n",
    "This is how we use it:\n",
    "```python\n",
    "agent.give(item, quantity, slot)\n",
    "```\n",
    "\n",
    "`item`: The item we want to give to the agent, like `\"stone\"`\n",
    "`quantity`: How much of the item we want to give to the agent.\n",
    "`slot`: The inventory slot we want to place the item in, usually this is slot 1 but your agent has up to 27!\n",
    "\n",
    "Here's the table of stuff we need to give the agent\n",
    "| Item           | Quantity | Slot |\n",
    "|----------------|----------|------|\n",
    "| Stone          | 64       | 1    |\n",
    "| rails          | 64       | 2    |\n",
    "\n",
    "\n",
    "**You mind adding the code to the the agent the `\"rails\"` please?**"
   ]
  },
  {
   "cell_type": "code",
   "execution_count": null,
   "metadata": {
    "minecraft": {
     "onCodeCancelledCommand": "scoreboard players set @s codeExecution 0",
     "onCodeErrorCommand": "scoreboard players set @s codeExecution -1",
     "onCodeStartedCommand": "scoreboard players set @s codeExecution 1",
     "onCodeStoppedCommand": "scoreboard players set @s codeExecution 0",
     "onCodeSuccessfulCommand": "scoreboard players set @s codeExecution 2"
    }
   },
   "outputs": [],
   "source": [
    "agent.teleport()\n",
    "agent.give(\"stone\", 64, 1)\n",
    "\n",
    "\n",
    "\n",
    "# Add you 3 lines of code above here."
   ]
  },
  {
   "cell_type": "markdown",
   "metadata": {},
   "source": [
    "Nice! When you're ready go and move on."
   ]
  }
 ],
 "metadata": {
  "kernelspec": {
   "display_name": "Python 3",
   "language": "python",
   "name": "python3"
  },
  "language_info": {
   "codemirror_mode": {
    "name": "ipython",
    "version": 3
   },
   "file_extension": ".py",
   "mimetype": "text/x-python",
   "name": "python",
   "nbconvert_exporter": "python",
   "pygments_lexer": "ipython3",
   "version": "3.8.1"
  },
  "minecraft": {
   "description": "Section 1",
   "page_id": "1.0",
   "page_name": "Section 1",
   "style": "minecraft.css"
  }
 },
 "nbformat": 4,
 "nbformat_minor": 4
}
