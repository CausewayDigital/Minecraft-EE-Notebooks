{
 "cells": [
  {
   "cell_type": "markdown",
   "metadata": {},
   "source": [
    "# Agent Railway Builder\n",
    "\n",
    "In this tutorial, you will program your agent to automatically build railways for you!\n",
    "\n",
    "![Railway building agent](railway.gif)"
   ]
  },
  {
   "cell_type": "markdown",
   "metadata": {},
   "source": [
    "## Step 1\n",
    "\n",
    "Minecraft has a little robot that can give you a hand to build. These little robots are called **Agents**! You can program all sorts of jobs and tasks for your agent to do. In this tutorial, you're going to have it build a railway.\n",
    "\n",
    "To start off, you'll teleport your agent to you. To teleport your agent, you can use the `agent.teleport` function.\n",
    "\n",
    "Here's what it looks like:\n",
    "```python\n",
    "agent.teleport()\n",
    "```\n",
    "\n",
    "**Press `Run` and see what happens!**"
   ]
  },
  {
   "cell_type": "code",
   "execution_count": null,
   "metadata": {
    "minecraft": {
     "closeCodeBuilderOnRun": true,
     "onCodeCancelledCommand": "scoreboard players set @s codeExecution 0",
     "onCodeErrorCommand": "scoreboard players set @s codeExecution -1",
     "onCodeStartedCommand": "scoreboard players set @s codeExecution 1",
     "onCodeStoppedCommand": "scoreboard players set @s codeExecution 0",
     "onCodeSuccessfulCommand": "scoreboard players set @s codeExecution 2",
     "readonly": true
    }
   },
   "outputs": [],
   "source": [
    "agent.teleport()"
   ]
  },
  {
   "cell_type": "markdown",
   "metadata": {},
   "source": [
    "## Step 2\n",
    "\n",
    "Now you need to give your agent the materials it needs to lay down the railway. You'll need to give your agent **\"stone\"** and **\"rails\"**.\n",
    "\n",
    "You can do this by using the `agent.give()` function, to give items to the agent.\n",
    "\n",
    "This is how you use it:\n",
    "```python\n",
    "agent.give(item, quantity, slot)\n",
    "```\n",
    "\n",
    "- `item`: The item you want to give to the agent, like `\"stone\"`.\n",
    "- `quantity`: How much of the item you want to give to the agent.\n",
    "- `slot`: The inventory slot you want to place the item in, usually this is slot 1 but your agent has up to 27!\n",
    "\n",
    "**Add the code to give the agent `64` `\"rail\"` blocks in slot number `2`.**"
   ]
  },
  {
   "cell_type": "code",
   "execution_count": null,
   "metadata": {
    "minecraft": {
     "closeCodeBuilderOnRun": true,
     "onCodeCancelledCommand": "scoreboard players set @s codeExecution 0",
     "onCodeErrorCommand": "scoreboard players set @s codeExecution -1",
     "onCodeStartedCommand": "scoreboard players set @s codeExecution 1",
     "onCodeStoppedCommand": "scoreboard players set @s codeExecution 0",
     "onCodeSuccessfulCommand": "scoreboard players set @s codeExecution 2"
    }
   },
   "outputs": [],
   "source": [
    "agent.teleport()\n",
    "agent.give(\"stone\", 64, 1)\n",
    "\n",
    "# Add you line of code above"
   ]
  },
  {
   "cell_type": "markdown",
   "metadata": {},
   "source": [
    "Great! When you're ready, click next to move to the next section."
   ]
  }
 ],
 "metadata": {
  "kernelspec": {
   "display_name": "Python 3",
   "language": "python",
   "name": "python3"
  },
  "language_info": {
   "codemirror_mode": {
    "name": "ipython",
    "version": 3
   },
   "file_extension": ".py",
   "mimetype": "text/x-python",
   "name": "python",
   "nbconvert_exporter": "python",
   "pygments_lexer": "ipython3",
   "version": "3.7.5"
  },
  "minecraft": {
   "description": "Section 1",
   "page_id": "1.0",
   "page_name": "Section 1",
   "style": "minecraft.css"
  }
 },
 "nbformat": 4,
 "nbformat_minor": 4
}
