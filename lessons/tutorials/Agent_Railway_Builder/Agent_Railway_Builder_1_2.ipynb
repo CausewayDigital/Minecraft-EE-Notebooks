{
 "cells": [
  {
   "cell_type": "markdown",
   "metadata": {},
   "source": [
    "## Step 5\n",
    "\n",
    "Now that we have the stone block palced for the agent to place a rail on to, we can place the rail. For this we're going to use `agent.place()` again.\n",
    "\n",
    "We want the agent to place down a rail from **slot 2** down **back** behind it on to the stone block we had it palce down in step 3.\n",
    "\n",
    "Here's a reminder how to use this command:\n",
    "```python\n",
    "agent.place(slot, direction)\n",
    "```\n",
    "\n",
    "`slot`: The inventory slot from the agent that we want to select. (From step 2, this would be slot 1 for stone) direction: The direction to place down the block. The directions you can use are: `forward`, `back`, `left`, `right`, `up`, `down`.\n",
    "\n",
    "**Add the line of code to have place down the rail from slot `2` down `\"back\"` it?**"
   ]
  },
  {
   "cell_type": "code",
   "execution_count": null,
   "metadata": {
    "minecraft": {
     "onCodeCancelledCommand": "scoreboard players set @s codeExecution 0",
     "onCodeErrorCommand": "scoreboard players set @s codeExecution -1",
     "onCodeStartedCommand": "scoreboard players set @s codeExecution 1",
     "onCodeStoppedCommand": "scoreboard players set @s codeExecution 0",
     "onCodeSuccessfulCommand": "scoreboard players set @s codeExecution 2"
    }
   },
   "outputs": [],
   "source": [
    "agent.teleport()\n",
    "agent.give(\"stone\", 64, 1)\n",
    "agent.give(\"rail\", 64, 2)\n",
    "\n",
    "agent.place(1, \"down\")\n",
    "agent.move(\"forward\")\n",
    "\n",
    "# Add you code to the line above"
   ]
  },
  {
   "cell_type": "markdown",
   "metadata": {},
   "source": [
    "## Step 5 \n",
    "\n",
    "But we've ran into a little issue. Our agent only runs the code once for placing a stone block, moving out of the way and placing a rail. We want our agent to keep doing this to make us a full railway. To do this we can use something called loops.\n",
    "\n",
    "Loops allow us to execute code over and over again. Here's an example\n",
    "```python\n",
    "for count in range(repeat_for):\n",
    "    #code here runs for the number set in repeat_for\n",
    "```\n",
    "\n",
    "`repeat_for`: this is the number of times we want the code to repeat.\n",
    "\n",
    "**The code bellow only repeats 2 times, could you fix it to have it repeat for 64 times instead?**"
   ]
  },
  {
   "cell_type": "code",
   "execution_count": null,
   "metadata": {
    "minecraft": {
     "onCodeCancelledCommand": "scoreboard players set @s codeExecution 0",
     "onCodeErrorCommand": "scoreboard players set @s codeExecution -1",
     "onCodeStartedCommand": "scoreboard players set @s codeExecution 1",
     "onCodeStoppedCommand": "scoreboard players set @s codeExecution 0",
     "onCodeSuccessfulCommand": "scoreboard players set @s codeExecution 2"
    }
   },
   "outputs": [],
   "source": [
    "agent.teleport()\n",
    "agent.give(\"stone\", 64, 1)\n",
    "agent.give(\"rail\", 64, 2)\n",
    "\n",
    "for count in range(2):\n",
    "    agent.place(1, \"down\")\n",
    "    agent.move(\"forward\")\n",
    "    agent.place(2, \"back\")\n",
    "\n",
    "# Add you code to the line above"
   ]
  },
  {
   "cell_type": "markdown",
   "metadata": {},
   "source": [
    "Now you've got all the code done, run it and see your rail line appear infront of you!"
   ]
  },
  {
   "cell_type": "markdown",
   "metadata": {},
   "source": [
    "## Extensions\n",
    "Here's some ideas to add to your railway builder!\n",
    "\n",
    "- Have it automatically add to detector and powered rails every 11 blocks to keep minecarts going\n",
    "- Can you make it so the agent builds a minecraft track connected in a loop?\n",
    "- A lot of railway are underground, try having you agent clear blocks infront of it before placing rails down to make a tunnel."
   ]
  }
 ],
 "metadata": {
  "kernelspec": {
   "display_name": "Python 3",
   "language": "python",
   "name": "python3"
  },
  "language_info": {
   "codemirror_mode": {
    "name": "ipython",
    "version": 3
   },
   "file_extension": ".py",
   "mimetype": "text/x-python",
   "name": "python",
   "nbconvert_exporter": "python",
   "pygments_lexer": "ipython3",
   "version": "3.8.1"
  },
  "minecraft": {
   "description": "Section 3",
   "page_id": "1.2",
   "page_name": "Section 3",
   "style": "minecraft.css"
  }
 },
 "nbformat": 4,
 "nbformat_minor": 4
}
