{
 "cells": [
  {
   "cell_type": "markdown",
   "metadata": {},
   "source": [
    "## Step 5\n",
    "\n",
    "Great, now you can place the rail. For this you're going to use `agent.place()` again.\n",
    "\n",
    "You want the Agent to place a rail from **slot 2** **back** behind it onto the stone block you just placed.\n",
    "\n",
    "Here's a reminder how to use this command:\n",
    "```python\n",
    "agent.place(slot, direction)\n",
    "```\n",
    "\n",
    "- `slot`: The inventory slot from the Agent that you want to select.\n",
    "- `direction`: The direction to place down the block. The directions are: `forward`, `back`, `left`, `right`, `up` and `down`.\n",
    "\n",
    "**Add the line of code to place the rail from slot `2` `\"back\"`.**"
   ]
  },
  {
   "cell_type": "code",
   "execution_count": null,
   "metadata": {
    "minecraft": {
     "closeCodeBuilderOnRun": true,
     "onCodeCancelledCommand": "scoreboard players set @s codeExecution 0",
     "onCodeErrorCommand": "scoreboard players set @s codeExecution -1",
     "onCodeStartedCommand": "scoreboard players set @s codeExecution 1",
     "onCodeStoppedCommand": "scoreboard players set @s codeExecution 0",
     "onCodeSuccessfulCommand": "scoreboard players set @s codeExecution 2"
    }
   },
   "outputs": [],
   "source": [
    "agent.teleport()\n",
    "agent.give(\"stone\", 64, 1)\n",
    "agent.give(\"rail\", 64, 2)\n",
    "\n",
    "agent.place(1, \"down\")\n",
    "agent.move(\"forward\")\n",
    "\n",
    "# Add your code above"
   ]
  },
  {
   "cell_type": "markdown",
   "metadata": {},
   "source": [
    "## Step 6 \n",
    "\n",
    "One little issue... Your Agent only runs the code once and places *one rail*. You want your Agent to keep doing this over and over again, to make you a full railway! \n",
    "\n",
    "This is where `loops` come in handy! `Loops` allow you to run sections of code over and over again, a set amount of times.\n",
    "\n",
    "Here's how you set them up:\n",
    "```python\n",
    "for count in range(repeat_for):\n",
    "    # Code here runs the number of times in repeat_for\n",
    "```\n",
    "\n",
    "- `repeat_for`: The number of times you want to repeat the section of code.\n",
    "\n",
    "**The code below only repeats 2 times, fix it to repeat 64 times!**"
   ]
  },
  {
   "cell_type": "code",
   "execution_count": null,
   "metadata": {
    "minecraft": {
     "closeCodeBuilderOnRun": true,
     "onCodeCancelledCommand": "scoreboard players set @s codeExecution 0",
     "onCodeErrorCommand": "scoreboard players set @s codeExecution -1",
     "onCodeStartedCommand": "scoreboard players set @s codeExecution 1",
     "onCodeStoppedCommand": "scoreboard players set @s codeExecution 0",
     "onCodeSuccessfulCommand": "scoreboard players set @s codeExecution 2"
    }
   },
   "outputs": [],
   "source": [
    "agent.teleport()\n",
    "agent.give(\"stone\", 64, 1)\n",
    "agent.give(\"rail\", 64, 2)\n",
    "\n",
    "# Fix the loop to run 64 times\n",
    "for count in range(2):\n",
    "    agent.place(1, \"down\")\n",
    "    agent.move(\"forward\")\n",
    "    agent.place(2, \"back\")"
   ]
  },
  {
   "cell_type": "markdown",
   "metadata": {},
   "source": [
    "Run your code and see your Agent build for you!"
   ]
  },
  {
   "cell_type": "markdown",
   "metadata": {},
   "source": [
    "## Extensions\n",
    "Here's some ideas to add to your railway builder!\n",
    "\n",
    "1. Have your Agent automatically add to detector and powered rails every 11 blocks to keep minecarts going.\n",
    "2. Can you code your Agent to build a simple loop of track?\n",
    "3. A lot of railway are underground, try having you agent clear blocks in front of itself, before placing rails down, to make a tunnel."
   ]
  }
 ],
 "metadata": {
  "kernelspec": {
   "display_name": "Python 3",
   "language": "python",
   "name": "python3"
  },
  "language_info": {
   "codemirror_mode": {
    "name": "ipython",
    "version": 3
   },
   "file_extension": ".py",
   "mimetype": "text/x-python",
   "name": "python",
   "nbconvert_exporter": "python",
   "pygments_lexer": "ipython3",
   "version": "3.7.5"
  },
  "minecraft": {
   "description": "Section 3",
   "page_id": "1.2",
   "page_name": "Section 3",
   "style": "minecraft.css"
  }
 },
 "nbformat": 4,
 "nbformat_minor": 4
}
