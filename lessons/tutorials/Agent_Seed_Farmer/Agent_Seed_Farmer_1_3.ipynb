{
 "cells": [
  {
   "cell_type": "markdown",
   "metadata": {},
   "source": [
    "## Step 7\n",
    "\n",
    "So we have our agent tilling the ground, planting a seed and moving to the next block, but we want ti to happen more then once. To repeat code more then once we can use something called a `for loop`\n",
    "\n",
    "Here's how to make a `for loop`:\n",
    "```python\n",
    "for count in range(repeat_for):\n",
    "    #code here runs for the number set in repeat_for\n",
    "```\n",
    "\n",
    "`repeat_for`: this is the number of times we want the code to repeat.\n",
    "\n",
    "\n",
    "**The code bellow only repeats 2 times, could you fix it to have it repeat for 6 times instead?**"
   ]
  },
  {
   "cell_type": "code",
   "execution_count": null,
   "metadata": {
    "minecraft": {
     "onCodeCancelledCommand": "scoreboard players set @s codeExecution 0",
     "onCodeErrorCommand": "scoreboard players set @s codeExecution -1",
     "onCodeStartedCommand": "scoreboard players set @s codeExecution 1",
     "onCodeStoppedCommand": "scoreboard players set @s codeExecution 0",
     "onCodeSuccessfulCommand": "scoreboard players set @s codeExecution 2",
     "overridePython": "lookAt = from_me(2,1,6)\nstart = from_me(2,1,0)\ndef setup_farm():\n    world.fill(from_me(0,-1,0), from_me(2,-1,5), \"dirt\")\n    world.fill(from_me(0,0,0), from_me(2,5,5), \"air\")\n    world.fill(from_me(1,-1,1), from_me(1,-1,4), \"ice\")\n    world.fill(from_me(1,-2,1), from_me(1,-2,4), \"glowstone\")\n    world.set(from_me(0,-1,0), \"Prismarine\")\n    agent.teleport(start, facing=lookAt)\ndef reset_agent_location():\n    agent.teleport(start, facing=lookAt)\n@user-code\n"
    }
   },
   "outputs": [],
   "source": [
    "setup_farm()\n",
    "agent.give(\"wheat seeds\", 64, 1)\n",
    "\n",
    "for count in range (2):\n",
    "    #Edit the line above to repeat 6 times instead of 2 times.\n",
    "    agent.till(\"down\")\n",
    "\n",
    "    if agent.inspect(\"down\") == \"air\":\n",
    "        say(\"It's air bellow\")\n",
    "        agent.place(1, \"down\")\n",
    "    \n",
    "    agent.move(\"forward\")\n",
    "    "
   ]
  },
  {
   "cell_type": "markdown",
   "metadata": {},
   "source": [
    "When you're done, run the code and see a farm appaear right infront of you!"
   ]
  }
 ],
 "metadata": {
  "kernelspec": {
   "display_name": "Python 3",
   "language": "python",
   "name": "python3"
  },
  "language_info": {
   "codemirror_mode": {
    "name": "ipython",
    "version": 3
   },
   "file_extension": ".py",
   "mimetype": "text/x-python",
   "name": "python",
   "nbconvert_exporter": "python",
   "pygments_lexer": "ipython3",
   "version": "3.8.1"
  },
  "minecraft": {
   "description": "Section 4",
   "page_id": "1.3",
   "page_name": "Section 4",
   "style": "minecraft.css"
  }
 },
 "nbformat": 4,
 "nbformat_minor": 4
}
