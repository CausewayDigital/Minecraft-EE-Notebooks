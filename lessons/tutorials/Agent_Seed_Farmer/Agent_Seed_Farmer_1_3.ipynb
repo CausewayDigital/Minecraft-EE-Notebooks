{
 "cells": [
  {
   "cell_type": "markdown",
   "metadata": {},
   "source": [
    "## Step 7\n",
    "\n",
    "After your agent has planted a seed, you'll get them to move to the next block of dirt. To do this you use `agent.move()`\n",
    "\n",
    "This is how it works:\n",
    "```python\n",
    "agent.move(direction)\n",
    "```\n",
    "\n",
    "- `direction`: The direction to move your agent. The directions are: `forward`, `back`, `left`, `right`, `up` and `down`.\n",
    "\n",
    "**Add the code to move your agent \"forward\" after you place the seed.**"
   ]
  },
  {
   "cell_type": "code",
   "execution_count": null,
   "metadata": {
    "minecraft": {
     "closeCodeBuilderOnRun": true,
     "onCodeCancelledCommand": "scoreboard players set @s codeExecution 0",
     "onCodeErrorCommand": "scoreboard players set @s codeExecution -1",
     "onCodeStartedCommand": "scoreboard players set @s codeExecution 1",
     "onCodeStoppedCommand": "scoreboard players set @s codeExecution 0",
     "onCodeSuccessfulCommand": "scoreboard players set @s codeExecution 2",
     "overridePython": "lookAt = from_me(2,1,6)\nstart = from_me(2,1,0)\ndef setup_farm():\n    world.fill(from_me(0,-1,0), from_me(2,-1,5), \"dirt\")\n    world.fill(from_me(0,0,0), from_me(2,5,5), \"air\")\n    world.fill(from_me(1,-1,1), from_me(1,-1,4), \"water\")\n    world.fill(from_me(1,-2,1), from_me(1,-2,4), \"glowstone\")\n    world.set(from_me(0,-1,0), \"Prismarine\")\n    agent.teleport(start, facing=lookAt)\ndef reset_agent_location():\n    agent.teleport(start, facing=lookAt)\n@user-code\n"
    }
   },
   "outputs": [],
   "source": [
    "setup_farm()\n",
    "agent.give(\"wheat seeds\", 64, 1)\n",
    "\n",
    "agent.till(\"down\")\n",
    "if agent.inspect(\"down\") == \"air\":\n",
    "    say(\"Found air!\")\n",
    "    agent.place(1, \"down\")\n",
    "    \n",
    "    # Add your code to the line above"
   ]
  },
  {
   "cell_type": "markdown",
   "metadata": {},
   "source": [
    "## Step 8\n",
    "\n",
    "You have your agent tilling the ground, planting a seed and moving to the next block. But you want this all to happen more than once. To repeat code more than once, you can use a `loop`. \n",
    "\n",
    "`Loops` let you run sections of code over and over again a set number of times.\n",
    "\n",
    "Here's how you make a `loop`:\n",
    "```python\n",
    "for count in range(repeat_for):\n",
    "    # Code here runs for the number set in repeat_for\n",
    "```\n",
    "\n",
    "- `repeat_for`: The number of times you want the code to repeat.\n",
    "\n",
    "**The code below only repeats 2 times, make it repeat for 6 times instead.**"
   ]
  },
  {
   "cell_type": "code",
   "execution_count": null,
   "metadata": {
    "minecraft": {
     "closeCodeBuilderOnRun": true,
     "onCodeCancelledCommand": "scoreboard players set @s codeExecution 0",
     "onCodeErrorCommand": "scoreboard players set @s codeExecution -1",
     "onCodeStartedCommand": "scoreboard players set @s codeExecution 1",
     "onCodeStoppedCommand": "scoreboard players set @s codeExecution 0",
     "onCodeSuccessfulCommand": "scoreboard players set @s codeExecution 2",
     "overridePython": "lookAt = from_me(2,1,6)\nstart = from_me(2,1,0)\ndef setup_farm():\n    world.fill(from_me(0,-1,0), from_me(2,-1,5), \"dirt\")\n    world.fill(from_me(0,0,0), from_me(2,5,5), \"air\")\n    world.fill(from_me(1,-1,1), from_me(1,-1,4), \"water\")\n    world.fill(from_me(1,-2,1), from_me(1,-2,4), \"glowstone\")\n    world.set(from_me(0,-1,0), \"Prismarine\")\n    agent.teleport(start, facing=lookAt)\ndef reset_agent_location():\n    agent.teleport(start, facing=lookAt)\n@user-code\n"
    }
   },
   "outputs": [],
   "source": [
    "setup_farm()\n",
    "agent.give(\"wheat seeds\", 64, 1)\n",
    "\n",
    "for count in range (2):\n",
    "    #Edit the line above to repeat 6 times instead of 2 times.\n",
    "    agent.till(\"down\")\n",
    "    if agent.inspect(\"down\") == \"air\":\n",
    "        say(\"Found air!\")\n",
    "        agent.place(1, \"down\")\n",
    "        \n",
    "    agent.move(\"forward\")\n",
    "    "
   ]
  },
  {
   "cell_type": "markdown",
   "metadata": {},
   "source": [
    "When you're done, run the code and see a farm appear in front of you!"
   ]
  },
  {
   "cell_type": "markdown",
   "metadata": {},
   "source": [
    "## Extension\n",
    "Here's some ideas to make your agent do more thing!\n",
    "\n",
    "- Have your agent turn at the corners and plant another line of wheat seeds. *Hint* `agent.turn()`!\n",
    "- Use your agent to check if wheat has grown using `agent.inspect()`. If it has, harvest it and replant with new seeds!\n",
    "- Maybe make a farm with multiple types of plants? Have carrots, potatoes **and** wheat!"
   ]
  }
 ],
 "metadata": {
  "kernelspec": {
   "display_name": "Python 3",
   "language": "python",
   "name": "python3"
  },
  "language_info": {
   "codemirror_mode": {
    "name": "ipython",
    "version": 3
   },
   "file_extension": ".py",
   "mimetype": "text/x-python",
   "name": "python",
   "nbconvert_exporter": "python",
   "pygments_lexer": "ipython3",
   "version": "3.8.1"
  },
  "minecraft": {
   "description": "Section 4",
   "page_id": "1.3",
   "page_name": "Section 4",
   "style": "minecraft.css"
  }
 },
 "nbformat": 4,
 "nbformat_minor": 4
}
