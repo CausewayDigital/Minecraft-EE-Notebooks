{
 "cells": [
  {
   "cell_type": "markdown",
   "metadata": {},
   "source": [
    "## Step 5\n",
    "\n",
    "To check what blocks are around the Agent you can use the `agent.inspect()` function. When you run it, your Agent checks what block is in the direction you say, and the Agent will return the block name. This name can then be used in your code.    \n",
    "For example \"dirt\" or \"air\".\n",
    "\n",
    "This is how it works:\n",
    "```python\n",
    "agent.inspect(direction)\n",
    "```\n",
    "\n",
    "- `direction`: The direction you want to have the Agent check. The directions are: `forward`, `back`, `left`, `right`, `up` and `down`.\n",
    "\n",
    "You can use `agent.inspect()` in an `if` statement to only run code *if* your Agent finds a certain block.\n",
    "\n",
    "**Fix the code below to have your Agent inspect if `\"down\"` is equal to `\"air\"`.**"
   ]
  },
  {
   "cell_type": "code",
   "execution_count": null,
   "metadata": {
    "minecraft": {
     "closeCodeBuilderOnRun": true,
     "onCodeCancelledCommand": "scoreboard players set @s codeExecution 0",
     "onCodeErrorCommand": "scoreboard players set @s codeExecution -1",
     "onCodeStartedCommand": "scoreboard players set @s codeExecution 1",
     "onCodeStoppedCommand": "scoreboard players set @s codeExecution 0",
     "onCodeSuccessfulCommand": "scoreboard players set @s codeExecution 2",
     "overridePython": "lookAt = from_me(2,1,6)\nstart = from_me(2,1,0)\ndef setup_farm():\n    world.fill(from_me(0,-1,0), from_me(2,-1,5), \"dirt\")\n    world.fill(from_me(0,0,0), from_me(2,5,5), \"air\")\n    world.fill(from_me(1,-1,1), from_me(1,-1,4), \"flowing water\")\n    world.fill(from_me(1,-2,1), from_me(1,-2,4), \"glowstone\")\n    world.set(from_me(0,-1,0), \"Prismarine\")\n    agent.teleport(start, facing=lookAt)\ndef reset_agent_location():\n    agent.teleport(start, facing=lookAt)\n@user-code\n"
    }
   },
   "outputs": [],
   "source": [
    "setup_farm()\n",
    "agent.give(\"wheat seeds\", 64, 1)\n",
    "\n",
    "agent.till(\"down\")\n",
    "if agent.inspect(    ) ==    :\n",
    "    # Fix the line above\n",
    "    say(\"Found air!\")"
   ]
  },
  {
   "cell_type": "markdown",
   "metadata": {},
   "source": [
    "## Step 6\n",
    "\n",
    "Now you need to code the Agent to place down a wheat seed. To place a seed, you can use `agent.place()`.\n",
    "\n",
    "Here's how to use it:\n",
    "```python\n",
    "agent.place(slot, direction)\n",
    "```\n",
    "\n",
    "- `slot`: The Agent's inventory slot you want to select. (From step 4, this would be slot number `1`).\n",
    "- `direction`: The direction to place the block in. The directions are: `forward`, `back`, `left`, `right`, `up` and `down`.\n",
    "\n",
    "**Can you add code to have the Agent place a seed `\"down\"` from slot `1`?**"
   ]
  },
  {
   "cell_type": "code",
   "execution_count": null,
   "metadata": {
    "minecraft": {
     "closeCodeBuilderOnRun": true,
     "onCodeCancelledCommand": "scoreboard players set @s codeExecution 0",
     "onCodeErrorCommand": "scoreboard players set @s codeExecution -1",
     "onCodeStartedCommand": "scoreboard players set @s codeExecution 1",
     "onCodeStoppedCommand": "scoreboard players set @s codeExecution 0",
     "onCodeSuccessfulCommand": "scoreboard players set @s codeExecution 2",
     "overridePython": "lookAt = from_me(2,1,6)\nstart = from_me(2,1,0)\ndef setup_farm():\n    world.fill(from_me(0,-1,0), from_me(2,-1,5), \"dirt\")\n    world.fill(from_me(0,0,0), from_me(2,5,5), \"air\")\n    world.fill(from_me(1,-1,1), from_me(1,-1,4), \"flowing water\")\n    world.fill(from_me(1,-2,1), from_me(1,-2,4), \"glowstone\")\n    world.set(from_me(0,-1,0), \"Prismarine\")\n    agent.teleport(start, facing=lookAt)\ndef reset_agent_location():\n    agent.teleport(start, facing=lookAt)\n@user-code\n"
    }
   },
   "outputs": [],
   "source": [
    "setup_farm()\n",
    "agent.give(\"wheat seeds\", 64, 1)\n",
    "\n",
    "agent.till(\"down\")\n",
    "if agent.inspect(\"down\") == \"air\":\n",
    "    say(\"Found air!\")\n",
    "    \n",
    "    \n",
    "    # Add your code to the line above\n",
    "    # Be careful of your indentation. If should be the same number of spaces as the `say` function.  "
   ]
  },
  {
   "cell_type": "markdown",
   "metadata": {},
   "source": [
    "Move on to the final section when you're ready."
   ]
  }
 ],
 "metadata": {
  "kernelspec": {
   "display_name": "Python 3",
   "language": "python",
   "name": "python3"
  },
  "language_info": {
   "codemirror_mode": {
    "name": "ipython",
    "version": 3
   },
   "file_extension": ".py",
   "mimetype": "text/x-python",
   "name": "python",
   "nbconvert_exporter": "python",
   "pygments_lexer": "ipython3",
   "version": "3.8.1"
  },
  "minecraft": {
   "description": "Section 3",
   "page_id": "1.2",
   "page_name": "Section 3",
   "style": "minecraft.css"
  }
 },
 "nbformat": 4,
 "nbformat_minor": 4
}
