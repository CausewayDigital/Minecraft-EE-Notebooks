{
 "cells": [
  {
   "cell_type": "markdown",
   "metadata": {},
   "source": [
    "## Step 3\n",
    "\n",
    "Now that the farm has been setup, we need to till the soil. To do this we simply use `agent.till()`.\n",
    "\n",
    "Here's how it works:\n",
    "```python\n",
    "agent.till(direction)\n",
    "```\n",
    "\n",
    "- `direction`: This is the direction we want the agent to till. The directions are: `forward`, `back`, `left`, `right`, `up` and `down`.\n",
    "\n",
    "Our agent is above the dirt, so we need to till `\"down\"`\n",
    "\n",
    "**Add the code to till the dirt `\"down\"` below the agent**"
   ]
  },
  {
   "cell_type": "code",
   "execution_count": null,
   "metadata": {
    "minecraft": {
     "onCodeCancelledCommand": "scoreboard players set @s codeExecution 0",
     "onCodeErrorCommand": "scoreboard players set @s codeExecution -1",
     "onCodeStartedCommand": "scoreboard players set @s codeExecution 1",
     "onCodeStoppedCommand": "scoreboard players set @s codeExecution 0",
     "onCodeSuccessfulCommand": "scoreboard players set @s codeExecution 2",
     "overridePython": "lookAt = from_me(2,1,6)\nstart = from_me(2,1,0)\ndef setup_farm():\n    world.fill(from_me(0,-1,0), from_me(2,-1,5), \"dirt\")\n    world.fill(from_me(0,0,0), from_me(2,5,5), \"air\")\n    world.fill(from_me(1,-1,1), from_me(1,-1,4), \"water\")\n    world.fill(from_me(1,-2,1), from_me(1,-2,4), \"glowstone\")\n    world.set(from_me(0,-1,0), \"Prismarine\")\n    agent.teleport(start, facing=lookAt)\ndef reset_agent_location():\n    agent.teleport(start, facing=lookAt)\n@user-code\n"
    }
   },
   "outputs": [],
   "source": [
    "agent.give(\"wheat seeds\", 64, 1)\n",
    "\n",
    "# add you line of code above here!"
   ]
  },
  {
   "cell_type": "markdown",
   "metadata": {},
   "source": [
    "## Step 4\n",
    "\n",
    "Time to start planting the seeds!\n",
    "\n",
    "We're going to check if the area below the agent is `\"air\"`. If air *is* below the agent, then it will place a seed.\n",
    "\n",
    "To do this in Python we'll use an `if` statement, which can be used to run specific chunks of code *if* a condition is `true`.\n",
    "\n",
    "This is what an `if` statement looks like:\n",
    "```python\n",
    "if A == B:\n",
    "    # Code here runs if the A is the same as B\n",
    "```\n",
    "\n",
    "- `A` and `B`: The variables/code we want to check are the same.\n",
    "\n",
    "**Here's some code for you to tinker with. Why not compare things like numbers or text? If \"True\" is said, then they match!**"
   ]
  },
  {
   "cell_type": "code",
   "execution_count": null,
   "metadata": {},
   "outputs": [],
   "source": [
    "if \"Text\" == \"Text\":\n",
    "    say(\"True!\")"
   ]
  },
  {
   "cell_type": "markdown",
   "metadata": {},
   "source": [
    "To check blocks around the agent we can use `agent.inspect()`. When you run it, the agent checks the block and will return the block name which we can use in our code. For example \"dirt\" or \"air\".\n",
    "\n",
    "This is how it works:\n",
    "```python\n",
    "agent.inspect(direction)\n",
    "```\n",
    "\n",
    "`direction`: The direction we want to have the agent check. The directions are: `forward`, `back`, `left`, `right`, `up` and `down`.\n",
    "\n",
    "**Fix the code below to have the agent check that the block is `\"air\"` and not dirt.**"
   ]
  },
  {
   "cell_type": "code",
   "execution_count": null,
   "metadata": {
    "minecraft": {
     "onCodeCancelledCommand": "scoreboard players set @s codeExecution 0",
     "onCodeErrorCommand": "scoreboard players set @s codeExecution -1",
     "onCodeStartedCommand": "scoreboard players set @s codeExecution 1",
     "onCodeStoppedCommand": "scoreboard players set @s codeExecution 0",
     "onCodeSuccessfulCommand": "scoreboard players set @s codeExecution 2",
     "overridePython": "lookAt = from_me(2,1,6)\nstart = from_me(2,1,0)\ndef setup_farm():\n    world.fill(from_me(0,-1,0), from_me(2,-1,5), \"dirt\")\n    world.fill(from_me(0,0,0), from_me(2,5,5), \"air\")\n    world.fill(from_me(1,-1,1), from_me(1,-1,4), \"water\")\n    world.fill(from_me(1,-2,1), from_me(1,-2,4), \"glowstone\")\n    world.set(from_me(0,-1,0), \"Prismarine\")\n    agent.teleport(start, facing=lookAt)\ndef reset_agent_location():\n    agent.teleport(start, facing=lookAt)\n@user-code\n"
    }
   },
   "outputs": [],
   "source": [
    "agent.give(\"wheat seeds\", 64, 1)\n",
    "agent.till(\"down\")\n",
    "\n",
    "if agent.inspect(\"down\") == \"dirt\":\n",
    "    # Fix the line above\n",
    "    say(\"Found Air!\")"
   ]
  },
  {
   "cell_type": "markdown",
   "metadata": {},
   "source": [
    "Move on to the next section when you're ready!"
   ]
  }
 ],
 "metadata": {
  "kernelspec": {
   "display_name": "Python 3.8.2 64-bit",
   "language": "python",
   "name": "python38264bitf0bd70cbd61e4ba1aa971b50e3889abe"
  },
  "language_info": {
   "codemirror_mode": {
    "name": "ipython",
    "version": 3
   },
   "file_extension": ".py",
   "mimetype": "text/x-python",
   "name": "python",
   "nbconvert_exporter": "python",
   "pygments_lexer": "ipython3",
   "version": "3.8.1"
  },
  "minecraft": {
   "description": "Section 2",
   "page_id": "1.1",
   "page_name": "Section 2",
   "style": "minecraft.css"
  }
 },
 "nbformat": 4,
 "nbformat_minor": 4
}
