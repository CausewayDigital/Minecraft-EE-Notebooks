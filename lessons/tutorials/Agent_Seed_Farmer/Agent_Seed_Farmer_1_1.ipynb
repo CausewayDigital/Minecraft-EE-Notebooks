{
 "cells": [
  {
   "cell_type": "markdown",
   "metadata": {},
   "source": [
    "## Step 3\n",
    "\n",
    "Now that the farm has been setup we need to till the soil, to do this we can use `agent.till()`.\n",
    "\n",
    "Here's how it works\n",
    "```python\n",
    "agent.till(direction)\n",
    "```\n",
    "\n",
    "`direction`: This is the direction we want to till in, valid directions are: `forward`, `back`, `left`, `right`, `up` and `down`.\n",
    "\n",
    "Our agent is above the dirt, so we need to till `\"down\"`\n",
    "\n",
    "**Add the code to till the dirt `\"down\"` bellow the agent**"
   ]
  },
  {
   "cell_type": "code",
   "execution_count": null,
   "metadata": {
    "minecraft": {
     "onCodeCancelledCommand": "scoreboard players set @s codeExecution 0",
     "onCodeErrorCommand": "scoreboard players set @s codeExecution -1",
     "onCodeStartedCommand": "scoreboard players set @s codeExecution 1",
     "onCodeStoppedCommand": "scoreboard players set @s codeExecution 0",
     "onCodeSuccessfulCommand": "scoreboard players set @s codeExecution 2",
     "overridePython": "lookAt = from_me(2,1,6)\nstart = from_me(2,1,0)\ndef setup_farm():\n    world.fill(from_me(0,-1,0), from_me(2,-1,5), \"dirt\")\n    world.fill(from_me(0,0,0), from_me(2,5,5), \"air\")\n    world.fill(from_me(1,-1,1), from_me(1,-1,4), \"ice\")\n    world.fill(from_me(1,-2,1), from_me(1,-2,4), \"glowstone\")\n    world.set(from_me(0,-1,0), \"Prismarine\")\n    agent.teleport(start, facing=lookAt)\ndef reset_agent_location():\n    agent.teleport(start, facing=lookAt)\n@user-code\n"
    }
   },
   "outputs": [],
   "source": [
    "setup_farm()\n",
    "agent.give(\"wheat seeds\", 64, 1)\n",
    "\n",
    "\n",
    "# add you line of code above here!"
   ]
  },
  {
   "cell_type": "markdown",
   "metadata": {},
   "source": [
    "# Step 4\n",
    "\n",
    "Now lets start to plant the seeds. We're first going to check if the the area bellow the agent is `\"air\"`, if it is air, then we'll place a seed.\n",
    "\n",
    "To start are going to bring the agent back to wherre it started using `reset_agent_location()`. \n",
    "Then we'll use `if` statement to check if the block underneath equals `\"air\"`:\n",
    "\n",
    "This is now a equals `if` statement:\n",
    "```python\n",
    "if statment_1 == statment_2:\n",
    "    # Code here runs if the if statment is correct\n",
    "```\n",
    "\n",
    "`statment_1` and `statment_2`: These are the statment we want to check are equal to each other.\n",
    "\n",
    "To check the block around the agent we can use `agent.inspect()`.\n",
    "This is how it works:\n",
    "```python\n",
    "agent.inspect(direction)\n",
    "```\n",
    "\n",
    "`direction`: The direction we want to have the agent check in. The directions you can use are: `forward`, `back`, `left`, `right`, `up`, `down`.\n",
    "\n",
    "**Fix the code bellow to have the agent check that the block is `\"air\"` and not dirt**"
   ]
  },
  {
   "cell_type": "code",
   "execution_count": null,
   "metadata": {
    "minecraft": {
     "onCodeCancelledCommand": "scoreboard players set @s codeExecution 0",
     "onCodeErrorCommand": "scoreboard players set @s codeExecution -1",
     "onCodeStartedCommand": "scoreboard players set @s codeExecution 1",
     "onCodeStoppedCommand": "scoreboard players set @s codeExecution 0",
     "onCodeSuccessfulCommand": "scoreboard players set @s codeExecution 2",
     "overridePython": "lookAt = from_me(2,1,6)\nstart = from_me(2,1,0)\ndef setup_farm():\n    world.fill(from_me(0,-1,0), from_me(2,-1,5), \"dirt\")\n    world.fill(from_me(0,0,0), from_me(2,5,5), \"air\")\n    world.fill(from_me(1,-1,1), from_me(1,-1,4), \"ice\")\n    world.fill(from_me(1,-2,1), from_me(1,-2,4), \"glowstone\")\n    world.set(from_me(0,-1,0), \"Prismarine\")\n    agent.teleport(start, facing=lookAt)\ndef reset_agent_location():\n    agent.teleport(start, facing=lookAt)\n@user-code\n"
    }
   },
   "outputs": [],
   "source": [
    "setup_farm()\n",
    "agent.give(\"wheat seeds\", 64, 1)\n",
    "\n",
    "agent.till(\"down\")\n",
    "\n",
    "if agent.inspect(\"down\") == \"dirt\":\n",
    "    # Fix the line above\n",
    "    say(\"It's air bellow\")\n",
    "    "
   ]
  },
  {
   "cell_type": "markdown",
   "metadata": {},
   "source": [
    "Move on to the next section when you're ready!"
   ]
  }
 ],
 "metadata": {
  "kernelspec": {
   "display_name": "Python 3",
   "language": "python",
   "name": "python3"
  },
  "language_info": {
   "codemirror_mode": {
    "name": "ipython",
    "version": 3
   },
   "file_extension": ".py",
   "mimetype": "text/x-python",
   "name": "python",
   "nbconvert_exporter": "python",
   "pygments_lexer": "ipython3",
   "version": "3.8.1"
  },
  "minecraft": {
   "description": "Section 2",
   "page_id": "1.1",
   "page_name": "Section 2",
   "style": "minecraft.css"
  }
 },
 "nbformat": 4,
 "nbformat_minor": 4
}
