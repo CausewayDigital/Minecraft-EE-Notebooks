{
 "cells": [
  {
   "cell_type": "markdown",
   "metadata": {},
   "source": [
    "## Step 5\n",
    "\n",
    "So we've now got the code made for moving fowards a block and then placing a block behind it. But this only happens once, to build a whole wall we need to runs these 2 lines more then once. This is where `loops` come in handy. `loops` allow us to run sections of code over and over again for a set amount of times.\n",
    "\n",
    "Here's how we set them up.\n",
    "```python\n",
    "for count in range(repeat_for):\n",
    "    #code here runs for the number set in repeat_for\n",
    "```\n",
    "\n",
    "`repeat_for` this is the number of times we want to repeat the chunk of code to repeat for.\n",
    "\n",
    "**The code bellow one repeats twice(`1`), could you edit it so it repeats `10` times?"
   ]
  },
  {
   "cell_type": "code",
   "execution_count": null,
   "metadata": {
    "minecraft": {
     "onCodeCancelledCommand": "scoreboard players set @s codeExecution 0",
     "onCodeErrorCommand": "scoreboard players set @s codeExecution -1",
     "onCodeStartedCommand": "scoreboard players set @s codeExecution 1",
     "onCodeStoppedCommand": "scoreboard players set @s codeExecution 0",
     "onCodeSuccessfulCommand": "scoreboard players set @s codeExecution 2"
    }
   },
   "outputs": [],
   "source": [
    "agent.teleport()\n",
    "agent.give(\"Stone Bricks\", 64, 1)\n",
    "for count in range(2):\n",
    "    # Edit the line above to have it repeat 10 times instead of 2\n",
    "    agent.move(\"forward\")\n",
    "    agent.place(1, \"back\")"
   ]
  }
 ],
 "metadata": {
  "kernelspec": {
   "display_name": "Python 3",
   "language": "python",
   "name": "python3"
  },
  "language_info": {
   "codemirror_mode": {
    "name": "ipython",
    "version": 3
   },
   "file_extension": ".py",
   "mimetype": "text/x-python",
   "name": "python",
   "nbconvert_exporter": "python",
   "pygments_lexer": "ipython3",
   "version": "3.8.1"
  },
  "minecraft": {
   "description": "Section 3",
   "page_id": "1.2",
   "page_name": "Section 3",
   "style": "minecraft.css"
  }
 },
 "nbformat": 4,
 "nbformat_minor": 4
}
