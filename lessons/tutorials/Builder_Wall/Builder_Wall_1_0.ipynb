{
 "cells": [
  {
   "cell_type": "markdown",
   "metadata": {},
   "source": [
    "# Builder Wall\n",
    "\n",
    "Use agents to build objects and structures for us!"
   ]
  },
  {
   "cell_type": "markdown",
   "metadata": {},
   "source": [
    "## Step 1\n",
    "\n",
    "Minecraft has a litle helper we can call appon to give us a hand to build and do as we command it. These are called **agents**. We can program all sorts of jobs for our **agent** to do. In this tutorial we're going to have it build us a wall.\n",
    "\n",
    "To start off we need to give our agent some materials to build with. We can do this by using the `agent.give()` to give items to the agent.\n",
    "\n",
    "This is how we use it:\n",
    "```python\n",
    "agent.give(item, quantity, slot)\n",
    "```\n",
    "\n",
    "`item`: The item we want to give to the agent\n",
    "`quantity`: How many of the item we want to give to the agent.\n",
    "`slot`: The slot we want to place the item in\n",
    "\n",
    "**Try giving the agent `64` blocks of `\"Stone Bricks\"` in slot `1` down in the code bellow!**"
   ]
  },
  {
   "cell_type": "code",
   "execution_count": null,
   "metadata": {
    "minecraft": {
     "onCodeCancelledCommand": "scoreboard players set @s codeExecution 0",
     "onCodeErrorCommand": "scoreboard players set @s codeExecution -1",
     "onCodeStartedCommand": "scoreboard players set @s codeExecution 1",
     "onCodeStoppedCommand": "scoreboard players set @s codeExecution 0",
     "onCodeSuccessfulCommand": "scoreboard players set @s codeExecution 2"
    }
   },
   "outputs": [],
   "source": [
    "\n",
    "# Type you line of code above here."
   ]
  },
  {
   "cell_type": "markdown",
   "metadata": {},
   "source": [
    "## Step 2\n",
    "\n",
    "Now that we have given our agent some blocks to work with, lets have it move forward. To move our agent we can use `agent.move()`.\n",
    "\n",
    "Here's its usage:\n",
    "```python\n",
    "agent.move(direction)\n",
    "```\n",
    "\n",
    "`direction`: The direction we want to have the agent move in. The valid directions are: `forward`, `back`, `left`, `right`,`up`, `down`.\n",
    "\n",
    "**the code bellow seem to move the agent back? You mind fixing it so that the agent moves `\"forward\"` instead please?**"
   ]
  },
  {
   "cell_type": "code",
   "execution_count": null,
   "metadata": {
    "minecraft": {
     "onCodeCancelledCommand": "scoreboard players set @s codeExecution 0",
     "onCodeErrorCommand": "scoreboard players set @s codeExecution -1",
     "onCodeStartedCommand": "scoreboard players set @s codeExecution 1",
     "onCodeStoppedCommand": "scoreboard players set @s codeExecution 0",
     "onCodeSuccessfulCommand": "scoreboard players set @s codeExecution 2"
    }
   },
   "outputs": [],
   "source": [
    "agent.give(\"Stone Bricks\", 64, 1)\n",
    "agent.move(\"back\")\n",
    "# Correct the line above to have the agent move \"forward\", instead of \"back\"."
   ]
  },
  {
   "cell_type": "markdown",
   "metadata": {},
   "source": [
    "Great! When you're ready, press next to move to the next section of the project!"
   ]
  }
 ],
 "metadata": {
  "kernelspec": {
   "display_name": "Python 3",
   "language": "python",
   "name": "python3"
  },
  "language_info": {
   "codemirror_mode": {
    "name": "ipython",
    "version": 3
   },
   "file_extension": ".py",
   "mimetype": "text/x-python",
   "name": "python",
   "nbconvert_exporter": "python",
   "pygments_lexer": "ipython3",
   "version": "3.8.1"
  },
  "minecraft": {
   "description": "Section 1",
   "page_id": "1.0",
   "page_name": "Section 1",
   "style": "minecraft.css"
  }
 },
 "nbformat": 4,
 "nbformat_minor": 4
}
