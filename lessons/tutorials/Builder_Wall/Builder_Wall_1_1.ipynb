{
 "cells": [
  {
   "cell_type": "markdown",
   "metadata": {},
   "source": [
    "## Step 3\n",
    "\n",
    "Now that we have given our agent some blocks to work with, lets have it move forward. To move our agent we can use `agent.move()`.\n",
    "\n",
    "Here's its usage:\n",
    "```python\n",
    "agent.move(direction)\n",
    "```\n",
    "\n",
    "`direction`: The direction we want to have the agent move in. The valid directions are: `forward`, `back`, `left`, `right`,`up`, `down`.\n",
    "\n",
    "**the code bellow seem to move the agent back? You mind fixing it so that the agent moves `\"forward\"` instead please?**"
   ]
  },
  {
   "cell_type": "code",
   "execution_count": null,
   "metadata": {
    "minecraft": {
     "onCodeCancelledCommand": "scoreboard players set @s codeExecution 0",
     "onCodeErrorCommand": "scoreboard players set @s codeExecution -1",
     "onCodeStartedCommand": "scoreboard players set @s codeExecution 1",
     "onCodeStoppedCommand": "scoreboard players set @s codeExecution 0",
     "onCodeSuccessfulCommand": "scoreboard players set @s codeExecution 2"
    }
   },
   "outputs": [],
   "source": [
    "agent.give(\"Stone Bricks\", 64, 1)\n",
    "agent.move(\"back\")\n",
    "# Correct the line above to have the agent move \"forward\", instead of \"back\"."
   ]
  },
  {
   "cell_type": "markdown",
   "metadata": {},
   "source": [
    "## Step 4\n",
    "\n",
    "So now that the agent can move forward, lets make it place a block. We can use `agent.place()` for place down blocks as we go.\n",
    "\n",
    "This is how it's used:\n",
    "```python\n",
    "agent.place(slot number, direction)\n",
    "```\n",
    "\n",
    "`slot number`: The slot number inside the agent of which we want to place a block down from.\n",
    "`direction`: The direction to place down a block in, valid directions are: `forward`, `back`, `left`, `right`,`up`, `down`.\n",
    "\n",
    "**Hey could you add the line to have the agent place down a block `\"back\"` after it moves forwards from slot 1.**"
   ]
  },
  {
   "cell_type": "code",
   "execution_count": null,
   "metadata": {
    "minecraft": {
     "onCodeCancelledCommand": "scoreboard players set @s codeExecution 0",
     "onCodeErrorCommand": "scoreboard players set @s codeExecution -1",
     "onCodeStartedCommand": "scoreboard players set @s codeExecution 1",
     "onCodeStoppedCommand": "scoreboard players set @s codeExecution 0",
     "onCodeSuccessfulCommand": "scoreboard players set @s codeExecution 2"
    }
   },
   "outputs": [],
   "source": [
    "agent.give(\"Stone Bricks\", 64, 1)\n",
    "agent.move(\"forward\")\n",
    "\n",
    "# Place your line of code to place a block down from slot 1 at the \"back\" of the agent above this line!"
   ]
  }
 ],
 "metadata": {
  "kernelspec": {
   "display_name": "Python 3",
   "language": "python",
   "name": "python3"
  },
  "language_info": {
   "codemirror_mode": {
    "name": "ipython",
    "version": 3
   },
   "file_extension": ".py",
   "mimetype": "text/x-python",
   "name": "python",
   "nbconvert_exporter": "python",
   "pygments_lexer": "ipython3",
   "version": "3.8.1"
  },
  "minecraft": {
   "description": "Section 2",
   "page_id": "1.1",
   "page_name": "Section 2",
   "style": "minecraft.css"
  }
 },
 "nbformat": 4,
 "nbformat_minor": 4
}
