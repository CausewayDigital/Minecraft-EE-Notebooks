{
 "cells": [
  {
   "cell_type": "markdown",
   "metadata": {
    "minecraft": {
     "closeCodeBuilderOnRun": true,
     "onCodeCancelledCommand": "scoreboard players set @s codeExecution 0",
     "onCodeErrorCommand": "scoreboard players set @s codeExecution -1",
     "onCodeStartedCommand": "scoreboard players set @s codeExecution 1",
     "onCodeStoppedCommand": "scoreboard players set @s codeExecution 0",
     "onCodeSuccessfulCommand": "scoreboard players set @s codeExecution 2"
    }
   },
   "source": [
    "# Aquarium\n",
    "\n",
    "Build a nice, cozy aquarium for your marine friends!\n",
    "\n",
    "![Aquarium](Aquarium.gif)"
   ]
  },
  {
   "cell_type": "markdown",
   "metadata": {},
   "source": [
    "## Step 1\n",
    "\n",
    "To get started, you're going to make the glass bowl that will hold all of the sea creatures!\n",
    "\n",
    "For this, you're going to use the `world.fill` command. This command will let you fill an area of blocks from one location to another with a block you pick.\n",
    "\n",
    "To make sure the pool is built close to you, you're also going to use `from_me`.\n",
    "\n",
    "Here's how it looks:\n",
    "```python\n",
    "world.fill(start, end, block)\n",
    "```\n",
    "\n",
    "- `begin` and `end`: The locations you want to fill in between. \n",
    "- `block`: The block you want to fill with.\n",
    "\n",
    "**Finish the code below by setting the first `world.fill` to fill with `\"glass\"`, and the second one with `\"air\"` (instead of `\"stone\"`).**"
   ]
  },
  {
   "cell_type": "code",
   "execution_count": null,
   "metadata": {
    "minecraft": {
     "closeCodeBuilderOnRun": true,
     "onCodeCancelledCommand": "scoreboard players set @s codeExecution 0",
     "onCodeErrorCommand": "scoreboard players set @s codeExecution -1",
     "onCodeStartedCommand": "scoreboard players set @s codeExecution 1",
     "onCodeStoppedCommand": "scoreboard players set @s codeExecution 0",
     "onCodeSuccessfulCommand": "scoreboard players set @s codeExecution 2"
    }
   },
   "outputs": [],
   "source": [
    "world.fill(from_me(-2,-2,-2), from_me(2,3,2), \"stone\")\n",
    "world.fill(from_me(-1,-1,-1), from_me(1,3,1), \"stone\")\n",
    "# Finish the lines above with the correct block"
   ]
  },
  {
   "cell_type": "markdown",
   "metadata": {},
   "source": [
    "## Step 2\n",
    "\n",
    "Great job. Now time to add the water!\n",
    "\n",
    "For this, you're going to use the `world.fill` command again. But this time you're going to fill in the `from_me` command.\n",
    "\n",
    "Here's what it looks like:\n",
    "```python\n",
    "from_me(X, Y, Z)\n",
    "```\n",
    "\n",
    "- `X` , `Y` and `Z`: The number of blocks you want to offset the location from where you're standing.\n",
    "\n",
    "**Note**: Make sure you're standing in 1 block hole in the ground when you run this! If you're on an edge, the water will spill over and break your bowl.\n",
    "\n",
    "**To fill the bowl, add another `world.fill` command and set it to the same `start` and `end` as `\"air\"`. But instead, fill with `\"water\"`.**"
   ]
  },
  {
   "cell_type": "code",
   "execution_count": null,
   "metadata": {
    "minecraft": {
     "closeCodeBuilderOnRun": true,
     "onCodeCancelledCommand": "scoreboard players set @s codeExecution 0",
     "onCodeErrorCommand": "scoreboard players set @s codeExecution -1",
     "onCodeStartedCommand": "scoreboard players set @s codeExecution 1",
     "onCodeStoppedCommand": "scoreboard players set @s codeExecution 0",
     "onCodeSuccessfulCommand": "scoreboard players set @s codeExecution 2"
    }
   },
   "outputs": [],
   "source": [
    "world.fill(from_me(-2,-2,-2), from_me(2,3,2), \"glass\")\n",
    "world.fill(from_me(-1,-1,-1), from_me(1,3,1), \"air\")\n",
    "\n",
    "\n",
    "# Add another world.fill above"
   ]
  },
  {
   "cell_type": "markdown",
   "metadata": {},
   "source": [
    "Great! When you're ready, click next to go to the next section."
   ]
  }
 ],
 "metadata": {
  "kernelspec": {
   "display_name": "Python 3",
   "language": "python",
   "name": "python3"
  },
  "language_info": {
   "codemirror_mode": {
    "name": "ipython",
    "version": 3
   },
   "file_extension": ".py",
   "mimetype": "text/x-python",
   "name": "python",
   "nbconvert_exporter": "python",
   "pygments_lexer": "ipython3",
   "version": "3.7.5"
  },
  "minecraft": {
   "description": "Section 1",
   "page_id": "1.0",
   "page_name": "Section 1",
   "style": "minecraft.css"
  }
 },
 "nbformat": 4,
 "nbformat_minor": 4
}
