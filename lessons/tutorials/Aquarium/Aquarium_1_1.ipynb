{
 "cells": [
  {
   "cell_type": "markdown",
   "metadata": {
    "minecraft": {
     "closeCodeBuilderOnRun": true,
     "onCodeCancelledCommand": "scoreboard players set @s codeExecution 0",
     "onCodeErrorCommand": "scoreboard players set @s codeExecution -1",
     "onCodeStartedCommand": "scoreboard players set @s codeExecution 1",
     "onCodeStoppedCommand": "scoreboard players set @s codeExecution 0",
     "onCodeSuccessfulCommand": "scoreboard players set @s codeExecution 2"
    }
   },
   "source": [
    "## Step 3\n",
    "\n",
    "Now that the bowl is ready and filled with water, you can put lots and lots of fish in!\n",
    "\n",
    "For this, you'll use the `summon` command to summon all the fish.\n",
    "\n",
    "This is what it looks like:\n",
    "```python\n",
    "summon(animal, location)\n",
    "\n",
    "# Summon a fish, one block above the player\n",
    "summon(\"tropical fish\", from_me(0,1,0))\n",
    "```\n",
    "\n",
    "- `animal`: The name of the animal you want to summon. For example \"pig\" or \"chicken\".\n",
    "- `location`: Where the animal will be summoned. If you leave this out, it will summon where your player is.\n",
    "\n",
    "**Add code to summon a `\"pufferfish\"` where your player is (so leave out the location), and summon a `\"tropical fish\"` *two* blocks above you!**"
   ]
  },
  {
   "cell_type": "code",
   "execution_count": null,
   "metadata": {
    "minecraft": {
     "closeCodeBuilderOnRun": true,
     "onCodeCancelledCommand": "scoreboard players set @s codeExecution 0",
     "onCodeErrorCommand": "scoreboard players set @s codeExecution -1",
     "onCodeStartedCommand": "scoreboard players set @s codeExecution 1",
     "onCodeStoppedCommand": "scoreboard players set @s codeExecution 0",
     "onCodeSuccessfulCommand": "scoreboard players set @s codeExecution 2"
    }
   },
   "outputs": [],
   "source": [
    "world.fill(from_me(-2,-2,-2), from_me(2,3,2), \"glass\")\n",
    "world.fill(from_me(-1,-1,-1), from_me(1,3,1), \"air\")\n",
    "world.fill(from_me(-1,-1,-1), from_me(1,3,1), \"water\")\n",
    "\n",
    "\n",
    "\n",
    "# Add two summon commands above"
   ]
  },
  {
   "cell_type": "markdown",
   "metadata": {},
   "source": [
    "## Step 4\n",
    "\n",
    "With your fish bubbling about now, you should add some plants!\n",
    "\n",
    "Use the `world.set` command to place blocks in the world.\n",
    "\n",
    "This is how it's used:\n",
    "```python\n",
    "world.set(location, block)\n",
    "\n",
    "# Place some seagrass beside the player\n",
    "world.set(from_me(-1,0,0), \"seagrass\")\n",
    "```\n",
    "\n",
    "- `location`: Where the block will be placed.\n",
    "- `block`: The block you want to place.\n",
    "\n",
    "**Note**: To place a block beside your player, set the `X` or `Z` value in `from_me` to `0`, `1` or `-1`!\n",
    "\n",
    "**Set some `\"seagrass\"` to the first `world.set`, then and a `\"sea_pickle\"` beside you!**"
   ]
  },
  {
   "cell_type": "code",
   "execution_count": null,
   "metadata": {
    "minecraft": {
     "closeCodeBuilderOnRun": true,
     "onCodeCancelledCommand": "scoreboard players set @s codeExecution 0",
     "onCodeErrorCommand": "scoreboard players set @s codeExecution -1",
     "onCodeStartedCommand": "scoreboard players set @s codeExecution 1",
     "onCodeStoppedCommand": "scoreboard players set @s codeExecution 0",
     "onCodeSuccessfulCommand": "scoreboard players set @s codeExecution 2"
    }
   },
   "outputs": [],
   "source": [
    "world.fill(from_me(-2,-2,-2), from_me(2,3,2), \"glass\")\n",
    "world.fill(from_me(-1,-1,-1), from_me(1,3,1), \"air\")\n",
    "world.fill(from_me(-1,-1,-1), from_me(1,3,1), \"water\")\n",
    "\n",
    "summon(\"pufferfish\")\n",
    "summon(\"tropical fish\", from_me(0,2,0))\n",
    "\n",
    "world.set(from_me(0,0,0), \"\")\n",
    "world.set(    ,   )\n",
    "# Finish the code above"
   ]
  },
  {
   "cell_type": "markdown",
   "metadata": {},
   "source": [
    "# Extensions\n",
    "\n",
    "Why not try...\n",
    "- Summon more fish! Why not add some `\"salmon\"` or `\"cod\"`?\n",
    "- Make your aquarium bigger! (Don't forget about the water too)\n",
    "- Add more plants on the floor, like `\"kelp\"` or `\"coral\"`?\n",
    "- Using a `for loop`, can you add 100 fish?"
   ]
  }
 ],
 "metadata": {
  "kernelspec": {
   "display_name": "Python 3",
   "language": "python",
   "name": "python3"
  },
  "language_info": {
   "codemirror_mode": {
    "name": "ipython",
    "version": 3
   },
   "file_extension": ".py",
   "mimetype": "text/x-python",
   "name": "python",
   "nbconvert_exporter": "python",
   "pygments_lexer": "ipython3",
   "version": "3.7.5"
  },
  "minecraft": {
   "description": "Section 2",
   "page_id": "1.1",
   "page_name": "Section 2",
   "style": "minecraft.css"
  }
 },
 "nbformat": 4,
 "nbformat_minor": 4
}
