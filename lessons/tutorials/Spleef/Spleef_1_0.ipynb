{
 "cells": [
  {
   "cell_type": "markdown",
   "metadata": {},
   "source": [
    "# Spleef\n",
    "Let’s build a Spleef arena.\n",
    "\n",
    "\n",
    "**What is Spleef?**   \n",
    "Spleef is a multiplayer minigame that you can build in Minecraft. The players compete on a layer of snow, trying and dig the snow below other players to make them fall and knock them out. Last player on the snow wins!\n",
    "\n",
    "**GRIEFING ALERT!** This script can destroy your world!"
   ]
  },
  {
   "cell_type": "markdown",
   "metadata": {},
   "source": [
    "## Step 1\n",
    "\n",
    "First thing, you need to place down a lava pit for the players to fall into after they get *dropped* out of the arena.\n",
    "\n",
    "To do this you're going to use the `world.fill()` function to create a pool of lava.\n",
    "\n",
    "It's used like so:\n",
    "```python\n",
    "world.fill(begin, end, block)\n",
    "```\n",
    "- `begin` and `end`: The locations you want to fill between.\n",
    "- `block`: The block you want to fill with.\n",
    "\n",
    "For the location, you're also going to use `from_me()` to offset the location from your player by a number of blocks.\n",
    "\n",
    "**Make a lava pit that is `25` blocks by `25` blocks by changing the `end` location and setting the block to `\"lava\"`**"
   ]
  },
  {
   "cell_type": "code",
   "execution_count": null,
   "metadata": {
    "minecraft": {
     "closeCodeBuilderOnRun": true,
     "onCodeCancelledCommand": "scoreboard players set @s codeExecution 0",
     "onCodeErrorCommand": "scoreboard players set @s codeExecution -1",
     "onCodeStartedCommand": "scoreboard players set @s codeExecution 1",
     "onCodeStoppedCommand": "scoreboard players set @s codeExecution 0",
     "onCodeSuccessfulCommand": "scoreboard players set @s codeExecution 2"
    }
   },
   "outputs": [],
   "source": [
    "world.fill(from_me(0, -1, 0), from_me(10, -1, 10), )\n",
    "# Edit the line above to make it `25` blocks by `25` blocks and make it fill with \"lava\""
   ]
  },
  {
   "cell_type": "markdown",
   "metadata": {},
   "source": [
    "## Step 2\n",
    "\n",
    "Let's add a layer of snow to play on. To do this, you use `world.fill()` with `from_me()` again. \n",
    "\n",
    "This is how `from_me()` is used:\n",
    "```python\n",
    "from_me(X, Y, Z)\n",
    "\n",
    "```\n",
    "\n",
    "- `X` , `Y` and `Z`: The offset, in blocks, to the location from where you're player is.\n",
    "\n",
    "You want to place the snow *above* the lava and are both the lava the same size. This means you only change the `Y` value to a different height in the `from_me()` function for the snow layer.\n",
    "\n",
    "**Add a line of code that would create a layer of `\"snow\"` at the height (`Y`) of `4` instead of `-1`.**"
   ]
  },
  {
   "cell_type": "code",
   "execution_count": null,
   "metadata": {
    "minecraft": {
     "closeCodeBuilderOnRun": true,
     "onCodeCancelledCommand": "scoreboard players set @s codeExecution 0",
     "onCodeErrorCommand": "scoreboard players set @s codeExecution -1",
     "onCodeStartedCommand": "scoreboard players set @s codeExecution 1",
     "onCodeStoppedCommand": "scoreboard players set @s codeExecution 0",
     "onCodeSuccessfulCommand": "scoreboard players set @s codeExecution 2"
    }
   },
   "outputs": [],
   "source": [
    "world.fill(from_me(0, -1, 0), from_me(25, -1, 25), \"lava\")\n",
    "\n",
    "# Add your live above to create a layer of snow at a hight(Y) of 4."
   ]
  },
  {
   "cell_type": "markdown",
   "metadata": {},
   "source": [
    "Run your code and when you're ready, press next to move to the next section."
   ]
  }
 ],
 "metadata": {
  "kernelspec": {
   "display_name": "Python 3",
   "language": "python",
   "name": "python3"
  },
  "language_info": {
   "codemirror_mode": {
    "name": "ipython",
    "version": 3
   },
   "file_extension": ".py",
   "mimetype": "text/x-python",
   "name": "python",
   "nbconvert_exporter": "python",
   "pygments_lexer": "ipython3",
   "version": "3.8.3"
  },
  "minecraft": {
   "description": "Section 1",
   "page_id": "1.0",
   "page_name": "Section 1",
   "style": "minecraft.css"
  }
 },
 "nbformat": 4,
 "nbformat_minor": 4
}
