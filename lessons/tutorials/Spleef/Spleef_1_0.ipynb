{
 "cells": [
  {
   "cell_type": "markdown",
   "metadata": {},
   "source": [
    "# Spleef\n",
    "Let’s build a Spleef arena.\n",
    "\n",
    "**GREIFING ALERT!!! This mod will grief your blocks. Ask your friends before griefing their worlds.**"
   ]
  },
  {
   "cell_type": "markdown",
   "metadata": {},
   "source": [
    "## Step 1\n",
    "\n",
    "Now, lets get started with our Spleef arena! First thing's first, we need to place down a lava pit for our contestents to fall into after the get *dropped* out of the arena.\n",
    "\n",
    "To do this we're doing to use `world.fill()` to create a pool of lava.\n",
    "\n",
    "It's used like so:\n",
    "```python\n",
    "world.fill(begin, end, block)\n",
    "```\n",
    "`begin` and `end`: There's are the locations you want to fill in between.\n",
    "\n",
    "`block`: This is the block you want to fill with.\n",
    "\n",
    "Then for the location we're going to use `from_me()` to set the location relative to us.\n",
    "\n",
    "**Hey! Right now we're only making a 10x10 pool of lava, that seems a bit small, try and make it `25`x`25` instead!**"
   ]
  },
  {
   "cell_type": "code",
   "execution_count": null,
   "metadata": {
    "minecraft": {
     "onCodeCancelledCommand": "scoreboard players set @s codeExecution 0",
     "onCodeErrorCommand": "scoreboard players set @s codeExecution -1",
     "onCodeStartedCommand": "scoreboard players set @s codeExecution 1",
     "onCodeStoppedCommand": "scoreboard players set @s codeExecution 0",
     "onCodeSuccessfulCommand": "scoreboard players set @s codeExecution 2"
    }
   },
   "outputs": [],
   "source": [
    "world.fill(from_me(0, -1, 0), from_me(10, -1, 10), \"lava\")\n",
    "# Edit the line above to make it 25x25 instead of 10x10"
   ]
  },
  {
   "cell_type": "markdown",
   "metadata": {},
   "source": [
    "## Step 2\n",
    "\n",
    "Now that we have our lava placed down, lets add out layer of snow. To do this we can use `world.fill()` again.But we want to place the the snow above the lava, to do this we can change the numbers that are placed in `from_me()`\n",
    "\n",
    "This is now `from_me()` works:\n",
    "```python\n",
    "from_me(X, Y, Z)\n",
    "```\n",
    "`X` , `Y` and `Z`: These is how much you want to off set the location from where you're standing.\n",
    "\n",
    "**Mind add the code bellow to create a layer of `\"snow\"` at the hight(`Y`) of `4`**"
   ]
  },
  {
   "cell_type": "code",
   "execution_count": null,
   "metadata": {},
   "outputs": [],
   "source": [
    "world.fill(from_me(0, -1, 0), from_me(25, -1, 25), \"lava\")\n",
    "\n",
    "# Add your live above to create a layer of snow at a hight(Y) of 4."
   ]
  },
  {
   "cell_type": "markdown",
   "metadata": {},
   "source": [
    "When you've added the code, go and run your code and see if it create the Spleef arena.\n",
    "\n",
    "When you're ready, press next to move to the next section of the project!"
   ]
  }
 ],
 "metadata": {
  "kernelspec": {
   "display_name": "Python 3",
   "language": "python",
   "name": "python3"
  },
  "language_info": {
   "codemirror_mode": {
    "name": "ipython",
    "version": 3
   },
   "file_extension": ".py",
   "mimetype": "text/x-python",
   "name": "python",
   "nbconvert_exporter": "python",
   "pygments_lexer": "ipython3",
   "version": "3.8.1"
  },
  "minecraft": {
   "description": "Section 1",
   "page_id": "1.0",
   "page_name": "Section 1",
   "style": "minecraft.css"
  }
 },
 "nbformat": 4,
 "nbformat_minor": 4
}
