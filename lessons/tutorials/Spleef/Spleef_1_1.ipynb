{
 "cells": [
  {
   "cell_type": "markdown",
   "metadata": {
    "minecraft": {
     "onCodeCancelledCommand": "scoreboard players set @s codeExecution 0",
     "onCodeErrorCommand": "scoreboard players set @s codeExecution -1",
     "onCodeStartedCommand": "scoreboard players set @s codeExecution 1",
     "onCodeStoppedCommand": "scoreboard players set @s codeExecution 0",
     "onCodeSuccessfulCommand": "scoreboard players set @s codeExecution 2"
    }
   },
   "source": [
    "## Step 3\n",
    "\n",
    "Now that we have our spleef arena created, we need to be able to get everyone into the the arena.\n",
    "\n",
    "To do this we're going to first create a selector to select everyone in the same world as us.\n",
    "\n",
    "To do this we're doing to do\n",
    "```python\n",
    "players = player.Player(key=\"@a\")\n",
    "```\n",
    "\n",
    "They `key` is how we select everyone, for this we're using `@a` that select everyone.\n",
    "\n",
    "**Could you add the selector into the code bellow please?**"
   ]
  },
  {
   "cell_type": "code",
   "execution_count": null,
   "metadata": {
    "minecraft": {
     "onCodeCancelledCommand": "scoreboard players set @s codeExecution 0",
     "onCodeErrorCommand": "scoreboard players set @s codeExecution -1",
     "onCodeStartedCommand": "scoreboard players set @s codeExecution 1",
     "onCodeStoppedCommand": "scoreboard players set @s codeExecution 0",
     "onCodeSuccessfulCommand": "scoreboard players set @s codeExecution 2"
    }
   },
   "outputs": [],
   "source": [
    "world.fill(from_me(0, -1, 0), from_me(25, -1, 25), \"lava\")\n",
    "world.fill(from_me(0, 4, 0), from_me(25, 4, 25), \"snow\")\n",
    "\n",
    "# Add the code above here!"
   ]
  },
  {
   "cell_type": "markdown",
   "metadata": {},
   "source": [
    "## Step 4\n",
    "\n",
    "Now that we have added a selector for getting all the people around us, now we need to teleport them to the arena itself. To do this we can use the `players.teleport()` command. Then to state the location to teleport to we're going to use `from_me()` again.\n",
    "\n",
    "The teleport commands works like so:\n",
    "```python\n",
    "players.teleport(location)\n",
    "```\n",
    "\n",
    "`location`: This is the location to teleport players to.\n",
    "\n",
    "**Hey, the code below teleports players to a high of `2` blocks into lava, could you fix it and have them teleport to `8` instead?**"
   ]
  },
  {
   "cell_type": "code",
   "execution_count": null,
   "metadata": {
    "minecraft": {
     "onCodeCancelledCommand": "scoreboard players set @s codeExecution 0",
     "onCodeErrorCommand": "scoreboard players set @s codeExecution -1",
     "onCodeStartedCommand": "scoreboard players set @s codeExecution 1",
     "onCodeStoppedCommand": "scoreboard players set @s codeExecution 0",
     "onCodeSuccessfulCommand": "scoreboard players set @s codeExecution 2"
    }
   },
   "outputs": [],
   "source": [
    "world.fill(from_me(0, -1, 0), from_me(25, -1, 25), \"lava\")\n",
    "world.fill(from_me(0, 4, 0), from_me(25, 4, 25), \"snow\")\n",
    "players = player.Player(key=\"@a\")\n",
    "players.teleport(from_me(13, 2, 13))\n",
    "# Correct the line above to have the players teleport to a hight of 8 instead of 2."
   ]
  },
  {
   "cell_type": "markdown",
   "metadata": {},
   "source": [
    "Okay! When you're ready, press next to move to the next section of the project!"
   ]
  }
 ],
 "metadata": {
  "kernelspec": {
   "display_name": "Python 3",
   "language": "python",
   "name": "python3"
  },
  "language_info": {
   "codemirror_mode": {
    "name": "ipython",
    "version": 3
   },
   "file_extension": ".py",
   "mimetype": "text/x-python",
   "name": "python",
   "nbconvert_exporter": "python",
   "pygments_lexer": "ipython3",
   "version": "3.8.1"
  },
  "minecraft": {
   "description": "Section 2",
   "page_id": "1.1",
   "page_name": "Section 2",
   "style": "minecraft.css"
  }
 },
 "nbformat": 4,
 "nbformat_minor": 4
}
