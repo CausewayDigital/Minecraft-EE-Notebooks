{
 "cells": [
  {
   "cell_type": "markdown",
   "metadata": {
    "minecraft": {
     "onCodeCancelledCommand": "scoreboard players set @s codeExecution 0",
     "onCodeErrorCommand": "scoreboard players set @s codeExecution -1",
     "onCodeStartedCommand": "scoreboard players set @s codeExecution 1",
     "onCodeStoppedCommand": "scoreboard players set @s codeExecution 0",
     "onCodeSuccessfulCommand": "scoreboard players set @s codeExecution 2"
    }
   },
   "source": [
    "## Step 3\n",
    "\n",
    "Now that we have our spleef arena created, we need to be able to get everyone into the the arena.\n",
    "\n",
    "To do this we need to teleport everyone to the arena itself. To do this we can use the `users.teleport()` command. Then to state the location to teleport to we're going to use `from_me()` again.\n",
    "\n",
    "The teleport commands works like so:\n",
    "```python\n",
    "users.teleport(location)\n",
    "```\n",
    "\n",
    "`location`: This is the location to teleport players to.\n",
    "\n",
    "**Hey, the code below teleports players to a high of `2` blocks into lava, could you fix it and have them teleport to `8` instead?**"
   ]
  },
  {
   "cell_type": "code",
   "execution_count": null,
   "metadata": {
    "minecraft": {
     "onCodeCancelledCommand": "scoreboard players set @s codeExecution 0",
     "onCodeErrorCommand": "scoreboard players set @s codeExecution -1",
     "onCodeStartedCommand": "scoreboard players set @s codeExecution 1",
     "onCodeStoppedCommand": "scoreboard players set @s codeExecution 0",
     "onCodeSuccessfulCommand": "scoreboard players set @s codeExecution 2",
     "overridePython": "import minecraft.player as player\nusers = player.Player(key=\"@a\")\n@user-code\n"
    }
   },
   "outputs": [],
   "source": [
    "world.fill(from_me(0, -1, 0), from_me(25, -1, 25), \"lava\")\n",
    "world.fill(from_me(0, 4, 0), from_me(25, 4, 25), \"snow\")\n",
    "\n",
    "# Add the code above here!"
   ]
  },
  {
   "cell_type": "markdown",
   "metadata": {},
   "source": [
    "## Step 4\n",
    "\n",
    "The final step we need to do is that we need to set everyone to survival mode before the game of spleef can start, to do this we can use the `users.gamemode()` command.\n",
    "\n",
    "This is how you use it:\n",
    "```python\n",
    "users.gamemode(mode)\n",
    "```\n",
    "\n",
    "`mode`: This is the mode we want to set the players to, e.g `\"Survival\"`, `\"Creative\"`.\n",
    "\n",
    "**Could you add the line of code to switch the users' gamemode to `\"survival\"` down below please?**"
   ]
  },
  {
   "cell_type": "code",
   "execution_count": null,
   "metadata": {
    "minecraft": {
     "onCodeCancelledCommand": "scoreboard players set @s codeExecution 0",
     "onCodeErrorCommand": "scoreboard players set @s codeExecution -1",
     "onCodeStartedCommand": "scoreboard players set @s codeExecution 1",
     "onCodeStoppedCommand": "scoreboard players set @s codeExecution 0",
     "onCodeSuccessfulCommand": "scoreboard players set @s codeExecution 2",
     "overridePython": "import minecraft.player as player\nusers = player.Player(key=\"@a\")\n@user-code\n"
    }
   },
   "outputs": [],
   "source": [
    "world.fill(from_me(0, -1, 0), from_me(25, -1, 25), \"lava\")\n",
    "world.fill(from_me(0, 4, 0), from_me(25, 4, 25), \"snow\")\n",
    "users.teleport(from_me(13, 8, 13))\n",
    "\n",
    "# Add you line of code to set the users' mode to \"survival\" above this line."
   ]
  },
  {
   "cell_type": "markdown",
   "metadata": {},
   "source": [
    "Once you have the program completed, go and give it a go and battle your friends to see who the spleef champion!\n",
    "\n",
    "**Remember to ask you friends if you're running this in a world that isn't yours!**"
   ]
  },
  {
   "cell_type": "markdown",
   "metadata": {},
   "source": [
    "# Extensions\n",
    "Here's some ideas to make spleef better!\n",
    "- Maybe give you and your friends a shovel at the start?\n",
    "- Multi-layered spleef Arena?\n"
   ]
  }
 ],
 "metadata": {
  "kernelspec": {
   "display_name": "Python 3",
   "language": "python",
   "name": "python3"
  },
  "language_info": {
   "codemirror_mode": {
    "name": "ipython",
    "version": 3
   },
   "file_extension": ".py",
   "mimetype": "text/x-python",
   "name": "python",
   "nbconvert_exporter": "python",
   "pygments_lexer": "ipython3",
   "version": "3.8.1"
  },
  "minecraft": {
   "description": "Section 2",
   "page_id": "1.1",
   "page_name": "Section 2",
   "style": "minecraft.css"
  }
 },
 "nbformat": 4,
 "nbformat_minor": 4
}
