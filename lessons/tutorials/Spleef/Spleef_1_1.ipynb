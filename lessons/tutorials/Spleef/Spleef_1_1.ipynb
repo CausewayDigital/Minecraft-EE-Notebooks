{
 "cells": [
  {
   "cell_type": "markdown",
   "metadata": {},
   "source": [
    "## Step 3\n",
    "\n",
    "Now that you have a spleef arena created, you need to be able to get all players into the the arena.\n",
    "\n",
    "For this you can use the `users.teleport()` command, which teleports all players to the arena. We're going to use `from_me()` again too.\n",
    "\n",
    "The teleport command works like so:\n",
    "```python\n",
    "users.teleport(location)\n",
    "```\n",
    "\n",
    "- `location`: The location to teleport players to.\n",
    "\n",
    "**Add a `from_me()` function to the `users.teleport()` function and set the values for `X`, `Y` and `Z` to `13`, `8` and `13`.**"
   ]
  },
  {
   "cell_type": "code",
   "execution_count": null,
   "metadata": {
    "minecraft": {
     "closeCodeBuilderOnRun": true,
     "onCodeCancelledCommand": "scoreboard players set @s codeExecution 0",
     "onCodeErrorCommand": "scoreboard players set @s codeExecution -1",
     "onCodeStartedCommand": "scoreboard players set @s codeExecution 1",
     "onCodeStoppedCommand": "scoreboard players set @s codeExecution 0",
     "onCodeSuccessfulCommand": "scoreboard players set @s codeExecution 2",
     "overridePython": "import minecraft.player as player\nusers = player.Player(key=\"@a\")\n@user-code\n"
    }
   },
   "outputs": [],
   "source": [
    "world.fill(from_me(0, -1, 0), from_me(25, -1, 25), \"lava\")\n",
    "world.fill(from_me(0, 4, 0), from_me(25, 4, 25), \"snow\")\n",
    "users.teleport()\n",
    "# Add the code above here!"
   ]
  },
  {
   "cell_type": "markdown",
   "metadata": {},
   "source": [
    "## Step 4\n",
    "\n",
    "Your final step is to set everyone's gamemode to survival before you start the game. To do this you can use the `users.gamemode()` function.\n",
    "\n",
    "This is how you use it:\n",
    "```python\n",
    "users.gamemode(mode)\n",
    "```\n",
    "\n",
    "- `mode`: The mode you want to set the players to. For example `\"Survival\"` or `\"Creative\"`.\n",
    "\n",
    "**Add the line of code to switch the user's gamemode to `\"survival\"`.**"
   ]
  },
  {
   "cell_type": "code",
   "execution_count": null,
   "metadata": {
    "minecraft": {
     "closeCodeBuilderOnRun": true,
     "onCodeCancelledCommand": "scoreboard players set @s codeExecution 0",
     "onCodeErrorCommand": "scoreboard players set @s codeExecution -1",
     "onCodeStartedCommand": "scoreboard players set @s codeExecution 1",
     "onCodeStoppedCommand": "scoreboard players set @s codeExecution 0",
     "onCodeSuccessfulCommand": "scoreboard players set @s codeExecution 2",
     "overridePython": "import minecraft.player as player\nusers = player.Player(key=\"@a\")\n@user-code\n"
    }
   },
   "outputs": [],
   "source": [
    "world.fill(from_me(0, -1, 0), from_me(25, -1, 25), \"lava\")\n",
    "world.fill(from_me(0, 4, 0), from_me(25, 4, 25), \"snow\")\n",
    "users.teleport(from_me(13, 8, 13))\n",
    "\n",
    "# Add you line of code to set the gamemode to \"survival\" above"
   ]
  },
  {
   "cell_type": "markdown",
   "metadata": {},
   "source": [
    "Once you have the program completed, run it and go and battle your friends to see who's the spleef champion!\n",
    "\n",
    "**Remember to ask you friends if you're running this in a world that isn't yours!**"
   ]
  },
  {
   "cell_type": "markdown",
   "metadata": {},
   "source": [
    "# Extensions\n",
    "Here's some ideas to make spleef better!\n",
    "- Give all players a shovel to help dig up the snow.\n",
    "- Have multiple layers of snow by having many `world.fill()` functions with a different `Y` value.\n",
    "- Have a wall around the arena so that no players can run away!"
   ]
  }
 ],
 "metadata": {
  "kernelspec": {
   "display_name": "Python 3",
   "language": "python",
   "name": "python3"
  },
  "language_info": {
   "codemirror_mode": {
    "name": "ipython",
    "version": 3
   },
   "file_extension": ".py",
   "mimetype": "text/x-python",
   "name": "python",
   "nbconvert_exporter": "python",
   "pygments_lexer": "ipython3",
   "version": "3.8.3"
  },
  "minecraft": {
   "description": "Section 2",
   "page_id": "1.1",
   "page_name": "Section 2",
   "style": "minecraft.css"
  }
 },
 "nbformat": 4,
 "nbformat_minor": 4
}
