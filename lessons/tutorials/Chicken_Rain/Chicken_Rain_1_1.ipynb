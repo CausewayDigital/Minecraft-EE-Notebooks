{
 "cells": [
  {
   "cell_type": "markdown",
   "metadata": {},
   "source": [
    "## Step 3\n",
    "\n",
    "Use the `summon()` function to bring chickens into your world! \n",
    "\n",
    "Here's what it looks like:\n",
    "```python\n",
    "summon(animal, location)\n",
    "```\n",
    "\n",
    "- `animal`: The name of the animal you want to summon. For example \"pig\" or \"chicken\".\n",
    "- `location`: Where the animal will be summoned to.\n",
    "\n",
    "For example, if you want to summon a pig 2 blocks above us, you would use\n",
    "```python\n",
    "summon(\"pig\", \"~ ~2 ~\")\n",
    "```\n",
    "\n",
    "Using `\"~ ~ ~\"` means your current location/coordinates in the world. Putting a number after any of the `~` will change it to another location around you. \n",
    "\n",
    "**Complete the `summon()` command by setting it to summon a `\"chicken\"` 5 blocks above the player**"
   ]
  },
  {
   "cell_type": "code",
   "execution_count": null,
   "metadata": {
    "minecraft": {
     "closeCodeBuilderOnRun": true,
     "onCodeCancelledCommand": "scoreboard players set @s codeExecution 0",
     "onCodeErrorCommand": "scoreboard players set @s codeExecution -1",
     "onCodeStartedCommand": "scoreboard players set @s codeExecution 1",
     "onCodeStoppedCommand": "scoreboard players set @s codeExecution 0",
     "onCodeSuccessfulCommand": "scoreboard players set @s codeExecution 2"
    }
   },
   "outputs": [],
   "source": [
    "chickens = 100\n",
    "for count in range(chickens):\n",
    "    summon() # Complete the code here!\n",
    "    say(count)"
   ]
  },
  {
   "cell_type": "markdown",
   "metadata": {},
   "source": [
    "Once you have changed your code, run it and you should be able to summon lots and lots of chickens!"
   ]
  },
  {
   "cell_type": "markdown",
   "metadata": {},
   "source": [
    "# Extensions\n",
    "\n",
    "- Summon many animals at the same time by repeating the `summon()` function with different animals\n",
    "- Change the summon location to be higher! "
   ]
  }
 ],
 "metadata": {
  "kernelspec": {
   "display_name": "Python 3",
   "language": "python",
   "name": "python3"
  },
  "language_info": {
   "codemirror_mode": {
    "name": "ipython",
    "version": 3
   },
   "file_extension": ".py",
   "mimetype": "text/x-python",
   "name": "python",
   "nbconvert_exporter": "python",
   "pygments_lexer": "ipython3",
   "version": "3.8.3"
  },
  "minecraft": {
   "description": "Section 2",
   "page_id": "1.1",
   "page_name": "Section 2",
   "style": "minecraft.css"
  }
 },
 "nbformat": 4,
 "nbformat_minor": 4
}
