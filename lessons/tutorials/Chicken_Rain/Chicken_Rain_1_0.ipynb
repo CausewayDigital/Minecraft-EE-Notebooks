{
 "cells": [
  {
   "cell_type": "markdown",
   "metadata": {},
   "source": [
    "# Chicken Rain\n",
    "\n",
    "Get started with coding in Minecraft! Why not add some life to your world? Maybe a chicken… No, let’s have **LOTS OF CHICKENS**!!!\n",
    "\n",
    "![Chicken Rain](chickenrain.gif)"
   ]
  },
  {
   "cell_type": "markdown",
   "metadata": {},
   "source": [
    "## Step 1\n",
    "\n",
    "To start, you will need to make a `variable` to store the number of chickens you want to create. `Variables` can hold information that you want to store and use later in your code.\n",
    "\n",
    "Here's what creating a new variable would look like:\n",
    "```python\n",
    "name = value\n",
    "```\n",
    "- `name`: The name of the variable.\n",
    "- `value`: Data stored in the variable. It could be text or a number, like `\"Hello\"` or `15`!\n",
    "\n",
    "**Create a new variable called `chickens`, and set it equal to `100`.**"
   ]
  },
  {
   "cell_type": "code",
   "execution_count": null,
   "metadata": {
    "minecraft": {
     "closeCodeBuilderOnRun": true,
     "onCodeCancelledCommand": "scoreboard players set @s codeExecution 0",
     "onCodeErrorCommand": "scoreboard players set @s codeExecution -1",
     "onCodeStartedCommand": "scoreboard players set @s codeExecution 1",
     "onCodeStoppedCommand": "scoreboard players set @s codeExecution 0",
     "onCodeSuccessfulCommand": "scoreboard players set @s codeExecution 2"
    }
   },
   "outputs": [],
   "source": [
    "\n",
    "\n",
    "# Put your code above this comment. When you're finished, press run!\n",
    "say(chickens)"
   ]
  },
  {
   "cell_type": "markdown",
   "metadata": {},
   "source": [
    "## Step 2\n",
    "\n",
    "To make lots of chickens, you will need to use something called a `loop`. A `loop` will let you repeat a section of code, as many times as you want. \n",
    "\n",
    "Here is what a for `loop` looks like:\n",
    "```python\n",
    "for count in range(repeat_for):\n",
    "    # code here runs for the number set in repeat_for\n",
    "```\n",
    "\n",
    "For your code, you would want to repeat for the value set to your `chickens` variable.\n",
    "\n",
    "**Change the variable `repeat` to `chickens`  in the loop below. Then add a `say` function to say the variable `count`.**"
   ]
  },
  {
   "cell_type": "code",
   "execution_count": null,
   "metadata": {
    "minecraft": {
     "closeCodeBuilderOnRun": true,
     "onCodeCancelledCommand": "scoreboard players set @s codeExecution 0",
     "onCodeErrorCommand": "scoreboard players set @s codeExecution -1",
     "onCodeStartedCommand": "scoreboard players set @s codeExecution 1",
     "onCodeStoppedCommand": "scoreboard players set @s codeExecution 0",
     "onCodeSuccessfulCommand": "scoreboard players set @s codeExecution 2"
    }
   },
   "outputs": [],
   "source": [
    "chickens = 100\n",
    "for count in range(repeat):\n",
    "    # Change this for loop\n",
    "    \n",
    "    \n",
    "    # Add your say command here"
   ]
  },
  {
   "cell_type": "markdown",
   "metadata": {},
   "source": [
    "When you're ready, press next to continue."
   ]
  }
 ],
 "metadata": {
  "kernelspec": {
   "display_name": "Python 3",
   "language": "python",
   "name": "python3"
  },
  "language_info": {
   "codemirror_mode": {
    "name": "ipython",
    "version": 3
   },
   "file_extension": ".py",
   "mimetype": "text/x-python",
   "name": "python",
   "nbconvert_exporter": "python",
   "pygments_lexer": "ipython3",
   "version": "3.7.5"
  },
  "minecraft": {
   "description": "Section 1",
   "page_id": "1.0",
   "page_name": "Section 1",
   "style": "minecraft.css"
  }
 },
 "nbformat": 4,
 "nbformat_minor": 4
}
