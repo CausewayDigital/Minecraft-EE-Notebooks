{
 "cells": [
  {
   "cell_type": "markdown",
   "metadata": {},
   "source": [
    "## Step 5\n",
    "\n",
    "So you've got the code for your agent moving fowards and then placing a block behind it.   \n",
    "This only happens once though... To build a whole wall you'll need to run it more then once. \n",
    "\n",
    "This is where `loops` come in handy! `Loops` allow you to run sections of code over and over again for a set amount of times.\n",
    "\n",
    "Here's how you can set them up:\n",
    "```python\n",
    "for count in range(repeat_for):\n",
    "    #code here runs for the number set in repeat_for\n",
    "```\n",
    "\n",
    "- `repeat_for`: The number of times you want to repeat the section of code.\n",
    "\n",
    "**The code below only repeats 2 times... Could you edit it so it repeats `10` times?**"
   ]
  },
  {
   "cell_type": "code",
   "execution_count": null,
   "metadata": {
    "minecraft": {
     "closeCodeBuilderOnRun": true,
     "onCodeCancelledCommand": "scoreboard players set @s codeExecution 0",
     "onCodeErrorCommand": "scoreboard players set @s codeExecution -1",
     "onCodeStartedCommand": "scoreboard players set @s codeExecution 1",
     "onCodeStoppedCommand": "scoreboard players set @s codeExecution 0",
     "onCodeSuccessfulCommand": "scoreboard players set @s codeExecution 2"
    }
   },
   "outputs": [],
   "source": [
    "agent.give(\"stone brick\", 64, 1)\n",
    "for count in range(2):\n",
    "    # Edit the line above to have it repeat 10 times instead of 2\n",
    "    agent.move(\"forward\")\n",
    "    agent.place(1, \"back\")"
   ]
  },
  {
   "cell_type": "markdown",
   "metadata": {},
   "source": [
    "Run your code and see your agent build for you!"
   ]
  },
  {
   "cell_type": "markdown",
   "metadata": {},
   "source": [
    "## Extensions\n",
    "Here are a few challenges to try and get the agent to do!\n",
    "\n",
    "- Make a tall wall instead of being one block high. Maybe move forward, place behind you, then move up and repeat?\n",
    "- Make it build 4 walls in one go? By building one wall, then turning at the end to build another wall!    \n",
    "*Hint*: You will want to use `agent.turn()`!\n",
    "- Use different blocks as your agent is building, why not add some `glass` in for example??"
   ]
  }
 ],
 "metadata": {
  "kernelspec": {
   "display_name": "Python 3",
   "language": "python",
   "name": "python3"
  },
  "language_info": {
   "codemirror_mode": {
    "name": "ipython",
    "version": 3
   },
   "file_extension": ".py",
   "mimetype": "text/x-python",
   "name": "python",
   "nbconvert_exporter": "python",
   "pygments_lexer": "ipython3",
   "version": "3.8.1"
  },
  "minecraft": {
   "description": "Section 3",
   "page_id": "1.2",
   "page_name": "Section 3",
   "style": "minecraft.css"
  }
 },
 "nbformat": 4,
 "nbformat_minor": 4
}
