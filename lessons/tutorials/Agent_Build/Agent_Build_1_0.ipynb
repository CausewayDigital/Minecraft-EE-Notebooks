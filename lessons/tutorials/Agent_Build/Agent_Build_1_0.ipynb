{
 "cells": [
  {
   "cell_type": "markdown",
   "metadata": {},
   "source": [
    "# Agent Build\n",
    "\n",
    "Use agents to build structures for us!\n",
    "\n",
    "![Agent Build](agent-build.gif)"
   ]
  },
  {
   "cell_type": "markdown",
   "metadata": {},
   "source": [
    "## Step 1\n",
    "\n",
    "Minecraft has a little helper that can give us a hand to build. These little robots are called **Agents**! We can program all sorts of jobs and tasks for our agent to do. In this tutorial, we're going to have it build us a wall.\n",
    "\n",
    "To start off, we'll teleport our agent to us. To teleport your agent, you can use the `agent.teleport` function.\n",
    "\n",
    "Here's what it looks like;\n",
    "```python\n",
    "agent.teleport(location)\n",
    "```\n",
    "\n",
    "- `location`: The location that we want our agent to go to. If we leave this empty, the agent will teleport to it's owner/player.\n",
    "\n",
    "**Run the code below to teleport your agent to you!**"
   ]
  },
  {
   "cell_type": "code",
   "execution_count": null,
   "metadata": {
    "minecraft": {
     "closeCodeBuilderOnRun": true,
     "onCodeCancelledCommand": "scoreboard players set @s codeExecution 0",
     "onCodeErrorCommand": "scoreboard players set @s codeExecution -1",
     "onCodeStartedCommand": "scoreboard players set @s codeExecution 1",
     "onCodeStoppedCommand": "scoreboard players set @s codeExecution 0",
     "onCodeSuccessfulCommand": "scoreboard players set @s codeExecution 2",
     "readonly": true
    }
   },
   "outputs": [],
   "source": [
    "agent.teleport()"
   ]
  },
  {
   "cell_type": "markdown",
   "metadata": {},
   "source": [
    "## Step 2\n",
    "\n",
    "Now we need to give our agent some materials to build with. We can do this by using the `agent.give()` function to give items to the agent.\n",
    "\n",
    "This is how we use it:\n",
    "```python\n",
    "agent.give(item, quantity, slot)\n",
    "```\n",
    "\n",
    "- `item`: The item we want to give to the agent.\n",
    "- `quantity`: How much of the item we want to give to the agent.\n",
    "- `slot`: The slot we want to place the item in.\n",
    "\n",
    "**Try giving the agent `64` blocks of `\"stone brick\"` in slot `1`, in the code below!**"
   ]
  },
  {
   "cell_type": "code",
   "execution_count": null,
   "metadata": {
    "minecraft": {
     "onCodeCancelledCommand": "scoreboard players set @s codeExecution 0",
     "onCodeErrorCommand": "scoreboard players set @s codeExecution -1",
     "onCodeStartedCommand": "scoreboard players set @s codeExecution 1",
     "onCodeStoppedCommand": "scoreboard players set @s codeExecution 0",
     "onCodeSuccessfulCommand": "scoreboard players set @s codeExecution 2"
    }
   },
   "outputs": [],
   "source": [
    "agent.teleport()\n",
    "\n",
    "\n",
    "# Type you line of code above here."
   ]
  },
  {
   "cell_type": "markdown",
   "metadata": {},
   "source": [
    "Great! When you're ready, press next to move to the next section of the project!"
   ]
  }
 ],
 "metadata": {
  "kernelspec": {
   "display_name": "Python 3",
   "language": "python",
   "name": "python3"
  },
  "language_info": {
   "codemirror_mode": {
    "name": "ipython",
    "version": 3
   },
   "file_extension": ".py",
   "mimetype": "text/x-python",
   "name": "python",
   "nbconvert_exporter": "python",
   "pygments_lexer": "ipython3",
   "version": "3.7.5"
  },
  "minecraft": {
   "description": "Section 1",
   "page_id": "1.0",
   "page_name": "Section 1",
   "style": "minecraft.css"
  }
 },
 "nbformat": 4,
 "nbformat_minor": 4
}
