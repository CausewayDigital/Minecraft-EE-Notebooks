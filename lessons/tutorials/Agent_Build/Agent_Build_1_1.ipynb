{
 "cells": [
  {
   "cell_type": "markdown",
   "metadata": {},
   "source": [
    "## Step 3\n",
    "\n",
    "Now that you have given your agent some blocks to work with, you need to make it move forward. To move your agent you can use `agent.move()`.\n",
    "\n",
    "Here's how to use it:\n",
    "```python\n",
    "agent.move(direction)\n",
    "```\n",
    "\n",
    "- `direction`: The direction you want to have the agent move in. The valid directions are: `forward`, `back`, `left`, `right`,`up` and `down`.\n",
    "\n",
    "**Can you add a line of code to move your agent \"forward\" below?**"
   ]
  },
  {
   "cell_type": "code",
   "execution_count": null,
   "metadata": {
    "minecraft": {
     "closeCodeBuilderOnRun": true,
     "onCodeCancelledCommand": "scoreboard players set @s codeExecution 0",
     "onCodeErrorCommand": "scoreboard players set @s codeExecution -1",
     "onCodeStartedCommand": "scoreboard players set @s codeExecution 1",
     "onCodeStoppedCommand": "scoreboard players set @s codeExecution 0",
     "onCodeSuccessfulCommand": "scoreboard players set @s codeExecution 2"
    }
   },
   "outputs": [],
   "source": [
    "agent.give(\"stone brick\", 64, 1)\n",
    "\n",
    "\n",
    "# Add the code to move the agent \"forward\" above"
   ]
  },
  {
   "cell_type": "markdown",
   "metadata": {},
   "source": [
    "## Step 4\n",
    "\n",
    "So now that the agent can move forward, it now needs to place a block. You can use `agent.place()` for placing down blocks as it goes along.\n",
    "\n",
    "This is how it's used:\n",
    "```python\n",
    "agent.place(slot, direction)\n",
    "```\n",
    "\n",
    "- `slot`: The slot number inside the agent's inventory that you want to place a block down from.\n",
    "- `direction`: The direction to place the block. Valid directions are: `forward`, `back`, `left`, `right`,`up`, `down`.\n",
    "\n",
    "**Could you add the code to have the agent place down a block `\"back\"` from slot 1?**"
   ]
  },
  {
   "cell_type": "code",
   "execution_count": null,
   "metadata": {
    "minecraft": {
     "closeCodeBuilderOnRun": true,
     "onCodeCancelledCommand": "scoreboard players set @s codeExecution 0",
     "onCodeErrorCommand": "scoreboard players set @s codeExecution -1",
     "onCodeStartedCommand": "scoreboard players set @s codeExecution 1",
     "onCodeStoppedCommand": "scoreboard players set @s codeExecution 0",
     "onCodeSuccessfulCommand": "scoreboard players set @s codeExecution 2"
    }
   },
   "outputs": [],
   "source": [
    "agent.give(\"stone brick\", 64, 1)\n",
    "agent.move(\"forward\")\n",
    "\n",
    "\n",
    "# Add your line of code to place a block down, from slot 1, at the \"back\" of the agent, above!"
   ]
  }
 ],
 "metadata": {
  "kernelspec": {
   "display_name": "Python 3",
   "language": "python",
   "name": "python3"
  },
  "language_info": {
   "codemirror_mode": {
    "name": "ipython",
    "version": 3
   },
   "file_extension": ".py",
   "mimetype": "text/x-python",
   "name": "python",
   "nbconvert_exporter": "python",
   "pygments_lexer": "ipython3",
   "version": "3.8.1"
  },
  "minecraft": {
   "description": "Section 2",
   "page_id": "1.1",
   "page_name": "Section 2",
   "style": "minecraft.css"
  }
 },
 "nbformat": 4,
 "nbformat_minor": 4
}
