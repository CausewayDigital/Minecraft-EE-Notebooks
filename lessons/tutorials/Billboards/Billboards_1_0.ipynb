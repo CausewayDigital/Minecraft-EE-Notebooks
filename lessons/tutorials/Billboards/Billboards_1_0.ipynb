{
 "cells": [
  {
   "cell_type": "markdown",
   "metadata": {},
   "source": [
    "# Billboards!\n",
    "\n",
    "**Let our message be herd!**\n",
    "\n",
    "For this tutorial we're going to use Minecraft's built in `titles` to show messages on screen when we run our code. We can use `titles` to Show diffrent parts of a message, and control how they appear on screen."
   ]
  },
  {
   "cell_type": "markdown",
   "metadata": {},
   "source": [
    "## Step 1\n",
    "\n",
    "To use `titles` we going to need to use `show_title()` to tell Minecraft what we want to start, to start how about we place our main **tittle** on screen.\n",
    "\n",
    "To do this we do the following:\n",
    "```python\n",
    "show_title(title)\n",
    "```\n",
    "\n",
    "`title`: This is the title we want to show in game, and can be any text. However all our text needs to be contained  inbetween speechmarks(`\"`) so Minecraft know what to show.\n",
    "\n",
    "**Try editing the title in the code bellow and see what shows**"
   ]
  },
  {
   "cell_type": "code",
   "execution_count": null,
   "metadata": {
    "minecraft": {
     "onCodeCancelledCommand": "scoreboard players set @s codeExecution 0",
     "onCodeErrorCommand": "scoreboard players set @s codeExecution -1",
     "onCodeStartedCommand": "scoreboard players set @s codeExecution 1",
     "onCodeStoppedCommand": "scoreboard players set @s codeExecution 0",
     "onCodeSuccessfulCommand": "scoreboard players set @s codeExecution 2"
    }
   },
   "outputs": [],
   "source": [
    "show_title(\"Hey! Look at me!\")"
   ]
  },
  {
   "cell_type": "markdown",
   "metadata": {},
   "source": [
    "## Step 2\n",
    "\n",
    "So we can show a title now, ins't that cool? But we can show even more text. **Subtitles** can be used to show text bellow a title. **Subtitles** are add some info to the main **title**.\n",
    "\n",
    "Here's how subtitles are added:\n",
    "```python\n",
    "show_title(title, subtitle)\n",
    "```\n",
    "\n",
    "`subtitle`: This is the subtitle we want, and like the title, they need to be inbetween speechmarks(`\"`) again.\n",
    "\n",
    "The `show_title()` commands takes in multiple bits on infomation and the comma(`,`) splits up the bits of infomation.\n",
    "\n",
    "**You want to try and add the subtitle to the code bellow? Then run you code!**"
   ]
  },
  {
   "cell_type": "code",
   "execution_count": null,
   "metadata": {
    "minecraft": {
     "onCodeCancelledCommand": "scoreboard players set @s codeExecution 0",
     "onCodeErrorCommand": "scoreboard players set @s codeExecution -1",
     "onCodeStartedCommand": "scoreboard players set @s codeExecution 1",
     "onCodeStoppedCommand": "scoreboard players set @s codeExecution 0",
     "onCodeSuccessfulCommand": "scoreboard players set @s codeExecution 2"
    }
   },
   "outputs": [],
   "source": [
    "show_title(\"Hey! Look at me!\")\n",
    "# End it the line above to add the subtitle. Don't forget about you speachmarks and commas!"
   ]
  },
  {
   "cell_type": "markdown",
   "metadata": {},
   "source": [
    "Ooooo, that looks cool! hen you're ready, press next to move to the next section of the project!"
   ]
  }
 ],
 "metadata": {
  "kernelspec": {
   "display_name": "Python 3",
   "language": "python",
   "name": "python3"
  },
  "language_info": {
   "codemirror_mode": {
    "name": "ipython",
    "version": 3
   },
   "file_extension": ".py",
   "mimetype": "text/x-python",
   "name": "python",
   "nbconvert_exporter": "python",
   "pygments_lexer": "ipython3",
   "version": "3.8.1"
  },
  "minecraft": {
   "description": "Section 1",
   "page_id": "1.0",
   "page_name": "Section 1",
   "style": "minecraft.css"
  }
 },
 "nbformat": 4,
 "nbformat_minor": 4
}
