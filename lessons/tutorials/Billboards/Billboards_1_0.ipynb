{
 "cells": [
  {
   "cell_type": "markdown",
   "metadata": {},
   "source": [
    "# Billboards!\n",
    "\n",
    "**Let your message be heard!**\n",
    "\n",
    "For this tutorial you're going to use Minecraft's built in `titles` to show messages on your screen."
   ]
  },
  {
   "cell_type": "markdown",
   "metadata": {},
   "source": [
    "## Step 1\n",
    "\n",
    "To show `titles`, you use the `show_title()` command and give it some text to show.\n",
    "\n",
    "This is what the code looks like:\n",
    "```python\n",
    "show_title(title)\n",
    "```\n",
    "\n",
    "- `title`: The title you want to show in game.\n",
    "\n",
    "**Note**: All text must be in between quotation marks(`\"`)!\n",
    "\n",
    "**Type your name in between the quotation marks below, then press run to show it!**"
   ]
  },
  {
   "cell_type": "code",
   "execution_count": null,
   "metadata": {
    "minecraft": {
     "closeCodeBuilderOnRun": true,
     "onCodeCancelledCommand": "scoreboard players set @s codeExecution 0",
     "onCodeErrorCommand": "scoreboard players set @s codeExecution -1",
     "onCodeStartedCommand": "scoreboard players set @s codeExecution 1",
     "onCodeStoppedCommand": "scoreboard players set @s codeExecution 0",
     "onCodeSuccessfulCommand": "scoreboard players set @s codeExecution 2"
    }
   },
   "outputs": [],
   "source": [
    "show_title(\"   \")\n",
    "# Type your name in above"
   ]
  },
  {
   "cell_type": "markdown",
   "metadata": {},
   "source": [
    "## Step 2\n",
    "\n",
    "Great, you can show a `title` now? But you can show even more text! `Subtitles` can be used to show smaller text below a `title`.\n",
    "\n",
    "Here's how subtitles are used:\n",
    "```python\n",
    "show_title(title, subtitle)\n",
    "```\n",
    "- `title`: The title you want to show in game.\n",
    "- `subtitle`: The subtitle you want to show in game.\n",
    "\n",
    "**Show your name in the `title` again, then show your favorite food in the `subtitle`!**"
   ]
  },
  {
   "cell_type": "code",
   "execution_count": null,
   "metadata": {
    "minecraft": {
     "closeCodeBuilderOnRun": true,
     "onCodeCancelledCommand": "scoreboard players set @s codeExecution 0",
     "onCodeErrorCommand": "scoreboard players set @s codeExecution -1",
     "onCodeStartedCommand": "scoreboard players set @s codeExecution 1",
     "onCodeStoppedCommand": "scoreboard players set @s codeExecution 0",
     "onCodeSuccessfulCommand": "scoreboard players set @s codeExecution 2"
    }
   },
   "outputs": [],
   "source": [
    "show_title(   ,   )\n",
    "# Edit the line above and add your title and subtitle"
   ]
  },
  {
   "cell_type": "markdown",
   "metadata": {},
   "source": [
    "Really cool! When you're ready, press next to move to the next section!"
   ]
  }
 ],
 "metadata": {
  "kernelspec": {
   "display_name": "Python 3",
   "language": "python",
   "name": "python3"
  },
  "language_info": {
   "codemirror_mode": {
    "name": "ipython",
    "version": 3
   },
   "file_extension": ".py",
   "mimetype": "text/x-python",
   "name": "python",
   "nbconvert_exporter": "python",
   "pygments_lexer": "ipython3",
   "version": "3.7.5"
  },
  "minecraft": {
   "description": "Section 1",
   "page_id": "1.0",
   "page_name": "Section 1",
   "style": "minecraft.css"
  }
 },
 "nbformat": 4,
 "nbformat_minor": 4
}
