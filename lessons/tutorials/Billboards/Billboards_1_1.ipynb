{
 "cells": [
  {
   "cell_type": "markdown",
   "metadata": {},
   "source": [
    "## Step 3\n",
    "\n",
    "So you have got a `title` and a `subtitle`. Now, you can move on the final part of the billboard, the `action bar`. \n",
    "\n",
    "The `action bar` appears just above the user's health and hunger bars.\n",
    "\n",
    "This is what it looks like:\n",
    "```python\n",
    "show_title(title, subtitle, action_bar)\n",
    "```\n",
    "\n",
    "- `title`: The title you want to show in game.\n",
    "- `subtitle`: The subtitle you want to show in game.\n",
    "- `action_bar`: The text you want to show above the health/hunger bar.\n",
    "\n",
    "**Say something in the `action bar`, why not your favorite colour?**"
   ]
  },
  {
   "cell_type": "code",
   "execution_count": null,
   "metadata": {
    "minecraft": {
     "closeCodeBuilderOnRun": true,
     "onCodeCancelledCommand": "scoreboard players set @s codeExecution 0",
     "onCodeErrorCommand": "scoreboard players set @s codeExecution -1",
     "onCodeStartedCommand": "scoreboard players set @s codeExecution 1",
     "onCodeStoppedCommand": "scoreboard players set @s codeExecution 0",
     "onCodeSuccessfulCommand": "scoreboard players set @s codeExecution 2"
    }
   },
   "outputs": [],
   "source": [
    "show_title(\"Hi, i'm John\", \"and I like apples!\",     )\n",
    "# Add your action bar text above!"
   ]
  },
  {
   "cell_type": "markdown",
   "metadata": {},
   "source": [
    "## Extension\n",
    "\n",
    "After all that, you can still change *one last thing*. \n",
    "\n",
    "It's customising the time it takes for the text to `fade_in`, `stay` and `fade_out`. How about you mess around with them!\n",
    "\n",
    "Here is how to edit them:\n",
    "```python\n",
    "show_title(title, subtitle, action_bar, fade_in=number, stay=number, fade_out=number)\n",
    "```\n",
    "\n",
    "- `fade_in=`: The number of ticks you want to take for your billboard to fade in.\n",
    "- `stay=`: The number of ticks you want your billboard to stay on screen for.\n",
    "- `fade_out=`: The number of ticks you want to take for your billboard to fade out.\n",
    "- `number`: The value/length you want to set. All three can be different.\n",
    "\n",
    "Unlike before, you need to have the setting in the command. For example, you need the `\"fade_in=\"` to set the `fade_in`.\n",
    "\n",
    "**Add the final `fade_out` setting and set all three settings to `40`!**"
   ]
  },
  {
   "cell_type": "code",
   "execution_count": null,
   "metadata": {
    "minecraft": {
     "closeCodeBuilderOnRun": true,
     "onCodeCancelledCommand": "scoreboard players set @s codeExecution 0",
     "onCodeErrorCommand": "scoreboard players set @s codeExecution -1",
     "onCodeStartedCommand": "scoreboard players set @s codeExecution 1",
     "onCodeStoppedCommand": "scoreboard players set @s codeExecution 0",
     "onCodeSuccessfulCommand": "scoreboard players set @s codeExecution 2"
    }
   },
   "outputs": [],
   "source": [
    "show_title(\"Hi, i'm John\", \"and I like apples!\", \"Blue! Blue! Blue!\",fade_in= , stay= ,     )\n",
    "# End it the line above to add you stay="
   ]
  },
  {
   "cell_type": "markdown",
   "metadata": {},
   "source": [
    "Nice work! Press run and show off your project to everyone in your world!"
   ]
  }
 ],
 "metadata": {
  "kernelspec": {
   "display_name": "Python 3",
   "language": "python",
   "name": "python3"
  },
  "language_info": {
   "codemirror_mode": {
    "name": "ipython",
    "version": 3
   },
   "file_extension": ".py",
   "mimetype": "text/x-python",
   "name": "python",
   "nbconvert_exporter": "python",
   "pygments_lexer": "ipython3",
   "version": "3.8.1"
  },
  "minecraft": {
   "description": "Section 2",
   "page_id": "1.1",
   "page_name": "Section 2",
   "style": "minecraft.css"
  }
 },
 "nbformat": 4,
 "nbformat_minor": 4
}
