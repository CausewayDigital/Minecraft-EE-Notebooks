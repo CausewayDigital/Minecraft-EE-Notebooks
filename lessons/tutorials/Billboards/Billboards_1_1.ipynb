{
 "cells": [
  {
   "cell_type": "markdown",
   "metadata": {},
   "source": [
    "## Step 3\n",
    "\n",
    "So we've got a **title** and a **subtitle** now, lets move on the final bit of thext we can add to our billboard, the **action bar**, the **action bard** appears just above the user's hotbar/inventory bar.\n",
    "\n",
    "So lets add it like so:\n",
    "```python\n",
    "show_title(title, subtitle, action_bar)\n",
    "```\n",
    "\n",
    "`action_bar`: This is the action bar we want, and like the title, they need to be inbetween speechmarks(`\"`) likw before.\n",
    "\n",
    "**Try adding the action bar text in the code bellow!**"
   ]
  },
  {
   "cell_type": "code",
   "execution_count": null,
   "metadata": {
    "minecraft": {
     "onCodeCancelledCommand": "scoreboard players set @s codeExecution 0",
     "onCodeErrorCommand": "scoreboard players set @s codeExecution -1",
     "onCodeStartedCommand": "scoreboard players set @s codeExecution 1",
     "onCodeStoppedCommand": "scoreboard players set @s codeExecution 0",
     "onCodeSuccessfulCommand": "scoreboard players set @s codeExecution 2"
    }
   },
   "outputs": [],
   "source": [
    "show_title(\"Hey! Look at me!\", \"I'm the subtitle :)\")\n",
    "# End it the line above to add the action bar. Don't forget about you speachmarks and commas!"
   ]
  },
  {
   "cell_type": "markdown",
   "metadata": {},
   "source": [
    "# Step 4\n",
    "\n",
    "So we've now added all the text that we can to our billboard, but we can still change one last thing, and that's the time it takes for the text to `fade_in`, `stay` and `fade_out`. So how about we mess around with these?\n",
    "\n",
    "Here's how to edit these:\n",
    "```python\n",
    "show_title(title, subtitle, action_bar, fade_in= , stay= , fade_out=)\n",
    "```\n",
    "\n",
    "`fade_in=`: The number of ticks we want to take for our billboard to fade in.\n",
    "\n",
    "`stay=`: The number of ticks we want our billboard to stay on screen for.\n",
    "\n",
    "`fade_out`: The number of ticks we want to take for our billboard to fade out.\n",
    "\n",
    "Unlike the text before hand we need to have what we're editing in the command.\n",
    "\n",
    "**Try adding the `stay=` time of `30` ticks to the code bellow, you could also add the `face_out=` as well if you wanted!**\n"
   ]
  },
  {
   "cell_type": "code",
   "execution_count": null,
   "metadata": {
    "minecraft": {
     "onCodeCancelledCommand": "scoreboard players set @s codeExecution 0",
     "onCodeErrorCommand": "scoreboard players set @s codeExecution -1",
     "onCodeStartedCommand": "scoreboard players set @s codeExecution 1",
     "onCodeStoppedCommand": "scoreboard players set @s codeExecution 0",
     "onCodeSuccessfulCommand": "scoreboard players set @s codeExecution 2"
    }
   },
   "outputs": [],
   "source": [
    "show_title(\"Hey! Look at me!\", \"I'm the subtitle :)\", \"Action!!\", fade_in=10)\n",
    "# End it the line above to add you stay="
   ]
  },
  {
   "cell_type": "markdown",
   "metadata": {},
   "source": [
    "Great work! Go and try diffrent `show_title()` and see what you get!"
   ]
  }
 ],
 "metadata": {
  "kernelspec": {
   "display_name": "Python 3",
   "language": "python",
   "name": "python3"
  },
  "language_info": {
   "codemirror_mode": {
    "name": "ipython",
    "version": 3
   },
   "file_extension": ".py",
   "mimetype": "text/x-python",
   "name": "python",
   "nbconvert_exporter": "python",
   "pygments_lexer": "ipython3",
   "version": "3.8.1"
  },
  "minecraft": {
   "description": "Section 2",
   "page_id": "1.1",
   "page_name": "Section 2",
   "style": "minecraft.css"
  }
 },
 "nbformat": 4,
 "nbformat_minor": 4
}
