{
 "cells": [
  {
   "cell_type": "markdown",
   "metadata": {},
   "source": [
    "## Step 3\n",
    "\n",
    "You may have noticed that that the `chat_say_jump(height)` function takes in a variable called `height`. \n",
    "\n",
    "This variable allows us to enter a number into the chat after saying \"jump\". You can use it to say how much you want to be boosted.\n",
    "\n",
    "**Tweak the code below and change the `Y` value from `10` to `height` instead**.   \n",
    "Then run your code below, and type `jump 50` into your chat and see what happens..."
   ]
  },
  {
   "cell_type": "code",
   "execution_count": null,
   "metadata": {
    "minecraft": {
     "closeCodeBuilderOnRun": true,
     "onCodeCancelledCommand": "scoreboard players set @s codeExecution 0",
     "onCodeErrorCommand": "scoreboard players set @s codeExecution -1",
     "onCodeStartedCommand": "scoreboard players set @s codeExecution 1",
     "onCodeStoppedCommand": "scoreboard players set @s codeExecution 0",
     "onCodeSuccessfulCommand": "scoreboard players set @s codeExecution 2",
     "overridePython": "@user-code\ndef on_player_message(message, sender, receiver, message_type):\n    split_message = message.split(\" \")\n    if split_message[0] in [\"Jump\", \"JUMP\", \"jump\"]:\n        if len(split_message) >= 2:\n            pram1 = split_message[1]\n        else:\n            pram1 = 0\n        chat_say_jump(pram1)\n"
    }
   },
   "outputs": [],
   "source": [
    "def chat_say_jump(height):\n",
    "    say(\"You said jump!\")\n",
    "    user.teleport(from_me(0, 10, 0))"
   ]
  },
  {
   "cell_type": "markdown",
   "metadata": {},
   "source": [
    "# Extension\n",
    "\n",
    "Now that you can boost your player up the number of blocks you say in chat, why not make it a bit more random?\n",
    "\n",
    "\n",
    "Here's how the command works:\n",
    "```python\n",
    "random.randint(minimum, maximum)\n",
    "```\n",
    "- `minimum`, `maximum`: The range of numbers to generate the random number from.\n",
    "\n",
    "And here's an example of what it would look like if you wanted to randomly generate a number between 1 and 100:\n",
    "```python\n",
    "random.randint(1,100)\n",
    "```\n",
    "\n",
    "**Try and replace the variable `height` in the code to `random.randint()` instead and have it go from 1 to 10! What about other numbers? Maybe even higher!**"
   ]
  },
  {
   "cell_type": "code",
   "execution_count": 1,
   "metadata": {
    "minecraft": {
     "closeCodeBuilderOnRun": true,
     "onCodeCancelledCommand": "scoreboard players set @s codeExecution 0",
     "onCodeErrorCommand": "scoreboard players set @s codeExecution -1",
     "onCodeStartedCommand": "scoreboard players set @s codeExecution 1",
     "onCodeStoppedCommand": "scoreboard players set @s codeExecution 0",
     "onCodeSuccessfulCommand": "scoreboard players set @s codeExecution 2",
     "overridePython": "@user-code\ndef on_player_message(message, sender, receiver, message_type):\n    split_message = message.split(\" \")\n    if split_message[0] in [\"Jump\", \"JUMP\", \"jump\"]:\n        if len(split_message) >= 2:\n            pram1 = split_message[1]\n        else:\n            pram1 = 0\n        chat_say_jump(pram1)\n"
    }
   },
   "outputs": [],
   "source": [
    "# Import the random library to use it's functions\n",
    "import random\n",
    "\n",
    "def chat_say_jump(height):\n",
    "    say(\"You said jump!\")\n",
    "    user.teleport(from_me(0, height, 0))\n",
    "    # Modify the line above to use random.randint instead of height"
   ]
  },
  {
   "cell_type": "markdown",
   "metadata": {},
   "source": [
    "Now go and have some fun jumping around your world!"
   ]
  }
 ],
 "metadata": {
  "kernelspec": {
   "display_name": "Python 3",
   "language": "python",
   "name": "python3"
  },
  "language_info": {
   "codemirror_mode": {
    "name": "ipython",
    "version": 3
   },
   "file_extension": ".py",
   "mimetype": "text/x-python",
   "name": "python",
   "nbconvert_exporter": "python",
   "pygments_lexer": "ipython3",
   "version": "3.8.1"
  },
  "minecraft": {
   "description": "Section 2",
   "page_id": "1.1",
   "page_name": "Section 2",
   "style": "minecraft.css"
  }
 },
 "nbformat": 4,
 "nbformat_minor": 4
}
