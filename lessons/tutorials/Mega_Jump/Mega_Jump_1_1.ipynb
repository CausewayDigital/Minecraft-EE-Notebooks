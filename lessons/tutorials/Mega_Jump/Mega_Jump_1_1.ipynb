{
 "cells": [
  {
   "cell_type": "markdown",
   "metadata": {},
   "source": [
    "## step 3\n",
    "\n",
    "Since we're going to want to jump to somewhere relative to where we are, so we'll to use from_me(). We can use `from_me()` inside of `user.teleport()` to tell it the begin and end locations.\n",
    "\n",
    "We can use it like so:\n",
    "```python\n",
    "from_me(X, Y, Z)\n",
    "```\n",
    "\n",
    "`X` , `Y` and `Z`: These is how much you want to off set the location from where you're standing.\n",
    "\n",
    "**Try and edit the code bellow so that you jump up(`Y`) to 100 instead of 10**"
   ]
  },
  {
   "cell_type": "code",
   "execution_count": null,
   "metadata": {
    "minecraft": {
     "onCodeCancelledCommand": "scoreboard players set @s codeExecution 0",
     "onCodeErrorCommand": "scoreboard players set @s codeExecution -1",
     "onCodeStartedCommand": "scoreboard players set @s codeExecution 1",
     "onCodeStoppedCommand": "scoreboard players set @s codeExecution 0",
     "onCodeSuccessfulCommand": "scoreboard players set @s codeExecution 2",
     "overridePython": "@user-code\ndef on_player_message(message, sender, receiver, message_type):\n    split_message = message.split(\" \")\n    if split_message[0] in [\"Jump\", \"JUMP\", \"jump\"]:\n        if len(split_message) >= 2:\n            pram1 = split_message[1]\n        else:\n            pram1 = 0\n        chat_say_jump(pram1)\n"
    }
   },
   "outputs": [],
   "source": [
    "def chat_say_jump(hight):\n",
    "    say(\"You said jump!\")\n",
    "    user.teleport(from_me(0, 10, 0))\n",
    "    # Edit the line above so you jump up(`Y`) to 100 instead of 10"
   ]
  },
  {
   "cell_type": "markdown",
   "metadata": {},
   "source": [
    "## Step 4\n",
    "\n",
    "You may have noticed that that the `chat_say_jump(hight)` command takes in a variable called `hight`, \n",
    "this variable allows us to enter a hight into the chat after jump and then we can using it to say how much we want to jump up.\n",
    "\n",
    "**Try running the code bellow and type in `jump 50` in chat and see what happens.**\n"
   ]
  },
  {
   "cell_type": "code",
   "execution_count": null,
   "metadata": {
    "minecraft": {
     "onCodeCancelledCommand": "scoreboard players set @s codeExecution 0",
     "onCodeErrorCommand": "scoreboard players set @s codeExecution -1",
     "onCodeStartedCommand": "scoreboard players set @s codeExecution 1",
     "onCodeStoppedCommand": "scoreboard players set @s codeExecution 0",
     "onCodeSuccessfulCommand": "scoreboard players set @s codeExecution 2",
     "overridePython": "@user-code\ndef on_player_message(message, sender, receiver, message_type):\n    split_message = message.split(\" \")\n    if split_message[0] in [\"Jump\", \"JUMP\", \"jump\"]:\n        if len(split_message) >= 2:\n            pram1 = split_message[1]\n        else:\n            pram1 = 0\n        chat_say_jump(pram1)\n"
    }
   },
   "outputs": [],
   "source": [
    "def chat_say_jump(hight):\n",
    "    say(\"You said jump!\")\n",
    "    user.teleport(from_me(0, hight, 0))"
   ]
  },
  {
   "cell_type": "markdown",
   "metadata": {},
   "source": [
    "Now go and have some fun jumping around your world!"
   ]
  }
 ],
 "metadata": {
  "kernelspec": {
   "display_name": "Python 3",
   "language": "python",
   "name": "python3"
  },
  "language_info": {
   "codemirror_mode": {
    "name": "ipython",
    "version": 3
   },
   "file_extension": ".py",
   "mimetype": "text/x-python",
   "name": "python",
   "nbconvert_exporter": "python",
   "pygments_lexer": "ipython3",
   "version": "3.8.1"
  },
  "minecraft": {
   "description": "Section 2",
   "page_id": "1.1",
   "page_name": "Section 2",
   "style": "minecraft.css"
  }
 },
 "nbformat": 4,
 "nbformat_minor": 4
}
