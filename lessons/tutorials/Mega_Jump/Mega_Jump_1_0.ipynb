{
 "cells": [
  {
   "cell_type": "markdown",
   "metadata": {},
   "source": [
    "# Mega Jump\n",
    "\n",
    "Build a script that lets you jump high… as high as you want!\n",
    "\n",
    "![Mega Jump](mega-jump.gif)"
   ]
  },
  {
   "cell_type": "markdown",
   "metadata": {},
   "source": [
    "## Step 1\n",
    "\n",
    "Minecraft includes a large collection of `Events` that you can tap into. An event triggers when something \"**happens**\" in the world. For example, when the player moves, or places a block.\n",
    "\n",
    "In this activity, you will use using the in game chat as the event. `chat_say_jump(height)` will be run by the game when you enter \"jump\" in the chat.\n",
    "\n",
    "Run the code below then type **jump** in Minecraft chat.\n",
    "   \n",
    "**Try editing the contents of the `say()` command! Why not say your name?**"
   ]
  },
  {
   "cell_type": "code",
   "execution_count": null,
   "metadata": {
    "minecraft": {
     "closeCodeBuilderOnRun": true,
     "onCodeCancelledCommand": "scoreboard players set @s codeExecution 0",
     "onCodeErrorCommand": "scoreboard players set @s codeExecution -1",
     "onCodeStartedCommand": "scoreboard players set @s codeExecution 1",
     "onCodeStoppedCommand": "scoreboard players set @s codeExecution 0",
     "onCodeSuccessfulCommand": "scoreboard players set @s codeExecution 2",
     "overridePython": "@user-code\ndef on_player_message(message, sender, receiver, message_type):\n    split_message = message.split(\" \")\n    if split_message[0] in [\"Jump\", \"JUMP\", \"jump\"]:\n        if len(split_message) >= 2:\n            pram1 = split_message[1]\n        else:\n            pram1 = 0\n        chat_say_jump(pram1)\n"
    }
   },
   "outputs": [],
   "source": [
    "def chat_say_jump(height):\n",
    "    say(\"You said jump!\")\n",
    "    # Edit the say command above"
   ]
  },
  {
   "cell_type": "raw",
   "metadata": {},
   "source": [
    "# Step 2\n",
    "\n",
    "Next, see if you can get some teleporting working! To do this you're going to use the `player.teleport()` function.\n",
    "\n",
    "This is how the `player.teleport()` function works:\n",
    "```python\n",
    "player.teleport(location)\n",
    "```\n",
    "\n",
    "- `location`: The location you want to teleport to, which is made up of an `X`, `Y` and `Z` coordinate.\n",
    "\n",
    "As you want to teleport yourself a number of blocks **above your current position**, you will use the `from_me()` function to give your location, plus/minus an offset you provide.\n",
    "\n",
    "You can use it like so:\n",
    "```python\n",
    "from_me(X, Y, Z)\n",
    "```\n",
    "\n",
    "`X` , `Y` and `Z`: The number of blocks you want to offset from your current location.\n",
    "\n",
    "To use both the `player.teleport()` and `from_me()` functions, you can put one inside the other like this:\n",
    "```python\n",
    "player.teleport(from_me(X, Y, Z))\n",
    "```\n",
    "\n",
    "**Add some code to teleport you 10 blocks up the `Y` axis and 0 blocks across the `X` and `Z` axis. When you're ready, run your code and it should boost you into the air!**"
   ]
  },
  {
   "cell_type": "code",
   "execution_count": null,
   "metadata": {
    "minecraft": {
     "closeCodeBuilderOnRun": true,
     "onCodeCancelledCommand": "scoreboard players set @s codeExecution 0",
     "onCodeErrorCommand": "scoreboard players set @s codeExecution -1",
     "onCodeStartedCommand": "scoreboard players set @s codeExecution 1",
     "onCodeStoppedCommand": "scoreboard players set @s codeExecution 0",
     "onCodeSuccessfulCommand": "scoreboard players set @s codeExecution 2",
     "overridePython": "@user-code\ndef on_player_message(message, sender, receiver, message_type):\n    split_message = message.split(\" \")\n    if split_message[0] in [\"Jump\", \"JUMP\", \"jump\"]:\n        if len(split_message) >= 2:\n            pram1 = split_message[1]\n        else:\n            pram1 = 0\n        chat_say_jump(pram1)\n"
    }
   },
   "outputs": [],
   "source": [
    "def chat_say_jump(height):\n",
    "    say(\"You said jump!\")\n",
    "    \n",
    "    # Add your code on to the line above"
   ]
  },
  {
   "cell_type": "markdown",
   "metadata": {},
   "source": [
    "Great! When you're ready, press next to move to the next section of the project!"
   ]
  }
 ],
 "metadata": {
  "kernelspec": {
   "display_name": "Python 3",
   "language": "python",
   "name": "python3"
  },
  "language_info": {
   "codemirror_mode": {
    "name": "ipython",
    "version": 3
   },
   "file_extension": ".py",
   "mimetype": "text/x-python",
   "name": "python",
   "nbconvert_exporter": "python",
   "pygments_lexer": "ipython3",
   "version": "3.8.1"
  },
  "minecraft": {
   "description": "Section 1",
   "page_id": "1.0",
   "page_name": "Section 1",
   "style": "minecraft.css"
  }
 },
 "nbformat": 4,
 "nbformat_minor": 4
}
