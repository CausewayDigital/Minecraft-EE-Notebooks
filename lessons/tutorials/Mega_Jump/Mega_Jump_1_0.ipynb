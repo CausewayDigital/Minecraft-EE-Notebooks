{
 "cells": [
  {
   "cell_type": "markdown",
   "metadata": {},
   "source": [
    "# Mega Jump\n",
    "\n",
    "Build a script that lets you jump high… as high as you want!\n",
    "\n",
    "![Mega Jump](mega-jump.gif)"
   ]
  },
  {
   "cell_type": "markdown",
   "metadata": {},
   "source": [
    "## Step 1\n",
    "\n",
    "Minecraft includes a large collection of `Events` that we can tap into. An event triggers when something \"**happens**\" in the world. For example, when the player moves, or places a block.\n",
    "\n",
    "We will start by setting up an `event handler`. An `event handler` will let us run our code when one of these events occurs. For this worksheet we'll be using `chat_say_jump(hight)`, which will run our code when the word \"jump\" is said in chat.\n",
    "\n",
    "Run the code below then type **jump** in Minecraft chat.\n",
    "   \n",
    "**Try editing the contents of the `say()` command! Why not say your name?**"
   ]
  },
  {
   "cell_type": "code",
   "execution_count": null,
   "metadata": {
    "minecraft": {
     "closeCodeBuilderOnRun": true,
     "onCodeCancelledCommand": "scoreboard players set @s codeExecution 0",
     "onCodeErrorCommand": "scoreboard players set @s codeExecution -1",
     "onCodeStartedCommand": "scoreboard players set @s codeExecution 1",
     "onCodeStoppedCommand": "scoreboard players set @s codeExecution 0",
     "onCodeSuccessfulCommand": "scoreboard players set @s codeExecution 2",
     "overridePython": "@user-code\ndef on_player_message(message, sender, receiver, message_type):\n    split_message = message.split(\" \")\n    if split_message[0] in [\"Jump\", \"JUMP\", \"jump\"]:\n        if len(split_message) >= 2:\n            pram1 = split_message[1]\n        else:\n            pram1 = 0\n        chat_say_jump(pram1)\n"
    }
   },
   "outputs": [],
   "source": [
    "def chat_say_jump(height):\n",
    "    say(\"You said jump!\")\n",
    "    # Edit the say command above"
   ]
  },
  {
   "cell_type": "markdown",
   "metadata": {},
   "source": [
    "# Step 2\n",
    "\n",
    "Now that we have our `event handler` working, we can code it to boost you into the air! To do this we are going to use the `user.teleport()` function.\n",
    "\n",
    "This is how the `user.teleport()` function works:\n",
    "```python\n",
    "user.teleport(location)\n",
    "```\n",
    "\n",
    "- `location`: The location you want to teleport to, which is made up of an `X`, `Y` and `Z` coordinate.\n",
    "\n",
    "As we want to teleport our player a number of blocks *above our current position*, we will use the `from_me()` function to give a location which is offset by a number of blocks.\n",
    "\n",
    "We can use it like so:\n",
    "```python\n",
    "from_me(X, Y, Z)\n",
    "```\n",
    "\n",
    "`X` , `Y` and `Z`: The number of blocks you want to offset the location from where your player currently is.\n",
    "\n",
    "To use both the `user.teleport()` and `from_me()` functions, we can put one inside the other like this:\n",
    "```python\n",
    "user.teleport(from_me(X, Y, Z))\n",
    "```\n",
    "\n",
    "**Add some code to teleport you 10 blocks up the `Y` axis and 0 blocks across the `X` and `Z` axis. When you're ready, run your code and it should boost you into the air!**"
   ]
  },
  {
   "cell_type": "code",
   "execution_count": null,
   "metadata": {
    "minecraft": {
     "closeCodeBuilderOnRun": true,
     "onCodeCancelledCommand": "scoreboard players set @s codeExecution 0",
     "onCodeErrorCommand": "scoreboard players set @s codeExecution -1",
     "onCodeStartedCommand": "scoreboard players set @s codeExecution 1",
     "onCodeStoppedCommand": "scoreboard players set @s codeExecution 0",
     "onCodeSuccessfulCommand": "scoreboard players set @s codeExecution 2",
     "overridePython": "@user-code\ndef on_player_message(message, sender, receiver, message_type):\n    split_message = message.split(\" \")\n    if split_message[0] in [\"Jump\", \"JUMP\", \"jump\"]:\n        if len(split_message) >= 2:\n            pram1 = split_message[1]\n        else:\n            pram1 = 0\n        chat_say_jump(pram1)\n"
    }
   },
   "outputs": [],
   "source": [
    "def chat_say_jump(height):\n",
    "    say(\"You said jump!\")\n",
    "    \n",
    "    # Add your code on to the line above"
   ]
  },
  {
   "cell_type": "markdown",
   "metadata": {},
   "source": [
    "Great! When you're ready, press next to move to the next section of the project!"
   ]
  }
 ],
 "metadata": {
  "kernelspec": {
   "display_name": "Python 3",
   "language": "python",
   "name": "python3"
  },
  "language_info": {
   "codemirror_mode": {
    "name": "ipython",
    "version": 3
   },
   "file_extension": ".py",
   "mimetype": "text/x-python",
   "name": "python",
   "nbconvert_exporter": "python",
   "pygments_lexer": "ipython3",
   "version": "3.8.2"
  },
  "minecraft": {
   "description": "Section 1",
   "page_id": "1.0",
   "page_name": "Section 1",
   "style": "minecraft.css"
  }
 },
 "nbformat": 4,
 "nbformat_minor": 4
}
