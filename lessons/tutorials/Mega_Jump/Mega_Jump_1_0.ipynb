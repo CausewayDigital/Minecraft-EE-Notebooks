{
 "cells": [
  {
   "cell_type": "markdown",
   "metadata": {},
   "source": [
    "# Mega Jump\n",
    "\n",
    "Build a mod that lets you jump high… as high as you want!\n",
    "\n",
    "![Mega Jump](mega-jump.gif)"
   ]
  },
  {
   "cell_type": "markdown",
   "metadata": {},
   "source": [
    "## Step 1\n",
    "\n",
    "Minecraft includes a large collection of `Events` that we can tap into. An event triggers when something \"**happens**\" in the world, for example the player moves, or places a block.\n",
    "We can start by setting up an `event handler`. An `event handler` allows us to run some code when one of these events occurs, for example we're going to use one to check for when something is said in chat.\n",
    "\n",
    "Try the code below then type **jump** in minecraft chat.\n",
    "   \n",
    "**Try editing the contents of the `say()` command!**"
   ]
  },
  {
   "cell_type": "code",
   "execution_count": null,
   "metadata": {
    "minecraft": {
     "onCodeCancelledCommand": "scoreboard players set @s codeExecution 0",
     "onCodeErrorCommand": "scoreboard players set @s codeExecution -1",
     "onCodeStartedCommand": "scoreboard players set @s codeExecution 1",
     "onCodeStoppedCommand": "scoreboard players set @s codeExecution 0",
     "onCodeSuccessfulCommand": "scoreboard players set @s codeExecution 2"
    }
   },
   "outputs": [],
   "source": [
    "def on_chat(\"Jump\"):\n",
    "    say(\"You said jump!\")"
   ]
  },
  {
   "cell_type": "markdown",
   "metadata": {},
   "source": [
    "# Step 2\n",
    "\n",
    "Now that we have a way of seeing when you say **jump** we now going to make it so that you fly into the air. To do this we're going to use `user.teleport()`.\n",
    "\n",
    "This is now it works:\n",
    "```python\n",
    "user.teleport(location)\n",
    "```\n",
    "\n",
    "`location`: The place you want to teleport to.\n",
    "\n",
    "Since we want to teleport to a place relative to where we're standing, we're also going to use `from_me()`, we explain how it works in the next step, don't worry."
   ]
  },
  {
   "cell_type": "code",
   "execution_count": null,
   "metadata": {
    "minecraft": {
     "onCodeCancelledCommand": "scoreboard players set @s codeExecution 0",
     "onCodeErrorCommand": "scoreboard players set @s codeExecution -1",
     "onCodeStartedCommand": "scoreboard players set @s codeExecution 1",
     "onCodeStoppedCommand": "scoreboard players set @s codeExecution 0",
     "onCodeSuccessfulCommand": "scoreboard players set @s codeExecution 2",
     "readonly": true
    }
   },
   "outputs": [],
   "source": [
    "def on_chat(\"Jump\"):\n",
    "    say(\"You said jump!\")\n",
    "    user.teleport(from_me(0, 10, 0))"
   ]
  },
  {
   "cell_type": "markdown",
   "metadata": {},
   "source": [
    "Great! When you're ready, press next to move to the next section of the project!"
   ]
  }
 ],
 "metadata": {
  "kernelspec": {
   "display_name": "Python 3",
   "language": "python",
   "name": "python3"
  },
  "language_info": {
   "codemirror_mode": {
    "name": "ipython",
    "version": 3
   },
   "file_extension": ".py",
   "mimetype": "text/x-python",
   "name": "python",
   "nbconvert_exporter": "python",
   "pygments_lexer": "ipython3",
   "version": "3.8.1"
  },
  "minecraft": {
   "description": "Section 1",
   "page_id": "1.0",
   "page_name": "Section 1",
   "style": "minecraft.css"
  }
 },
 "nbformat": 4,
 "nbformat_minor": 4
}
