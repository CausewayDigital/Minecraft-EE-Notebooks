{
 "cells": [
  {
   "cell_type": "markdown",
   "metadata": {},
   "source": [
    "# Flower trail\n",
    "Let's leave a trail of flowers everywhere we go!\n",
    "\n",
    "![Flower trail](flower-trail.gif)\n"
   ]
  },
  {
   "cell_type": "markdown",
   "metadata": {},
   "source": [
    "## Step 1\n",
    "\n",
    "Minecraft includes a large collection of `Events` that we can tap into. An event triggers when something \"**happens**\" in the world. For example, when the player moves, or places a block.\n",
    "\n",
    "In this activity, we will use the player movement as our event. `on_player_travelled()` will be run by the game when you walk/fly/run/swim.\n",
    "\n",
    "Run the code below and walk around a bit in the game.\n",
    "\n",
    "**Try editing the contents of the `say()` command! Why not make it say your name?**"
   ]
  },
  {
   "cell_type": "code",
   "execution_count": null,
   "metadata": {
    "minecraft": {
     "closeCodeBuilderOnRun": true,
     "onCodeCancelledCommand": "scoreboard players set @s codeExecution 0",
     "onCodeErrorCommand": "scoreboard players set @s codeExecution -1",
     "onCodeStartedCommand": "scoreboard players set @s codeExecution 1",
     "onCodeStoppedCommand": "scoreboard players set @s codeExecution 0",
     "onCodeSuccessfulCommand": "scoreboard players set @s codeExecution 2",
     "readonly": false
    }
   },
   "outputs": [],
   "source": [
    "# Run the following function of code when the player moves\n",
    "def on_player_travelled(location, mode, distance):\n",
    "    say(\"I moved!\")\n"
   ]
  },
  {
   "cell_type": "markdown",
   "metadata": {},
   "source": [
    "*Make sure you **stop** the previous code before your continue!*\n",
    "## Step 2\n",
    "\n",
    "We can now add the `world.set()` command into our `on_player_travelled` function. This lets us set a block at a specific location in our Minecraft world.\n",
    "\n",
    "```python\n",
    "world.set(location, block)\n",
    "```\n",
    "\n",
    "- `location`: Where you want to place the block.\n",
    "- `block`: The block you want to place.\n",
    "\n",
    "**Note**: Using `\"~ ~ ~\"` as your location tells Python you want to place the block where your player is.\n",
    "\n",
    "Here's an example that will set a yellow flower at the same location as our our player:\n",
    "```python\n",
    "world.set(\"~ ~ ~\", \"yellow_flower\")\n",
    "```\n",
    "\n",
    "**Can you write the code to set a \"blue_orchid\" block where the player is standing?**"
   ]
  },
  {
   "cell_type": "code",
   "execution_count": null,
   "metadata": {
    "minecraft": {
     "closeCodeBuilderOnRun": true,
     "onCodeCancelledCommand": "scoreboard players set @s codeExecution 0",
     "onCodeErrorCommand": "say Your code has crashed...",
     "onCodeStartedCommand": "say Your code is now running!",
     "onCodeStoppedCommand": "scoreboard players set @s codeExecution 0",
     "onCodeSuccessfulCommand": "say Your code is now complete.",
     "readonly": false
    }
   },
   "outputs": [],
   "source": [
    "# Run the following function of code when the player moves\n",
    "def on_player_travelled(location, mode, distance):\n",
    "    say(\"I moved!\")\n",
    "    # Add your code in below here\n",
    "    "
   ]
  },
  {
   "cell_type": "markdown",
   "metadata": {},
   "source": [
    "Great! When you're ready, press next to move to the next section of the project."
   ]
  }
 ],
 "metadata": {
  "kernelspec": {
   "display_name": "Python 3",
   "language": "python",
   "name": "python3"
  },
  "language_info": {
   "codemirror_mode": {
    "name": "ipython",
    "version": 3
   },
   "file_extension": ".py",
   "mimetype": "text/x-python",
   "name": "python",
   "nbconvert_exporter": "python",
   "pygments_lexer": "ipython3",
   "version": "3.7.5"
  },
  "minecraft": {
   "description": "Section 1",
   "page_id": "1.0",
   "page_name": "Section 1",
   "style": "minecraft.css"
  }
 },
 "nbformat": 4,
 "nbformat_minor": 4
}
