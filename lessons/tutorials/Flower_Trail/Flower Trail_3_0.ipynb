{
 "cells": [
  {
   "cell_type": "markdown",
   "metadata": {},
   "source": [
    "# Flower trail\n",
    "Lets leave a trail of flowers everywhere we go!\n",
    "\n",
    "![Flower trail](flower-trail.gif)\n"
   ]
  },
  {
   "cell_type": "markdown",
   "metadata": {},
   "source": [
    "## Step 1\n",
    "\n",
    "Minecraft includes a large collection of `Events` that we can tap into. An event triggers when something \"**happens**\" in the world, for example the player moves, or places a block.\n",
    "We can start by setting up an `event handler`. An `event handler` allows us to run some code when one of these events occurs, for example when the player moves.   \n",
    "Try the code below and walk around a bit in the game.    \n",
    "   \n",
    "**Try editing the contents of the `say()` command!**"
   ]
  },
  {
   "cell_type": "code",
   "execution_count": null,
   "metadata": {
    "minecraft": {
     "closeCodeBuilderOnRun": true,
     "onCodeCancelledCommand": "scoreboard players set @s codeExecution 0",
     "onCodeErrorCommand": "scoreboard players set @s codeExecution -1",
     "onCodeStartedCommand": "scoreboard players set @s codeExecution 1",
     "onCodeStoppedCommand": "scoreboard players set @s codeExecution 0",
     "onCodeSuccessfulCommand": "scoreboard players set @s codeExecution 2",
     "readonly": false
    }
   },
   "outputs": [],
   "source": [
    "# Run the following function of code when the player moves\n",
    "def on_player_travelled(location, mode, distance):\n",
    "    say(\"I moved!\")\n"
   ]
  },
  {
   "cell_type": "markdown",
   "metadata": {},
   "source": [
    "## Step 2\n",
    "We can now add into our `on_player_travelled` function, the `world.set()` command. This allows you to place a block at a set of coordinates.\n",
    "It is used like below\n",
    "```python\n",
    "world.set(\"~ ~ ~\", \"yellow_flower\")\n",
    "```\n",
    "The use of `\"~ ~ ~\"` means at my coordinates.\n",
    "   \n",
    "**Can you add into the program below, the code to set the block to \"blue_orchid\"?**"
   ]
  },
  {
   "cell_type": "code",
   "execution_count": null,
   "metadata": {
    "minecraft": {
     "closeCodeBuilderOnRun": true,
     "onCodeCancelledCommand": "scoreboard players set @s codeExecution 0",
     "onCodeErrorCommand": "say Your code has crashed...",
     "onCodeStartedCommand": "say Your code is now running!",
     "onCodeStoppedCommand": "scoreboard players set @s codeExecution 0",
     "onCodeSuccessfulCommand": "say Your code is now complete.",
     "readonly": false
    }
   },
   "outputs": [],
   "source": [
    "# Run the following function of code when the player moves\n",
    "def on_player_travelled(location, mode, distance):\n",
    "    say(\"I moved!\")\n",
    "    # Add your code in below here\n",
    "    \n"
   ]
  },
  {
   "cell_type": "markdown",
   "metadata": {},
   "source": [
    "Great! When you're ready, press next to move to the next section of the project!"
   ]
  }
 ],
 "metadata": {
  "kernelspec": {
   "display_name": "Python 3",
   "language": "python",
   "name": "python3"
  },
  "language_info": {
   "codemirror_mode": {
    "name": "ipython",
    "version": 3
   },
   "file_extension": ".py",
   "mimetype": "text/x-python",
   "name": "python",
   "nbconvert_exporter": "python",
   "pygments_lexer": "ipython3",
   "version": "3.7.5"
  },
  "minecraft": {
   "description": "Secton 1",
   "page_id": "3.0",
   "page_name": "Section 1",
   "style": "minecraft.css"
  }
 },
 "nbformat": 4,
 "nbformat_minor": 4
}
