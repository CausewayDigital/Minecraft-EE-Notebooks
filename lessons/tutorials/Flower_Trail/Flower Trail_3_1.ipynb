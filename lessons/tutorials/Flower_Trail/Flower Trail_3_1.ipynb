{
 "cells": [
  {
   "cell_type": "markdown",
   "metadata": {},
   "source": [
    "## Step 3\n",
    "\n",
    "One flower is a bit boring, why don't you add some different flowers in! \n",
    "\n",
    "**Add 2 additional `world.set()` functions below your `blue_orchid` function. This time, place an `oxeye daisy` and an `allium`**."
   ]
  },
  {
   "cell_type": "code",
   "execution_count": null,
   "metadata": {
    "minecraft": {
     "closeCodeBuilderOnRun": true,
     "onCodeCancelledCommand": "scoreboard players set @s codeExecution 0",
     "onCodeErrorCommand": "scoreboard players set @s codeExecution -1",
     "onCodeStartedCommand": "scoreboard players set @s codeExecution 1",
     "onCodeStoppedCommand": "scoreboard players set @s codeExecution 0",
     "onCodeSuccessfulCommand": "scoreboard players set @s codeExecution 2",
     "readonly": false
    }
   },
   "outputs": [],
   "source": [
    "def on_player_travelled(location, mode, distance):\n",
    "    say(\"I moved!\")\n",
    "    world.set(\"blue_orchid\", \"~ ~ ~\")\n",
    "    # Add your two extra flowers below here\n",
    "    \n",
    "    "
   ]
  },
  {
   "cell_type": "markdown",
   "metadata": {},
   "source": [
    "## Step 4\n",
    "Now that you can place 3 flowers at once, it would be better if you spread them out a bit. To offset the location of the flowers, you can place a digit after the `~` on the first coordinate.    \n",
    "\n",
    "For example:\n",
    "```python\n",
    "world.set(\"dandelion\", \"~1 ~ ~\")\n",
    "```\n",
    "The above code sets the dandelion 1 block beside the player. You can also change the location to be `\"~ ~ ~1\"` or bigger than 1 to place the flower further away from you!\n",
    "\n",
    "**Can you set your flowers 1 or 2 blocks around you?**"
   ]
  },
  {
   "cell_type": "code",
   "execution_count": null,
   "metadata": {
    "minecraft": {
     "closeCodeBuilderOnRun": true,
     "onCodeCancelledCommand": "scoreboard players set @s codeExecution 0",
     "onCodeErrorCommand": "scoreboard players set @s codeExecution -1",
     "onCodeStartedCommand": "scoreboard players set @s codeExecution 1",
     "onCodeStoppedCommand": "scoreboard players set @s codeExecution 0",
     "onCodeSuccessfulCommand": "scoreboard players set @s codeExecution 2",
     "readonly": false
    }
   },
   "outputs": [],
   "source": [
    "def on_player_travelled(location, mode, distance):\n",
    "    say(\"I moved!\")\n",
    "    world.set(\"blue_orchid\", \"~ ~ ~\")\n",
    "    world.set(\"oxeye daisy\", \"~ ~ ~\")\n",
    "    world.set(\"allium\", \"~ ~ ~\")\n",
    "    # Edit the ~ coordinates above"
   ]
  },
  {
   "cell_type": "markdown",
   "metadata": {},
   "source": [
    "Once you have the program completed, run it and cover your Minecraft world in flowers!"
   ]
  }
 ],
 "metadata": {
  "kernelspec": {
   "display_name": "Python 3",
   "language": "python",
   "name": "python3"
  },
  "language_info": {
   "codemirror_mode": {
    "name": "ipython",
    "version": 3
   },
   "file_extension": ".py",
   "mimetype": "text/x-python",
   "name": "python",
   "nbconvert_exporter": "python",
   "pygments_lexer": "ipython3",
   "version": "3.8.3"
  },
  "minecraft": {
   "description": "Section 2",
   "page_id": "1.1",
   "page_name": "Section 2",
   "style": "minecraft.css"
  }
 },
 "nbformat": 4,
 "nbformat_minor": 4
}
