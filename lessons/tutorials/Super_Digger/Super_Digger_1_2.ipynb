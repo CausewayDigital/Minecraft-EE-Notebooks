{
 "cells": [
  {
   "cell_type": "markdown",
   "metadata": {},
   "source": [
    "## Extension\n",
    "\n",
    "So, you have now made this script that can *dig* out massive areas in your world. Why not make a *Super Builder* script that can make you a path where ever you go?\n",
    "\n",
    "We can create a path using the commands that you used before, `world.fill()` and `from_me()`.\n",
    "\n",
    "Like, say you wanted to create a 3x3 path below yourself everywhere you went, your `Y` would always be -1 as we would want to build the path **below** the player.\n",
    "\n",
    "\n",
    "\n",
    "\n",
    "\n",
    "So you've got the main goal of making blocks around yourself vanish as we come up to them, \n",
    "but how about now you try and have a path appear below you as you walk?\n",
    "\n",
    "You can use `world.fill()` and `from_me()` to do this.\n",
    "\n",
    "**Try making a path appear bellow you as you walk**"
   ]
  },
  {
   "cell_type": "code",
   "execution_count": null,
   "metadata": {
    "minecraft": {
     "closeCodeBuilderOnRun": true,
     "onCodeCancelledCommand": "scoreboard players set @s codeExecution 0",
     "onCodeErrorCommand": "scoreboard players set @s codeExecution -1",
     "onCodeStartedCommand": "scoreboard players set @s codeExecution 1",
     "onCodeStoppedCommand": "scoreboard players set @s codeExecution 0",
     "onCodeSuccessfulCommand": "scoreboard players set @s codeExecution 2",
     "readonly": false
    }
   },
   "outputs": [],
   "source": [
    "def on_player_travelled(location, mode, distance):\n",
    "    world.fill()\n",
    "    #Add your line of code above here."
   ]
  }
 ],
 "metadata": {
  "kernelspec": {
   "display_name": "Python 3",
   "language": "python",
   "name": "python3"
  },
  "language_info": {
   "codemirror_mode": {
    "name": "ipython",
    "version": 3
   },
   "file_extension": ".py",
   "mimetype": "text/x-python",
   "name": "python",
   "nbconvert_exporter": "python",
   "pygments_lexer": "ipython3",
   "version": "3.8.1"
  },
  "minecraft": {
   "description": "Extension",
   "page_id": "1.2",
   "page_name": "Extension",
   "style": "minecraft.css"
  }
 },
 "nbformat": 4,
 "nbformat_minor": 4
}
