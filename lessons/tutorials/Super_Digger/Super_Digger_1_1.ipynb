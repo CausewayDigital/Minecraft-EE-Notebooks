{
 "cells": [
  {
   "cell_type": "markdown",
   "metadata": {
    "minecraft": {
     "onCodeCancelledCommand": "scoreboard players set @s codeExecution 0",
     "onCodeErrorCommand": "scoreboard players set @s codeExecution -1",
     "onCodeStartedCommand": "scoreboard players set @s codeExecution 1",
     "onCodeStoppedCommand": "scoreboard players set @s codeExecution 0",
     "onCodeSuccessfulCommand": "scoreboard players set @s codeExecution 2"
    }
   },
   "source": [
    "# Step 3\n",
    "Making a small hole is fun, but lets make it huge!\n",
    "\n",
    "For `world.fill()` to know where to fill, we need to give it a location, to do this, we're going to use `from_me()`. We can use `from_me()` inside of `world.fill()` to tell it the begin and end locations.\n",
    "\n",
    "We can use it like so:\n",
    "```python\n",
    "from_me(X, Y, Z)\n",
    "```\n",
    "\n",
    "`X` , `Y` and `Z`: These is how much you want to off set the location from where you're standing.\n",
    "\n",
    "**Try editing the second `from_me()` to be larger than `1`.**"
   ]
  },
  {
   "cell_type": "code",
   "execution_count": null,
   "metadata": {
    "minecraft": {
     "closeCodeBuilderOnRun": true,
     "onCodeCancelledCommand": "scoreboard players set @s codeExecution 0",
     "onCodeErrorCommand": "scoreboard players set @s codeExecution -1",
     "onCodeStartedCommand": "scoreboard players set @s codeExecution 1",
     "onCodeStoppedCommand": "scoreboard players set @s codeExecution 0",
     "onCodeSuccessfulCommand": "scoreboard players set @s codeExecution 2",
     "readonly": false
    }
   },
   "outputs": [],
   "source": [
    "# Run the following function of code when the player moves\n",
    "def on_player_travelled(location, mode, distance):\n",
    "    say(\"I moved!\")\n",
    "    world.fill(from_me(-1, -1, -1), from_me(1, 1, 1), \"air\")\n",
    "    #Edit the line above so that the second  from_me() is larger than 1!"
   ]
  },
  {
   "cell_type": "markdown",
   "metadata": {},
   "source": [
    "Once you're done editing the program, head over to Minecraft and go around with nothing stopping you!"
   ]
  },
  {
   "cell_type": "markdown",
   "metadata": {},
   "source": [
    "## Extension\n",
    "\n",
    "So you've got the main goal of making blocks around us vanish as we come up to them, \n",
    "but how about now you try and have a path appear bellow you as you walk?\n",
    "\n",
    "You can use `world.fill()` and `from_me()` to do this.\n",
    "\n",
    "**Try making a path appear bellow you as you walk**"
   ]
  },
  {
   "cell_type": "code",
   "execution_count": null,
   "metadata": {
    "minecraft": {
     "closeCodeBuilderOnRun": true,
     "onCodeCancelledCommand": "scoreboard players set @s codeExecution 0",
     "onCodeErrorCommand": "scoreboard players set @s codeExecution -1",
     "onCodeStartedCommand": "scoreboard players set @s codeExecution 1",
     "onCodeStoppedCommand": "scoreboard players set @s codeExecution 0",
     "onCodeSuccessfulCommand": "scoreboard players set @s codeExecution 2",
     "readonly": false
    }
   },
   "outputs": [],
   "source": [
    "# Run the following function of code when the player moves\n",
    "def on_player_travelled(location, mode, distance):\n",
    "    say(\"I moved!\")\n",
    "    world.fill(from_me(-1, -1, -1), from_me(5, 5, 5), \"air\")\n",
    "    \n",
    "    #Add your line of code above here."
   ]
  }
 ],
 "metadata": {
  "kernelspec": {
   "display_name": "Python 3",
   "language": "python",
   "name": "python3"
  },
  "language_info": {
   "codemirror_mode": {
    "name": "ipython",
    "version": 3
   },
   "file_extension": ".py",
   "mimetype": "text/x-python",
   "name": "python",
   "nbconvert_exporter": "python",
   "pygments_lexer": "ipython3",
   "version": "3.8.1"
  },
  "minecraft": {
   "description": "Secton 2",
   "page_id": "3.0",
   "page_name": "Section 2",
   "style": "minecraft.css"
  }
 },
 "nbformat": 4,
 "nbformat_minor": 4
}
