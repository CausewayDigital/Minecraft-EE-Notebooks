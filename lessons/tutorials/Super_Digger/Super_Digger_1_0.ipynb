{
 "cells": [
  {
   "cell_type": "markdown",
   "metadata": {},
   "source": [
    "# Super Digger\n",
    "Let’s build a script that gives you **super digging powers**!\n",
    "\n",
    "**GRIEFING ALERT!** This script can destroy your world!\n",
    "\n",
    "![Super Digger!](super-digger.gif)"
   ]
  },
  {
   "cell_type": "markdown",
   "metadata": {},
   "source": [
    "## Step 1\n",
    "\n",
    "Minecraft includes a large collection of `Events` that we can use to trigger our code. This means code can run when something \"**happens**\" in the world. For example when the player moves, or places a block.\n",
    "\n",
    "We can start by setting up an `event handler`. An `event handler` is what allows us to run some code when a specific event happens. For this example, we will have a bit of code that will say \"I moved\" in the chat every time the player moves.\n",
    "\n",
    "Run the code below then walk or fly around in the game.\n",
    "\n",
    "**Try editing the contents of the `say()` command with another message! Why not your name?**"
   ]
  },
  {
   "cell_type": "code",
   "execution_count": 1,
   "metadata": {
    "minecraft": {
     "closeCodeBuilderOnRun": true,
     "onCodeCancelledCommand": "scoreboard players set @s codeExecution 0",
     "onCodeErrorCommand": "scoreboard players set @s codeExecution -1",
     "onCodeStartedCommand": "scoreboard players set @s codeExecution 1",
     "onCodeStoppedCommand": "scoreboard players set @s codeExecution 0",
     "onCodeSuccessfulCommand": "scoreboard players set @s codeExecution 2"
    }
   },
   "outputs": [],
   "source": [
    "# Run the following code\n",
    "def on_player_travelled(location, mode, distance):\n",
    "    say(\"I moved!\") # Why not replace this with your name?"
   ]
  },
  {
   "cell_type": "markdown",
   "metadata": {},
   "source": [
    "*Make sure you **stop** the previous section of code before continuing!*\n",
    "\n",
    "# Step 2\n",
    "\n",
    "We have now got the starting code for our Super Digger using `on_player_travelled()`!\n",
    "\n",
    "Let's move on to filling the area around us with air blocks while we move around the world. To do this we will use the `world.fill()` function that fills an area in the world with the block we give.\n",
    "\n",
    "It's used like so:\n",
    "```python\n",
    "world.fill(begin, end, block)\n",
    "```\n",
    "\n",
    "- `begin` and `end`: These are the locations/coordinates you want to fill in between.   \n",
    "- `block`: The block you want to fill the area with.\n",
    "\n",
    "**Edit the code below to fill with `\"air\"` instead of stone!**"
   ]
  },
  {
   "cell_type": "code",
   "execution_count": 1,
   "metadata": {
    "minecraft": {
     "closeCodeBuilderOnRun": true,
     "onCodeCancelledCommand": "scoreboard players set @s codeExecution 0",
     "onCodeErrorCommand": "scoreboard players set @s codeExecution -1",
     "onCodeStartedCommand": "scoreboard players set @s codeExecution 1",
     "onCodeStoppedCommand": "scoreboard players set @s codeExecution 0",
     "onCodeSuccessfulCommand": "scoreboard players set @s codeExecution 2"
    }
   },
   "outputs": [],
   "source": [
    "# Run the following code to fill an area when the player moves\n",
    "def on_player_travelled(location, mode, distance):\n",
    "    say(\"I moved!\")\n",
    "    world.fill(from_me(-1, -1, -1), from_me(1, 1, 1), \"stone\")\n",
    "    #Edit the line above to fill with \"air\" instead of stone."
   ]
  },
  {
   "cell_type": "markdown",
   "metadata": {},
   "source": [
    "Now run the code and see what happens when you move around the world by walking, running or flying!\n",
    "\n",
    "*Remember to **stop** your code before you continue!* When you're ready, press next to move to the next section of the project."
   ]
  }
 ],
 "metadata": {
  "kernelspec": {
   "display_name": "Python 3",
   "language": "python",
   "name": "python3"
  },
  "language_info": {
   "codemirror_mode": {
    "name": "ipython",
    "version": 3
   },
   "file_extension": ".py",
   "mimetype": "text/x-python",
   "name": "python",
   "nbconvert_exporter": "python",
   "pygments_lexer": "ipython3",
   "version": "3.8.2"
  },
  "minecraft": {
   "description": "Section 1",
   "page_id": "1.0",
   "page_name": "Section 1",
   "style": "minecraft.css"
  }
 },
 "nbformat": 4,
 "nbformat_minor": 4
}
