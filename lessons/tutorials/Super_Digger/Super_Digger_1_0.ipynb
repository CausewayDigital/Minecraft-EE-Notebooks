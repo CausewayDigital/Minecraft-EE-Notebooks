{
 "cells": [
  {
   "cell_type": "markdown",
   "metadata": {},
   "source": [
    "# Super Digger\n",
    "Let’s build a command that gives you **super digging powers**!\n",
    "\n",
    "**GRIEFING ALERT! This mod can mess up your world!**\n",
    "\n",
    "![Super Digger!](super-digger.gif)"
   ]
  },
  {
   "cell_type": "markdown",
   "metadata": {},
   "source": [
    "## Step 1\n",
    "\n",
    "Minecraft includes a large collection of `Events` that we can tap into. An event triggers when something \"**happens**\" in the world, for example the player moves, or places a block.\n",
    "We can start by setting up an `event handler`. An `event handler` allows us to run some code when one of these events occurs, for example when the player moves.   \n",
    "Try the code below and walk around a bit in the game.\n",
    "\n",
    "Try flying around and see what happens!\n",
    "   \n",
    "**Try editing the contents of the `say()` command with another message!**"
   ]
  },
  {
   "cell_type": "code",
   "execution_count": null,
   "metadata": {
    "minecraft": {
     "onCodeCancelledCommand": "scoreboard players set @s codeExecution 0",
     "onCodeErrorCommand": "scoreboard players set @s codeExecution -1",
     "onCodeStartedCommand": "scoreboard players set @s codeExecution 1",
     "onCodeStoppedCommand": "scoreboard players set @s codeExecution 0",
     "onCodeSuccessfulCommand": "scoreboard players set @s codeExecution 2"
    }
   },
   "outputs": [],
   "source": [
    "# Run the following function of code when the player moves\n",
    "def on_player_travelled(location, mode, distance):\n",
    "    say(\"I moved!\")\n"
   ]
  },
  {
   "cell_type": "markdown",
   "metadata": {},
   "source": [
    "# Step 2\n",
    "\n",
    "We've now layed the ground work to see when we've moved using `on_player_travelled()`.\n",
    "Lets now move on to filling the area around us with air blocks when we move close, to do this we can use `world.fill()` that fills the specified area with a block we choose.\n",
    "\n",
    "It's used like so:\n",
    "```python\n",
    "world.fill(begin, end, block)\n",
    "```\n",
    "\n",
    "`begin` and `end`: There's are the locations you want to fill in between.\n",
    "\n",
    "`block`: This is the block you want to fill with.\n",
    "\n",
    "**Edit the code bellow to have it will with `\"air\"` blocks instead!**"
   ]
  },
  {
   "cell_type": "code",
   "execution_count": null,
   "metadata": {
    "minecraft": {
     "onCodeCancelledCommand": "scoreboard players set @s codeExecution 0",
     "onCodeErrorCommand": "scoreboard players set @s codeExecution -1",
     "onCodeStartedCommand": "scoreboard players set @s codeExecution 1",
     "onCodeStoppedCommand": "scoreboard players set @s codeExecution 0",
     "onCodeSuccessfulCommand": "scoreboard players set @s codeExecution 2"
    }
   },
   "outputs": [],
   "source": [
    "# Run the following function of code when the player moves\n",
    "def on_player_travelled(location, mode, distance):\n",
    "    say(\"I moved!\")\n",
    "    world.fill(from_me(-1, -1, -1), from_me(1, 1, 1), \"Stone\")\n",
    "    #Edit the line above to add have it fill with \"air\" blocks instead of stone."
   ]
  },
  {
   "cell_type": "markdown",
   "metadata": {},
   "source": [
    "Now try running the code and see what happens when you move in diffrent ways, like walking, running or flying.\n",
    "\n",
    "When you're ready, press next to move to the next section of the project!"
   ]
  }
 ],
 "metadata": {
  "kernelspec": {
   "display_name": "Python 3",
   "language": "python",
   "name": "python3"
  },
  "language_info": {
   "codemirror_mode": {
    "name": "ipython",
    "version": 3
   },
   "file_extension": ".py",
   "mimetype": "text/x-python",
   "name": "python",
   "nbconvert_exporter": "python",
   "pygments_lexer": "ipython3",
   "version": "3.8.1"
  },
  "minecraft": {
   "description": "Secton 1",
   "page_id": "3.0",
   "page_name": "Section 1",
   "style": "minecraft.css"
  }
 },
 "nbformat": 4,
 "nbformat_minor": 4
}
