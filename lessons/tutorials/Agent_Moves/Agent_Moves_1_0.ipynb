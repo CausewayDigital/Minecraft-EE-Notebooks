{
 "cells": [
  {
   "cell_type": "markdown",
   "metadata": {},
   "source": [
    "# Agent Moves\n",
    "\n",
    "Get your agent to move! In this tutorial you will make some chat commands to have your agent move and turn.\n",
    "\n",
    "![Agent Moves](agent-moves.gif)"
   ]
  },
  {
   "cell_type": "markdown",
   "metadata": {},
   "source": [
    "## Step 1\n",
    "\n",
    "Minecraft has a little robot that can give you a hand to build. These little robots are called **Agents**! You can program all sorts of jobs and tasks for your agent to do.   \n",
    "\n",
    "In this tutorial, you're going to send it commands using the in-game chat\n",
    "\n",
    "To start off, you need to teleport your agent to your player. To teleport your agent, you can use the `agent.teleport` function.\n",
    "\n",
    "Here's what it looks like:\n",
    "```python\n",
    "agent.teleport(location)\n",
    "```\n",
    "\n",
    "- `location`: The location you want your agent to go to. If you leave this empty, the agent will teleport to it's owner/player.\n",
    "\n",
    "**Put the `agent.teleport()` function below, then run it to teleport your agent to you!**"
   ]
  },
  {
   "cell_type": "code",
   "execution_count": null,
   "metadata": {
    "minecraft": {
     "closeCodeBuilderOnRun": true,
     "onCodeCancelledCommand": "scoreboard players set @s codeExecution 0",
     "onCodeErrorCommand": "scoreboard players set @s codeExecution -1",
     "onCodeStartedCommand": "scoreboard players set @s codeExecution 1",
     "onCodeStoppedCommand": "scoreboard players set @s codeExecution 0",
     "onCodeSuccessfulCommand": "scoreboard players set @s codeExecution 2"
    }
   },
   "outputs": [],
   "source": [
    "\n",
    "\n",
    "# Add your code above!"
   ]
  },
  {
   "cell_type": "markdown",
   "metadata": {},
   "source": [
    "## Step 2\n",
    "\n",
    "That's great, but why not make it that you can call for your agent, using the chat?\n",
    "\n",
    "You can use the `player_chat()` function to run some code when you say anything in the chat! It can also tell you what message was said in the `message` variable.\n",
    "\n",
    "**Run the code below, open the chat window with `t`, then type anything into your chat and hit enter! Your agent should teleport to you.**"
   ]
  },
  {
   "cell_type": "code",
   "execution_count": null,
   "metadata": {
    "minecraft": {
     "closeCodeBuilderOnRun": true,
     "onCodeCancelledCommand": "scoreboard players set @s codeExecution 0",
     "onCodeErrorCommand": "scoreboard players set @s codeExecution -1",
     "onCodeStartedCommand": "scoreboard players set @s codeExecution 1",
     "onCodeStoppedCommand": "scoreboard players set @s codeExecution 0",
     "onCodeSuccessfulCommand": "scoreboard players set @s codeExecution 2",
     "overridePython": "@user-code\ndef on_player_message(message, sender, receiver, message_type):\n    player_chat(message)\n",
     "readonly": true
    }
   },
   "outputs": [],
   "source": [
    "def player_chat(message):\n",
    "    agent.teleport()"
   ]
  },
  {
   "cell_type": "markdown",
   "metadata": {},
   "source": [
    "When you're ready, press next to move to the next section."
   ]
  }
 ],
 "metadata": {
  "kernelspec": {
   "display_name": "Python 3",
   "language": "python",
   "name": "python3"
  },
  "language_info": {
   "codemirror_mode": {
    "name": "ipython",
    "version": 3
   },
   "file_extension": ".py",
   "mimetype": "text/x-python",
   "name": "python",
   "nbconvert_exporter": "python",
   "pygments_lexer": "ipython3",
   "version": "3.8.3"
  },
  "minecraft": {
   "description": "Section 1",
   "page_id": "1.0",
   "page_name": "Section 1",
   "style": "minecraft.css"
  }
 },
 "nbformat": 4,
 "nbformat_minor": 4
}
