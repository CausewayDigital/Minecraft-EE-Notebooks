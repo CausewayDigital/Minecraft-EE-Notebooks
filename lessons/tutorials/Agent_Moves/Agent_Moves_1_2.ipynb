{
 "cells": [
  {
   "cell_type": "markdown",
   "metadata": {},
   "source": [
    "## Step 5\n",
    "\n",
    "Now that you can move your agent using code, you can make it move when you say something in chat!\n",
    "It only supports 1 command right now... To support multiple commands in the chat, you will use an extension for the `if` statement, called `elif`. \n",
    "\n",
    "Simply put, you can daisy-chain `if` statements to run one after another until one of the statements is `true`. So if the first one is false, `elif` will try the next one.\n",
    "\n",
    "Here's an example:\n",
    "```python\n",
    "if A == B:\n",
    "    # If A and B are equal/the same, the code here runs\n",
    "elif B == C:\n",
    "    # If the A and B are NOT equal and If B and C are equal, the code here runs\n",
    "```\n",
    "\n",
    "- `A`,`B`,`C` and `D`: The variables you want to compare to each other.\n",
    "\n",
    "**Note**: You *must* start with an `if` at the top. After that, you can have as many `elif`s as you want.\n",
    "\n",
    "**Complete the code below so when the `message` is equal to `\"fd\"`, your agent moves `\"forward\"`!**"
   ]
  },
  {
   "cell_type": "code",
   "execution_count": null,
   "metadata": {
    "minecraft": {
     "closeCodeBuilderOnRun": true,
     "onCodeCancelledCommand": "scoreboard players set @s codeExecution 0",
     "onCodeErrorCommand": "scoreboard players set @s codeExecution -1",
     "onCodeStartedCommand": "scoreboard players set @s codeExecution 1",
     "onCodeStoppedCommand": "scoreboard players set @s codeExecution 0",
     "onCodeSuccessfulCommand": "scoreboard players set @s codeExecution 2",
     "overridePython": "@user-code\ndef on_player_message(message, sender, receiver, message_type):\n    player_chat(message)\n"
    }
   },
   "outputs": [],
   "source": [
    "def player_chat(message):\n",
    "    if message == \"tp\":\n",
    "        agent.teleport()\n",
    "        \n",
    "    elif      ==      :\n",
    "        # Complete the code above and below\n",
    "        agent.move(     )"
   ]
  },
  {
   "cell_type": "markdown",
   "metadata": {
    "minecraft": {
     "onCodeCancelledCommand": "scoreboard players set @s codeExecution 0",
     "onCodeErrorCommand": "scoreboard players set @s codeExecution -1",
     "onCodeStartedCommand": "scoreboard players set @s codeExecution 1",
     "onCodeStoppedCommand": "scoreboard players set @s codeExecution 0",
     "onCodeSuccessfulCommand": "scoreboard players set @s codeExecution 2"
    }
   },
   "source": [
    "## Step 6\n",
    "\n",
    "Your agent supports lots of different commands. Once you can make it move, you can make it turn too!\n",
    "\n",
    "To make your agent turn, use the `agent.turn()` function!\n",
    "\n",
    "Here's how it looks:\n",
    "```python\n",
    "agent.turn(direction)\n",
    "```\n",
    "- `direction`: The direction you want your agent to turn. The directions you can use are `left` and `right`.\n",
    "\n",
    "**Complete the code below so when the `message` is equal to `\"lt\"`, your agent turns `\"left\"`!**"
   ]
  },
  {
   "cell_type": "code",
   "execution_count": null,
   "metadata": {
    "minecraft": {
     "closeCodeBuilderOnRun": true,
     "onCodeCancelledCommand": "scoreboard players set @s codeExecution 0",
     "onCodeErrorCommand": "scoreboard players set @s codeExecution -1",
     "onCodeStartedCommand": "scoreboard players set @s codeExecution 1",
     "onCodeStoppedCommand": "scoreboard players set @s codeExecution 0",
     "onCodeSuccessfulCommand": "scoreboard players set @s codeExecution 2",
     "overridePython": "@user-code\ndef on_player_message(message, sender, receiver, message_type):\n    player_chat(message)\n"
    }
   },
   "outputs": [],
   "source": [
    "def player_chat(message):\n",
    "    if message == \"tp\":\n",
    "        agent.teleport()\n",
    "        \n",
    "    elif message == \"fd\":\n",
    "        agent.move(\"forward\")\n",
    "        \n",
    "    elif message ==    :\n",
    "        # Complete the code above and below\n",
    "        \n",
    "        "
   ]
  },
  {
   "cell_type": "markdown",
   "metadata": {},
   "source": [
    "Nice one! When you're finished, run your code."
   ]
  },
  {
   "cell_type": "markdown",
   "metadata": {},
   "source": [
    "# Extensions\n",
    "\n",
    "Great! Now you can control your agent, from your in-game chat! Here's a few challenges for you to try...\n",
    "- Add `elif`s so you can move forward, back, left, right, up and down!\n",
    "- Add code to let your agent turn right when you say \"rt\".\n",
    "- Have your agent do a sequence of steps (For example, move forward 5 blocks then turn right), when you say \"Run\"."
   ]
  }
 ],
 "metadata": {
  "kernelspec": {
   "display_name": "Python 3",
   "language": "python",
   "name": "python3"
  },
  "language_info": {
   "codemirror_mode": {
    "name": "ipython",
    "version": 3
   },
   "file_extension": ".py",
   "mimetype": "text/x-python",
   "name": "python",
   "nbconvert_exporter": "python",
   "pygments_lexer": "ipython3",
   "version": "3.8.3"
  },
  "minecraft": {
   "description": "Section 3",
   "page_id": "1.2",
   "page_name": "Section 3",
   "style": "minecraft.css"
  }
 },
 "nbformat": 4,
 "nbformat_minor": 4
}
