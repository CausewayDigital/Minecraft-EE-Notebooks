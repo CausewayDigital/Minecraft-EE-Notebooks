{
 "cells": [
  {
   "cell_type": "markdown",
   "metadata": {},
   "source": [
    "## Step 3\n",
    "\n",
    "Now when you say anything into the chat, it'll teleport your agent. Instead, you could have a specific call that your agent responds to, like `tp`.\n",
    "\n",
    "For this to work, you'll use an `if` statement. It can be used to run specific chunks of code if a condition is true. \n",
    "\n",
    "Here's what an `if` statement looks like:\n",
    "```python\n",
    "if A == B:\n",
    "    # If A and B are equal/the same, the code here runs\n",
    "```\n",
    "- `A` and `B`: The variables you want to compare to each other.\n",
    "\n",
    "**Complete the code below to check *if* the chat `message` was equal to `\"tp\"`!**"
   ]
  },
  {
   "cell_type": "code",
   "execution_count": null,
   "metadata": {
    "minecraft": {
     "closeCodeBuilderOnRun": true,
     "onCodeCancelledCommand": "scoreboard players set @s codeExecution 0",
     "onCodeErrorCommand": "scoreboard players set @s codeExecution -1",
     "onCodeStartedCommand": "scoreboard players set @s codeExecution 1",
     "onCodeStoppedCommand": "scoreboard players set @s codeExecution 0",
     "onCodeSuccessfulCommand": "scoreboard players set @s codeExecution 2",
     "overridePython": "@user-code\ndef on_player_message(message, sender, receiver, message_type):\n    player_chat(message)\n"
    }
   },
   "outputs": [],
   "source": [
    "def player_chat(message):\n",
    "    if     ==      :\n",
    "        agent.teleport()"
   ]
  },
  {
   "cell_type": "markdown",
   "metadata": {},
   "source": [
    "## Step 4\n",
    "\n",
    "Being able to teleport your agent to you when you call is useful. Why not make you agent move too? \n",
    "\n",
    "This can be done using the `agent.move()` function, and giving a direction that you want to move.\n",
    "\n",
    "Here's how it looks:\n",
    "```python\n",
    "agent.move(direction)\n",
    "```\n",
    "\n",
    "- `direction`: The direction to move your agent. The directions are: `forward`, `back`, `left`, `right`, `up` and `down`.\n",
    "\n",
    "**Fill in the code below to see your agent moving around!**"
   ]
  },
  {
   "cell_type": "code",
   "execution_count": null,
   "metadata": {
    "minecraft": {
     "closeCodeBuilderOnRun": true,
     "onCodeCancelledCommand": "scoreboard players set @s codeExecution 0",
     "onCodeErrorCommand": "scoreboard players set @s codeExecution -1",
     "onCodeStartedCommand": "scoreboard players set @s codeExecution 1",
     "onCodeStoppedCommand": "scoreboard players set @s codeExecution 0",
     "onCodeSuccessfulCommand": "scoreboard players set @s codeExecution 2"
    }
   },
   "outputs": [],
   "source": [
    "agent.move(   ) # Move \"forward\"\n",
    "agent.move(   ) # Move \"back\"\n",
    "agent.move(   ) # Move \"left\"\n",
    "agent.move(   ) # Move \"right\""
   ]
  },
  {
   "cell_type": "markdown",
   "metadata": {},
   "source": [
    "When you're ready, press next to move to the next section."
   ]
  }
 ],
 "metadata": {
  "kernelspec": {
   "display_name": "Python 3",
   "language": "python",
   "name": "python3"
  },
  "language_info": {
   "codemirror_mode": {
    "name": "ipython",
    "version": 3
   },
   "file_extension": ".py",
   "mimetype": "text/x-python",
   "name": "python",
   "nbconvert_exporter": "python",
   "pygments_lexer": "ipython3",
   "version": "3.8.3"
  },
  "minecraft": {
   "description": "Section 2",
   "page_id": "1.1",
   "page_name": "Section 2",
   "style": "minecraft.css"
  }
 },
 "nbformat": 4,
 "nbformat_minor": 4
}
