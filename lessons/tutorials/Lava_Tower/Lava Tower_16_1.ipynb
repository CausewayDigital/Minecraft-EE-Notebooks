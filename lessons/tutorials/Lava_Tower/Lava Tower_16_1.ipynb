{
 "cells": [
  {
   "cell_type": "markdown",
   "metadata": {},
   "source": [
    "## Step 3\n",
    "\n",
    "Once we place the water, we want to pause the script for **1** second before moving on to the next step, to let the water flow long enough.\n",
    "\n",
    "To do this, we can import the `sleep` function from the time library, like so:\n",
    "```python\n",
    "from time import sleep\n",
    "```\n",
    "\n",
    "Then we can use the `sleep()` function like so:\n",
    "```python\n",
    "sleep(seconds)\n",
    "```\n",
    "- `seconds`: Number of seconds you want to sleep for.\n",
    "\n",
    "**Could you pause the script using `sleep()` in for 1 second?**"
   ]
  },
  {
   "cell_type": "code",
   "execution_count": null,
   "metadata": {
    "minecraft": {
     "closeCodeBuilderOnRun": true,
     "onCodeCancelledCommand": "scoreboard players set @s codeExecution 0",
     "onCodeErrorCommand": "scoreboard players set @s codeExecution -1",
     "onCodeStartedCommand": "scoreboard players set @s codeExecution 1",
     "onCodeStoppedCommand": "scoreboard players set @s codeExecution 0",
     "onCodeSuccessfulCommand": "scoreboard players set @s codeExecution 2",
     "readonly": false
    }
   },
   "outputs": [],
   "source": [
    "from time import sleep\n",
    "\n",
    "world.set(\"~5 ~20 ~\", \"lava\")\n",
    "world.set(\"~5 ~135 ~\", \"water\")\n",
    "# Add your code below\n"
   ]
  },
  {
   "cell_type": "markdown",
   "metadata": {},
   "source": [
    "# Step 4\n",
    "\n",
    "Finally, we are going to replace the water that we set in step 2, with air (aka delete the water source block). \n",
    "This is to make sure that the water any spills or left over water don't ruin our tower!\n",
    "\n",
    "**Could you add the final `world.set()` to replace (using the same coordinates) the \"water\" with \"air\"?**"
   ]
  },
  {
   "cell_type": "code",
   "execution_count": null,
   "metadata": {
    "minecraft": {
     "closeCodeBuilderOnRun": true,
     "onCodeCancelledCommand": "scoreboard players set @s codeExecution 0",
     "onCodeErrorCommand": "scoreboard players set @s codeExecution -1",
     "onCodeStartedCommand": "scoreboard players set @s codeExecution 1",
     "onCodeStoppedCommand": "scoreboard players set @s codeExecution 0",
     "onCodeSuccessfulCommand": "scoreboard players set @s codeExecution 2",
     "readonly": false
    }
   },
   "outputs": [],
   "source": [
    "from time import sleep\n",
    "\n",
    "world.set(\"~5 ~20 ~\", \"lava\")\n",
    "world.set(\"~5 ~135 ~\", \"water\")\n",
    "sleep(1)\n",
    "# Add your code below\n",
    "\n"
   ]
  },
  {
   "cell_type": "markdown",
   "metadata": {},
   "source": [
    "Once you have the program complete, **give it a go!**   \n",
    "Keep in mind, it will take some time for the lava to cool and for the water to dry off.   \n",
    "   \n",
    "Be careful, lava can be destructive!"
   ]
  }
 ],
 "metadata": {
  "kernelspec": {
   "display_name": "Python 3",
   "language": "python",
   "name": "python3"
  },
  "language_info": {
   "codemirror_mode": {
    "name": "ipython",
    "version": 3
   },
   "file_extension": ".py",
   "mimetype": "text/x-python",
   "name": "python",
   "nbconvert_exporter": "python",
   "pygments_lexer": "ipython3",
   "version": "3.7.5"
  },
  "minecraft": {
   "description": "Section 2",
   "page_id": "3.0",
   "page_name": "Section 2",
   "style": "minecraft.css"
  }
 },
 "nbformat": 4,
 "nbformat_minor": 4
}
