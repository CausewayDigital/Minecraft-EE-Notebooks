{
 "cells": [
  {
   "cell_type": "markdown",
   "metadata": {},
   "source": [
    "## Step 3\n",
    "\n",
    "Once you've placed the water, you'll want to pause the script for **1** second before moving on to the next step, to let the water flow long enough.\n",
    "\n",
    "To do this, you can import the `sleep` function from the `time` library, like in the example below:\n",
    "```python\n",
    "from time import sleep\n",
    "```\n",
    "\n",
    "Then, you can use the `sleep()` function like in the example below:\n",
    "```python\n",
    "sleep(seconds)\n",
    "```\n",
    "- `seconds`: Number of seconds you want to sleep for.\n",
    "\n",
    "**Using `sleep()`, can you pause the script for 1 second?**"
   ]
  },
  {
   "cell_type": "code",
   "execution_count": null,
   "metadata": {
    "minecraft": {
     "closeCodeBuilderOnRun": true,
     "onCodeCancelledCommand": "scoreboard players set @s codeExecution 0",
     "onCodeErrorCommand": "scoreboard players set @s codeExecution -1",
     "onCodeStartedCommand": "scoreboard players set @s codeExecution 1",
     "onCodeStoppedCommand": "scoreboard players set @s codeExecution 0",
     "onCodeSuccessfulCommand": "scoreboard players set @s codeExecution 2",
     "readonly": false
    }
   },
   "outputs": [],
   "source": [
    "from time import sleep\n",
    "\n",
    "world.set(\"~5 ~20 ~\", \"flowing lava\")\n",
    "world.set(\"~5 ~135 ~\", \"flowing water\")\n",
    "# Add your code below\n"
   ]
  },
  {
   "cell_type": "markdown",
   "metadata": {},
   "source": [
    "# Step 4\n",
    "\n",
    "Finally, you are going to replace the water that you set in step 2, with air (aka delete the water source blocks). \n",
    "This is to make sure that the water doesn't spill everywhere, and any left over water can't ruin your tower!\n",
    "\n",
    "**Could you add the final `world.set()` to replace (using the same coordinates) the `\"flowing water\"` with `\"air\"` after the sleep?**"
   ]
  },
  {
   "cell_type": "code",
   "execution_count": null,
   "metadata": {
    "minecraft": {
     "closeCodeBuilderOnRun": true,
     "onCodeCancelledCommand": "scoreboard players set @s codeExecution 0",
     "onCodeErrorCommand": "scoreboard players set @s codeExecution -1",
     "onCodeStartedCommand": "scoreboard players set @s codeExecution 1",
     "onCodeStoppedCommand": "scoreboard players set @s codeExecution 0",
     "onCodeSuccessfulCommand": "scoreboard players set @s codeExecution 2",
     "readonly": false
    }
   },
   "outputs": [],
   "source": [
    "from time import sleep\n",
    "\n",
    "world.set(\"~5 ~20 ~\", \"flowing lava\")\n",
    "world.set(\"~5 ~135 ~\", \"flowing water\")\n",
    "sleep(1)\n",
    "# Add your code below\n",
    "\n"
   ]
  },
  {
   "cell_type": "markdown",
   "metadata": {},
   "source": [
    "Once you have the program complete, **give it a go and run it!**   \n",
    "Keep in mind, it will take some time for the lava to cool and for the water to dry off.   \n",
    "   \n",
    "Be careful, lava can be destructive!"
   ]
  }
 ],
 "metadata": {
  "kernelspec": {
   "display_name": "Python 3",
   "language": "python",
   "name": "python3"
  },
  "language_info": {
   "codemirror_mode": {
    "name": "ipython",
    "version": 3
   },
   "file_extension": ".py",
   "mimetype": "text/x-python",
   "name": "python",
   "nbconvert_exporter": "python",
   "pygments_lexer": "ipython3",
   "version": "3.8.3"
  },
  "minecraft": {
   "description": "Section 2",
   "page_id": "3.0",
   "page_name": "Section 2",
   "style": "minecraft.css"
  }
 },
 "nbformat": 4,
 "nbformat_minor": 4
}
