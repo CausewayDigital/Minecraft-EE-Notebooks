{
 "cells": [
  {
   "cell_type": "markdown",
   "metadata": {},
   "source": [
    "## Step 3\n",
    "\n",
    "Now that we've placed our water and lava. Now we lets add in a `sleep` for **1** seconds, then replace the water with air to dry the water up.\n",
    "\n",
    "To do this we can `import` a `sleep` `function` from a package, this package is called `time` and deals with all the basic time related functions in Python.\n",
    "\n",
    "To bring in the the `sleep` `function` from `time` we can do the following\n",
    "```python\n",
    "from time import sleep\n",
    "```\n",
    "\n",
    "then we can use the `sleep` `function` like so. \n",
    "`sleep(seconds)`\n",
    "\n",
    "`seconds`: The number of seconds you want to sleep for."
   ]
  },
  {
   "cell_type": "code",
   "execution_count": null,
   "metadata": {
    "minecraft": {
     "closeCodeBuilderOnRun": true,
     "onCodeCancelledCommand": "scoreboard players set @s codeExecution 0",
     "onCodeErrorCommand": "scoreboard players set @s codeExecution -1",
     "onCodeStartedCommand": "scoreboard players set @s codeExecution 1",
     "onCodeStoppedCommand": "scoreboard players set @s codeExecution 0",
     "onCodeSuccessfulCommand": "scoreboard players set @s codeExecution 2",
     "readonly": false
    }
   },
   "outputs": [],
   "source": [
    "from time import sleep\n",
    "\n",
    "world.set(\"~5 ~20 ~\", \"lava\")\n",
    "world.set(\"~5 ~ ~\", \"water\")\n",
    "sleep(1)\n",
    "world.set(\"~5 ~ ~\", \"air\")\n"
   ]
  },
  {
   "cell_type": "markdown",
   "metadata": {},
   "source": [
    "One you have the program complete, give it a go and grief the farlands!"
   ]
  }
 ],
 "metadata": {
  "kernelspec": {
   "display_name": "Python 3",
   "language": "python",
   "name": "python3"
  },
  "language_info": {
   "codemirror_mode": {
    "name": "ipython",
    "version": 3
   },
   "file_extension": ".py",
   "mimetype": "text/x-python",
   "name": "python",
   "nbconvert_exporter": "python",
   "pygments_lexer": "ipython3",
   "version": "3.8.1"
  },
  "minecraft": {
   "description": "Section 2",
   "page_id": "3.0",
   "page_name": "Section 2",
   "style": "minecraft.css"
  }
 },
 "nbformat": 4,
 "nbformat_minor": 4
}
