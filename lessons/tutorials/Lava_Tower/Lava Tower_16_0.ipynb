{
 "cells": [
  {
   "cell_type": "markdown",
   "metadata": {},
   "source": [
    "# Lava Tower\n",
    "Lets create a tower of lava that's cooled by water as the lava flows closer to the ground.\n",
    "\n",
    "![Lava Tower](lava-tower.gif)"
   ]
  },
  {
   "cell_type": "markdown",
   "metadata": {},
   "source": [
    "## Step 1\n",
    "Minecraft has a set of tools to let us edit the world using Python. We are going to use the `world.set()` function which needs both a location and a block. \n",
    "\n",
    "This is how the `world.set()` function works:\n",
    "```python\n",
    "world.set(location, block)\n",
    "```\n",
    "- `location`: The location or coordinates we want to place the block at. *We can use a `~` to offset the location to where you're standing*.\n",
    "- `block`: The block you want to place, such as `stone`, `flowing lava`.\n",
    "\n",
    "**Try running the code below. Perhaps try editing the coordinates to see what happens?**"
   ]
  },
  {
   "cell_type": "code",
   "execution_count": null,
   "metadata": {
    "minecraft": {
     "closeCodeBuilderOnRun": true,
     "onCodeCancelledCommand": "scoreboard players set @s codeExecution 0",
     "onCodeErrorCommand": "scoreboard players set @s codeExecution -1",
     "onCodeStartedCommand": "scoreboard players set @s codeExecution 1",
     "onCodeStoppedCommand": "scoreboard players set @s codeExecution 0",
     "onCodeSuccessfulCommand": "scoreboard players set @s codeExecution 2",
     "readonly": false
    }
   },
   "outputs": [],
   "source": [
    "# Sets a block to lava, at 5 blocks way from us on the x axis and 20 blocks above us.\n",
    "world.set(\"~5 ~20 ~\", \"flowing lava\")"
   ]
  },
  {
   "cell_type": "markdown",
   "metadata": {},
   "source": [
    "## Step 2\n",
    "Now, let's use another `world.set()` to place water **135** blocks above the lava.\n",
    "\n",
    "We need to make sure the lava has time to flow all the way down to the ground before the water reaches it. So, placing the water very high in the sky, **135** blocks above you is needed.\n",
    "\n",
    "**Could you add another `world.set()` to place \"flowing water\" 135 blocks above instead of 20 blocks?**"
   ]
  },
  {
   "cell_type": "code",
   "execution_count": null,
   "metadata": {
    "minecraft": {
     "closeCodeBuilderOnRun": true,
     "onCodeCancelledCommand": "scoreboard players set @s codeExecution 0",
     "onCodeErrorCommand": "scoreboard players set @s codeExecution -1",
     "onCodeStartedCommand": "scoreboard players set @s codeExecution 1",
     "onCodeStoppedCommand": "scoreboard players set @s codeExecution 0",
     "onCodeSuccessfulCommand": "scoreboard players set @s codeExecution 2",
     "readonly": false
    }
   },
   "outputs": [],
   "source": [
    "world.set(\"~5 ~20 ~\", \"flowing lava\")\n",
    "# Add your code below\n",
    "\n"
   ]
  }
 ],
 "metadata": {
  "kernelspec": {
   "display_name": "Python 3",
   "language": "python",
   "name": "python3"
  },
  "language_info": {
   "codemirror_mode": {
    "name": "ipython",
    "version": 3
   },
   "file_extension": ".py",
   "mimetype": "text/x-python",
   "name": "python",
   "nbconvert_exporter": "python",
   "pygments_lexer": "ipython3",
   "version": "3.7.5"
  },
  "minecraft": {
   "description": "Secton 1",
   "page_id": "3.0",
   "page_name": "Section 1",
   "style": "minecraft.css"
  }
 },
 "nbformat": 4,
 "nbformat_minor": 4
}
