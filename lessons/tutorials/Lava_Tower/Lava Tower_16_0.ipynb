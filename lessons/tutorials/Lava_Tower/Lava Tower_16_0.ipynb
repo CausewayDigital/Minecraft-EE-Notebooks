{
 "cells": [
  {
   "cell_type": "markdown",
   "metadata": {},
   "source": [
    "# Lava Tower\n",
    "Hey! Lets create a tower of lava that's cooled by water as the lava flows closer to the ground.\n",
    "\n",
    "![Lava Tower](lava-tower.gif)"
   ]
  },
  {
   "cell_type": "markdown",
   "metadata": {},
   "source": [
    "## Step 1\n",
    "Minecraft has a set of tools for us to edit the world. From the `world` we're going to use the `set()` function to set a block at a place we tell it to. This is how the `set()` function works\n",
    "\n",
    "\n",
    "```python\n",
    "world.set(location, block)\n",
    "```\n",
    "\n",
    "`location`: This is the location we want to set the block to, *if we want to the location offset to use, we can use `~` in front of a number.*\n",
    "\n",
    "`block`: This is the block you want to set to, such as `stone`, `lava` etc.\n"
   ]
  },
  {
   "cell_type": "code",
   "execution_count": null,
   "metadata": {
    "minecraft": {
     "closeCodeBuilderOnRun": true,
     "onCodeCancelledCommand": "scoreboard players set @s codeExecution 0",
     "onCodeErrorCommand": "scoreboard players set @s codeExecution -1",
     "onCodeStartedCommand": "scoreboard players set @s codeExecution 1",
     "onCodeStoppedCommand": "scoreboard players set @s codeExecution 0",
     "onCodeSuccessfulCommand": "scoreboard players set @s codeExecution 2",
     "readonly": false
    }
   },
   "outputs": [],
   "source": [
    "# Sets a block to lava, at 5 blocks way from us on the x axis and 20 blocks above us.\n",
    "world.set(\"~5 ~20 ~\", \"lava\")"
   ]
  },
  {
   "cell_type": "markdown",
   "metadata": {},
   "source": [
    "## Step 2\n",
    "Now, lets use another `set()` to place water **135** blocks above the lava.\n",
    "\n",
    "We want to make sure the lava has time to flow all the way to the ground before the water reaches it, so make the water appear very high in the sky, **135** blocks above you."
   ]
  },
  {
   "cell_type": "code",
   "execution_count": null,
   "metadata": {
    "minecraft": {
     "closeCodeBuilderOnRun": true,
     "onCodeCancelledCommand": "scoreboard players set @s codeExecution 0",
     "onCodeErrorCommand": "scoreboard players set @s codeExecution -1",
     "onCodeStartedCommand": "scoreboard players set @s codeExecution 1",
     "onCodeStoppedCommand": "scoreboard players set @s codeExecution 0",
     "onCodeSuccessfulCommand": "scoreboard players set @s codeExecution 2",
     "readonly": false
    }
   },
   "outputs": [],
   "source": [
    "world.set(\"~5 ~20 ~\", \"lava\")\n",
    "\n",
    "# Add another set() above to have the water spawn 135 blocks above, after the lava."
   ]
  }
 ],
 "metadata": {
  "kernelspec": {
   "display_name": "Python 3",
   "language": "python",
   "name": "python3"
  },
  "language_info": {
   "codemirror_mode": {
    "name": "ipython",
    "version": 3
   },
   "file_extension": ".py",
   "mimetype": "text/x-python",
   "name": "python",
   "nbconvert_exporter": "python",
   "pygments_lexer": "ipython3",
   "version": "3.8.1"
  },
  "minecraft": {
   "description": "Secton 1",
   "page_id": "3.0",
   "page_name": "Section 1",
   "style": "minecraft.css"
  }
 },
 "nbformat": 4,
 "nbformat_minor": 4
}
