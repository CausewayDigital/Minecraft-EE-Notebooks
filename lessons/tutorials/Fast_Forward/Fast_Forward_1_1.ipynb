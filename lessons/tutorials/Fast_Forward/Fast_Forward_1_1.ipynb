{
 "cells": [
  {
   "cell_type": "markdown",
   "metadata": {},
   "source": [
    "## Step 3\n",
    "\n",
    "Now we know what way we're traveling in the code we can add some time to the game to make it fast forward. A Minecraft day lasts `24000` ticks for `20` minutes of play. Let’s speed it up by skipping `100` ticks.\n",
    "To this we use `world.add_time()` to add time to the game.\n",
    "\n",
    "This is how it's used:\n",
    "```python\n",
    "world.add_time(Time_to_add)\n",
    "```\n",
    "- `Time_to_add`: The time you want to add to the game in ticks\n",
    "\n",
    "**Add the line of code bellow to add `100` ticks to the game when we move**"
   ]
  },
  {
   "cell_type": "code",
   "execution_count": null,
   "metadata": {
    "minecraft": {
     "onCodeCancelledCommand": "scoreboard players set @s codeExecution 0",
     "onCodeErrorCommand": "scoreboard players set @s codeExecution -1",
     "onCodeStartedCommand": "scoreboard players set @s codeExecution 1",
     "onCodeStoppedCommand": "scoreboard players set @s codeExecution 0",
     "onCodeSuccessfulCommand": "scoreboard players set @s codeExecution 2"
    }
   },
   "outputs": [],
   "source": [
    "def on_player_travelled(location, mode, distance):\n",
    "    say(\"I moved!\")\n",
    "    if mode == \"walk\":\n",
    "        \n",
    "        # Add your line of code above here."
   ]
  },
  {
   "cell_type": "markdown",
   "metadata": {},
   "source": [
    "## Step 4\n",
    "\n",
    "So we have the ground work layed for the speeding up time when we walk, how about when we fly?\n",
    "Do you want to try and repeat some things we did in Steps 2 and 3 and instead of `\"walk\"` we using `\"fly\"` and we add `300` to the time so that when we fly we speat up time even more then when we walk?\n",
    "\n",
    "**Try add code to make us add `300` ticks to the time when we `\"fly\"`!**"
   ]
  },
  {
   "cell_type": "code",
   "execution_count": null,
   "metadata": {
    "minecraft": {
     "onCodeCancelledCommand": "scoreboard players set @s codeExecution 0",
     "onCodeErrorCommand": "scoreboard players set @s codeExecution -1",
     "onCodeStartedCommand": "scoreboard players set @s codeExecution 1",
     "onCodeStoppedCommand": "scoreboard players set @s codeExecution 0",
     "onCodeSuccessfulCommand": "scoreboard players set @s codeExecution 2"
    }
   },
   "outputs": [],
   "source": [
    "def on_player_travelled(location, mode, distance):\n",
    "    say(\"I moved!\")\n",
    "    if mode == \"walk\":\n",
    "        time.add_time(100)\n",
    "    # Add your two lines of code bellow here!\n",
    "    \n",
    "    "
   ]
  },
  {
   "cell_type": "markdown",
   "metadata": {},
   "source": [
    "Woooo! Your code is done now, go and run you code and time warp everywhere!"
   ]
  },
  {
   "cell_type": "markdown",
   "metadata": {},
   "source": [
    "## Extensions\n",
    "Here's some ideas to add more abilities to your new found super powers.\n",
    "\n",
    "- Add in fast forward for `\"sprint\"` and `\"fall`\"\n",
    "- Reverse time if we walk backwards\n"
   ]
  }
 ],
 "metadata": {
  "kernelspec": {
   "display_name": "Python 3",
   "language": "python",
   "name": "python3"
  },
  "language_info": {
   "codemirror_mode": {
    "name": "ipython",
    "version": 3
   },
   "file_extension": ".py",
   "mimetype": "text/x-python",
   "name": "python",
   "nbconvert_exporter": "python",
   "pygments_lexer": "ipython3",
   "version": "3.8.1"
  },
  "minecraft": {
   "description": "Section 2",
   "page_id": "1.1",
   "page_name": "Section 2",
   "style": "minecraft.css"
  }
 },
 "nbformat": 4,
 "nbformat_minor": 4
}
