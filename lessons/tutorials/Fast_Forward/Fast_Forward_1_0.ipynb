{
 "cells": [
  {
   "cell_type": "markdown",
   "metadata": {},
   "source": [
    "# Fast Forward\n",
    "\n",
    "Nobody can stop the pace of time! In this tutorial though, you will make time go faster than normal... when you walk!\n",
    "![Fast Forward](fast-forward.gif)"
   ]
  },
  {
   "cell_type": "markdown",
   "metadata": {},
   "source": [
    "## Step 1\n",
    "\n",
    "Minecraft includes a large collection of `Events` that we can tap into. An event triggers when something \"**happens**\" in the world. For example, when the player moves, or places a block.\n",
    "\n",
    "Using a function called \\\"**on_player_travelled**\\\", the code contained within it is run each time the player moves.\n",
    "\n",
    "Run the code below and walk around a bit in the game.\n",
    "\n",
    "**Why not edit the contents of the `say()` command? Why not make it say your name!**"
   ]
  },
  {
   "cell_type": "code",
   "execution_count": null,
   "metadata": {
    "minecraft": {
     "closeCodeBuilderOnRun": true,
     "onCodeCancelledCommand": "scoreboard players set @s codeExecution 0",
     "onCodeErrorCommand": "scoreboard players set @s codeExecution -1",
     "onCodeStartedCommand": "scoreboard players set @s codeExecution 1",
     "onCodeStoppedCommand": "scoreboard players set @s codeExecution 0",
     "onCodeSuccessfulCommand": "scoreboard players set @s codeExecution 2"
    }
   },
   "outputs": [],
   "source": [
    "def on_player_travelled(location, mode, distance):\n",
    "    say(\"I moved!\")"
   ]
  },
  {
   "cell_type": "markdown",
   "metadata": {},
   "source": [
    "## Step 2\n",
    "\n",
    "Now that you can run code when you're moving, you will need to know *how* you're moving. You can `walk`, `sprint`, `fly` or `fall`.\n",
    "\n",
    "In the `on_player_traveled` function, you can check the `mode` to see how you're moving. For this to work, you'll use an `if statement`. An `if statement` can be used to run specific chunks of code if a condition is true.\n",
    "\n",
    "Here's what an `if` statement looks like:\n",
    "```python\n",
    "if A == B:\n",
    "    # If A and B are equal/the same, the code here runs\n",
    "```\n",
    "\n",
    "- `A` and `B`: The variables you want to compare to each other.\n",
    "    \n",
    "**Fix the code below to check if `mode` is equal to `\"walk\"`.**    "
   ]
  },
  {
   "cell_type": "code",
   "execution_count": null,
   "metadata": {
    "minecraft": {
     "closeCodeBuilderOnRun": true,
     "onCodeCancelledCommand": "scoreboard players set @s codeExecution 0",
     "onCodeErrorCommand": "scoreboard players set @s codeExecution -1",
     "onCodeStartedCommand": "scoreboard players set @s codeExecution 1",
     "onCodeStoppedCommand": "scoreboard players set @s codeExecution 0",
     "onCodeSuccessfulCommand": "scoreboard players set @s codeExecution 2"
    }
   },
   "outputs": [],
   "source": [
    "def on_player_travelled(location, mode, distance):\n",
    "    say(\"I moved!\")\n",
    "    if    ==    :\n",
    "        # Fix the line of code above to check if `mode` is equal to `\"walk\"`\n",
    "        say(\"Walking!\")"
   ]
  },
  {
   "cell_type": "markdown",
   "metadata": {},
   "source": [
    "Nice! When you're ready move on to the next section."
   ]
  }
 ],
 "metadata": {
  "kernelspec": {
   "display_name": "Python 3",
   "language": "python",
   "name": "python3"
  },
  "language_info": {
   "codemirror_mode": {
    "name": "ipython",
    "version": 3
   },
   "file_extension": ".py",
   "mimetype": "text/x-python",
   "name": "python",
   "nbconvert_exporter": "python",
   "pygments_lexer": "ipython3",
   "version": "3.8.3"
  },
  "minecraft": {
   "description": "Section 1",
   "page_id": "1.0",
   "page_name": "Section 1",
   "style": "minecraft.css"
  }
 },
 "nbformat": 4,
 "nbformat_minor": 4
}
