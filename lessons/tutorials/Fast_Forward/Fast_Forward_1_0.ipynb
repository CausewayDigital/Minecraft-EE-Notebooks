{
 "cells": [
  {
   "cell_type": "markdown",
   "metadata": {},
   "source": [
    "# Fast Forward\n",
    "Nobody can stop the pace of time. In this tutorial, though, you will make time go faster than normal… while you’re walking!\n",
    "![Fast Forward](fast-forward.gif)"
   ]
  },
  {
   "cell_type": "markdown",
   "metadata": {},
   "source": [
    "## step 1\n",
    "\n",
    "Minecraft includes a large collection of Events that we can tap into. An event triggers when something \"happens\" in the world. For example, when the player moves, or places a block.\n",
    "\n",
    "We will start by setting up an event handler. An event handler is what we use to run code when one of these events occurs.\n",
    "\n",
    "Run the code below and walk around a bit in the game.\n",
    "\n",
    "Try editing the contents of the say() command! Why not make it say your name?"
   ]
  },
  {
   "cell_type": "code",
   "execution_count": null,
   "metadata": {
    "minecraft": {
     "onCodeCancelledCommand": "scoreboard players set @s codeExecution 0",
     "onCodeErrorCommand": "scoreboard players set @s codeExecution -1",
     "onCodeStartedCommand": "scoreboard players set @s codeExecution 1",
     "onCodeStoppedCommand": "scoreboard players set @s codeExecution 0",
     "onCodeSuccessfulCommand": "scoreboard players set @s codeExecution 2"
    }
   },
   "outputs": [],
   "source": [
    "def on_player_travelled(location, mode, distance):\n",
    "    say(\"I moved!\")"
   ]
  },
  {
   "cell_type": "markdown",
   "metadata": {},
   "source": [
    "## Step 2\n",
    "\n",
    "Now that we can see when we're moving, we need to know how we are moving. The event handler gives us this infomation as the `mode`. The mode can give us the mode of travels as 4 options, `walk`, `sprint`, `fly` and `fall`. We want to find out when we're `walk`, to do this in Python, we'll use an if statement, which can be used to run specific chunks of code if a condition is true.\n",
    "\n",
    "This is now a equals if statement:\n",
    "```python\n",
    "if statment_1 == statment_2:\n",
    "    # Code here runs if the if statment is correct\n",
    "```\n",
    "\n",
    "- `statment_1` and `statment_2`: These are the statment we want to check are equal to each other.\n",
    "\n",
    "**Fix the code bellow to have the code check that we're `\"walk\"` not fall.**"
   ]
  },
  {
   "cell_type": "code",
   "execution_count": null,
   "metadata": {
    "minecraft": {
     "onCodeCancelledCommand": "scoreboard players set @s codeExecution 0",
     "onCodeErrorCommand": "scoreboard players set @s codeExecution -1",
     "onCodeStartedCommand": "scoreboard players set @s codeExecution 1",
     "onCodeStoppedCommand": "scoreboard players set @s codeExecution 0",
     "onCodeSuccessfulCommand": "scoreboard players set @s codeExecution 2"
    }
   },
   "outputs": [],
   "source": [
    "def on_player_travelled(location, mode, distance):\n",
    "    say(\"I moved!\")\n",
    "    if mode == \"fall\":\n",
    "        # Fix the line of code above to check if we're \"walk\" not \"fall\""
   ]
  },
  {
   "cell_type": "markdown",
   "metadata": {},
   "source": [
    "Nice! When you're ready move on to the next section."
   ]
  }
 ],
 "metadata": {
  "kernelspec": {
   "display_name": "Python 3",
   "language": "python",
   "name": "python3"
  },
  "language_info": {
   "codemirror_mode": {
    "name": "ipython",
    "version": 3
   },
   "file_extension": ".py",
   "mimetype": "text/x-python",
   "name": "python",
   "nbconvert_exporter": "python",
   "pygments_lexer": "ipython3",
   "version": "3.8.1"
  },
  "minecraft": {
   "description": "Section 1",
   "page_id": "1.0",
   "page_name": "Section 1",
   "style": "minecraft.css"
  }
 },
 "nbformat": 4,
 "nbformat_minor": 4
}
