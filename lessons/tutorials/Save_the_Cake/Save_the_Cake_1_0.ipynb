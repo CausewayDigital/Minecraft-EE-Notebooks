{
 "cells": [
  {
   "cell_type": "markdown",
   "metadata": {},
   "source": [
    "# Save the cake!\n",
    "\n",
    "Protect your precious cake!\n",
    "\n",
    "In this tutorial you're going to place a cake down. Then every so often, you're going to teleport back to check on the cake.\n",
    "\n",
    "![Save the Cake](Save-the-Cake.gif)"
   ]
  },
  {
   "cell_type": "markdown",
   "metadata": {},
   "source": [
    "## Step 1\n",
    "\n",
    "Minecraft has a set of tools that let you edit the world using Python. For this step, you are going to use the `world.set()` function to place a cake block.\n",
    "\n",
    "This is how `world.set()` works:\n",
    "```python\n",
    "world.set(location, block)\n",
    "```\n",
    "\n",
    "- `location`: The location or coordinates you want to place the block at.\n",
    "- `block`: The block you want to place, such as `stone`, `cake`.\n",
    "\n",
    "To get the location where your player is, you use `from_me()` as the location.\n",
    "\n",
    "Here's how it's used:\n",
    "```python\n",
    "from_me(X, Y, Z)\n",
    "```\n",
    "\n",
    "- `X` , `Y` and `Z`: The number of blocks you want to offset the location from where your player is.\n",
    "\n",
    "As the cake will be placed where your player is currently standing, the three coordinates are `0`.\n",
    "\n",
    "**Run the code below. Try editing the `X`, `Y`, `Z` and see what happens?**"
   ]
  },
  {
   "cell_type": "code",
   "execution_count": null,
   "metadata": {
    "minecraft": {
     "closeCodeBuilderOnRun": true,
     "onCodeCancelledCommand": "scoreboard players set @s codeExecution 0",
     "onCodeErrorCommand": "scoreboard players set @s codeExecution -1",
     "onCodeStartedCommand": "scoreboard players set @s codeExecution 1",
     "onCodeStoppedCommand": "scoreboard players set @s codeExecution 0",
     "onCodeSuccessfulCommand": "scoreboard players set @s codeExecution 2",
     "overridePython": "import minecraft\ndef save_from_me(x:float, y:float, z:float):\n    pos = user.position\n    return minecraft.location.Location(pos.x + x, pos.y + y, pos.z + z)\n@user-code\n"
    }
   },
   "outputs": [],
   "source": [
    "world.set(from_me(0,0,0), \"cake\")"
   ]
  },
  {
   "cell_type": "markdown",
   "metadata": {},
   "source": [
    "## Step 2\n",
    "\n",
    "Now you need to save the location of your newly placed cake. For this, `variables` will come in handy!\n",
    "\n",
    "`Variables` allow you to save bits of information that can be used in other areas of your code. To assign a `variable` you use the `=`(Equals) operator and give it a value.\n",
    "\n",
    "Then to save the location where you're standing, use `save_from_me()`.\n",
    "\n",
    "Here's how it's used:\n",
    "```python\n",
    "save_from_me(X, Y, Z)\n",
    "```\n",
    "\n",
    "- `X` , `Y` and `Z`: The number of blocks you want to offset the location from where your player is.\n",
    "\n",
    "This gives you back a location that you can assign to a variable.\n",
    "\n",
    "**Set the value of `cake_location` to `save_from_me()` with 0 as the `X`, `Y` and `Z`.**"
   ]
  },
  {
   "cell_type": "code",
   "execution_count": null,
   "metadata": {
    "minecraft": {
     "closeCodeBuilderOnRun": true,
     "onCodeCancelledCommand": "scoreboard players set @s codeExecution 0",
     "onCodeErrorCommand": "scoreboard players set @s codeExecution -1",
     "onCodeStartedCommand": "scoreboard players set @s codeExecution 1",
     "onCodeStoppedCommand": "scoreboard players set @s codeExecution 0",
     "onCodeSuccessfulCommand": "scoreboard players set @s codeExecution 2",
     "overridePython": "import minecraft\ndef save_from_me(x:float, y:float, z:float):\n    pos = user.position\n    return minecraft.location.Location(pos.x + x, pos.y + y, pos.z + z)\n@user-code\n"
    }
   },
   "outputs": [],
   "source": [
    "world.set(from_me(0,0,0), \"cake\")\n",
    "cake_location = \n",
    "# Set the value of the `cake_location` variable in the line above"
   ]
  },
  {
   "cell_type": "markdown",
   "metadata": {},
   "source": [
    "When you're ready, move to the next section."
   ]
  }
 ],
 "metadata": {
  "kernelspec": {
   "display_name": "Python 3",
   "language": "python",
   "name": "python3"
  },
  "language_info": {
   "codemirror_mode": {
    "name": "ipython",
    "version": 3
   },
   "file_extension": ".py",
   "mimetype": "text/x-python",
   "name": "python",
   "nbconvert_exporter": "python",
   "pygments_lexer": "ipython3",
   "version": "3.8.1"
  },
  "minecraft": {
   "description": "Section 1",
   "page_id": "1.0",
   "page_name": "Section 1",
   "style": "minecraft.css"
  }
 },
 "nbformat": 4,
 "nbformat_minor": 4
}
