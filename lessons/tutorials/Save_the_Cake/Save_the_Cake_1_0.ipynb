{
 "cells": [
  {
   "cell_type": "markdown",
   "metadata": {},
   "source": [
    "# Save the cake!\n",
    "\n",
    "Protect your precious cake!\n",
    "\n",
    "This tutorial we're going to place a cake down and ever so often we're going to teleport back to check on the cake."
   ]
  },
  {
   "cell_type": "markdown",
   "metadata": {},
   "source": [
    "## Step 1\n",
    "\n",
    "We're going to place down a **cake** block.\n",
    "\n",
    "Minecraft has a set of tools to let us edit the world using Python. We are going to use the `world.set()` function which needs both a location and a block.\n",
    "\n",
    "This is how `world.set()` works:\n",
    "```python\n",
    "world.set(location, block)\n",
    "```\n",
    "\n",
    "- `location`: The location or coordinates we want to place the block at. *We can use a `~` to offset the location to where you're standing*.\n",
    "- `block`: The block you want to place, such as `stone`, `cake`.\n",
    "\n",
    "To get the location relative to where we're stand, we'll use `from_me()`\n",
    "\n",
    "Here's how it's used\n",
    "```python\n",
    "from_me(X, Y, Z)\n",
    "```\n",
    "\n",
    "- `X` , `Y` and `Z`: These is how much you want to off set the location from where you're standing.\n",
    "\n",
    "**Try running the code below. Perhaps try editing the `X`, `Y`, `Z` to see what happens?**"
   ]
  },
  {
   "cell_type": "code",
   "execution_count": null,
   "metadata": {
    "minecraft": {
     "onCodeCancelledCommand": "scoreboard players set @s codeExecution 0",
     "onCodeErrorCommand": "scoreboard players set @s codeExecution -1",
     "onCodeStartedCommand": "scoreboard players set @s codeExecution 1",
     "onCodeStoppedCommand": "scoreboard players set @s codeExecution 0",
     "onCodeSuccessfulCommand": "scoreboard players set @s codeExecution 2",
     "overridePython": "import minecraft\ndef save_from_me(x:float, y:float, z:float):\n    pos = user.position\n    return minecraft.location.Location(pos.x + x, pos.y + y, pos.z + z)\n@user-code\n"
    }
   },
   "outputs": [],
   "source": [
    "world.set(from_me(0,0,0), \"cake\")"
   ]
  },
  {
   "cell_type": "markdown",
   "metadata": {},
   "source": [
    "## Step 2\n",
    "\n",
    "Now we need to save the location of where the cake is, to do this we can use `variables`. `Variables` allow us to save bits of infomation that we call back later on. To assign a `variable` we use the `=` operator.\n",
    "\n",
    "\n",
    "\n",
    "Then to save the location where we're standing we can use `save_from_me()`.\n",
    "\n",
    "\n",
    "\n",
    "Here's how it's used \n",
    "```python\n",
    "save_from_me(X, Y, Z)\n",
    "```\n",
    "\n",
    "- `X` , `Y` and `Z`: These is how much you want to off set the location from where you're standing.\n",
    "\n",
    "This gives us back a location that we can set a variable to.\n",
    "\n",
    "**Have a look at the code bellow to see how variable are used to store the `cake_location`**"
   ]
  },
  {
   "cell_type": "code",
   "execution_count": null,
   "metadata": {
    "minecraft": {
     "onCodeCancelledCommand": "scoreboard players set @s codeExecution 0",
     "onCodeErrorCommand": "scoreboard players set @s codeExecution -1",
     "onCodeStartedCommand": "scoreboard players set @s codeExecution 1",
     "onCodeStoppedCommand": "scoreboard players set @s codeExecution 0",
     "onCodeSuccessfulCommand": "scoreboard players set @s codeExecution 2",
     "overridePython": "import minecraft\ndef save_from_me(x:float, y:float, z:float):\n    pos = user.position\n    return minecraft.location.Location(pos.x + x, pos.y + y, pos.z + z)\n@user-code\n"
    }
   },
   "outputs": [],
   "source": [
    "world.set(from_me(0,0,0), \"cake\")\n",
    "cake_location = save_from_me(0, 0, 0)"
   ]
  },
  {
   "cell_type": "markdown",
   "metadata": {},
   "source": [
    "When you're ready, move on to the next section."
   ]
  }
 ],
 "metadata": {
  "kernelspec": {
   "display_name": "Python 3",
   "language": "python",
   "name": "python3"
  },
  "language_info": {
   "codemirror_mode": {
    "name": "ipython",
    "version": 3
   },
   "file_extension": ".py",
   "mimetype": "text/x-python",
   "name": "python",
   "nbconvert_exporter": "python",
   "pygments_lexer": "ipython3",
   "version": "3.8.1"
  },
  "minecraft": {
   "description": "Section 1",
   "page_id": "1.0",
   "page_name": "Section 1",
   "style": "minecraft.css"
  }
 },
 "nbformat": 4,
 "nbformat_minor": 4
}
