{
 "cells": [
  {
   "cell_type": "markdown",
   "metadata": {},
   "source": [
    "## Step 3\n",
    "\n",
    "You now need to save the `cake_place_time` as a variable. This is so you can get the time you placed the cake. To do this, you can use the `world.get_time()` function and assign it to a variable!\n",
    "\n",
    "`world.get_time()` works like this:\n",
    "```python\n",
    "world.get_time()\n",
    "```\n",
    "\n",
    "This command returns the current in-game time.\n",
    "\n",
    "**Finish the code below to have the `cake_place_time` variable equal to `world.get_time()`.**"
   ]
  },
  {
   "cell_type": "code",
   "execution_count": null,
   "metadata": {
    "minecraft": {
     "closeCodeBuilderOnRun": true,
     "onCodeCancelledCommand": "scoreboard players set @s codeExecution 0",
     "onCodeErrorCommand": "scoreboard players set @s codeExecution -1",
     "onCodeStartedCommand": "scoreboard players set @s codeExecution 1",
     "onCodeStoppedCommand": "scoreboard players set @s codeExecution 0",
     "onCodeSuccessfulCommand": "scoreboard players set @s codeExecution 2",
     "overridePython": "import minecraft\ndef save_from_me(x:float, y:float, z:float):\n    pos = user.position\n    return minecraft.location.Location(pos.x + x, pos.y + y, pos.z + z)\n@user-code\n"
    }
   },
   "outputs": [],
   "source": [
    "world.set(from_me(0,0,0), \"cake\")\n",
    "cake_location = save_from_me(0, 0, 0)\n",
    "cake_place_time = \n",
    "# Complete the line above with world.get_time()"
   ]
  },
  {
   "cell_type": "markdown",
   "metadata": {},
   "source": [
    "## Step 4\n",
    "\n",
    "The cake has been set up! Time to create the code to check on the cake.\n",
    "\n",
    "For this part, you're going to set up a `function` called `cake_checker()`. A function is a piece of code that you can call to run over and over again.\n",
    "\n",
    "```python\n",
    "def name_of_function():\n",
    "    # The code belonging to the function\n",
    "```\n",
    "\n",
    "You can also make special functions by using `decorators`. For example, the `@forever` decorator, will run a function over and over again *forever*!\n",
    "\n",
    "**Create a function called `cake_checker` below the `@forever`.**"
   ]
  },
  {
   "cell_type": "code",
   "execution_count": null,
   "metadata": {
    "minecraft": {
     "closeCodeBuilderOnRun": true,
     "onCodeCancelledCommand": "scoreboard players set @s codeExecution 0",
     "onCodeErrorCommand": "scoreboard players set @s codeExecution -1",
     "onCodeStartedCommand": "scoreboard players set @s codeExecution 1",
     "onCodeStoppedCommand": "scoreboard players set @s codeExecution 0",
     "onCodeSuccessfulCommand": "scoreboard players set @s codeExecution 2",
     "overridePython": "import minecraft\ndef save_from_me(x:float, y:float, z:float):\n    pos = user.position\n    return minecraft.location.Location(pos.x + x, pos.y + y, pos.z + z)\n@user-code\n"
    }
   },
   "outputs": [],
   "source": [
    "world.set(from_me(0,0,0), \"cake\")\n",
    "cake_location = save_from_me(0, 0, 0)\n",
    "cake_place_time = world.get_time()\n",
    "\n",
    "@forever\n",
    "def \n",
    "    # Finish your function above this line! We got you started...\n",
    "    say(\"I work!\")"
   ]
  },
  {
   "cell_type": "markdown",
   "metadata": {},
   "source": [
    "When you're finished, press run! Move on to the next section when you're ready."
   ]
  }
 ],
 "metadata": {
  "kernelspec": {
   "display_name": "Python 3",
   "language": "python",
   "name": "python3"
  },
  "language_info": {
   "codemirror_mode": {
    "name": "ipython",
    "version": 3
   },
   "file_extension": ".py",
   "mimetype": "text/x-python",
   "name": "python",
   "nbconvert_exporter": "python",
   "pygments_lexer": "ipython3",
   "version": "3.8.3"
  },
  "minecraft": {
   "description": "Section 2",
   "page_id": "1.1",
   "page_name": "Section 2",
   "style": "minecraft.css"
  }
 },
 "nbformat": 4,
 "nbformat_minor": 4
}
