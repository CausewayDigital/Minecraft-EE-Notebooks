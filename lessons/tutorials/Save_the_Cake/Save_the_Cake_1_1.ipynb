{
 "cells": [
  {
   "cell_type": "markdown",
   "metadata": {},
   "source": [
    "## Step 3\n",
    "\n",
    "Now we need to save the `cake_place_time` as a variable so we can get the time of when we placed the cake again later on. To do this we can use `time.get_time()` and save it as a variable\n",
    "\n",
    "`time.get_time()` works like so:\n",
    "```python\n",
    "time.get_time()\n",
    "```\n",
    "\n",
    "This command return the current ingame time.\n",
    "\n",
    "**Finish the code bellow to have `cake_place_time` variable save `time.get_time()`!**"
   ]
  },
  {
   "cell_type": "code",
   "execution_count": null,
   "metadata": {
    "minecraft": {
     "onCodeCancelledCommand": "scoreboard players set @s codeExecution 0",
     "onCodeErrorCommand": "scoreboard players set @s codeExecution -1",
     "onCodeStartedCommand": "scoreboard players set @s codeExecution 1",
     "onCodeStoppedCommand": "scoreboard players set @s codeExecution 0",
     "onCodeSuccessfulCommand": "scoreboard players set @s codeExecution 2",
     "overridePython": "import minecraft\ndef save_from_me(x:float, y:float, z:float):\n    pos = user.position\n    return minecraft.location.Location(pos.x + x, pos.y + y, pos.z + z)\n@user-code\n"
    }
   },
   "outputs": [],
   "source": [
    "world.set(from_me(0,0,0), \"cake\")\n",
    "cake_location = save_from_me(0, 0, 0)\n",
    "cake_place_time = \n",
    "# Complete the line above with time.get_time()"
   ]
  },
  {
   "cell_type": "markdown",
   "metadata": {},
   "source": [
    "## Step 4\n",
    "\n",
    "Now that setting up the cake has been done we can move on to the code that will allow us to go back and check on our cake.\n",
    "To do this we're going to setup a `function` called `cake_checker()`, that's a little container of code and then ontop of the function we can put `@forever` \n",
    "to run the code forever. (*Or untill we stop it*)\n",
    "\n",
    "**Look at the code bellow to see how we set this up**"
   ]
  },
  {
   "cell_type": "code",
   "execution_count": null,
   "metadata": {
    "minecraft": {
     "onCodeCancelledCommand": "scoreboard players set @s codeExecution 0",
     "onCodeErrorCommand": "scoreboard players set @s codeExecution -1",
     "onCodeStartedCommand": "scoreboard players set @s codeExecution 1",
     "onCodeStoppedCommand": "scoreboard players set @s codeExecution 0",
     "onCodeSuccessfulCommand": "scoreboard players set @s codeExecution 2",
     "overridePython": "import minecraft\ndef save_from_me(x:float, y:float, z:float):\n    pos = user.position\n    return minecraft.location.Location(pos.x + x, pos.y + y, pos.z + z)\n@user-code\n"
    }
   },
   "outputs": [],
   "source": [
    "world.set(from_me(0,0,0), \"cake\")\n",
    "cake_location = save_from_me(0, 0, 0)\n",
    "cake_place_time = time.get_time()\n",
    "\n",
    "@forever\n",
    "def cake_checker():\n",
    "    # Anything in here runs forever!"
   ]
  },
  {
   "cell_type": "markdown",
   "metadata": {},
   "source": [
    "Move on to the next section when you're ready."
   ]
  }
 ],
 "metadata": {
  "kernelspec": {
   "display_name": "Python 3",
   "language": "python",
   "name": "python3"
  },
  "language_info": {
   "codemirror_mode": {
    "name": "ipython",
    "version": 3
   },
   "file_extension": ".py",
   "mimetype": "text/x-python",
   "name": "python",
   "nbconvert_exporter": "python",
   "pygments_lexer": "ipython3",
   "version": "3.8.1"
  },
  "minecraft": {
   "description": "Section 2",
   "page_id": "1.1",
   "page_name": "Section 2",
   "style": "minecraft.css"
  }
 },
 "nbformat": 4,
 "nbformat_minor": 4
}
