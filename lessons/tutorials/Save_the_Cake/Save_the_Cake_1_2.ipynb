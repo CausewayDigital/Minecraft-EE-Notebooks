{
 "cells": [
  {
   "cell_type": "markdown",
   "metadata": {},
   "source": [
    "## Step 5\n",
    "Now that we have our function setup that will keep our code running, we need to get time we want to check to see if we need to go back to the cake and check on it.\n",
    "\n",
    "To do this we're going to make another variable inside of `cake_checker()`. This variable will be called `check_time`. This is hold the value that's the current game time, subracting our `cake_place_time`. To subtract the values from each other we can use the subtraction operator that's `-`. \n",
    "\n",
    "here's a reminder of how `time.get_time()` works:\n",
    "```python\n",
    "time.get_time()\n",
    "```\n",
    "\n",
    "This command return the current ingame time.\n",
    "\n",
    "**Finish the code bellow to subtract the `cake_place_time` from `time.get_time()`!**"
   ]
  },
  {
   "cell_type": "code",
   "execution_count": null,
   "metadata": {
    "minecraft": {
     "onCodeCancelledCommand": "scoreboard players set @s codeExecution 0",
     "onCodeErrorCommand": "scoreboard players set @s codeExecution -1",
     "onCodeStartedCommand": "scoreboard players set @s codeExecution 1",
     "onCodeStoppedCommand": "scoreboard players set @s codeExecution 0",
     "onCodeSuccessfulCommand": "scoreboard players set @s codeExecution 2",
     "overridePython": "import minecraft\ndef save_from_me(x:float, y:float, z:float):\n    pos = user.position\n    return minecraft.location.Location(pos.x + x, pos.y + y, pos.z + z)\n@user-code\n"
    }
   },
   "outputs": [],
   "source": [
    "world.set(from_me(0,0,0), \"cake\")\n",
    "cake_location = save_from_me(0, 0, 0)\n",
    "cake_place_time = time.get_time()\n",
    "\n",
    "@forever\n",
    "def cake_checker():\n",
    "    check_time = time.get_time() - \n",
    "    # Finish the line above!"
   ]
  },
  {
   "cell_type": "markdown",
   "metadata": {},
   "source": [
    "## Step 6\n",
    "\n",
    "Now lets check the `check_time` is greater than 300 ticks. To do this in Python, we'll use an `if` statement, which can be used to run specific chunks of code *if* a condition is `true`. Then if it's true we can then be teleported back to check the cake.\n",
    "\n",
    "Here's how a **great than** `if` statement works:\n",
    "```python\n",
    "if statment_1 > statment_2:\n",
    "    # If statment_1 is greater than statment_2, then code here runs\n",
    "```\n",
    "\n",
    "- `statment_1` and `statment_2`: These are the statment we want to check are equal to each other.\n",
    "\n",
    "**Fix the code bellow to have it check if `check_time` is greater than `300` not `100`.**"
   ]
  },
  {
   "cell_type": "code",
   "execution_count": null,
   "metadata": {
    "minecraft": {
     "onCodeCancelledCommand": "scoreboard players set @s codeExecution 0",
     "onCodeErrorCommand": "scoreboard players set @s codeExecution -1",
     "onCodeStartedCommand": "scoreboard players set @s codeExecution 1",
     "onCodeStoppedCommand": "scoreboard players set @s codeExecution 0",
     "onCodeSuccessfulCommand": "scoreboard players set @s codeExecution 2",
     "overridePython": "import minecraft\ndef save_from_me(x:float, y:float, z:float):\n    pos = user.position\n    return minecraft.location.Location(pos.x + x, pos.y + y, pos.z + z)\n@user-code\n"
    }
   },
   "outputs": [],
   "source": [
    "world.set(from_me(0,0,0), \"cake\")\n",
    "cake_location = save_from_me(0, 0, 0)\n",
    "cake_place_time = time.get_time()\n",
    "\n",
    "@forever\n",
    "def cake_checker():\n",
    "    check_time = time.get_time() - cake_place_time\n",
    "    if check_time > 100:\n",
    "        say(\"Time to check on the cake\")\n",
    "        # Fix the line above!"
   ]
  },
  {
   "cell_type": "markdown",
   "metadata": {},
   "source": [
    "When you're ready, move on to the last section. "
   ]
  }
 ],
 "metadata": {
  "kernelspec": {
   "display_name": "Python 3",
   "language": "python",
   "name": "python3"
  },
  "language_info": {
   "codemirror_mode": {
    "name": "ipython",
    "version": 3
   },
   "file_extension": ".py",
   "mimetype": "text/x-python",
   "name": "python",
   "nbconvert_exporter": "python",
   "pygments_lexer": "ipython3",
   "version": "3.8.1"
  },
  "minecraft": {
   "description": "Section 3",
   "page_id": "1.2",
   "page_name": "Section 3",
   "style": "minecraft.css"
  }
 },
 "nbformat": 4,
 "nbformat_minor": 4
}
