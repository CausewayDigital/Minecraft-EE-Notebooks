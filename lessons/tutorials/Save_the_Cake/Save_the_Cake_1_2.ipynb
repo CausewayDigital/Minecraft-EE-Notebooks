{
 "cells": [
  {
   "cell_type": "markdown",
   "metadata": {},
   "source": [
    "## Step 5\n",
    "At this point, you need to create a timer in your program, that will run code after a set amount of time.\n",
    "\n",
    "For this you're going to make another variable inside of your `cake_checker()` function. This variable will be called `check_time`. It'll hold the difference between your `cake_place_time` variable and the current game time.\n",
    "\n",
    "(Reminder) Here's how to get the game time:\n",
    "```python\n",
    "world.time\n",
    "```\n",
    "\n",
    "To subtract the values from each other, you use the subtraction operator, `-`. \n",
    "\n",
    "**Finish the code below to subtract `cake_place_time` from `world.time`!**"
   ]
  },
  {
   "cell_type": "code",
   "execution_count": null,
   "metadata": {
    "minecraft": {
     "closeCodeBuilderOnRun": true,
     "onCodeCancelledCommand": "scoreboard players set @s codeExecution 0",
     "onCodeErrorCommand": "scoreboard players set @s codeExecution -1",
     "onCodeStartedCommand": "scoreboard players set @s codeExecution 1",
     "onCodeStoppedCommand": "scoreboard players set @s codeExecution 0",
     "onCodeSuccessfulCommand": "scoreboard players set @s codeExecution 2",
     "overridePython": "import minecraft\ndef save_from_me(x:float, y:float, z:float):\n    pos = user.position\n    return minecraft.location.Location(pos.x + x, pos.y + y, pos.z + z)\n@user-code\n"
    }
   },
   "outputs": [],
   "source": [
    "cake_place_time = world.time\n",
    "world.set(from_me(0,0,0), \"cake\")\n",
    "cake_location = save_from_me(0, 0, 0)\n",
    "\n",
    "@forever\n",
    "def cake_checker():\n",
    "    global cake_place_time # This grabs the original \"cake_place_time\" variable\n",
    "    check_time = \n",
    "    # Finish the line above"
   ]
  },
  {
   "cell_type": "markdown",
   "metadata": {},
   "source": [
    "## Step 6\n",
    "\n",
    "Now, you'll check if `check_time` is greater than 300 ticks (Minecraft's version of time). \n",
    "\n",
    "To do this in Python, you'll use an `if` statement. It can be used to run specific chunks of code *if* a condition is `true`.\n",
    "\n",
    "Here's how a **greater than** `if` statement works:\n",
    "```python\n",
    "if A > B:\n",
    "    # If A is greater than B, the code here runs\n",
    "```\n",
    "\n",
    "- `A` and `B`: These are the variables you want to check.\n",
    "\n",
    "Here's an example. As 4 is bigger than 3, is would say True!\n",
    "```python\n",
    "if 4 > 3:\n",
    "    say(\"True!\")\n",
    "```\n",
    "\n",
    "**Complete the `if` statement below to check if `check_time` is greater than `300`.**"
   ]
  },
  {
   "cell_type": "code",
   "execution_count": null,
   "metadata": {
    "minecraft": {
     "closeCodeBuilderOnRun": true,
     "onCodeCancelledCommand": "scoreboard players set @s codeExecution 0",
     "onCodeErrorCommand": "scoreboard players set @s codeExecution -1",
     "onCodeStartedCommand": "scoreboard players set @s codeExecution 1",
     "onCodeStoppedCommand": "scoreboard players set @s codeExecution 0",
     "onCodeSuccessfulCommand": "scoreboard players set @s codeExecution 2",
     "overridePython": "import minecraft\ndef save_from_me(x:float, y:float, z:float):\n    pos = user.position\n    return minecraft.location.Location(pos.x + x, pos.y + y, pos.z + z)\n@user-code\n"
    }
   },
   "outputs": [],
   "source": [
    "cake_place_time = world.time\n",
    "world.set(from_me(0,0,0), \"cake\")\n",
    "cake_location = save_from_me(0, 0, 0)\n",
    "\n",
    "@forever\n",
    "def cake_checker():\n",
    "    global cake_place_time\n",
    "    check_time = world.time - cake_place_time\n",
    "    if \n",
    "        # Complete the line above!\n",
    "        \n",
    "        say(\"Time to check on the cake\")"
   ]
  },
  {
   "cell_type": "markdown",
   "metadata": {},
   "source": [
    "When you're ready, move on to the final section. "
   ]
  }
 ],
 "metadata": {
  "kernelspec": {
   "display_name": "Python 3",
   "language": "python",
   "name": "python3"
  },
  "language_info": {
   "codemirror_mode": {
    "name": "ipython",
    "version": 3
   },
   "file_extension": ".py",
   "mimetype": "text/x-python",
   "name": "python",
   "nbconvert_exporter": "python",
   "pygments_lexer": "ipython3",
   "version": "3.8.3"
  },
  "minecraft": {
   "description": "Section 3",
   "page_id": "1.2",
   "page_name": "Section 3",
   "style": "minecraft.css"
  }
 },
 "nbformat": 4,
 "nbformat_minor": 4
}
