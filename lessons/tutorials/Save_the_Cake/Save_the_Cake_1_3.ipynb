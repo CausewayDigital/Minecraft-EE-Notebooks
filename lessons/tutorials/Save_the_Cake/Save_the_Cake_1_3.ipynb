{
 "cells": [
  {
   "cell_type": "markdown",
   "metadata": {},
   "source": [
    "## Step 7\n",
    "\n",
    "It's time to add code to teleport back to the cake! \n",
    "\n",
    "To do this, you can use the `user.teleport()` function. This command will teleport the player to a specific location. You can use the `cake_location` variable from earlier to teleport the player to the cake!\n",
    "\n",
    "This is how `user.teleport()` works:\n",
    "```python\n",
    "user.teleport(location)\n",
    "```\n",
    "\n",
    "- `location`: The location you want to teleport to.\n",
    "\n",
    "**Add code to teleport the user to `cake_location`.**"
   ]
  },
  {
   "cell_type": "code",
   "execution_count": null,
   "metadata": {
    "minecraft": {
     "onCodeCancelledCommand": "scoreboard players set @s codeExecution 0",
     "onCodeErrorCommand": "scoreboard players set @s codeExecution -1",
     "onCodeStartedCommand": "scoreboard players set @s codeExecution 1",
     "onCodeStoppedCommand": "scoreboard players set @s codeExecution 0",
     "onCodeSuccessfulCommand": "scoreboard players set @s codeExecution 2",
     "overridePython": "import minecraft\ndef save_from_me(x:float, y:float, z:float):\n    pos = user.position\n    return minecraft.location.Location(pos.x + x, pos.y + y, pos.z + z)\n@user-code\n"
    }
   },
   "outputs": [],
   "source": [
    "world.set(from_me(0,0,0), \"cake\")\n",
    "cake_location = save_from_me(0, 0, 0)\n",
    "cake_place_time = world.get_time()\n",
    "\n",
    "@forever\n",
    "def cake_checker():\n",
    "    check_time = world.get_time() - cake_place_time\n",
    "    if check_time > 300:\n",
    "        say(\"Time to check on the cake\")\n",
    "        \n",
    "        # Add the code on the line above."
   ]
  },
  {
   "cell_type": "markdown",
   "metadata": {},
   "source": [
    "## Step 8\n",
    "\n",
    "Finally, after you teleport the user, you want to reset the `cake_place_time` variable to the current in-game time again.\n",
    "\n",
    "For this step, you will do the same as **step 3** to update the value.\n",
    "\n",
    "**Add the code to update the value for `cake_place_time` to the current time?**"
   ]
  },
  {
   "cell_type": "code",
   "execution_count": null,
   "metadata": {
    "minecraft": {
     "onCodeCancelledCommand": "scoreboard players set @s codeExecution 0",
     "onCodeErrorCommand": "scoreboard players set @s codeExecution -1",
     "onCodeStartedCommand": "scoreboard players set @s codeExecution 1",
     "onCodeStoppedCommand": "scoreboard players set @s codeExecution 0",
     "onCodeSuccessfulCommand": "scoreboard players set @s codeExecution 2",
     "overridePython": "import minecraft\ndef save_from_me(x:float, y:float, z:float):\n    pos = user.position\n    return minecraft.location.Location(pos.x + x, pos.y + y, pos.z + z)\n@user-code\n"
    }
   },
   "outputs": [],
   "source": [
    "world.set(from_me(0,0,0), \"cake\")\n",
    "cake_location = save_from_me(0, 0, 0)\n",
    "cake_place_time = world.get_time() # Hint!\n",
    "\n",
    "@forever\n",
    "def cake_checker():\n",
    "    check_time = world.get_time() - cake_place_time\n",
    "    if check_time > 300:\n",
    "        say(\"Time to check on the cake\")\n",
    "        user.teleport(cake_location)\n",
    "        \n",
    "        # Add the code on the line above."
   ]
  },
  {
   "cell_type": "markdown",
   "metadata": {},
   "source": [
    "Nice job! Run you code and see how far you can get!"
   ]
  },
  {
   "cell_type": "markdown",
   "metadata": {},
   "source": [
    "## Extensions\n",
    "Here's some thing to try:\n",
    "- After the cake have been checked, make the user say \"Checked cake!\" (Using `say()` function).\n",
    "- After cake has been checked, teleport the player back to where they were, before they checked the cake\n",
    "- One cake is nice, but maybe place more than one cake?"
   ]
  }
 ],
 "metadata": {
  "kernelspec": {
   "display_name": "Python 3",
   "language": "python",
   "name": "python3"
  },
  "language_info": {
   "codemirror_mode": {
    "name": "ipython",
    "version": 3
   },
   "file_extension": ".py",
   "mimetype": "text/x-python",
   "name": "python",
   "nbconvert_exporter": "python",
   "pygments_lexer": "ipython3",
   "version": "3.8.3"
  },
  "minecraft": {
   "description": "Section 4",
   "page_id": "1.3",
   "page_name": "Section 4",
   "style": "minecraft.css"
  }
 },
 "nbformat": 4,
 "nbformat_minor": 4
}
