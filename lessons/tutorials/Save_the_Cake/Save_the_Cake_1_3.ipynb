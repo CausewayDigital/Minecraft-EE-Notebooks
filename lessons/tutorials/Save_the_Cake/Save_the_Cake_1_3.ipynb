{
 "cells": [
  {
   "cell_type": "markdown",
   "metadata": {},
   "source": [
    "## Step 7\n",
    "\n",
    "Now that we check the time and we need to go back to the cake to check on it we're going to add code to teleport back to the cake. To do this we can use `user.teleport()`, this comamnd will teleport the player, and we want to teleport them back to the cake. We saved the cake's location to `cake_location` earlier.\n",
    "\n",
    "This is how `user.teleport()` works:\n",
    "```python\n",
    "user.teleport(location)\n",
    "```\n",
    "\n",
    "- `location`: This is the location we want to teleport to.\n",
    "\n",
    "**Add the code to with `user.teleport()` to teleport the user to `cake_location`**"
   ]
  },
  {
   "cell_type": "code",
   "execution_count": null,
   "metadata": {
    "minecraft": {
     "onCodeCancelledCommand": "scoreboard players set @s codeExecution 0",
     "onCodeErrorCommand": "scoreboard players set @s codeExecution -1",
     "onCodeStartedCommand": "scoreboard players set @s codeExecution 1",
     "onCodeStoppedCommand": "scoreboard players set @s codeExecution 0",
     "onCodeSuccessfulCommand": "scoreboard players set @s codeExecution 2",
     "overridePython": "import minecraft\ndef save_from_me(x:float, y:float, z:float):\n    pos = user.position\n    return minecraft.location.Location(pos.x + x, pos.y + y, pos.z + z)\n@user-code\n"
    }
   },
   "outputs": [],
   "source": [
    "world.set(from_me(0,0,0), \"cake\")\n",
    "cake_location = save_from_me(0, 0, 0)\n",
    "cake_place_time = world.get_time()\n",
    "\n",
    "@forever\n",
    "def cake_checker():\n",
    "    check_time = world.get_time() - cake_place_time\n",
    "    if check_time > 300:\n",
    "        say(\"Time to check on the cake\")\n",
    "        \n",
    "        # Add the code on the line above."
   ]
  },
  {
   "cell_type": "markdown",
   "metadata": {},
   "source": [
    "## Step 8\n",
    "\n",
    "Finally after we teleport the user, we want to set `cake_place_time` to the current time again after we teleport back to the cake.\n",
    "To do this we can do the same as what we did in **step 3**\n",
    "\n",
    "**Add the code to set `cake_place_time` to the current time?**"
   ]
  },
  {
   "cell_type": "code",
   "execution_count": null,
   "metadata": {
    "minecraft": {
     "onCodeCancelledCommand": "scoreboard players set @s codeExecution 0",
     "onCodeErrorCommand": "scoreboard players set @s codeExecution -1",
     "onCodeStartedCommand": "scoreboard players set @s codeExecution 1",
     "onCodeStoppedCommand": "scoreboard players set @s codeExecution 0",
     "onCodeSuccessfulCommand": "scoreboard players set @s codeExecution 2",
     "overridePython": "import minecraft\ndef save_from_me(x:float, y:float, z:float):\n    pos = user.position\n    return minecraft.location.Location(pos.x + x, pos.y + y, pos.z + z)\n@user-code\n"
    }
   },
   "outputs": [],
   "source": [
    "world.set(from_me(0,0,0), \"cake\")\n",
    "cake_location = save_from_me(0, 0, 0)\n",
    "cake_place_time = world.get_time()\n",
    "\n",
    "@forever\n",
    "def cake_checker():\n",
    "    check_time = world.get_time() - cake_place_time\n",
    "    if check_time > 300:\n",
    "        say(\"Time to check on the cake\")\n",
    "        user.teleport(cake_location)\n",
    "        \n",
    "        # Add the code on the line above."
   ]
  },
  {
   "cell_type": "markdown",
   "metadata": {},
   "source": [
    "Nice! Your code is now done, got and run you code!"
   ]
  },
  {
   "cell_type": "markdown",
   "metadata": {},
   "source": [
    "## Extensions\n",
    "Here's some thing to try:\n",
    "- Add code to teleport the player back to where they where after they checked on the cake.\n",
    "- Maybe add a command so you can teleport to the cake when you want to?\n",
    "- One cake is nice, but maybe place more then one cake?"
   ]
  }
 ],
 "metadata": {
  "kernelspec": {
   "display_name": "Python 3",
   "language": "python",
   "name": "python3"
  },
  "language_info": {
   "codemirror_mode": {
    "name": "ipython",
    "version": 3
   },
   "file_extension": ".py",
   "mimetype": "text/x-python",
   "name": "python",
   "nbconvert_exporter": "python",
   "pygments_lexer": "ipython3",
   "version": "3.8.1"
  },
  "minecraft": {
   "description": "Section 4",
   "page_id": "1.3",
   "page_name": "Section 4",
   "style": "minecraft.css"
  }
 },
 "nbformat": 4,
 "nbformat_minor": 4
}
