{
 "cells": [
  {
   "cell_type": "markdown",
   "metadata": {},
   "source": [
    "# Help Babs! Pick up Glass\n",
    "There is glass all over the floor! No one should go in till it is all cleaned up.\n",
    "\n",
    "Let's program the agent to pick up all the glass.\n",
    "\n",
    "Commands you may need:\n",
    "    agent.collect()\n",
    "    agent.move()"
   ]
  },
  {
   "cell_type": "code",
   "execution_count": null,
   "metadata": {},
   "outputs": [],
   "source": [
    "#Try using agent.move agent.turn and agent.collect() to solve the problem\n",
    "for _ in range(5):\n",
    "   agent.collect()\n",
    "   agent.move(...)\n"
   ]
  }
 ],
 "metadata": {
  "kernelspec": {
   "display_name": "Broken Glass",
   "name": ""
  },
  "language_info": {
   "mimetype": "text/ x - python",
   "nbconvert_exporter": "python",
   "version": "3.6.0",
   "name": "python",
   "file_extension": ".py",
   "pygments_lexer": "ipython2",
   "codemirror_mode": {
    "version": 2,
    "name": "ipython"
   }
  },
  "minecraft": {
   "description": "Learn to make the Agent move",
   "page_id": "1.1",
   "page_name": "Broken Glass"
  }
 },
 "nbformat": 4,
 "nbformat_minor": 4
}