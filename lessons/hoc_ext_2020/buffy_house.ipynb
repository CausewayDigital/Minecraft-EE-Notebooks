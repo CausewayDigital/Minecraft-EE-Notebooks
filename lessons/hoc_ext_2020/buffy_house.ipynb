{
 "cells": [
  {
   "cell_type": "markdown",
   "metadata": {},
   "source": [
    "# Help Buffy Build a house\n",
    "A fire burnt buffys house. Help her rebuild it.\n",
    "\n",
    "\n",
    "Commands you may need:\n",
    "    agent.move()\n",
    "    agent.give",
    "    agent.place"
   ]
  },
  {
   "cell_type": "code",
   "execution_count": null,
   "metadata": {},
   "outputs": [],
   "source": [
    "#Try using agent.move agent.give and agent.place to solve the problem\n",
    "for _ in range(5):\n",
    "   agent.move(...)\n"
   ]
  }
 ],
 "metadata": {
  "kernelspec": {
   "display_name": "Broken Glass",
   "name": ""
  },
  "language_info": {
   "mimetype": "text/ x - python",
   "nbconvert_exporter": "python",
   "version": "3.6.0",
   "name": "python",
   "file_extension": ".py",
   "pygments_lexer": "ipython2",
   "codemirror_mode": {
    "version": 2,
    "name": "ipython"
   }
  },
  "minecraft": {
   "description": "Learn to make the Agent move",
   "page_id": "1.1",
   "page_name": "Broken Glass"
  }
 },
 "nbformat": 4,
 "nbformat_minor": 4
}