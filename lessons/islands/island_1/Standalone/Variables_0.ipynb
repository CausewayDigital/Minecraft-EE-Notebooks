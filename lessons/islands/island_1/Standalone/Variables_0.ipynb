{
 "cells": [
  {
   "cell_type": "markdown",
   "metadata": {},
   "source": [
    "# Introduction to Variables\n",
    "In this activity, you will be exploring the use of `Variables` within Python and how they work.   \n",
    "\n"
   ]
  },
  {
   "cell_type": "markdown",
   "metadata": {},
   "source": [
    "## What are Variables?\n",
    "\n",
    "In programming, `Variables` are temporary places to store data/information.   \n",
    "They allow data to be saved and accessed later.   \n",
    "Each `Variable` has a name that you define, when you create the `Variable` for the first time.   \n",
    "   \n",
    "To create a variable, have a look at the code below\n",
    "```python\n",
    "my_amazing_variable = \"Hello world\"\n",
    "```\n",
    "\n",
    "**Run the program below with the Run button. Perhaps try tweaking the text sections within the \"\".**"
   ]
  },
  {
   "cell_type": "code",
   "execution_count": null,
   "metadata": {
    "minecraft": {
     "closeCodeBuilderOnRun": true,
     "onCodeCancelledCommand": "scoreboard players set @s codeExecution 0",
     "onCodeErrorCommand": "scoreboard players set @s codeExecution -1",
     "onCodeStartedCommand": "scoreboard players set @s codeExecution 1",
     "onCodeStoppedCommand": "scoreboard players set @s codeExecution 0",
     "onCodeSuccessfulCommand": "scoreboard players set @s codeExecution 2",
     "readonly": false
    }
   },
   "outputs": [],
   "source": [
    "# Edit the message (String) below to add your own message\n",
    "my_amazing_variable = \"Test\" \n",
    "\n",
    "# This line below outputs the contents of the variable to game chat\n",
    "say(my_amazing_variable)\n"
   ]
  },
  {
   "cell_type": "markdown",
   "metadata": {},
   "source": [
    "## Overwriting a Variable\n",
    "You can also overwrite a `Variable` you have already created, with exactly the same process, for example\n",
    "```python\n",
    "my_amazing_variable = \"Hello\"\n",
    "\n",
    "# This line below will overwrite \"Hello\" with \"World\" instead the variable\n",
    "my_amazing_variable = \"World\"\n",
    "```\n",
    "\n",
    "**Without editing the first line of code below, can you create a line of code to overwrite the variable with \"Good news\"?**"
   ]
  },
  {
   "cell_type": "code",
   "execution_count": null,
   "metadata": {
    "minecraft": {
     "closeCodeBuilderOnRun": true,
     "onCodeCancelledCommand": "scoreboard players set @s codeExecution 0",
     "onCodeErrorCommand": "scoreboard players set @s codeExecution -1",
     "onCodeStartedCommand": "scoreboard players set @s codeExecution 1",
     "onCodeStoppedCommand": "scoreboard players set @s codeExecution 0",
     "onCodeSuccessfulCommand": "scoreboard players set @s codeExecution 2",
     "readonly": false
    }
   },
   "outputs": [],
   "source": [
    "my_amazing_variable = \"Bad news\"\n",
    "# Add your code below\n",
    "\n",
    "\n",
    "\n",
    "# This line below outputs the contents of the variable to game chat\n",
    "say(my_amazing_variable)"
   ]
  },
  {
   "cell_type": "markdown",
   "metadata": {},
   "source": [
    "Once you are finished, click the next button below to move on."
   ]
  }
 ],
 "metadata": {
  "kernelspec": {
   "display_name": "Python 3",
   "language": "python",
   "name": "python3"
  },
  "language_info": {
   "codemirror_mode": {
    "name": "ipython",
    "version": 3
   },
   "file_extension": ".py",
   "mimetype": "text/x-python",
   "name": "python",
   "nbconvert_exporter": "python",
   "pygments_lexer": "ipython3",
   "version": "3.7.5"
  },
  "minecraft": {
   "description": "Secton 1",
   "page_id": "3.0",
   "page_name": "Section 1",
   "style": "minecraft.css"
  }
 },
 "nbformat": 4,
 "nbformat_minor": 4
}
