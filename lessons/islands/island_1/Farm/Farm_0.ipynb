{
 "cells": [
  {
   "cell_type": "markdown",
   "metadata": {},
   "source": [
    "# Intro to farming\n",
    "Using our agent, let's help the farmer till the ground and plant some seeds.\n",
    "\n",
    "![Farming](farm.jpg)"
   ]
  },
  {
   "cell_type": "markdown",
   "metadata": {},
   "source": [
    "## Loading the seeds\n",
    "\n",
    "The farmer has given you 3 seeds, before doing anything else, right click on your agent and place these within the first (top left) slot of its inventory.   "
   ]
  },
  {
   "cell_type": "markdown",
   "metadata": {},
   "source": [
    "## Moving your agent\n",
    "\n",
    "Just in case you need a quick refresher on moving the agent, here is how to use `agent.move()`.\n",
    "\n",
    "```python\n",
    "agent.move(direction)\n",
    "```\n",
    "\n",
    "- `direction`: The direction we want to have the agent move in. The directions you can use are: `forward`, `back`, `left`, `right`, `up`, `down`.\n",
    "\n",
    "\n",
    "**Try finishing off the code below, to have your agent move to the left, then do 2 more left moves.**"
   ]
  },
  {
   "cell_type": "code",
   "execution_count": null,
   "metadata": {
    "minecraft": {
     "closeCodeBuilderOnRun": true,
     "onCodeCancelledCommand": "scoreboard players set @s codeExecution 0",
     "onCodeErrorCommand": "scoreboard players set @s codeExecution -1",
     "onCodeStartedCommand": "scoreboard players set @s codeExecution 1",
     "onCodeStoppedCommand": "scoreboard players set @s codeExecution 0",
     "onCodeSuccessfulCommand": "scoreboard players set @s codeExecution 2",
     "readonly": false
    }
   },
   "outputs": [],
   "source": [
    "# Finish off the line of code below and add more moves\n",
    "agent.\n",
    "\n",
    "\n"
   ]
  },
  {
   "cell_type": "markdown",
   "metadata": {},
   "source": [
    "## Tilling the required spots\n",
    "Take a look, you should see the 3 markers the farmers has placed, to help you figure out which blocks need tilled.   \n",
    "Tilling prepares normal dirt to grow seeds on. Once you have your agent directly on top of a dirt block, you should till it.\n",
    "\n",
    "To till dirt using your agent, use `agent.till()`. It is used as can be seen below.\n",
    "\n",
    "```python\n",
    "agent.till(direction)\n",
    "```\n",
    "\n",
    "- `direction`: The direction we want to have the agent till. The directions you can use are: `forward`, `back`, `left`, `right`, `up`, `down`.\n",
    "\n",
    "**Once floating directly over one of the required dirt blocks, till down to prepare the soil.**"
   ]
  },
  {
   "cell_type": "code",
   "execution_count": null,
   "metadata": {
    "minecraft": {
     "closeCodeBuilderOnRun": true,
     "onCodeCancelledCommand": "scoreboard players set @s codeExecution 0",
     "onCodeErrorCommand": "scoreboard players set @s codeExecution -1",
     "onCodeStartedCommand": "scoreboard players set @s codeExecution 1",
     "onCodeStoppedCommand": "scoreboard players set @s codeExecution 0",
     "onCodeSuccessfulCommand": "scoreboard players set @s codeExecution 2",
     "readonly": false
    }
   },
   "outputs": [],
   "source": [
    "# Finish off the line below\n",
    "agent.\n"
   ]
  }
 ],
 "metadata": {
  "kernelspec": {
   "display_name": "Python 3",
   "language": "python",
   "name": "python3"
  },
  "language_info": {
   "codemirror_mode": {
    "name": "ipython",
    "version": 3
   },
   "file_extension": ".py",
   "mimetype": "text/x-python",
   "name": "python",
   "nbconvert_exporter": "python",
   "pygments_lexer": "ipython3",
   "version": "3.7.3"
  },
  "minecraft": {
   "description": "Secton 1",
   "page_id": "3.0",
   "page_name": "Section 1",
   "style": "minecraft.css"
  }
 },
 "nbformat": 4,
 "nbformat_minor": 4
}
