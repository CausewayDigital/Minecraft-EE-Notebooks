{
 "cells": [
  {
   "cell_type": "code",
   "execution_count": null,
   "metadata": {
    "minecraft": {
     "closeCodeBuilderOnRun": true,
     "hidden": true,
     "onCodeCancelledCommand": "scoreboard players set @s codeExecution 0",
     "onCodeErrorCommand": "scoreboard players set @s codeExecution -1",
     "onCodeStartedCommand": "scoreboard players set @s codeExecution 1",
     "onCodeStoppedCommand": "scoreboard players set @s codeExecution 0",
     "onCodeSuccessfulCommand": "scoreboard players set @s codeExecution 2",
     "overridePython": "",
     "readonly": false
    }
   },
   "outputs": [],
   "source": [
    "@on_event(\"PlayerBounced\")\n",
    "def bounce(height, block):\n",
    "    elif block == \"slime\":\n",
    "        player.add_effect(\"levitation\", 2, 10)"
   ]
  },
  {
   "cell_type": "markdown",
   "metadata": {},
   "source": [
    "# Finish the Telescope.\n",
    "\n",
    "![Image of telescope build](cover.jpg)\n",
    "\n",
    "**Telescope Builder**: \"*We're having some trouble getting up to the top of the telescope to complete the build. Could you get up to the top to finish the build for us? We're going to give you a beacon that needs placed at the end of the telescope.*\"\n",
    "\n",
    "\n",
    "You'll learn how to use decorators to trigger a function when something happens in-game."
   ]
  },
  {
   "cell_type": "markdown",
   "metadata": {},
   "source": [
    "## Step 1\n",
    "\n",
    "First, you'll need to create a function to see when you bounce. Minecraft has a list of functions that you can use that will run when the player (*you*) does something. For getting up to the telescope we want to see when you bounce, and you can use the built-in function called `on_player_bounced`.\n",
    "\n",
    "You can set up `on_player_bounced` like so:\n",
    "```python\n",
    "def on_player_bounced(height, block):\n",
    "```\n",
    "- height: This gives you the height jumped by the player\n",
    "- block: The gives you the block the player jumped on\n",
    "*You need both of these variables for the function to work*\n",
    "\n",
    "**Complete the code below to finish the function definition**"
   ]
  },
  {
   "cell_type": "code",
   "execution_count": null,
   "metadata": {
    "minecraft": {
     "closeCodeBuilderOnRun": true,
     "onCodeCancelledCommand": "scoreboard players set @s codeExecution 0",
     "onCodeErrorCommand": "scoreboard players set @s codeExecution -1",
     "onCodeStartedCommand": "scoreboard players set @s codeExecution 1",
     "onCodeStoppedCommand": "scoreboard players set @s codeExecution 0",
     "onCodeSuccessfulCommand": "scoreboard players set @s codeExecution 2",
     "overridePython": "",
     "readonly": false
    }
   },
   "outputs": [],
   "source": [
    "def on_              (      ,      ):\n",
    "    say(\"Player Jumped\")"
   ]
  },
  {
   "cell_type": "markdown",
   "metadata": {},
   "source": [
    "## Step 2\n",
    "\n",
    "After you have the function set up you need to see what block you're jumping on. The builders have given you some `\"slime\"` to jump on. To see what block you are jumping on you can use the `block` variable in an `if` statement to see if the block being jumped on is slime.\n",
    "\n",
    "**Complete the if statement below to check if the `block` you're jumping on is `\"slime\"`**"
   ]
  },
  {
   "cell_type": "code",
   "execution_count": null,
   "metadata": {
    "minecraft": {
     "closeCodeBuilderOnRun": true,
     "onCodeCancelledCommand": "scoreboard players set @s codeExecution 0",
     "onCodeErrorCommand": "scoreboard players set @s codeExecution -1",
     "onCodeStartedCommand": "scoreboard players set @s codeExecution 1",
     "onCodeStoppedCommand": "scoreboard players set @s codeExecution 0",
     "onCodeSuccessfulCommand": "scoreboard players set @s codeExecution 2",
     "overridePython": "",
     "readonly": false
    }
   },
   "outputs": [],
   "source": [
    "def on_player_bounced(height, block):\n",
    "    if       == \"     \":\n",
    "    # Complete the line of code above\n",
    "        say(\"I'm jumping on slime!\")"
   ]
  },
  {
   "cell_type": "markdown",
   "metadata": {},
   "source": [
    "When you're ready to get up to the telescope, move to the next section!"
   ]
  }
 ],
 "metadata": {
  "kernelspec": {
   "display_name": "Python 3",
   "language": "python",
   "name": "python3"
  },
  "language_info": {
   "codemirror_mode": {
    "name": "ipython",
    "version": 3
   },
   "file_extension": ".py",
   "mimetype": "text/x-python",
   "name": "python",
   "nbconvert_exporter": "python",
   "pygments_lexer": "ipython3",
   "version": "3.8.5"
  },
  "minecraft": {
   "description": "Section 1",
   "page_id": "1.1",
   "page_name": "Section 1",
   "style": "minecraft.css"
  }
 },
 "nbformat": 4,
 "nbformat_minor": 4
}
