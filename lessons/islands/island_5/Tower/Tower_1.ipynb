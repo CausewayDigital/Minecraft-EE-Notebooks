{
 "cells": [
  {
   "cell_type": "code",
   "execution_count": null,
   "metadata": {
    "minecraft": {
     "closeCodeBuilderOnRun": true,
     "onCodeCancelledCommand": "scoreboard players set @s codeExecution 0",
     "onCodeErrorCommand": "scoreboard players set @s codeExecution -1",
     "onCodeStartedCommand": "scoreboard players set @s codeExecution 1",
     "onCodeStoppedCommand": "scoreboard players set @s codeExecution 0",
     "onCodeSuccessfulCommand": "scoreboard players set @s codeExecution 2",
     "overridePython": "",
     "readonly": false
    }
   },
   "outputs": [],
   "source": [
    "import time\n",
    "\n",
    "def draw_square(size: int):\n",
    "    for direction in [\"forward\",\"right\",\"back\",\"left\"]:\n",
    "        for position in range(0,size):\n",
    "            agent.place(1,\"down\")\n",
    "            agent.move(direction)\n",
    "\n",
    "# User Code\n",
    "def build_tower():\n",
    "    for layers in range(0,3):\n",
    "        agent.move(\"up\")\n",
    "        draw_square(2)\n",
    "\n",
    "agent.teleport([1018,159,79], [1018,159,76])\n",
    "build_tower()\n",
    "\n",
    "timer = 0\n",
    "while timer < 90:\n",
    "    # The MC Fnction palces a emerald block if the code is allowed to build the 2 support towers\n",
    "    if world.is_block([1027,154,60], \"emerald_block\"):\n",
    "        # Tower A\n",
    "        agent.teleport([1009,159,70], [1009,159,66])\n",
    "        build_tower()\n",
    "        # Tower B\n",
    "        agent.teleport([1027,159,70], [1027,159,66])\n",
    "        build_tower()\n",
    "        break\n",
    "    # if a nether wart block is placed, then there's an error with the tower and we raise an issue\n",
    "    if world.is_block([1027,154,60], \"nether_wart_block\"):\n",
    "        say(\"There seems to be an issue with your tower\")\n",
    "        raise Exception(\"Issue with your build_tower, please fix\")\n",
    "    else:\n",
    "        time.sleep(1)\n",
    "        timer = timer + 1\n",
    "if timer == 90:\n",
    "    say(\"There seems to be an issue with your tower\")\n",
    "    say(\"Reset the tower with the builder and start again\")\n",
    "    raise Exception(\"Issue with your build_tower, please fix\")"
   ]
  },
  {
   "cell_type": "markdown",
   "metadata": {},
   "source": [
    "# Introduction to Functions\n",
    "\n",
    "In this activity, you'll be introduced to `functions`.\n",
    "\n",
    "## What are functions?\n",
    "\n",
    "Functions are a block of code you can write that you can call over and over again.\n",
    "\n",
    "We use functions instead of writing the same code over and over again because it makes it easier to make changes to parts called over and over again."
   ]
  },
  {
   "cell_type": "markdown",
   "metadata": {},
   "source": [
    "# Building the Support towers\n",
    "\n",
    "It looks like the telescope build teams need some supports built. You and your Agent need to help build the telescope's support."
   ]
  },
  {
   "cell_type": "markdown",
   "metadata": {},
   "source": [
    "## Step 1\n",
    "\n",
    "For this task you'll need to create a function called `build_tower()`, and then the builders will run your function from your Agent to build the towers where they need to.\n",
    "\n",
    "To create a function you use `def` like so:\n",
    "```python\n",
    "def build_tower():\n",
    "```\n",
    "After the `def` is where you give your function a name that you call your function by.\n",
    "\n",
    "*Note: For steps 1 to 3, you code will be ran on the test tower.*\n",
    "\n",
    "**Complete the function bellow by giving it the name `build_tower`**"
   ]
  },
  {
   "cell_type": "code",
   "execution_count": null,
   "metadata": {
    "minecraft": {
     "closeCodeBuilderOnRun": true,
     "onCodeCancelledCommand": "scoreboard players set @s codeExecution 0",
     "onCodeErrorCommand": "scoreboard players set @s codeExecution -1",
     "onCodeStartedCommand": "scoreboard players set @s codeExecution 1",
     "onCodeStoppedCommand": "scoreboard players set @s codeExecution 0",
     "onCodeSuccessfulCommand": "scoreboard players set @s codeExecution 2",
     "overridePython": "import time\n\ndef draw_square(size: int):\n    for direction in [\"forward\",\"right\",\"back\",\"left\"]:\n        for position in range(0,size):\n            agent.place(1,\"down\")\n            agent.move(direction)\n\n@user-code\n\nagent.teleport([1018,159,79], [1018,159,76])\nbuild_tower()\n\n",
     "readonly": false
    }
   },
   "outputs": [],
   "source": [
    "def         ():\n",
    "    # Complete the line above\n",
    "    say(\"Function Works\")"
   ]
  },
  {
   "cell_type": "markdown",
   "metadata": {},
   "source": [
    "## Step 2\n",
    "\n",
    "Now that you have the function setup we need your function to build a tower that's 15 blocks high, to do this we need to use a for loop to run for.\n",
    "\n",
    "To make a for loop:\n",
    "```python\n",
    "for hight in range(start, end)\n",
    "```\n",
    "\n",
    "- start: The number you want to starts the count from\n",
    "- end: The number you want to end the count at\n",
    "\n",
    "**Complete the code below so that that `for` loop does a count from `0` to `15`**"
   ]
  },
  {
   "cell_type": "code",
   "execution_count": null,
   "metadata": {
    "minecraft": {
     "closeCodeBuilderOnRun": true,
     "onCodeCancelledCommand": "scoreboard players set @s codeExecution 0",
     "onCodeErrorCommand": "scoreboard players set @s codeExecution -1",
     "onCodeStartedCommand": "scoreboard players set @s codeExecution 1",
     "onCodeStoppedCommand": "scoreboard players set @s codeExecution 0",
     "onCodeSuccessfulCommand": "scoreboard players set @s codeExecution 2",
     "overridePython": "import time\n\ndef draw_square(size: int):\n    for direction in [\"forward\",\"right\",\"back\",\"left\"]:\n        for position in range(0,size):\n            agent.place(1,\"down\")\n            agent.move(direction)\n\n@user-code\n\nagent.teleport([1018,159,79], [1018,159,76])\nbuild_tower()\n\n",
     "readonly": false
    }
   },
   "outputs": [],
   "source": [
    "def build_tower():\n",
    "    for hight in range(  ,  ):\n",
    "        # Complete the line above\n",
    "        say(\"Function works\")"
   ]
  },
  {
   "cell_type": "markdown",
   "metadata": {},
   "source": [
    "Nice work, when you're ready move on to the next section."
   ]
  }
 ],
 "metadata": {
  "kernelspec": {
   "display_name": "Python 3",
   "language": "python",
   "name": "python3"
  },
  "language_info": {
   "codemirror_mode": {
    "name": "ipython",
    "version": 3
   },
   "file_extension": ".py",
   "mimetype": "text/x-python",
   "name": "python",
   "nbconvert_exporter": "python",
   "pygments_lexer": "ipython3",
   "version": "3.8.5"
  },
  "minecraft": {
   "description": "Section 1",
   "page_id": "1.1",
   "page_name": "Section 1",
   "style": "minecraft.css"
  }
 },
 "nbformat": 4,
 "nbformat_minor": 4
}
