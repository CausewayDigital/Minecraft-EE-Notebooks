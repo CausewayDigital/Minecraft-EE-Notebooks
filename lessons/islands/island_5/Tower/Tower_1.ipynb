{
 "cells": [
  {
   "cell_type": "code",
   "execution_count": null,
   "metadata": {
    "minecraft": {
     "closeCodeBuilderOnRun": true,
     "onCodeCancelledCommand": "scoreboard players set @s codeExecution 0",
     "onCodeErrorCommand": "scoreboard players set @s codeExecution -1",
     "onCodeStartedCommand": "scoreboard players set @s codeExecution 1",
     "onCodeStoppedCommand": "scoreboard players set @s codeExecution 0",
     "onCodeSuccessfulCommand": "scoreboard players set @s codeExecution 2",
     "overridePython": "",
     "readonly": false
    }
   },
   "outputs": [],
   "source": [
    "# CODE OPTION ONE\n",
    "\n",
    "def draw_square(size):\n",
    "    for direction in [\"forward\",\"right\",\"back\",\"left\"]:\n",
    "        for position in range(0,size):\n",
    "            agent.place(1,\"down\")\n",
    "            agent.move(direction)\n",
    "\n",
    "# User Code\n",
    "def build_tower():\n",
    "    for layers in range(0,3):\n",
    "        agent.move(\"up\")\n",
    "        draw_square(2)\n",
    "        \n",
    "# End of User Code (They could run the build_tower funciton though too)\n",
    "build_tower()"
   ]
  },
  {
   "cell_type": "code",
   "execution_count": null,
   "metadata": {
    "minecraft": {
     "closeCodeBuilderOnRun": true,
     "onCodeCancelledCommand": "scoreboard players set @s codeExecution 0",
     "onCodeErrorCommand": "scoreboard players set @s codeExecution -1",
     "onCodeStartedCommand": "scoreboard players set @s codeExecution 1",
     "onCodeStoppedCommand": "scoreboard players set @s codeExecution 0",
     "onCodeSuccessfulCommand": "scoreboard players set @s codeExecution 2",
     "overridePython": "",
     "readonly": false
    }
   },
   "outputs": [],
   "source": [
    "# CODE OPTION TWO\n",
    "\n",
    "# User Code\n",
    "def build_layer():\n",
    "    for block in range(0,2):\n",
    "        agent.place(1,\"down\")\n",
    "        agent.move(\"forward\")\n",
    "    for block in range(0,2):\n",
    "        agent.place(1,\"down\")\n",
    "        agent.move(\"right\")\n",
    "    for block in range(0,2):\n",
    "        agent.place(1,\"down\")\n",
    "        agent.move(\"back\")\n",
    "    for block in range(0,2):\n",
    "        agent.place(1,\"down\")\n",
    "        agent.move(\"left\")\n",
    "        \n",
    "def build_tower():\n",
    "    for layers in range(0,3):\n",
    "        agent.move(\"up\")\n",
    "        build_layer()\n",
    "\n",
    "# End of User Code (They could run the build_tower funciton though too)        \n",
    "build_tower()"
   ]
  },
  {
   "cell_type": "markdown",
   "metadata": {},
   "source": [
    "# Introduction to Functions\n",
    "\n",
    "In this activity, you'll be introduced to `functions`.\n",
    "\n",
    "## What are functions?\n",
    "\n",
    "Functions are a block of code you can write that you can call over and over again.\n",
    "\n",
    "We use functions instead of writing the same code over and over again because it makes it easier to make changes to parts called over and over again."
   ]
  },
  {
   "cell_type": "markdown",
   "metadata": {},
   "source": [
    "# Building the Support towers\n",
    "\n",
    "It looks like the telescope build teams need some supports built. You and your Agent need to help build the telescope's support."
   ]
  },
  {
   "cell_type": "markdown",
   "metadata": {},
   "source": [
    "## Step 1\n",
    "\n",
    "For this task you'll need to create a function called `build_tower()`, and then the builders will run your function from your Agent to build the towers where they need to.\n",
    "\n",
    "To create a function you use `def` like so:\n",
    "```python\n",
    "def build_tower():\n",
    "```\n",
    "After the `def` is where you give your function a name that you call your function by.\n",
    "\n",
    "*Note: For steps 1 to 3, you code will be ran on the test tower.*\n",
    "\n",
    "**Complete the function bellow by giving it the name `build_tower`**"
   ]
  },
  {
   "cell_type": "code",
   "execution_count": null,
   "metadata": {
    "minecraft": {
     "closeCodeBuilderOnRun": true,
     "onCodeCancelledCommand": "scoreboard players set @s codeExecution 0",
     "onCodeErrorCommand": "scoreboard players set @s codeExecution -1",
     "onCodeStartedCommand": "scoreboard players set @s codeExecution 1",
     "onCodeStoppedCommand": "scoreboard players set @s codeExecution 0",
     "onCodeSuccessfulCommand": "scoreboard players set @s codeExecution 2",
     "overridePython": "def draw_square(size: int):\n    for direction in [\"forward\",\"right\",\"back\",\"left\"]:\n        for position in range(0,size):\n            agent.place(1,\"down\")\n            agent.move(direction)\n\n@user-code\n\nagent.teleport([1017,159,80], [1017,159,76])\nbuild_tower()",
     "readonly": false
    }
   },
   "outputs": [],
   "source": [
    "def         ():\n",
    "    # Complete the line above\n",
    "    say(\"Function Works\")"
   ]
  },
  {
   "cell_type": "markdown",
   "metadata": {},
   "source": [
    "## Step 2\n",
    "\n",
    "Now that you have the function setup we need your function to build a tower that's 7 blocks high, to do this we need to use a for loop to run for.\n",
    "\n",
    "To make a for loop:\n",
    "```python\n",
    "for hight in range(start, end)\n",
    "```\n",
    "\n",
    "- start: The number you want to starts the count from\n",
    "- end: The number you want to end the count at\n",
    "\n",
    "**Complete the code below so that that `for` loop does a count from `0` to `7`**"
   ]
  },
  {
   "cell_type": "code",
   "execution_count": null,
   "metadata": {
    "minecraft": {
     "closeCodeBuilderOnRun": true,
     "onCodeCancelledCommand": "scoreboard players set @s codeExecution 0",
     "onCodeErrorCommand": "scoreboard players set @s codeExecution -1",
     "onCodeStartedCommand": "scoreboard players set @s codeExecution 1",
     "onCodeStoppedCommand": "scoreboard players set @s codeExecution 0",
     "onCodeSuccessfulCommand": "scoreboard players set @s codeExecution 2",
     "overridePython": "def draw_square(size: int):\n    for direction in [\"forward\",\"right\",\"back\",\"left\"]:\n        for position in range(0,size):\n            agent.place(1,\"down\")\n            agent.move(direction)\n\n@user-code\n\nagent.teleport([1017,159,80], [1017,159,76])\nbuild_tower()",
     "readonly": false
    }
   },
   "outputs": [],
   "source": [
    "def build_tower():\n",
    "    for hight in range(  ,  ):\n",
    "        # Complete the line above\n",
    "        say(\"Function works\")"
   ]
  },
  {
   "cell_type": "markdown",
   "metadata": {},
   "source": [
    "Nice work, when you're ready move on to the next section."
   ]
  }
 ],
 "metadata": {
  "kernelspec": {
   "display_name": "Python 3",
   "language": "python",
   "name": "python3"
  },
  "language_info": {
   "codemirror_mode": {
    "name": "ipython",
    "version": 3
   },
   "file_extension": ".py",
   "mimetype": "text/x-python",
   "name": "python",
   "nbconvert_exporter": "python",
   "pygments_lexer": "ipython3",
   "version": "3.8.5"
  },
  "minecraft": {
   "description": "Section 1",
   "page_id": "1.1",
   "page_name": "Section 1",
   "style": "minecraft.css"
  }
 },
 "nbformat": 4,
 "nbformat_minor": 4
}
