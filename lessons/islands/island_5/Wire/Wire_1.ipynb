{
 "cells": [
  {
   "cell_type": "code",
   "execution_count": null,
   "metadata": {
    "minecraft": {
     "closeCodeBuilderOnRun": true,
     "onCodeCancelledCommand": "scoreboard players set @s codeExecution 0",
     "onCodeErrorCommand": "scoreboard players set @s codeExecution -1",
     "onCodeStartedCommand": "scoreboard players set @s codeExecution 1",
     "onCodeStoppedCommand": "scoreboard players set @s codeExecution 0",
     "onCodeSuccessfulCommand": "scoreboard players set @s codeExecution 2",
     "overridePython": "",
     "readonly": false
    }
   },
   "outputs": [],
   "source": [
    "def clean_location(x,y,z):\n",
    "    x = int(x)\n",
    "    y = int(y)-1\n",
    "    z = int(z)\n",
    "    return x,y,z\n",
    "\n",
    "# User Code\n",
    "@on_event(\"PlayerTravelled\")\n",
    "def travel(location, mode, distance):\n",
    "    loc = clean_location(location.x, location.y, location.z)\n",
    "    agent.teleport(loc)\n",
    "    agent.place(1,\"down\")"
   ]
  },
  {
   "cell_type": "markdown",
   "metadata": {},
   "source": [
    "# Wire to the power station\n",
    "\n",
    "![Picture of Powerstation]()\n",
    "\n",
    "Now that the telescope has been built it needs power. However since the power coming out of the power station is high voltage it can only be touched by a robot. Could you and your Agent walk along the bridge and place down the wire?\n",
    "\n",
    "I this task we'll use functions again to summon your agent long and place down the wire as you move."
   ]
  },
  {
   "cell_type": "markdown",
   "metadata": {},
   "source": [
    "## Step 1\n",
    "\n",
    "To begin with you'll need to create a function that runs when you move, Minecraft has a function for this called `on_player_travelled()` that's triggered everytime you move in game.\n",
    "\n",
    "You can use `on_player_travelled()` like so:\n",
    "```python\n",
    "def on_player_travelled(location, mode, distance)\n",
    "```\n",
    "- location: This gives you the location where you moved to\n",
    "- mode: This gives you how you moves. I.e run, walk\n",
    "- distance: This gives you how far you moved.\n",
    "\n",
    "**Complete the code bellow for make the function work.**"
   ]
  },
  {
   "cell_type": "code",
   "execution_count": null,
   "metadata": {
    "minecraft": {
     "closeCodeBuilderOnRun": true,
     "onCodeCancelledCommand": "scoreboard players set @s codeExecution 0",
     "onCodeErrorCommand": "scoreboard players set @s codeExecution -1",
     "onCodeStartedCommand": "scoreboard players set @s codeExecution 1",
     "onCodeStoppedCommand": "scoreboard players set @s codeExecution 0",
     "onCodeSuccessfulCommand": "scoreboard players set @s codeExecution 2",
     "overridePython": "def correct_location(location):\n    x = int(location.x)\n    y = int(location.y)-1\n    z = int(location.z)\n    return x,y,z\n\n@user-code",
     "readonly": false
    }
   },
   "outputs": [],
   "source": [
    "def on_                 (location, mode, distance):\n",
    "    # Complete the line of code above\n",
    "    say(\"I moved!\")"
   ]
  },
  {
   "cell_type": "markdown",
   "metadata": {},
   "source": [
    "## Step 2\n",
    "\n",
    "As you walk you need to correct the location for where you need you agent to move to and place down the redstone. To do this you can use the `correct_location()` function and assign the value to the variable called `loc`.\n",
    "\n",
    "You can use `correct_location()` like so:\n",
    "```python\n",
    "correct_location(location)\n",
    "```\n",
    "-location: The location you want to correct.\n",
    "\n",
    "**Conmplete the code bellow to add the `correct_location()` function in and pass it `location`.**"
   ]
  },
  {
   "cell_type": "code",
   "execution_count": null,
   "metadata": {
    "minecraft": {
     "closeCodeBuilderOnRun": true,
     "onCodeCancelledCommand": "scoreboard players set @s codeExecution 0",
     "onCodeErrorCommand": "scoreboard players set @s codeExecution -1",
     "onCodeStartedCommand": "scoreboard players set @s codeExecution 1",
     "onCodeStoppedCommand": "scoreboard players set @s codeExecution 0",
     "onCodeSuccessfulCommand": "scoreboard players set @s codeExecution 2",
     "overridePython": "def correct_location(location):\n    x = int(location.x)\n    y = int(location.y)-1\n    z = int(location.z)\n    return x,y,z\n\n@user-code",
     "readonly": false
    }
   },
   "outputs": [],
   "source": [
    "def on_player_travelled(location, mode, distance):\n",
    "    loc = correct_        (        )\n",
    "    # Complete the line of code above"
   ]
  },
  {
   "cell_type": "markdown",
   "metadata": {},
   "source": [
    "Nice! Move onto section 2 when you're ready."
   ]
  }
 ],
 "metadata": {
  "kernelspec": {
   "display_name": "Python 3",
   "language": "python",
   "name": "python3"
  },
  "language_info": {
   "codemirror_mode": {
    "name": "ipython",
    "version": 3
   },
   "file_extension": ".py",
   "mimetype": "text/x-python",
   "name": "python",
   "nbconvert_exporter": "python",
   "pygments_lexer": "ipython3",
   "version": "3.8.5"
  },
  "minecraft": {
   "description": "Section 1",
   "page_id": "1.1",
   "page_name": "Section 1",
   "style": "minecraft.css"
  }
 },
 "nbformat": 4,
 "nbformat_minor": 4
}
