{
 "cells": [
  {
   "cell_type": "markdown",
   "metadata": {},
   "source": [
    "## Step 3\n",
    "\n",
    "The next step is to teleport your Agent to the corrected position that we just got. To teleport your Agent you can use `agent.teleport()`.\n",
    "\n",
    "You can use `agent.teleport()` like so:\n",
    "```python\n",
    "agent.teleport(location)\n",
    "```\n",
    "- Location: The Location you want to teleport you agent to.\n",
    "\n",
    "**Complete the code bellow so that you teleport you agent to the corrected location we have in `loc`**"
   ]
  },
  {
   "cell_type": "code",
   "execution_count": null,
   "metadata": {
    "minecraft": {
     "closeCodeBuilderOnRun": true,
     "onCodeCancelledCommand": "scoreboard players set @s codeExecution 0",
     "onCodeErrorCommand": "scoreboard players set @s codeExecution -1",
     "onCodeStartedCommand": "scoreboard players set @s codeExecution 1",
     "onCodeStoppedCommand": "scoreboard players set @s codeExecution 0",
     "onCodeSuccessfulCommand": "scoreboard players set @s codeExecution 2",
     "overridePython": "def correct_location(location):\n    x = int(location.x)\n    y = int(location.y)-1\n    z = int(location.z)\n    return x,y,z\n\n@user-code",
     "readonly": false
    }
   },
   "outputs": [],
   "source": [
    "def on_player_travelled(location, mode, distance):\n",
    "    loc = correct_location(location)\n",
    "    agent.        (   )\n",
    "    # Finish the line above."
   ]
  },
  {
   "cell_type": "markdown",
   "metadata": {},
   "source": [
    "## Step 4\n",
    "\n",
    "The last step is to have your Agent place down the redstone wire to make the connection. The Power Station staff have already given your Agent some redstone wire in slot `1`, so all you need to do is use `agent.place()` to place it `\"down\"`\n",
    "\n",
    "To use `agent.place()`, see below:\n",
    "```python\n",
    "agent.place(slot_id, direction)\n",
    "```\n",
    "\n",
    "- `slot_id`: The slot number in the Agent's inventory, of the item we want to place. In this case, you should always use 1.\n",
    "- `direction`: The direction we want the Agent to place a block. The directions you can use are: `forward`, `back`, `left`, `right`, `up`, `down`.\n",
    "\n",
    "**Complete the code below so it places `\"down\"` the wire from slot `1`.**"
   ]
  },
  {
   "cell_type": "code",
   "execution_count": null,
   "metadata": {
    "minecraft": {
     "closeCodeBuilderOnRun": true,
     "onCodeCancelledCommand": "scoreboard players set @s codeExecution 0",
     "onCodeErrorCommand": "scoreboard players set @s codeExecution -1",
     "onCodeStartedCommand": "scoreboard players set @s codeExecution 1",
     "onCodeStoppedCommand": "scoreboard players set @s codeExecution 0",
     "onCodeSuccessfulCommand": "scoreboard players set @s codeExecution 2",
     "overridePython": "def correct_location(location):\n    x = int(location.x)\n    y = int(location.y)-1\n    z = int(location.z)\n    return x,y,z\n\n@user-code",
     "readonly": false
    }
   },
   "outputs": [],
   "source": [
    "def on_player_travelled(location, mode, distance):\n",
    "    loc = correct_location(location)\n",
    "    agent.teleport(loc)\n",
    "    agent.     ( , \"    \")\n",
    "    # Finish the line above."
   ]
  },
  {
   "cell_type": "markdown",
   "metadata": {},
   "source": [
    "When you're ready, run your code and slowly walk on the path so your agent will follow and place the redstone."
   ]
  }
 ],
 "metadata": {
  "kernelspec": {
   "display_name": "Python 3",
   "language": "python",
   "name": "python3"
  },
  "language_info": {
   "codemirror_mode": {
    "name": "ipython",
    "version": 3
   },
   "file_extension": ".py",
   "mimetype": "text/x-python",
   "name": "python",
   "nbconvert_exporter": "python",
   "pygments_lexer": "ipython3",
   "version": "3.8.5"
  },
  "minecraft": {
   "description": "Section 2",
   "page_id": "1.2",
   "page_name": "Section 2",
   "style": "minecraft.css"
  }
 },
 "nbformat": 4,
 "nbformat_minor": 4
}
