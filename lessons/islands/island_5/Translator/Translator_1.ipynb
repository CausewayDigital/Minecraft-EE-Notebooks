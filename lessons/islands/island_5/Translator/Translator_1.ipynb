{
 "cells": [
  {
   "cell_type": "code",
   "execution_count": null,
   "metadata": {
    "minecraft": {
     "closeCodeBuilderOnRun": true,
     "hidden": false,
     "onCodeCancelledCommand": "scoreboard players set @s codeExecution 0",
     "onCodeErrorCommand": "scoreboard players set @s codeExecution -1",
     "onCodeStartedCommand": "scoreboard players set @s codeExecution 1",
     "onCodeStoppedCommand": "scoreboard players set @s codeExecution 0",
     "onCodeSuccessfulCommand": "scoreboard players set @s codeExecution 2",
     "overridePython": "",
     "readonly": false
    }
   },
   "outputs": [],
   "source": [
    "import time\n",
    "\n",
    "def decode_information(block: str) -> int:\n",
    "    data_dict = {\n",
    "        \"A\": 1,\n",
    "        \"B\": 2,\n",
    "        \"C\": 3,\n",
    "        \"D\": 4,\n",
    "        \"E\": 5,\n",
    "        \"F\": 6,\n",
    "        \"G\": 7,\n",
    "        \"H\": 8,\n",
    "        \"I\": 9\n",
    "    }\n",
    "    return data_dict.get(block, 0)\n",
    "\n",
    "# User Code\n",
    "def decode(block):\n",
    "    detail = decode_information(block)\n",
    "    if detail > 9:\n",
    "        return 0\n",
    "    return detail\n",
    "# End of User Code\n",
    "\n",
    "list_of_numbers = [3, 4, 0, 6, 2, 1]\n",
    "# This dict holds all the \n",
    "variable_dict = {\n",
    "        1: \"A\",\n",
    "        2: \"B\",\n",
    "        3: \"C\",\n",
    "        4: \"D\",\n",
    "        5: \"E\",\n",
    "        6: \"F\",\n",
    "        7: \"G\",\n",
    "        8: \"H\",\n",
    "        9: \"I\"\n",
    "    }\n",
    "    \n",
    "for bit in list_of_numbers:\n",
    "    block = variable_dict.get(agent.inspect_data(\"forward\")[\"data\"], \"Z\")\n",
    "    num = decode(block)\n",
    "    if num == None:\n",
    "        raise Exception(\"No number given! Please fix your function, or Reset Bit Input and try again.\")\n",
    "        break\n",
    "    say(\"Decoded bit as : {}\".format(int(num)))\n",
    "    if num != bit:\n",
    "        say(\"Incorrect bit given!\")\n",
    "        raise Exception(\"Incorrect bit! Please fix your function, or Reset Bit Input and try again.\")\n",
    "        break\n",
    "    else:\n",
    "        world.summon(\"snow_golem\", [1007,150,132])\n",
    "        say(\"Loading Next Bit\")\n",
    "    time.sleep(1)\n",
    "        \n",
    "world.summon(\"snow_golem\", [1014,148,132])"
   ]
  },
  {
   "cell_type": "markdown",
   "metadata": {},
   "source": [
    "# Translate the Input\n",
    "\n",
    "**Jolene**- \"*Welcome to the Centre for Computer Research. We have some data that still has to be processed and we need a hand with decoding this data.*\"\n",
    "\n",
    "![Computer terminal](cover.jpg)"
   ]
  },
  {
   "cell_type": "markdown",
   "metadata": {},
   "source": [
    "## Step 1\n",
    "\n",
    "To start you need to set up your function. The Centre wants you to call your function `decode` and will use it to decode the data coming in. \n",
    "\n",
    "To pass the data to decode to your `function`, you need to create a `parameter`. A `parameter` is data that is passed into a function and acts similar to a variable.\n",
    "\n",
    "Here's an example of a function called `process` with a single parameter called `my_info`:\n",
    "```python\n",
    "def process(my_info):\n",
    "    say(my_info) # Say the value of my_info\n",
    "    \n",
    "process(\"Hello World!\") # Call the `process` function and pass \"Hello World!\" as my_info\n",
    "```\n",
    "\n",
    "In this case `info` will be the data from the computer to be decoded.\n",
    "\n",
    "**Complete the code below to create a function called `decode` with a single parameter called `info`.**"
   ]
  },
  {
   "cell_type": "code",
   "execution_count": null,
   "metadata": {
    "minecraft": {
     "closeCodeBuilderOnRun": true,
     "onCodeCancelledCommand": "scoreboard players set @s codeExecution 0",
     "onCodeErrorCommand": "scoreboard players set @s codeExecution -1",
     "onCodeStartedCommand": "scoreboard players set @s codeExecution 1",
     "onCodeStoppedCommand": "scoreboard players set @s codeExecution 0",
     "onCodeSuccessfulCommand": "scoreboard players set @s codeExecution 2",
     "overridePython": "def decode_information(block: str) -> int:\n    data_dict = {\n        \"A\": 1,\n        \"B\": 2,\n        \"C\": 3,\n        \"D\": 4,\n        \"E\": 5,\n        \"F\": 6,\n        \"G\": 7,\n        \"H\": 8,\n        \"I\": 9\n    }\n    return data_dict.get(block, 0)\n\n@user-code\n\n\nlist_of_numbers = [3, 4, 0, 6, 2, 1]\n# This dict holds all the \nvariable_dict = {\n        1: \"A\",\n        2: \"B\",\n        3: \"C\",\n        4: \"D\",\n        5: \"E\",\n        6: \"F\",\n        7: \"G\",\n        8: \"H\",\n        9: \"I\"\n    }\n\nblock = variable_dict.get(agent.inspect_data(\"forward\")[\"data\"], \"Z\")\nnum = decode(block)",
     "readonly": false
    }
   },
   "outputs": [],
   "source": [
    "def       (    ):\n",
    "    # edit the line above\n",
    "    say(\"I've got the info!\")"
   ]
  },
  {
   "cell_type": "markdown",
   "metadata": {},
   "source": [
    "## Step 2\n",
    "\n",
    "With the data being passed into the function using it's `info` parameter, let's focus on decoding it. For this part we will use the `decode_information()` function and store its output in a new variable.\n",
    "\n",
    "You can use `decode_information()` like so:\n",
    "```python\n",
    "decode_information(data)\n",
    "```\n",
    "\n",
    "- `data`: The data you want to decode.\n",
    "\n",
    "**Complete the code below to call `decode_information()` with `info` as the data, and store the output in `detail`.** "
   ]
  },
  {
   "cell_type": "code",
   "execution_count": null,
   "metadata": {
    "minecraft": {
     "closeCodeBuilderOnRun": true,
     "onCodeCancelledCommand": "scoreboard players set @s codeExecution 0",
     "onCodeErrorCommand": "scoreboard players set @s codeExecution -1",
     "onCodeStartedCommand": "scoreboard players set @s codeExecution 1",
     "onCodeStoppedCommand": "scoreboard players set @s codeExecution 0",
     "onCodeSuccessfulCommand": "scoreboard players set @s codeExecution 2",
     "overridePython": "def decode_information(block: str) -> int:\n    data_dict = {\n        \"A\": 1,\n        \"B\": 2,\n        \"C\": 3,\n        \"D\": 4,\n        \"E\": 5,\n        \"F\": 6,\n        \"G\": 7,\n        \"H\": 8,\n        \"I\": 9\n    }\n    return data_dict.get(block, 0)\n\n@user-code\n\n\nlist_of_numbers = [3, 4, 0, 6, 2, 1]\n# This dict holds all the \nvariable_dict = {\n        1: \"A\",\n        2: \"B\",\n        3: \"C\",\n        4: \"D\",\n        5: \"E\",\n        6: \"F\",\n        7: \"G\",\n        8: \"H\",\n        9: \"I\"\n    }\n\nblock = variable_dict.get(agent.inspect_data(\"forward\")[\"data\"], \"Z\")\nnum = decode(block)",
     "readonly": false
    }
   },
   "outputs": [],
   "source": [
    "def decode(info):\n",
    "    detail = \n",
    "    # Add your code to the line above\n",
    "    say(\"The decoded info is: \")\n",
    "    say(detail)"
   ]
  },
  {
   "cell_type": "markdown",
   "metadata": {},
   "source": [
    "Nice! When you're ready move on to the next section."
   ]
  }
 ],
 "metadata": {
  "kernelspec": {
   "display_name": "Python 3",
   "language": "python",
   "name": "python3"
  },
  "language_info": {
   "codemirror_mode": {
    "name": "ipython",
    "version": 3
   },
   "file_extension": ".py",
   "mimetype": "text/x-python",
   "name": "python",
   "nbconvert_exporter": "python",
   "pygments_lexer": "ipython3",
   "version": "3.8.3"
  },
  "minecraft": {
   "description": "Section 1",
   "page_id": "1.1",
   "page_name": "Section 1",
   "style": "minecraft.css"
  }
 },
 "nbformat": 4,
 "nbformat_minor": 4
}
