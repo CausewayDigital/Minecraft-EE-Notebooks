{
 "cells": [
  {
   "cell_type": "code",
   "execution_count": null,
   "metadata": {
    "minecraft": {
     "closeCodeBuilderOnRun": true,
     "hidden": true,
     "onCodeCancelledCommand": "scoreboard players set @s codeExecution 0",
     "onCodeErrorCommand": "scoreboard players set @s codeExecution -1",
     "onCodeStartedCommand": "scoreboard players set @s codeExecution 1",
     "onCodeStoppedCommand": "scoreboard players set @s codeExecution 0",
     "onCodeSuccessfulCommand": "scoreboard players set @s codeExecution 2",
     "overridePython": "",
     "readonly": false
    }
   },
   "outputs": [],
   "source": [
    "import time\n",
    "\n",
    "# User Code\n",
    "def decode(block):\n",
    "    detail = block['data']\n",
    "    if detail > 9:\n",
    "        return 0\n",
    "    return detail\n",
    "# End of User Code\n",
    "\n",
    "list_of_numbers = [3, 4, 0, 6, 2, 1]\n",
    "\n",
    "for bit in list_of_numbers:\n",
    "    block = agent.inspect_data(\"forward\")\n",
    "    num = decode(block)\n",
    "    say(\"Decoded bit as : {}\".format(num))\n",
    "    if num != bit:\n",
    "        say(\"Incorect bit given!\")\n",
    "        raise Exception(\"Incorect bit! Please fix your function\")\n",
    "        break\n",
    "    else:\n",
    "        world.summon(\"snow_golem\", [1007,150,132])\n",
    "    time.sleep(1)\n",
    "        \n",
    "world.summon(\"snow_golem\", [1014,148,132])\n",
    "        \n",
    "    "
   ]
  },
  {
   "cell_type": "markdown",
   "metadata": {},
   "source": [
    "# Translate the Input\n",
    "\n",
    "![Computer terminal](cover.jpg)\n",
    "\n",
    "**NAME**- \"*Welcome to the Centre for Computer Research. We have some data that have just come in and we need a hand with decoding this data.*\"\n",
    "\n",
    "In this task, you'll learn how to use returns and variable inputs to take in information and return it."
   ]
  },
  {
   "cell_type": "markdown",
   "metadata": {},
   "source": [
    "## Step 1\n",
    "\n",
    "To begin you need to set up your function. The Centre wants your to call your function `decode` and will use it to decode the data coming in. The functions need to take in the `info` that the researchers have for you to process, you can take an input by placing a variable name inside the `()`.\n",
    "\n",
    "Here's an example taking in the input of `info`:\n",
    "```python\n",
    "def process(info):\n",
    "    say(\"here is\")\n",
    "    say(info)\n",
    "```\n",
    "\n",
    "Where `data` is where the infomation from the computer will be passed through to your Agent\n",
    "\n",
    "**Complete the code below to add the `decode` function with an input for the `info`**"
   ]
  },
  {
   "cell_type": "code",
   "execution_count": null,
   "metadata": {
    "minecraft": {
     "closeCodeBuilderOnRun": true,
     "onCodeCancelledCommand": "scoreboard players set @s codeExecution 0",
     "onCodeErrorCommand": "scoreboard players set @s codeExecution -1",
     "onCodeStartedCommand": "scoreboard players set @s codeExecution 1",
     "onCodeStoppedCommand": "scoreboard players set @s codeExecution 0",
     "onCodeSuccessfulCommand": "scoreboard players set @s codeExecution 2",
     "overridePython": "import time\n\n@user-code\n\nblock = agent.inspect_data(\"forward\")\ndecode(block)\n\n",
     "readonly": false
    }
   },
   "outputs": [],
   "source": [
    "def       (    ):\n",
    "    # edit the line above\n",
    "    say(\"I've got the info!\")"
   ]
  },
  {
   "cell_type": "markdown",
   "metadata": {},
   "source": [
    "## Step 2\n",
    "\n",
    "Now that you've got the `info` coming into the function you need to get the `\"data\"` from it. To do this you can use a selector.\n",
    "\n",
    "You can use the selector like so:\n",
    "```python\n",
    "info[selector]\n",
    "```\n",
    "\n",
    "- selector: The part of the information you want, given as a string.\n",
    "\n",
    "**Complete the code to assign `detail` the information from the selector `\"data\"`**"
   ]
  },
  {
   "cell_type": "code",
   "execution_count": null,
   "metadata": {
    "minecraft": {
     "closeCodeBuilderOnRun": true,
     "onCodeCancelledCommand": "scoreboard players set @s codeExecution 0",
     "onCodeErrorCommand": "scoreboard players set @s codeExecution -1",
     "onCodeStartedCommand": "scoreboard players set @s codeExecution 1",
     "onCodeStoppedCommand": "scoreboard players set @s codeExecution 0",
     "onCodeSuccessfulCommand": "scoreboard players set @s codeExecution 2",
     "overridePython": "import time\n\n@user-code\n\nblock = agent.inspect_data(\"forward\")\ndecode(block)\n\n",
     "readonly": false
    }
   },
   "outputs": [],
   "source": [
    "def decode(info):\n",
    "    detail = info[\"   \"]\n",
    "    # Finish the line above"
   ]
  },
  {
   "cell_type": "markdown",
   "metadata": {},
   "source": [
    "Nice! When you're ready move on to section 2."
   ]
  }
 ],
 "metadata": {
  "kernelspec": {
   "display_name": "Python 3",
   "language": "python",
   "name": "python3"
  },
  "language_info": {
   "codemirror_mode": {
    "name": "ipython",
    "version": 3
   },
   "file_extension": ".py",
   "mimetype": "text/x-python",
   "name": "python",
   "nbconvert_exporter": "python",
   "pygments_lexer": "ipython3",
   "version": "3.8.5"
  },
  "minecraft": {
   "description": "Section 1",
   "page_id": "1.1",
   "page_name": "Section 1",
   "style": "minecraft.css"
  }
 },
 "nbformat": 4,
 "nbformat_minor": 4
}
