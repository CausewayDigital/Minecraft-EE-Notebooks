{
 "cells": [
  {
   "cell_type": "code",
   "execution_count": null,
   "metadata": {
    "minecraft": {
     "closeCodeBuilderOnRun": true,
     "onCodeCancelledCommand": "scoreboard players set @s codeExecution 0",
     "onCodeErrorCommand": "scoreboard players set @s codeExecution -1",
     "onCodeStartedCommand": "scoreboard players set @s codeExecution 1",
     "onCodeStoppedCommand": "scoreboard players set @s codeExecution 0",
     "onCodeSuccessfulCommand": "scoreboard players set @s codeExecution 2",
     "overridePython": "",
     "readonly": false
    }
   },
   "outputs": [],
   "source": [
    "from time import sleep\n",
    "\n",
    "def next_bit():\n",
    "    world.summon(\"snow_golem\", \"1930 157 636\")\n",
    "\n",
    "# User Code (let's say anything above a 9 means a space)\n",
    "\n",
    "def decode(block):\n",
    "    detail = block['data']\n",
    "    if detail > 9:\n",
    "        next_bit()\n",
    "        return 0\n",
    "    next_bit()\n",
    "    return detail\n",
    "\n",
    "# End of User Code\n",
    "\n",
    "list_of_numbers = []\n",
    "\n",
    "while len(list_of_numbers) < 6:\n",
    "    block = agent.inspect_data(\"forward\")\n",
    "    num = decode(block)\n",
    "    say(\"DECODED #\" + str(num))\n",
    "    list_of_numbers.append(num)\n",
    "    sleep(1)\n",
    "\n",
    "if list_of_numbers == [0,0,0,0,0,0]:\n",
    "    world.summon(\"snow_golem\", \"1936 157 629\")"
   ]
  },
  {
   "cell_type": "code",
   "execution_count": null,
   "metadata": {},
   "outputs": [],
   "source": [
    "import time\n",
    "\n",
    "def decode(block):\n",
    "    detail = block['data']\n",
    "    if detail > 9:\n",
    "        return 0\n",
    "    return detail\n",
    "\n",
    "list_of_numbers = [3, 4, 0, 6, 2, 1]\n",
    "\n",
    "for bit in list_of_numbers:\n",
    "    block = agent.inspect_data(\"forward\")\n",
    "    num = decode(block)\n",
    "    say(\"Decoded bit as : {}\".format(num))\n",
    "    if num != bit:\n",
    "        say(\"Incorect bit given!\")\n",
    "        raise Exception(\"Incorect bit! Please fix your function\")\n",
    "        break\n",
    "    else:\n",
    "        world.summon(\"snow_golem\", [1007,150,132])\n",
    "    time.sleep(1)\n",
    "        \n",
    "world.summon(\"snow_golem\", [1014,148,132])\n",
    "        \n",
    "    "
   ]
  },
  {
   "cell_type": "markdown",
   "metadata": {},
   "source": [
    "# Translate the Input\n",
    "\n",
    "![Computer terminal]()\n",
    "\n",
    "**NAME**- \"*Welcome to the Centre for Computer Research. We have some data that have just come in and we need a hand with decoding this data.*\"\n",
    "\n",
    "In this task, you'll learn how to use returns and variable inputs to take in information and return it."
   ]
  },
  {
   "cell_type": "markdown",
   "metadata": {},
   "source": [
    "## Step 1\n",
    "\n",
    "To begin you need to set up your function. The Centre wants you to call you function `decode` and will use your function to decode the data coming in. The functions need to take in the `info` that the researchers have for you to process. To do this you can use the input to a function, they are done by placing the name of the input inside the `()` of the function.\n",
    "\n",
    "Here's an example taking in the input of `info`:\n",
    "```python\n",
    "def process(info):\n",
    "    say(\"here is\")\n",
    "    say(info)\n",
    "```\n",
    "\n",
    "Where `data` is the input being taken in.\n",
    "\n",
    "**Complete the code below to add the `decode` function with an input for the `info`**"
   ]
  },
  {
   "cell_type": "code",
   "execution_count": null,
   "metadata": {
    "minecraft": {
     "closeCodeBuilderOnRun": true,
     "onCodeCancelledCommand": "scoreboard players set @s codeExecution 0",
     "onCodeErrorCommand": "scoreboard players set @s codeExecution -1",
     "onCodeStartedCommand": "scoreboard players set @s codeExecution 1",
     "onCodeStoppedCommand": "scoreboard players set @s codeExecution 0",
     "onCodeSuccessfulCommand": "scoreboard players set @s codeExecution 2",
     "overridePython": "import time\n\n@user-code\n\ndecode(block)\n\n",
     "readonly": false
    }
   },
   "outputs": [],
   "source": [
    "def       (    ):\n",
    "    say(\"I'm decoding:\")\n",
    "    say(info)"
   ]
  },
  {
   "cell_type": "markdown",
   "metadata": {},
   "source": [
    "## Step 2\n",
    "\n",
    "Now that you've got the `info` coming into the function you need to get the `\"data\"` from it. To do this you can use a selector.\n",
    "\n",
    "you can have can use the selector like so:\n",
    "```python\n",
    "info[selector]\n",
    "```\n",
    "\n",
    "- selector: The part of the information you want, given as a string.\n",
    "\n",
    "**Complete the code to assign `detail` the information from the selector `\"data\"`**"
   ]
  },
  {
   "cell_type": "code",
   "execution_count": null,
   "metadata": {
    "minecraft": {
     "closeCodeBuilderOnRun": true,
     "onCodeCancelledCommand": "scoreboard players set @s codeExecution 0",
     "onCodeErrorCommand": "scoreboard players set @s codeExecution -1",
     "onCodeStartedCommand": "scoreboard players set @s codeExecution 1",
     "onCodeStoppedCommand": "scoreboard players set @s codeExecution 0",
     "onCodeSuccessfulCommand": "scoreboard players set @s codeExecution 2",
     "overridePython": "import time\n\n@user-code\n\ndecode(block)\n\n",
     "readonly": false
    }
   },
   "outputs": [],
   "source": [
    "def decode(info):\n",
    "    detail = info[\"   \"]"
   ]
  },
  {
   "cell_type": "markdown",
   "metadata": {},
   "source": [
    "Nice! When you're ready move on to section 2."
   ]
  }
 ],
 "metadata": {
  "kernelspec": {
   "display_name": "Python 3",
   "language": "python",
   "name": "python3"
  },
  "language_info": {
   "codemirror_mode": {
    "name": "ipython",
    "version": 3
   },
   "file_extension": ".py",
   "mimetype": "text/x-python",
   "name": "python",
   "nbconvert_exporter": "python",
   "pygments_lexer": "ipython3",
   "version": "3.8.5"
  },
  "minecraft": {
   "description": "Section 1",
   "page_id": "1.1",
   "page_name": "Section 1",
   "style": "minecraft.css"
  }
 },
 "nbformat": 4,
 "nbformat_minor": 4
}
