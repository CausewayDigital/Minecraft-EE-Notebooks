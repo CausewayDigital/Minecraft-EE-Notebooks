{
 "cells": [
  {
   "cell_type": "markdown",
   "metadata": {},
   "source": [
    "## Step 3\n",
    "\n",
    "After you've decoded the info given to your function you first need to check if the detail is within the acceptable range. The acceptable range for this is up to `9`, so you can check if details are greater than 9, and if it is greater than `9` you reply `0`.\n",
    "\n",
    "To reply info back to the code that's calling your function you can use `return`. A return will stop the running of your function whenever it's called. As well, anything after a return will be given back as a response to running the function.\n",
    "\n",
    "here's an example\n",
    "```python\n",
    "return 1\n",
    "```\n",
    "This will return a 1 in this example.\n",
    "\n",
    "**Complete the 2 lines below to check if `detail` is greater than `9`, and if it returns a `0`**"
   ]
  },
  {
   "cell_type": "code",
   "execution_count": null,
   "metadata": {
    "minecraft": {
     "closeCodeBuilderOnRun": true,
     "onCodeCancelledCommand": "scoreboard players set @s codeExecution 0",
     "onCodeErrorCommand": "scoreboard players set @s codeExecution -1",
     "onCodeStartedCommand": "scoreboard players set @s codeExecution 1",
     "onCodeStoppedCommand": "scoreboard players set @s codeExecution 0",
     "onCodeSuccessfulCommand": "scoreboard players set @s codeExecution 2",
     "overridePython": "def decode_infomation(block: str) -> int:\n    data_dict = {\n        \"A\": 1,\n        \"B\": 2,\n        \"C\": 3,\n        \"D\": 4,\n        \"E\": 5,\n        \"F\": 6,\n        \"G\": 7,\n        \"H\": 8,\n        \"I\": 9\n    }\n    return data_dict.get(block, 0)\n\n@user-code\n\n\nlist_of_numbers = [3, 4, 0, 6, 2, 1]\n# This dict holds all the \nvariable_dict = {\n        1: \"A\",\n        2: \"B\",\n        3: \"C\",\n        4: \"D\",\n        5: \"E\",\n        6: \"F\",\n        7: \"G\",\n        8: \"H\",\n        9: \"I\"\n    }\n\nblock = variable_dict.get(agent.inspect_data(\"forward\")[\"data\"], \"Z\")\nnum = decode(block)",
     "readonly": false
    }
   },
   "outputs": [],
   "source": [
    "def decode(info):\n",
    "    detail = decode_infomation(info)\n",
    "    if       >  :\n",
    "        return \n",
    "    # Complete the 2 lines of code above!"
   ]
  },
  {
   "cell_type": "markdown",
   "metadata": {},
   "source": [
    "## Step 4\n",
    "\n",
    "The final part to the code is if the `detail` is within the acceptable range, we can just return `detail` outside of the if statement.\n",
    "\n",
    "*Note: You will need to hit the **Reset Bit Input** button at the top of where your Agent is before you start you code.*\n",
    "\n",
    "**Complete the code below to return `detail` outside of the if statement**"
   ]
  },
  {
   "cell_type": "code",
   "execution_count": null,
   "metadata": {
    "default_code": "def decode(info):\n    detail = info[\"data\"]\n    if detail > 9:\n        return 0\n    return\n    # Complete the line of code above!",
    "minecraft": {
     "closeCodeBuilderOnRun": true,
     "onCodeCancelledCommand": "scoreboard players set @s codeExecution 0",
     "onCodeErrorCommand": "scoreboard players set @s codeExecution -1",
     "onCodeStartedCommand": "scoreboard players set @s codeExecution 1",
     "onCodeStoppedCommand": "scoreboard players set @s codeExecution 0",
     "onCodeSuccessfulCommand": "scoreboard players set @s codeExecution 2",
     "overridePython": "import time\n\ndef decode_infomation(block: str) -> int:\n    data_dict = {\n        \"A\": 1,\n        \"B\": 2,\n        \"C\": 3,\n        \"D\": 4,\n        \"E\": 5,\n        \"F\": 6,\n        \"G\": 7,\n        \"H\": 8,\n        \"I\": 9\n    }\n    return data_dict.get(block, 0)\n\n@user-code\n\n\nlist_of_numbers = [3, 4, 0, 6, 2, 1]\n# This dict holds all the \nvariable_dict = {\n        1: \"A\",\n        2: \"B\",\n        3: \"C\",\n        4: \"D\",\n        5: \"E\",\n        6: \"F\",\n        7: \"G\",\n        8: \"H\",\n        9: \"I\"\n    }\n    \nfor bit in list_of_numbers:\n    block = variable_dict.get(agent.inspect_data(\"forward\")[\"data\"], \"Z\")\n    num = decode(block)\n    if num == None:\n        raise Exception(\"No number given! Please fix your function, or Reset Bit Input and try again.\")\n        break\n    say(\"Decoded bit as : {}\".format(int(num)))\n    if num != bit:\n        say(\"Incorrect bit given!\")\n        raise Exception(\"Incorrect bit! Please fix your function, or Reset Bit Input and try again.\")\n        break\n    else:\n        world.summon(\"snow_golem\", [1007,150,132])\n        say(\"Loading Next Bit\")\n    time.sleep(1)\n        \nworld.summon(\"snow_golem\", [1014,148,132])",
     "readonly": false
    }
   },
   "outputs": [],
   "source": [
    "def decode(info):\n",
    "    detail = decode_infomation(info)\n",
    "    if detail > 9:\n",
    "        return 0\n",
    "    return\n",
    "    # Complete the line of code above!\n"
   ]
  },
  {
   "cell_type": "markdown",
   "metadata": {},
   "source": [
    "When you're ready run your code and see if it works!"
   ]
  }
 ],
 "metadata": {
  "kernelspec": {
   "display_name": "Python 3",
   "language": "python",
   "name": "python3"
  },
  "language_info": {
   "codemirror_mode": {
    "name": "ipython",
    "version": 3
   },
   "file_extension": ".py",
   "mimetype": "text/x-python",
   "name": "python",
   "nbconvert_exporter": "python",
   "pygments_lexer": "ipython3",
   "version": "3.8.5"
  },
  "minecraft": {
   "description": "Section 2",
   "page_id": "1.2",
   "page_name": "Section 2",
   "style": "minecraft.css"
  }
 },
 "nbformat": 4,
 "nbformat_minor": 4
}
