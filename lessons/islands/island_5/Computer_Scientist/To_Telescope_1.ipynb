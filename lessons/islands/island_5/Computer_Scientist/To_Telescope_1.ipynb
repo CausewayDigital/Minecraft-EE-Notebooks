{
 "cells": [
  {
   "cell_type": "markdown",
   "metadata": {},
   "source": [
    "# Head to the Telescope Control Room\n",
    "\n",
    "![Picture of the Telescope Control Room](Control_Room.jpg)\n",
    "\n",
    "Thanks for giving us a hand decoding this information that just came in.\n",
    "\n",
    "I think the new telescope is nearly ready to be turned on. Can you go back there and see how they're doing?\n",
    "\n",
    "**Jolene**"
   ]
  }
 ],
 "metadata": {
  "kernelspec": {
   "display_name": "Python 3",
   "language": "python",
   "name": "python3"
  },
  "language_info": {
   "codemirror_mode": {
    "name": "ipython",
    "version": 3
   },
   "file_extension": ".py",
   "mimetype": "text/x-python",
   "name": "python",
   "nbconvert_exporter": "python",
   "pygments_lexer": "ipython3",
   "version": "3.8.3"
  },
  "minecraft": {
   "description": "Section 1",
   "page_id": "1.1",
   "page_name": "Section 1",
   "style": "minecraft.css"
  }
 },
 "nbformat": 4,
 "nbformat_minor": 4
}
