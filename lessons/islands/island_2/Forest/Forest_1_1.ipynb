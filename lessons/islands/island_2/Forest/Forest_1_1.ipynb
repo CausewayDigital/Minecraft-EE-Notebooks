{
 "cells": [
  {
   "cell_type": "markdown",
   "metadata": {
    "minecraft": {
     "onCodeCancelledCommand": "scoreboard players set @s codeExecution 0",
     "onCodeErrorCommand": "scoreboard players set @s codeExecution -1",
     "onCodeStartedCommand": "scoreboard players set @s codeExecution 1",
     "onCodeStoppedCommand": "scoreboard players set @s codeExecution 0",
     "onCodeSuccessfulCommand": "scoreboard players set @s codeExecution 2"
    }
   },
   "source": [
    "## Step 3\n",
    "\n",
    "Now that you know how to use `is_nest()`, we can use it with an `if` statement, to check **if** the block in front is a nest.    \n",
    "If there is a nest, we want to leave it alone and run `next()` to go to the next area.\n",
    "\n",
    "**Complete the `if` statement to check if `is_nest()` is equal to `True`. If it is, run `next()`**"
   ]
  },
  {
   "cell_type": "code",
   "execution_count": null,
   "metadata": {
    "minecraft": {
     "closeCodeBuilderOnRun": true,
     "onCodeCancelledCommand": "scoreboard players set @s codeExecution 0",
     "onCodeErrorCommand": "scoreboard players set @s codeExecution -1",
     "onCodeStartedCommand": "scoreboard players set @s codeExecution 1",
     "onCodeStoppedCommand": "scoreboard players set @s codeExecution 0",
     "onCodeSuccessfulCommand": "scoreboard players set @s codeExecution 2",
     "overridePython": "def broadcast_position():\n    pos = str(agent.position).split(\" \")\n    world.show_title(f\"I'm at {pos[0]}, {pos[1]}, {pos[2]}\")\ndef harvest():\n    if(agent.inspect(\"forward\") == \"stone\"):\n        agent.destroy('forward')\n        agent.drop(2,1)\n    elif(agent.inspect(\"forward\") == \"leaves\"):\n        agent.destroy('forward')\n        agent.drop(1,1)\ndef is_nest():\n    if(agent.inspect(\"forward\") == \"stone\"):\n        return True\n    return False\ndef next():\n    world.summon(\"snow_golem\", \"166 153 220\")\n@user-code\n"
    }
   },
   "outputs": [],
   "source": [
    "broadcast_position()\n",
    "\n",
    "if(    ==   ):\n",
    "    say(\"I found a nest!\")\n",
    "    \n",
    "    # Complete the if statement above and add a next() below the say()\n",
    "    \n",
    "    "
   ]
  },
  {
   "cell_type": "markdown",
   "metadata": {
    "minecraft": {
     "onCodeCancelledCommand": "scoreboard players set @s codeExecution 0",
     "onCodeErrorCommand": "scoreboard players set @s codeExecution -1",
     "onCodeStartedCommand": "scoreboard players set @s codeExecution 1",
     "onCodeStoppedCommand": "scoreboard players set @s codeExecution 0",
     "onCodeSuccessfulCommand": "scoreboard players set @s codeExecution 2"
    }
   },
   "source": [
    "## Step 4\n",
    "\n",
    "Next, we want to add an `else`, to let us harvest other blocks and then go to the next area. Remember that you need to be under the agent to catch what it drops!\n",
    "\n",
    "**Add a `harvest()` and `next()` within the `else` statment below.**"
   ]
  },
  {
   "cell_type": "code",
   "execution_count": null,
   "metadata": {
    "minecraft": {
     "closeCodeBuilderOnRun": true,
     "onCodeCancelledCommand": "scoreboard players set @s codeExecution 0",
     "onCodeErrorCommand": "scoreboard players set @s codeExecution -1",
     "onCodeStartedCommand": "scoreboard players set @s codeExecution 1",
     "onCodeStoppedCommand": "scoreboard players set @s codeExecution 0",
     "onCodeSuccessfulCommand": "scoreboard players set @s codeExecution 2",
     "overridePython": "def broadcast_position():\n    pos = str(agent.position).split(\" \")\n    world.show_title(f\"I'm at {pos[0]}, {pos[1]}, {pos[2]}\")\ndef harvest():\n    if(agent.inspect(\"forward\") == \"stone\"):\n        agent.destroy('forward')\n        agent.drop(2,1)\n    elif(agent.inspect(\"forward\") == \"leaves\"):\n        agent.destroy('forward')\n        agent.drop(1,1)\ndef is_nest():\n    if(agent.inspect(\"forward\") == \"stone\"):\n        return True\n    return False\ndef next():\n    world.summon(\"snow_golem\", \"166 153 220\")\n@user-code\n"
    }
   },
   "outputs": [],
   "source": [
    "broadcast_position()\n",
    "\n",
    "if (is_nest() == True):\n",
    "    say(\"I found a nest!\")\n",
    "    next()\n",
    "else:\n",
    "\n",
    "\n",
    "# Don't forget to indent your code within the else section!"
   ]
  },
  {
   "cell_type": "markdown",
   "metadata": {
    "minecraft": {
     "onCodeCancelledCommand": "scoreboard players set @s codeExecution 0",
     "onCodeErrorCommand": "scoreboard players set @s codeExecution -1",
     "onCodeStartedCommand": "scoreboard players set @s codeExecution 1",
     "onCodeStoppedCommand": "scoreboard players set @s codeExecution 0",
     "onCodeSuccessfulCommand": "scoreboard players set @s codeExecution 2"
    }
   },
   "source": [
    "With all of that together, you can run this code block over and over again to collect some sticks. Good luck!"
   ]
  },
  {
   "cell_type": "code",
   "execution_count": null,
   "metadata": {
    "minecraft": {
     "hidden": true
    }
   },
   "outputs": [],
   "source": [
    "# Final code\n",
    "# Run 5 times\n",
    "\n",
    "broadcast_position()\n",
    "\n",
    "if (is_nest() == True):\n",
    "    say(\"I found a nest!\")\n",
    "    next()\n",
    "else:\n",
    "    harvest()\n",
    "    next()"
   ]
  }
 ],
 "metadata": {
  "kernelspec": {
   "display_name": "Python 3",
   "language": "python",
   "name": "python3"
  },
  "language_info": {
   "codemirror_mode": {
    "name": "ipython",
    "version": 3
   },
   "file_extension": ".py",
   "mimetype": "text/x-python",
   "name": "python",
   "nbconvert_exporter": "python",
   "pygments_lexer": "ipython3",
   "version": "3.7.3"
  },
  "minecraft": {
   "description": "Section 2",
   "page_id": "1.1",
   "page_name": "Section 2",
   "style": "minecraft.css"
  }
 },
 "nbformat": 4,
 "nbformat_minor": 4
}
