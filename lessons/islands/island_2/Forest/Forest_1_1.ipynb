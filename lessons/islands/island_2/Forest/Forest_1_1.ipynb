{
 "cells": [
  {
   "cell_type": "markdown",
   "metadata": {
    "minecraft": {
     "onCodeCancelledCommand": "scoreboard players set @s codeExecution 0",
     "onCodeErrorCommand": "scoreboard players set @s codeExecution -1",
     "onCodeStartedCommand": "scoreboard players set @s codeExecution 1",
     "onCodeStoppedCommand": "scoreboard players set @s codeExecution 0",
     "onCodeSuccessfulCommand": "scoreboard players set @s codeExecution 2"
    }
   },
   "source": [
    "## Step 3\n",
    "\n",
    "Now that you know how to use `is_nest()`, we can use it with an `if` statement to check if the block in front is a nest. If there is a nest, we want to leave it alone and run `next()` to go to the next area.\n",
    "\n",
    "**Complete the `if` statement to check `is_nest()` is equal to `True`. If it is run `next()`**"
   ]
  },
  {
   "cell_type": "code",
   "execution_count": null,
   "metadata": {
    "minecraft": {
     "closeCodeBuilderOnRun": true,
     "onCodeCancelledCommand": "scoreboard players set @s codeExecution 0",
     "onCodeErrorCommand": "scoreboard players set @s codeExecution -1",
     "onCodeStartedCommand": "scoreboard players set @s codeExecution 1",
     "onCodeStoppedCommand": "scoreboard players set @s codeExecution 0",
     "onCodeSuccessfulCommand": "scoreboard players set @s codeExecution 2",
     "overridePython": "def broadcast_position():\n    pos = str(agent.position).split(\" \")\n    world.show_title(f\"I'm at {pos[0]}, {pos[1]}, {pos[2]}\")\ndef harvest():\n    if(agent.inspect(\"forward\") == \"stone\"):\n        world.show_title(\"Dead bird :(\")\n    elif(agent.inspect(\"forward\") == \"leaves\"):\n        world.show_title(\"Break block\")\ndef is_nest():\n    if(agent.inspect(\"forward\") == \"stone\"):\n        return True\n    return False\ndef next():\n    world.summon(\"snow_golem\", \"166 153 220\")\n@user-code\n"
    }
   },
   "outputs": [],
   "source": [
    "broadcast_position()\n",
    "\n",
    "if(      ):\n",
    "    # Complete the if statement above and add code below\n",
    "    \n",
    "    "
   ]
  },
  {
   "cell_type": "markdown",
   "metadata": {
    "minecraft": {
     "onCodeCancelledCommand": "scoreboard players set @s codeExecution 0",
     "onCodeErrorCommand": "scoreboard players set @s codeExecution -1",
     "onCodeStartedCommand": "scoreboard players set @s codeExecution 1",
     "onCodeStoppedCommand": "scoreboard players set @s codeExecution 0",
     "onCodeSuccessfulCommand": "scoreboard players set @s codeExecution 2"
    }
   },
   "source": [
    "## Step 4\n",
    "\n",
    "Next we want to add an `else` to let us harvest other blocks and then go to the next area. Remember that you need to be under the agent to catch what it drops!\n",
    "\n",
    "**Add an `else` statement to the end of the previous if statement. Have it run `harvest()` and `next()`**"
   ]
  },
  {
   "cell_type": "code",
   "execution_count": null,
   "metadata": {
    "minecraft": {
     "closeCodeBuilderOnRun": true,
     "onCodeCancelledCommand": "scoreboard players set @s codeExecution 0",
     "onCodeErrorCommand": "scoreboard players set @s codeExecution -1",
     "onCodeStartedCommand": "scoreboard players set @s codeExecution 1",
     "onCodeStoppedCommand": "scoreboard players set @s codeExecution 0",
     "onCodeSuccessfulCommand": "scoreboard players set @s codeExecution 2",
     "overridePython": "def broadcast_position():\n    pos = str(agent.position).split(\" \")\n    world.show_title(f\"I'm at {pos[0]}, {pos[1]}, {pos[2]}\")\ndef harvest():\n    if(agent.inspect(\"forward\") == \"stone\"):\n        world.show_title(\"Dead bird :(\")\n    elif(agent.inspect(\"forward\") == \"leaves\"):\n        world.show_title(\"Break block\")\ndef is_nest():\n    if(agent.inspect(\"forward\") == \"stone\"):\n        return True\n    return False\ndef next():\n    world.summon(\"snow_golem\", \"166 153 220\")\n@user-code\n"
    }
   },
   "outputs": [],
   "source": [
    "broadcast_position()\n",
    "\n",
    "if(is_nest()):\n",
    "    next()\n",
    "\n",
    "\n",
    "\n",
    "# Add an else statement above and run the harvest and next command in it"
   ]
  },
  {
   "cell_type": "markdown",
   "metadata": {
    "minecraft": {
     "onCodeCancelledCommand": "scoreboard players set @s codeExecution 0",
     "onCodeErrorCommand": "scoreboard players set @s codeExecution -1",
     "onCodeStartedCommand": "scoreboard players set @s codeExecution 1",
     "onCodeStoppedCommand": "scoreboard players set @s codeExecution 0",
     "onCodeSuccessfulCommand": "scoreboard players set @s codeExecution 2"
    }
   },
   "source": [
    "With all of that together, you can run this code block over and over again to collect some sticks. Good luck!"
   ]
  }
 ],
 "metadata": {
  "kernelspec": {
   "display_name": "Python 3",
   "language": "python",
   "name": "python3"
  },
  "language_info": {
   "codemirror_mode": {
    "name": "ipython",
    "version": 3
   },
   "file_extension": ".py",
   "mimetype": "text/x-python",
   "name": "python",
   "nbconvert_exporter": "python",
   "pygments_lexer": "ipython3",
   "version": "3.8.3"
  },
  "minecraft": {
   "description": "Section 2",
   "page_id": "1.1",
   "page_name": "Section 2",
   "style": "minecraft.css"
  }
 },
 "nbformat": 4,
 "nbformat_minor": 4
}
