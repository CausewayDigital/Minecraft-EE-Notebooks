{
 "cells": [
  {
   "cell_type": "markdown",
   "metadata": {
    "minecraft": {
     "onCodeCancelledCommand": "scoreboard players set @s codeExecution 0",
     "onCodeErrorCommand": "scoreboard players set @s codeExecution -1",
     "onCodeStartedCommand": "scoreboard players set @s codeExecution 1",
     "onCodeStoppedCommand": "scoreboard players set @s codeExecution 0",
     "onCodeSuccessfulCommand": "scoreboard players set @s codeExecution 2"
    }
   },
   "source": [
    "# Collecting Forest Wood\n",
    "\n",
    "The island's forest has a thick fog in it making it nearly impossible for the forest explorers to harvest wood for the island! TJ has asked if you and your agent could harvest a small amount of wood to help the island out.\n",
    "\n",
    "![Cover image of forest](ForestCover.png)"
   ]
  },
  {
   "cell_type": "markdown",
   "metadata": {},
   "source": [
    "#### Introduction\n",
    "\n",
    "TJ has given you a few tools for your agent to use in this forest task...\n",
    "- `is_nest()`: Gets your agent to the check the block in front and return `True` if it is a nest, and `False` if it is not.\n",
    "- `broadcast_position()`: Gets your agent to shout out its current position to you.\n",
    "- `harvest()`: Carefully harvests the wood in front of your agent and then drops it.\n",
    "- `next()`: TJ Will move your agent to the next area for harvesting."
   ]
  },
  {
   "cell_type": "markdown",
   "metadata": {
    "minecraft": {
     "onCodeCancelledCommand": "scoreboard players set @s codeExecution 0",
     "onCodeErrorCommand": "scoreboard players set @s codeExecution -1",
     "onCodeStartedCommand": "scoreboard players set @s codeExecution 1",
     "onCodeStoppedCommand": "scoreboard players set @s codeExecution 0",
     "onCodeSuccessfulCommand": "scoreboard players set @s codeExecution 2"
    }
   },
   "source": [
    "## Step 1\n",
    "\n",
    "To get started we will need to get the position of the agent, called co-ordinates. Co-ordinates are build up of three numbers, the `X`, `Y` and `Z` co-ordinate. You can fine your co-ordinates in the top-left corner of your screen.\n",
    "\n",
    "![Position image](position.png)\n",
    "\n",
    "**Run the command below to get your agent to call out it's co-ordinates! Then make your way to them...**"
   ]
  },
  {
   "cell_type": "code",
   "execution_count": null,
   "metadata": {
    "minecraft": {
     "closeCodeBuilderOnRun": true,
     "onCodeCancelledCommand": "scoreboard players set @s codeExecution 0",
     "onCodeErrorCommand": "scoreboard players set @s codeExecution -1",
     "onCodeStartedCommand": "scoreboard players set @s codeExecution 1",
     "onCodeStoppedCommand": "scoreboard players set @s codeExecution 0",
     "onCodeSuccessfulCommand": "scoreboard players set @s codeExecution 2",
     "overridePython": "def broadcast_position():\n    pos = str(agent.position).split(\" \")\n    world.show_title(f\"I'm at {pos[0]}, {pos[1]}, {pos[2]}\")\ndef harvest():\n    if(agent.inspect(\"forward\") == \"stone\"):\n        agent.destroy('forward')\n        agent.drop(2,1)\n    elif(agent.inspect(\"forward\") == \"leaves\"):\n        agent.destroy('forward')\n        agent.drop(1,1)\ndef is_nest():\n    if(agent.inspect(\"forward\") == \"stone\"):\n        return True\n    return False\ndef next():\n    world.summon(\"snow_golem\", \"166 153 220\")\n@user-code\n"
    }
   },
   "outputs": [],
   "source": [
    "broadcast_position()"
   ]
  },
  {
   "cell_type": "markdown",
   "metadata": {
    "minecraft": {
     "onCodeCancelledCommand": "scoreboard players set @s codeExecution 0",
     "onCodeErrorCommand": "scoreboard players set @s codeExecution -1",
     "onCodeStartedCommand": "scoreboard players set @s codeExecution 1",
     "onCodeStoppedCommand": "scoreboard players set @s codeExecution 0",
     "onCodeSuccessfulCommand": "scoreboard players set @s codeExecution 2"
    }
   },
   "source": [
    "## Step 2\n",
    "\n",
    "Great, now that the agent is above you, get it to check whether it has a nest in front of it. You can use the `is_nest()` function and if it returns `true`, then there is a nest. If it's `false`, then there is no nest.\n",
    "\n",
    "**Say the results of `is_nest()`**"
   ]
  },
  {
   "cell_type": "code",
   "execution_count": null,
   "metadata": {
    "minecraft": {
     "closeCodeBuilderOnRun": true,
     "onCodeCancelledCommand": "scoreboard players set @s codeExecution 0",
     "onCodeErrorCommand": "scoreboard players set @s codeExecution -1",
     "onCodeStartedCommand": "scoreboard players set @s codeExecution 1",
     "onCodeStoppedCommand": "scoreboard players set @s codeExecution 0",
     "onCodeSuccessfulCommand": "scoreboard players set @s codeExecution 2",
     "overridePython": "def broadcast_position():\n    pos = str(agent.position).split(\" \")\n    world.show_title(f\"I'm at {pos[0]}, {pos[1]}, {pos[2]}\")\ndef harvest():\n    if(agent.inspect(\"forward\") == \"stone\"):\n        agent.destroy('forward')\n        agent.drop(2,1)\n    elif(agent.inspect(\"forward\") == \"leaves\"):\n        agent.destroy('forward')\n        agent.drop(1,1)\ndef is_nest():\n    if(agent.inspect(\"forward\") == \"stone\"):\n        return True\n    return False\ndef next():\n    world.summon(\"snow_golem\", \"166 153 220\")\n@user-code\n"
    }
   },
   "outputs": [],
   "source": [
    "broadcast_position()\n",
    "\n",
    "say(    )\n",
    "# Complete the code above"
   ]
  },
  {
   "cell_type": "markdown",
   "metadata": {
    "minecraft": {
     "onCodeCancelledCommand": "scoreboard players set @s codeExecution 0",
     "onCodeErrorCommand": "scoreboard players set @s codeExecution -1",
     "onCodeStartedCommand": "scoreboard players set @s codeExecution 1",
     "onCodeStoppedCommand": "scoreboard players set @s codeExecution 0",
     "onCodeSuccessfulCommand": "scoreboard players set @s codeExecution 2"
    }
   },
   "source": [
    "Great! When you're ready, press next to go to the next section"
   ]
  }
 ],
 "metadata": {
  "kernelspec": {
   "display_name": "Python 3",
   "language": "python",
   "name": "python3"
  },
  "language_info": {
   "codemirror_mode": {
    "name": "ipython",
    "version": 3
   },
   "file_extension": ".py",
   "mimetype": "text/x-python",
   "name": "python",
   "nbconvert_exporter": "python",
   "pygments_lexer": "ipython3",
   "version": "3.8.3"
  },
  "minecraft": {
   "description": "Section 1",
   "page_id": "1.0",
   "page_name": "Section 1",
   "style": "minecraft.css"
  }
 },
 "nbformat": 4,
 "nbformat_minor": 4
}
