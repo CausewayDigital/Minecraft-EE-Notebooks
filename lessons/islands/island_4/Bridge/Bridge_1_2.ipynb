{
 "cells": [
  {
   "cell_type": "markdown",
   "metadata": {},
   "source": [
    "# TITLE"
   ]
  },
  {
   "cell_type": "markdown",
   "metadata": {},
   "source": [
    "## Step 3\n",
    "\n",
    "**Mine Manager** I've given your agent some **stone** (In slot 1) to bridge over to the island far over. Could you use a **while loop** and place down the stone block bellow the agent to form a bridge while the agent doesn't have any blocks infront of it so we can get to the far island?\n",
    "\n",
    "\n",
    "How that you have your agent moving for as long as the loop is running, we need to place blocks down to bridge over to the other island to do this we can use `agent.place()` to place down blocks.\n",
    "\n",
    "To use `agent.place()`, see below:\n",
    "```python\n",
    "agent.place(slot_id, direction)\n",
    "```\n",
    "\n",
    "- `slot_id`: The slot number to get the item to place from. In this case, you should always use 1.\n",
    "- `direction`: The direction we want to have the agent place. The directions you can use are: `forward`, `back`, `left`, `right`, `up`, `down`.\n",
    "\n",
    "Have your agent place stone blocks (from slot 1) `\"down\"` bellow it\n",
    "\n",
    "**You can use your whisel to call your agent back, and complete the code bellow!**"
   ]
  },
  {
   "cell_type": "code",
   "execution_count": null,
   "metadata": {
    "minecraft": {
     "closeCodeBuilderOnRun": true,
     "onCodeCancelledCommand": "scoreboard players set @s codeExecution 0",
     "onCodeErrorCommand": "scoreboard players set @s codeExecution -1",
     "onCodeStartedCommand": "scoreboard players set @s codeExecution 1",
     "onCodeStoppedCommand": "scoreboard players set @s codeExecution 0",
     "onCodeSuccessfulCommand": "scoreboard players set @s codeExecution 2",
     "overridePython": "",
     "readonly": false
    }
   },
   "outputs": [],
   "source": [
    "while agent.inspect(\"forward\") == \"air\":\n",
    "    agent.move(\"forward\")\n",
    "    \n",
    "    # Add the code above here\n",
    "say(\"I've reached the end\")"
   ]
  },
  {
   "cell_type": "markdown",
   "metadata": {},
   "source": [
    "## SUBTITLE1"
   ]
  },
  {
   "cell_type": "code",
   "execution_count": null,
   "metadata": {
    "minecraft": {
     "closeCodeBuilderOnRun": true,
     "onCodeCancelledCommand": "scoreboard players set @s codeExecution 0",
     "onCodeErrorCommand": "scoreboard players set @s codeExecution -1",
     "onCodeStartedCommand": "scoreboard players set @s codeExecution 1",
     "onCodeStoppedCommand": "scoreboard players set @s codeExecution 0",
     "onCodeSuccessfulCommand": "scoreboard players set @s codeExecution 2",
     "overridePython": "",
     "readonly": false
    }
   },
   "outputs": [],
   "source": []
  }
 ],
 "metadata": {
  "kernelspec": {
   "display_name": "Python 3",
   "language": "python",
   "name": "python3"
  },
  "language_info": {
   "codemirror_mode": {
    "name": "ipython",
    "version": 3
   },
   "file_extension": ".py",
   "mimetype": "text/x-python",
   "name": "python",
   "nbconvert_exporter": "python",
   "pygments_lexer": "ipython3",
   "version": "3.8.1"
  },
  "minecraft": {
   "description": "Section 2",
   "page_id": "1.2",
   "page_name": "Section 2",
   "style": "minecraft.css"
  }
 },
 "nbformat": 4,
 "nbformat_minor": 4
}
