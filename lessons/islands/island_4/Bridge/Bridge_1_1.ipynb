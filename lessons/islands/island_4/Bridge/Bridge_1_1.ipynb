{
 "cells": [
  {
   "cell_type": "markdown",
   "metadata": {},
   "source": [
    "# Introduction to While Loops\n",
    "In this activity, you will be getting hands on with `while` Loops."
   ]
  },
  {
   "cell_type": "markdown",
   "metadata": {},
   "source": [
    "## Getting started with the `while` loop\n",
    "\n",
    "In Island 2, you were introduced to **For Loops**. On this island you're going to get to grips with the other type of loop, the **While Loop**, you use this if you don't know how many times you are going to want to loop for.\n",
    "\n",
    "Here's an example of a **while loop**\n",
    "```python\n",
    "while condition_1 == condition_2:\n",
    "    say(\"Condition_1 is equal to condition_2\")\n",
    "```\n",
    "\n",
    "The code above will run **as long** and the condition is met. Just like `if` statements, we use conditions for `while` loops as well to check if the conditions have been met to stop yet."
   ]
  },
  {
   "cell_type": "markdown",
   "metadata": {},
   "source": [
    "## Bridging the gap\n",
    "\n",
    "![Island?](blind.jpg)\n",
    "\n",
    "**Mine Manager** \"So could you and your Agent build a bridge over to what possible island and investigate what's over?\""
   ]
  },
  {
   "cell_type": "markdown",
   "metadata": {},
   "source": [
    "## Step 1\n",
    "\n",
    "To begin you'll need to get your agent to run a while loop to see if it has reached the island. To do this you can have your Agent check if the block in front of it is `\"air\"` and if so the code will run. When your Agent gets to the other island the block in front will no longer be `\"air\"`.\n",
    "\n",
    "To do this we can use `agent.inspect()`:\n",
    "```python\n",
    "agent.inspect(direction)\n",
    "```\n",
    "- `direction`: The direction we want to have the agent inspect. The directions you can use are: `forward`, `back`, `left`, `right`, `up`, `down`.\n",
    "\n",
    "Add the inspect below to the `while` loop so the agent checks in the block `\"forward\"` is air.\n",
    "\n",
    "**Complete the code below! Also, remember you can stop the code here back in the code window**"
   ]
  },
  {
   "cell_type": "code",
   "execution_count": null,
   "metadata": {
    "minecraft": {
     "closeCodeBuilderOnRun": true,
     "onCodeCancelledCommand": "scoreboard players set @s codeExecution 0",
     "onCodeErrorCommand": "scoreboard players set @s codeExecution -1",
     "onCodeStartedCommand": "scoreboard players set @s codeExecution 1",
     "onCodeStoppedCommand": "scoreboard players set @s codeExecution 0",
     "onCodeSuccessfulCommand": "scoreboard players set @s codeExecution 2",
     "overridePython": "",
     "readonly": false
    }
   },
   "outputs": [],
   "source": [
    "while agent.     == \"air\":\n",
    "    # Finish the line above\n",
    "    say(\"Nothing infront of me!\")"
   ]
  },
  {
   "cell_type": "markdown",
   "metadata": {},
   "source": [
    "Great! Remeber to stop your code if it hasn't and click next to go to the next section."
   ]
  }
 ],
 "metadata": {
  "kernelspec": {
   "display_name": "Python 3",
   "language": "python",
   "name": "python3"
  },
  "language_info": {
   "codemirror_mode": {
    "name": "ipython",
    "version": 3
   },
   "file_extension": ".py",
   "mimetype": "text/x-python",
   "name": "python",
   "nbconvert_exporter": "python",
   "pygments_lexer": "ipython3",
   "version": "3.8.1"
  },
  "minecraft": {
   "description": "Section 1",
   "page_id": "1.1",
   "page_name": "Section 1",
   "style": "minecraft.css"
  }
 },
 "nbformat": 4,
 "nbformat_minor": 4
}
