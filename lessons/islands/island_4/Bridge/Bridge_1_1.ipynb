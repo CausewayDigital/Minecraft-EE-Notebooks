{
 "cells": [
  {
   "cell_type": "markdown",
   "metadata": {},
   "source": [
    "# Introduction to `While` Loops\n",
    "In this activity, you will be getting hands on with `while` Loops.  "
   ]
  },
  {
   "cell_type": "markdown",
   "metadata": {},
   "source": [
    "## Getting started with the `while` loop\n",
    "\n",
    "So in Island 2 you got intoduced to **For Loops**. On this island you're going to get to grips with the other type of loops, the **While Loop**, we use this if you don't know how many times you are going to want to loop for.\n",
    "\n",
    "Here's an example of a for loop\n",
    "```python\n",
    "while condition_1 == condition_2:\n",
    "    say(\"Condition_1 is equal to condition_2\")\n",
    "```\n",
    "\n",
    "The code above will run **as long** and the condition is met. Just like `if` statments, we use conditions for `while` loops as well to check if \n",
    "\n"
   ]
  },
  {
   "cell_type": "code",
   "execution_count": null,
   "metadata": {
    "minecraft": {
     "closeCodeBuilderOnRun": true,
     "onCodeCancelledCommand": "scoreboard players set @s codeExecution 0",
     "onCodeErrorCommand": "scoreboard players set @s codeExecution -1",
     "onCodeStartedCommand": "scoreboard players set @s codeExecution 1",
     "onCodeStoppedCommand": "scoreboard players set @s codeExecution 0",
     "onCodeSuccessfulCommand": "scoreboard players set @s codeExecution 2",
     "overridePython": "",
     "readonly": false
    }
   },
   "outputs": [],
   "source": [
    "\"\"\"\n",
    "Some kinda of intro do while loops before main task\n",
    "\"\"\""
   ]
  },
  {
   "cell_type": "markdown",
   "metadata": {},
   "source": [
    "## Bridging the gap\n",
    "![Mine Manager](bridge.png)\n",
    "**Mine Manager** *Stick some story here*\n",
    "I've given your agent some **stone** (In slot 1) to bridge over to the island far over. Could you use a **while loop** and place down the stone block bellow the agent to form a bridge while the agent doesn't have any blocks infront of it so we can get to the far island?\n",
    "\n",
    "To start you'll need to setup the while loop\n",
    "\n",
    "\n",
    "\n",
    "**Remeber you can come back into the code editor to force your code to stop**"
   ]
  },
  {
   "cell_type": "code",
   "execution_count": null,
   "metadata": {
    "minecraft": {
     "closeCodeBuilderOnRun": true,
     "onCodeCancelledCommand": "scoreboard players set @s codeExecution 0",
     "onCodeErrorCommand": "scoreboard players set @s codeExecution -1",
     "onCodeStartedCommand": "scoreboard players set @s codeExecution 1",
     "onCodeStoppedCommand": "scoreboard players set @s codeExecution 0",
     "onCodeSuccessfulCommand": "scoreboard players set @s codeExecution 2",
     "overridePython": "",
     "readonly": false
    }
   },
   "outputs": [],
   "source": []
  }
 ],
 "metadata": {
  "kernelspec": {
   "display_name": "Python 3",
   "language": "python",
   "name": "python3"
  },
  "language_info": {
   "codemirror_mode": {
    "name": "ipython",
    "version": 3
   },
   "file_extension": ".py",
   "mimetype": "text/x-python",
   "name": "python",
   "nbconvert_exporter": "python",
   "pygments_lexer": "ipython3",
   "version": "3.8.1"
  },
  "minecraft": {
   "description": "Section 1",
   "page_id": "1.1",
   "page_name": "Section 1",
   "style": "minecraft.css"
  }
 },
 "nbformat": 4,
 "nbformat_minor": 4
}
