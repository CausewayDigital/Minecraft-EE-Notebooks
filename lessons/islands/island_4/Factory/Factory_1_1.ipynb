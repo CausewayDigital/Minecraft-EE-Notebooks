{
 "cells": [
  {
   "cell_type": "code",
   "execution_count": null,
   "metadata": {
    "minecraft": {
     "closeCodeBuilderOnRun": true,
     "onCodeCancelledCommand": "scoreboard players set @s codeExecution 0",
     "onCodeErrorCommand": "scoreboard players set @s codeExecution -1",
     "onCodeStartedCommand": "scoreboard players set @s codeExecution 1",
     "onCodeStoppedCommand": "scoreboard players set @s codeExecution 0",
     "onCodeSuccessfulCommand": "scoreboard players set @s codeExecution 2",
     "overridePython": "",
     "readonly": false
    }
   },
   "outputs": [],
   "source": [
    "\"\"\"\n",
    "TO BE REMOVED\n",
    "This is the final code students will write and is here to testing \n",
    "\"\"\"\n",
    "\n",
    "while(agent.inspect(\"forward\") == \"air\"):\n",
    "    # Go down\n",
    "    while(agent.inspect(\"down\") == \"air\"):\n",
    "        agent.move(\"down\")\n",
    "\n",
    "    # Collect\n",
    "    agent.collect()\n",
    "\n",
    "    # Go up\n",
    "    while(agent.position.y != 157):\n",
    "        agent.move(\"up\")\n",
    "\n",
    "    agent.place(1,\"down\")\n",
    "\n",
    "    # Move forward\n",
    "    agent.move(\"forward\")"
   ]
  },
  {
   "cell_type": "markdown",
   "metadata": {},
   "source": [
    "# Repair the Hull\n",
    "\n",
    "![Airship Factory](cover.jpg)\n",
    "\n",
    "It looks like the crew at the Airship Factory need a hand repairing the hull of one of the airships. Send your Agent in to fix the hull."
   ]
  },
  {
   "cell_type": "markdown",
   "metadata": {},
   "source": [
    "## Step 1\n",
    "\n",
    "To begin you need to create a while loop for when the agent has air in front of it. \n",
    "\n",
    "To do this we can use `agent.inspect()`:\n",
    "```python\n",
    "agent.inspect(direction)\n",
    "```\n",
    "- `direction`: The direction of the block that we want the Agent to inspect. The directions you can use are: `forward`, `back`, `left`, `right`, `up`, `down`.\n",
    "\n",
    "For this task, you need to create a while loop to run while your Agent has `\"air\"` in front(*forward*) of it.\n",
    "\n",
    "**Complete the code below to get the while loop working**"
   ]
  },
  {
   "cell_type": "code",
   "execution_count": null,
   "metadata": {
    "minecraft": {
     "closeCodeBuilderOnRun": true,
     "onCodeCancelledCommand": "scoreboard players set @s codeExecution 0",
     "onCodeErrorCommand": "scoreboard players set @s codeExecution -1",
     "onCodeStartedCommand": "scoreboard players set @s codeExecution 1",
     "onCodeStoppedCommand": "scoreboard players set @s codeExecution 0",
     "onCodeSuccessfulCommand": "scoreboard players set @s codeExecution 2",
     "overridePython": "",
     "readonly": false
    }
   },
   "outputs": [],
   "source": [
    "while agent.      (\"       \") == \"air\":\n",
    "    # Complete the line above\n",
    "    say(\"Air is in front of me\")"
   ]
  },
  {
   "cell_type": "markdown",
   "metadata": {},
   "source": [
    "## Step 2\n",
    "\n",
    "Now that you have the while loop set up, you can move on to the next section. Here we need to have the agent move down into the holes of the hull if there is one. To do this we can use another while loop nested inside the first one.\n",
    "\n",
    "So in the code below complete the second while loop so that when your Agent detects air `\"down\"` below it, it `\"move\"`s down into the hole of the hull using `agent.move()`.\n",
    "\n",
    "How to use `agent.move()`:\n",
    "```python\n",
    "agent.move(direction)\n",
    "```\n",
    "- direction: The direction we want the Agent to move in. The directions you can use are: `forward`, `back`, `left`, `right`, `up`, `down`.\n",
    "\n",
    "**Complete the code below to move your Agent into the holes in the airship's hull**"
   ]
  },
  {
   "cell_type": "code",
   "execution_count": null,
   "metadata": {
    "minecraft": {
     "closeCodeBuilderOnRun": true,
     "onCodeCancelledCommand": "scoreboard players set @s codeExecution 0",
     "onCodeErrorCommand": "scoreboard players set @s codeExecution -1",
     "onCodeStartedCommand": "scoreboard players set @s codeExecution 1",
     "onCodeStoppedCommand": "scoreboard players set @s codeExecution 0",
     "onCodeSuccessfulCommand": "scoreboard players set @s codeExecution 2",
     "overridePython": "",
     "readonly": false
    }
   },
   "outputs": [],
   "source": [
    "while(agent.inspect(\"forward\") == \"air\"):\n",
    "    while(agent.       (\"    \") == \"air\"):\n",
    "        agent.move(\"    \")\n",
    "        # Complete the 2 lines above"
   ]
  },
  {
   "cell_type": "markdown",
   "metadata": {},
   "source": [
    "When you're ready, move to the next section."
   ]
  }
 ],
 "metadata": {
  "kernelspec": {
   "display_name": "Python 3",
   "language": "python",
   "name": "python3"
  },
  "language_info": {
   "codemirror_mode": {
    "name": "ipython",
    "version": 3
   },
   "file_extension": ".py",
   "mimetype": "text/x-python",
   "name": "python",
   "nbconvert_exporter": "python",
   "pygments_lexer": "ipython3",
   "version": "3.8.5"
  },
  "minecraft": {
   "description": "Section 1",
   "page_id": "1.1",
   "page_name": "Section 1",
   "style": "minecraft.css"
  }
 },
 "nbformat": 4,
 "nbformat_minor": 4
}
