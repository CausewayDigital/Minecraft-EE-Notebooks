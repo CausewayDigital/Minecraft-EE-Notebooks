{
 "cells": [
  {
   "cell_type": "markdown",
   "metadata": {},
   "source": [
    "## Step 5\n",
    "\n",
    "Now that you have your Agent out of the holes in the hull we need to patch the hull of the airship. To do this we can use `agent.place()`. The item picked up will have gone into slot **1**, and you want to place the section `\"down\"` into the hole.\n",
    "\n",
    "To use `agent.place()`, see below:\n",
    "```python\n",
    "agent.place(slot_id, direction)\n",
    "```\n",
    "\n",
    "- `slot_id`: The slot number to get the item to place from. In this case, you should always use 1.\n",
    "- `direction`: The direction we want to have an agent place. The directions you can use are: `forward`, `back`, `left`, `right`, `up`, `down`.\n",
    "\n",
    "**Complete the code below to have your agent patch the hull of the airship**"
   ]
  },
  {
   "cell_type": "code",
   "execution_count": null,
   "metadata": {
    "minecraft": {
     "closeCodeBuilderOnRun": true,
     "onCodeCancelledCommand": "scoreboard players set @s codeExecution 0",
     "onCodeErrorCommand": "scoreboard players set @s codeExecution -1",
     "onCodeStartedCommand": "scoreboard players set @s codeExecution 1",
     "onCodeStoppedCommand": "scoreboard players set @s codeExecution 0",
     "onCodeSuccessfulCommand": "scoreboard players set @s codeExecution 2",
     "overridePython": "",
     "readonly": false
    }
   },
   "outputs": [],
   "source": [
    "while(agent.inspect(\"forward\") == \"air\"):\n",
    "    while(agent.inspect(\"down\") == \"air\"):\n",
    "        agent.move(\"down\")\n",
    "\n",
    "    agent.collect()\n",
    "\n",
    "    while(agent.position.y != 157):\n",
    "        agent.move(\"up\")\n",
    "\n",
    "    agent.     ( ,\"    \")\n",
    "    # Complete the line above to place the section back into the hull."
   ]
  },
  {
   "cell_type": "markdown",
   "metadata": {},
   "source": [
    "## Step 6\n",
    "\n",
    "The final step is to move you agent forward after it has checked and patch a hole in the hull. You can do this by using `agent.move()` again and have your agent move `\"forward\"`.\n",
    "\n",
    "**Finish the last line of code to move your agent onto the next block**"
   ]
  },
  {
   "cell_type": "code",
   "execution_count": null,
   "metadata": {
    "minecraft": {
     "closeCodeBuilderOnRun": true,
     "onCodeCancelledCommand": "scoreboard players set @s codeExecution 0",
     "onCodeErrorCommand": "scoreboard players set @s codeExecution -1",
     "onCodeStartedCommand": "scoreboard players set @s codeExecution 1",
     "onCodeStoppedCommand": "scoreboard players set @s codeExecution 0",
     "onCodeSuccessfulCommand": "scoreboard players set @s codeExecution 2",
     "overridePython": "",
     "readonly": false
    }
   },
   "outputs": [],
   "source": [
    "while(agent.inspect(\"forward\") == \"air\"):\n",
    "    while(agent.inspect(\"down\") == \"air\"):\n",
    "        agent.move(\"down\")\n",
    "\n",
    "    agent.collect()\n",
    "\n",
    "    while(agent.position.y != 157):\n",
    "        agent.move(\"up\")\n",
    "\n",
    "    agent.place(1,\"down\")\n",
    "\n",
    "    agent.    (\"       \")\n",
    "    # Complete the line of code above!"
   ]
  },
  {
   "cell_type": "markdown",
   "metadata": {},
   "source": [
    "Great! Run your code and have your Agent finish reparing the hull."
   ]
  }
 ],
 "metadata": {
  "kernelspec": {
   "display_name": "Python 3",
   "language": "python",
   "name": "python3"
  },
  "language_info": {
   "codemirror_mode": {
    "name": "ipython",
    "version": 3
   },
   "file_extension": ".py",
   "mimetype": "text/x-python",
   "name": "python",
   "nbconvert_exporter": "python",
   "pygments_lexer": "ipython3",
   "version": "3.8.1"
  },
  "minecraft": {
   "description": "Section 3",
   "page_id": "1.3",
   "page_name": "Section 3",
   "style": "minecraft.css"
  }
 },
 "nbformat": 4,
 "nbformat_minor": 4
}
