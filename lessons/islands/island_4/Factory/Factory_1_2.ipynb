{
 "cells": [
  {
   "cell_type": "markdown",
   "metadata": {},
   "source": [
    "## Step 3\n",
    "\n",
    "Once Agent has moved, it needs to collect the parts of the hull that have broken off. To do this you can use the `agent.collect()` function, this will tell the Agent to pick up any items lying near it.\n",
    "\n",
    "How to use `agent.collect()`\n",
    "```python\n",
    "agent.collect()\n",
    "```\n",
    "\n",
    "**Complete the code below to collect the items**"
   ]
  },
  {
   "cell_type": "code",
   "execution_count": null,
   "metadata": {
    "minecraft": {
     "closeCodeBuilderOnRun": true,
     "onCodeCancelledCommand": "scoreboard players set @s codeExecution 0",
     "onCodeErrorCommand": "scoreboard players set @s codeExecution -1",
     "onCodeStartedCommand": "scoreboard players set @s codeExecution 1",
     "onCodeStoppedCommand": "scoreboard players set @s codeExecution 0",
     "onCodeSuccessfulCommand": "scoreboard players set @s codeExecution 2",
     "overridePython": "",
     "readonly": false
    }
   },
   "outputs": [],
   "source": [
    "while(agent.inspect(\"forward\") == \"air\"):\n",
    "    while(agent.inspect(\"down\") == \"air\"):\n",
    "        agent.move(\"down\")\n",
    "        \n",
    "    agent.       ()\n",
    "    # Complete the line above"
   ]
  },
  {
   "cell_type": "markdown",
   "metadata": {},
   "source": [
    "## Step 4\n",
    "\n",
    "After your Agent has picked up the broken off parts of the airship it need to go back up, to do this we can use another while loop that runs until the agent's Y position is at 157 blocks up. To get the Agent's Y position we can use `agent.position.y` in a while loop.\n",
    "\n",
    "We want the code within the while loop to run while the Agent's **Y** position is **not** at *157* blocks up. You can use the not equals operator `!=` to run the code when the **Y** position of your Agent is not equal to 157. Then within the while loop, use `agent.move()` to move your Agent `up` and out of the hole.\n",
    "\n",
    "How to use `agent.position.y`\n",
    "```python\n",
    "agent.position.y\n",
    "```\n",
    "*Note: This isn't a function, hence it doesn't have the `()` you see. This is a variable that gives you data back.*\n",
    "\n",
    "**Complete the code below to move your agent out of the holes of the airship.**"
   ]
  },
  {
   "cell_type": "code",
   "execution_count": null,
   "metadata": {
    "minecraft": {
     "closeCodeBuilderOnRun": true,
     "onCodeCancelledCommand": "scoreboard players set @s codeExecution 0",
     "onCodeErrorCommand": "scoreboard players set @s codeExecution -1",
     "onCodeStartedCommand": "scoreboard players set @s codeExecution 1",
     "onCodeStoppedCommand": "scoreboard players set @s codeExecution 0",
     "onCodeSuccessfulCommand": "scoreboard players set @s codeExecution 2",
     "overridePython": "",
     "readonly": false
    }
   },
   "outputs": [],
   "source": [
    "while(agent.inspect(\"forward\") == \"air\"):\n",
    "    while(agent.inspect(\"down\") == \"air\"):\n",
    "        agent.move(\"down\")\n",
    "\n",
    "    agent.collect()\n",
    "\n",
    "    while(agent.            != 157):\n",
    "        agent.    (\"  \")\n",
    "    # Complete the 2 lines above!"
   ]
  },
  {
   "cell_type": "markdown",
   "metadata": {},
   "source": [
    "When you're finished this section, move on to the last section!"
   ]
  }
 ],
 "metadata": {
  "kernelspec": {
   "display_name": "Python 3",
   "language": "python",
   "name": "python3"
  },
  "language_info": {
   "codemirror_mode": {
    "name": "ipython",
    "version": 3
   },
   "file_extension": ".py",
   "mimetype": "text/x-python",
   "name": "python",
   "nbconvert_exporter": "python",
   "pygments_lexer": "ipython3",
   "version": "3.8.5"
  },
  "minecraft": {
   "description": "Section 2",
   "page_id": "1.2",
   "page_name": "Section 2",
   "style": "minecraft.css"
  }
 },
 "nbformat": 4,
 "nbformat_minor": 4
}
