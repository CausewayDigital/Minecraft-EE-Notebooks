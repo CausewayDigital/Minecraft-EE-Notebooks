{
 "cells": [
  {
   "cell_type": "markdown",
   "metadata": {},
   "source": [
    "# Sort the mined material.\n",
    "\n",
    "![OreSorting](ores.jpg)\n",
    "\n",
    "Welcome to the mine! It looks like the miners need a hand with sorting today's mined ores ready for processing diamonds, however the convayer belt room is too dangerous to go in yourself. Send you Agent in, and program you agent to sort and mark ores ready for processing."
   ]
  },
  {
   "cell_type": "markdown",
   "metadata": {},
   "source": [
    "## Step 1\n",
    "\n",
    "First we want to create a while loop that runs as long as you have yet to find 5 iron blocks.\n",
    "\n",
    "To do this we can use a while loop, and check if a variable that we add onto is less than 5. To do this we can use the `<` operator that means what is on the left is less than what's on the right.\n",
    "\n",
    "**Complete the code bellow so the while loop runs while `found_iron` is less than `5`**"
   ]
  },
  {
   "cell_type": "code",
   "execution_count": null,
   "metadata": {
    "minecraft": {
     "closeCodeBuilderOnRun": true,
     "onCodeCancelledCommand": "scoreboard players set @s codeExecution 0",
     "onCodeErrorCommand": "scoreboard players set @s codeExecution -1",
     "onCodeStartedCommand": "scoreboard players set @s codeExecution 1",
     "onCodeStoppedCommand": "scoreboard players set @s codeExecution 0",
     "onCodeSuccessfulCommand": "scoreboard players set @s codeExecution 2",
     "overridePython": "",
     "readonly": false
    }
   },
   "outputs": [],
   "source": [
    "found_iron = 0\n",
    "while found_iron <      :\n",
    "    # Complete the 2 lines of code above"
   ]
  },
  {
   "cell_type": "markdown",
   "metadata": {},
   "source": [
    "## Step 2\n",
    "\n",
    "How that you've set the while loop up lets add the code for checking if the block we get is iron ore. Then if it is iron ore we can mark it and add to the `found_iron` count.\n",
    "\n",
    "#### Detect\n",
    "To inspect the a block to see what are it is we can use `ore_detector()` and used like so:\n",
    "```python\n",
    "ore_detector(direction)\n",
    "```\n",
    "- `direction`: The direction we want to have the agent place. The directions you can use are: `forward`, `back`, `left`, `right`, `up`, `down`.\n",
    "\n",
    "The function will return the name of the block in the direction it's told to check.\n",
    "\n",
    "#### Mark Iron\n",
    "To mark the iron that we find we can use `mark_iron()` like so:\n",
    "```python\n",
    "mark_iron(direction)\n",
    "```\n",
    "- `direction`: The direction we want to have the agent place. The directions you can use are: `forward`, `back`, `left`, `right`, `up`, `down`.\n",
    "\n",
    "This will mark the block for the miners to deal with at the end of the convayer belt."
   ]
  },
  {
   "cell_type": "code",
   "execution_count": null,
   "metadata": {
    "minecraft": {
     "closeCodeBuilderOnRun": true,
     "onCodeCancelledCommand": "scoreboard players set @s codeExecution 0",
     "onCodeErrorCommand": "scoreboard players set @s codeExecution -1",
     "onCodeStartedCommand": "scoreboard players set @s codeExecution 1",
     "onCodeStoppedCommand": "scoreboard players set @s codeExecution 0",
     "onCodeSuccessfulCommand": "scoreboard players set @s codeExecution 2",
     "overridePython": "",
     "readonly": false
    }
   },
   "outputs": [],
   "source": [
    "found_iron = 0\n",
    "while found_iron < 5:\n",
    "    if            == \"iron_ore\":  \n",
    "        # Complete the line of code above\n",
    "        say(\"I found Iron!\")\n",
    "        mark_iron(      )\n",
    "        found_iron = found_iron +  \n",
    "        # Complete the 2 lines of code above!"
   ]
  },
  {
   "cell_type": "markdown",
   "metadata": {},
   "source": [
    "Great! When you're ready to move on, click the next button."
   ]
  }
 ],
 "metadata": {
  "kernelspec": {
   "display_name": "Python 3",
   "language": "python",
   "name": "python3"
  },
  "language_info": {
   "codemirror_mode": {
    "name": "ipython",
    "version": 3
   },
   "file_extension": ".py",
   "mimetype": "text/x-python",
   "name": "python",
   "nbconvert_exporter": "python",
   "pygments_lexer": "ipython3",
   "version": "3.8.1"
  },
  "minecraft": {
   "description": "Section 1",
   "page_id": "1.1",
   "page_name": "Section 1",
   "style": "minecraft.css"
  }
 },
 "nbformat": 4,
 "nbformat_minor": 4
}
