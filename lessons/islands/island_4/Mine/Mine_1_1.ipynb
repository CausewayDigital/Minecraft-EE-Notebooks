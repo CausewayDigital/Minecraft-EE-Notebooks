{
 "cells": [
  {
   "cell_type": "markdown",
   "metadata": {},
   "source": [
    "# Sort the mined material.\n",
    "\n",
    "![OreSorting](cover.jpg)\n",
    "\n",
    "Welcome to the mine! The miners need a hand with sorting today's mined ores ready for processing diamonds, however, the sorting room is too dangerous to go in yourself. Send your Agent in, and program your agent to sort and mark ores ready for processing."
   ]
  },
  {
   "cell_type": "markdown",
   "metadata": {},
   "source": [
    "## Step 1\n",
    "\n",
    "First, we want to create a while loop that runs until you have found three 3 Diamond ores.\n",
    "\n",
    "To do this we can use a while loop, and check if a variable that we add to is less than 3. To do this we can use the `<` operator that means what is on the left is less than what's on the right.\n",
    "\n",
    "**Bellow is an example of a while loop, move onto step 2 when you're ready**"
   ]
  },
  {
   "cell_type": "code",
   "execution_count": null,
   "metadata": {
    "minecraft": {
     "closeCodeBuilderOnRun": true,
     "onCodeCancelledCommand": "scoreboard players set @s codeExecution 0",
     "onCodeErrorCommand": "scoreboard players set @s codeExecution -1",
     "onCodeStartedCommand": "scoreboard players set @s codeExecution 1",
     "onCodeStoppedCommand": "scoreboard players set @s codeExecution 0",
     "onCodeSuccessfulCommand": "scoreboard players set @s codeExecution 2",
     "overridePython": "import time\n\ndef check_ore(direction: str):\n    block = agent.inspect(direction)\n    block_data = agent.inspect_data(direction)\n    if block == \"stained_hardened_clay\":\n        if block_data[\"data\"] == 3:\n            return \"diamond_ore\"\n        else:\n            return \"dirt\"\n    else:\n        return block\n\ndef mark_diamond(direction: str):\n    if direction is not \"forward\":\n        say(\"Direction can only be forward\")\n        raise Exception(\"Direction can only be forward\")\n    if check_ore(\"forward\") is not \"air\":\n        agent.place(2, \"up\")\n    else:\n        say(\"Unable to detect a block!\")\n        raise Exception(\"Unable to detect block\")\n        \ndef mark_bin(direction: str):\n    if direction is not \"forward\":\n        say(\"Direction can only be forward\")\n        raise Exception(\"Direction can only be forward\")\n    if check_ore(\"forward\") is not \"air\":\n        agent.place(1, \"up\")\n    else:\n        say(\"Unable to detect a block!\")\n        raise Exception(\"Unable to detect block\")\n\n@user-code\n    time.sleep(0.5)",
     "readonly": true
    }
   },
   "outputs": [],
   "source": [
    "found_diamond = 0\n",
    "while found_diamond < 3 :\n",
    "    # This is how a while loop is made\n",
    "    say(\"I keep Looping\")"
   ]
  },
  {
   "cell_type": "markdown",
   "metadata": {},
   "source": [
    "## Step 2\n",
    "\n",
    "Now that you've set the while loop up, you can add the code for checking what ore is placed in front of the agent. To do this we can use the `check_ore()` function, with an, if statement. If we get returned *diamond_ore*, then we can say it's diamond ore.\n",
    "\n",
    "Then to have the `while` loop count up, each time we find diamond ore we can add 1 to `found_diamond` so we can keep count of how many diamonds have been found.\n",
    "\n",
    "#### Check Ore\n",
    "To inspect the block to see what ore it is we can use `check_ore()` and used like so:\n",
    "```python\n",
    "check_ore(direction)\n",
    "```\n",
    "- `direction`: The direction we want to have the Agent place. The directions you can use are: `forward`, `back`, `left`, `right`, `up`, `down`.\n",
    "\n",
    "The function will return the name of the block for the direction it's told to check.\n",
    "\n",
    "**Complete the code bellow so that it checks the ore is diamond**"
   ]
  },
  {
   "cell_type": "code",
   "execution_count": null,
   "metadata": {
    "minecraft": {
     "closeCodeBuilderOnRun": true,
     "onCodeCancelledCommand": "scoreboard players set @s codeExecution 0",
     "onCodeErrorCommand": "scoreboard players set @s codeExecution -1",
     "onCodeStartedCommand": "scoreboard players set @s codeExecution 1",
     "onCodeStoppedCommand": "scoreboard players set @s codeExecution 0",
     "onCodeSuccessfulCommand": "scoreboard players set @s codeExecution 2",
     "overridePython": "import time\n\ndef check_ore(direction: str):\n    block = agent.inspect(direction)\n    block_data = agent.inspect_data(direction)\n    if block == \"stained_hardened_clay\":\n        if block_data[\"data\"] == 3:\n            return \"diamond_ore\"\n        else:\n            return \"dirt\"\n    else:\n        return block\n\ndef mark_diamond(direction: str):\n    if direction is not \"forward\":\n        say(\"Direction can only be forward\")\n        raise Exception(\"Direction can only be forward\")\n    if check_ore(\"forward\") is not \"air\":\n        agent.place(2, \"up\")\n    else:\n        say(\"Unable to detect a block!\")\n        raise Exception(\"Unable to detect block\")\n        \ndef mark_bin(direction: str):\n    if direction is not \"forward\":\n        say(\"Direction can only be forward\")\n        raise Exception(\"Direction can only be forward\")\n    if check_ore(\"forward\") is not \"air\":\n        agent.place(1, \"up\")\n    else:\n        say(\"Unable to detect a block!\")\n        raise Exception(\"Unable to detect block\")\n\n@user-code\n    time.sleep(0.5)",
     "readonly": false
    }
   },
   "outputs": [],
   "source": [
    "found_diamond = 0\n",
    "while found_diamond < 3:\n",
    "    if check_   (\"     \") == \"diamond_ore\":\n",
    "        # Complete the line of code above\n",
    "        say(\"Hey! That's diamond ore!\")\n",
    "        found_diamond = found_diamond + 1"
   ]
  },
  {
   "cell_type": "markdown",
   "metadata": {},
   "source": [
    "Great! When you're ready to move on, stop and code running and click the next button."
   ]
  }
 ],
 "metadata": {
  "kernelspec": {
   "display_name": "Python 3",
   "language": "python",
   "name": "python3"
  },
  "language_info": {
   "codemirror_mode": {
    "name": "ipython",
    "version": 3
   },
   "file_extension": ".py",
   "mimetype": "text/x-python",
   "name": "python",
   "nbconvert_exporter": "python",
   "pygments_lexer": "ipython3",
   "version": "3.8.1"
  },
  "minecraft": {
   "description": "Section 1",
   "page_id": "1.1",
   "page_name": "Section 1",
   "style": "minecraft.css"
  }
 },
 "nbformat": 4,
 "nbformat_minor": 4
}
