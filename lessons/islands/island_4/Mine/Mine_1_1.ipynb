{
 "cells": [
  {
   "cell_type": "markdown",
   "metadata": {},
   "source": [
    "# Sort the mined material.\n",
    "\n",
    "![OreSorting](ores.jpg)\n",
    "\n",
    "Welcome to the mine! It looks like the miners need a hand with sorting today's mined ores ready for processing diamonds, however, the conveyor belt room is too dangerous to go in yourself. Send you Agent in, and program you agent to sort and mark ores ready for processing."
   ]
  },
  {
   "cell_type": "markdown",
   "metadata": {},
   "source": [
    "## Step 1\n",
    "\n",
    "First, we want to create a while loop that runs as long as you have yet to find 3 Diamond ore.\n",
    "\n",
    "To do this we can use a while loop, and check if a variable that we add onto is less than 3. To do this we can use the `<` operator that means what is on the left is less than what's on the right.\n",
    "\n",
    "**Bellow is an example of a while loop, move onto step 2 when you're ready**"
   ]
  },
  {
   "cell_type": "code",
   "execution_count": null,
   "metadata": {
    "minecraft": {
     "closeCodeBuilderOnRun": true,
     "onCodeCancelledCommand": "scoreboard players set @s codeExecution 0",
     "onCodeErrorCommand": "scoreboard players set @s codeExecution -1",
     "onCodeStartedCommand": "scoreboard players set @s codeExecution 1",
     "onCodeStoppedCommand": "scoreboard players set @s codeExecution 0",
     "onCodeSuccessfulCommand": "scoreboard players set @s codeExecution 2",
     "overridePython": "def mark_diamond(direction: str):\n    if direction is not \"forward\":\n        say(\"Direction can only be forward\")\n        raise Exception(\"Direction can oly be forward\")\n    if ore_detector(\"forward\") == \"diamond_ore\"\n        agent.place(1, \"up\")\n    else:\n        say(\"Block infront of agent is not diamond ore!\")\n        raise Exception(\"Block infront of agent is not diamond ore\")\n        \ndef mark_bin(direction: str):\n    if direction is not \"forward\":\n        say(\"Direction can only be forward\")\n        raise Exception(\"Direction can oly be forward\")\n    else:\n        agent.place(2, \"up\")\n\ndef check_ore(direction: str):\n    block = agent.inspect(direction)\n    if block == \"light_gray_terracotta\":\n        return \"diamond_ore\"\n    elif block == \"orange_terracotta\":\n        return \"iron_ore\"\n    else:\n        return block\n\n@user-code\n",
     "readonly": true
    }
   },
   "outputs": [],
   "source": [
    "found_diamond = 0\n",
    "while found_diamond < 3 :\n",
    "    # This is how a while loop is made"
   ]
  },
  {
   "cell_type": "markdown",
   "metadata": {},
   "source": [
    "## Step 2\n",
    "\n",
    "Now that you've set the while loop up you can add the code for checking if the block we get is diamond ore. Then if it is diamond ore we can mark it and add to the `found_diamond` count. \n",
    "\n",
    "#### Check Ore\n",
    "To inspect the block to see what ore it is we can use `check_ore()` and used like so:\n",
    "```python\n",
    "check_ore(direction)\n",
    "```\n",
    "- `direction`: The direction we want to have the Agent place. The directions you can use are: `forward`, `back`, `left`, `right`, `up`, `down`.\n",
    "\n",
    "The function will return the name of the block for the direction it's told to check.\n",
    "\n",
    "#### Mark Diamond\n",
    "To mark the iron that we find we can use `mark_diamond()` like so:\n",
    "```python\n",
    "mark_diamond(direction)\n",
    "```\n",
    "- `direction`: The direction we want to have the Agent place. The directions you can use are: `forward`, `back`, `left`, `right`, `up`, `down`\n",
    "\n",
    "This will mark the block for the miners to deal with at the end of the conveyor belt.\n",
    "\n",
    "**Complete lines 3 and 4 bellow so that it checks the ore and marks it**"
   ]
  },
  {
   "cell_type": "code",
   "execution_count": null,
   "metadata": {
    "minecraft": {
     "closeCodeBuilderOnRun": true,
     "onCodeCancelledCommand": "scoreboard players set @s codeExecution 0",
     "onCodeErrorCommand": "scoreboard players set @s codeExecution -1",
     "onCodeStartedCommand": "scoreboard players set @s codeExecution 1",
     "onCodeStoppedCommand": "scoreboard players set @s codeExecution 0",
     "onCodeSuccessfulCommand": "scoreboard players set @s codeExecution 2",
     "overridePython": "def mark_iron(direction: str):\n    if direction is not \"forward\":\n        say(\"Direction can only be forward\")\n        raise Exception(\"Direction can oly be forward\")\n    if ore_detector(\"forward\") == \"iron_ore\"\n        agent.place(1, \"up\")\n    else:\n        say(\"Block infront of agent is not iron ore!\")\n        raise Exception(\"Block infront of agent is not iron ore\")\n\ndef mark_diamond(direction: str):\n    if direction is not \"forward\":\n        say(\"Direction can only be forward\")\n        raise Exception(\"Direction can oly be forward\")\n    if ore_detector(\"forward\") == \"diamond_ore\"\n        agent.place(2, \"up\")\n    else:\n        say(\"Block infront of agent is not diamond ore!\")\n        raise Exception(\"Block infront of agent is not diamond ore\")\n\ndef ore_detector(direction: str):\n    block = agent.inspect(direction)\n    if block == \"light_gray_terracotta\":\n        return \"diamond_ore\"\n    elif block == \"orange_terracotta\":\n        return \"iron_ore\"\n    else:\n        return block\n\ndef mark_other(direction: str):\n    if direction is not \"forward\":\n        say(\"Direction can only be forward\")\n        raise Exception(\"Direction can oly be forward\")\n    else:\n        agent.place(3, \"up\")\n\n@user-code\n",
     "readonly": false
    }
   },
   "outputs": [],
   "source": [
    "found_diamond = 0\n",
    "while found_diamond < 3:\n",
    "    if check_   (\"     \") == \"diamond_ore\":\n",
    "        mark_       (\"       \")\n",
    "        # Complete the two lines of code above\n",
    "        found_diamond = found_diamond + 1"
   ]
  },
  {
   "cell_type": "markdown",
   "metadata": {},
   "source": [
    "Great! When you're ready to move on, click the next button."
   ]
  }
 ],
 "metadata": {
  "kernelspec": {
   "display_name": "Python 3",
   "language": "python",
   "name": "python3"
  },
  "language_info": {
   "codemirror_mode": {
    "name": "ipython",
    "version": 3
   },
   "file_extension": ".py",
   "mimetype": "text/x-python",
   "name": "python",
   "nbconvert_exporter": "python",
   "pygments_lexer": "ipython3",
   "version": "3.8.1"
  },
  "minecraft": {
   "description": "Section 1",
   "page_id": "1.1",
   "page_name": "Section 1",
   "style": "minecraft.css"
  }
 },
 "nbformat": 4,
 "nbformat_minor": 4
}
