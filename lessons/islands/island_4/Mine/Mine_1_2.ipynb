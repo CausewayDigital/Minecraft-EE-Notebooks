{
 "cells": [
  {
   "cell_type": "markdown",
   "metadata": {},
   "source": [
    "## Step 3\n",
    "\n",
    "Now that you have your Agent detecting and marking iron ore, however in the mine, they also will be able to mine diamonds. So they would also like you to mark the diamonds for them. To do this we can use an `elif` statement after your `if` statement to check for diamond next.\n",
    "\n",
    "#### Mark Diamond\n",
    "To mark the iron that we find we can use `mark_diamond()` like so:\n",
    "```python\n",
    "mark_diamond(direction)\n",
    "```\n",
    "- `direction`: The direction we want to have the Agent place. The directions you can use are: `forward`, `back`, `left`, `right`, `up`, `down`.\n",
    "\n",
    "**Complete the code below so that you have an `elif` for diamond**"
   ]
  },
  {
   "cell_type": "code",
   "execution_count": null,
   "metadata": {
    "minecraft": {
     "closeCodeBuilderOnRun": true,
     "onCodeCancelledCommand": "scoreboard players set @s codeExecution 0",
     "onCodeErrorCommand": "scoreboard players set @s codeExecution -1",
     "onCodeStartedCommand": "scoreboard players set @s codeExecution 1",
     "onCodeStoppedCommand": "scoreboard players set @s codeExecution 0",
     "onCodeSuccessfulCommand": "scoreboard players set @s codeExecution 2",
     "overridePython": "def mark_iron(direction: str):\n    if direction is not \"forward\":\n        say(\"Direction can only be forward\")\n        raise Exception(\"Direction can oly be forward\")\n    if ore_detector(\"forward\") == \"iron_ore\"\n        agent.place(1, \"up\")\n    else:\n        say(\"Block infront of agent is not iron ore!\")\n        raise Exception(\"Block infront of agent is not iron ore\")\n\ndef mark_diamond(direction: str):\n    if direction is not \"forward\":\n        say(\"Direction can only be forward\")\n        raise Exception(\"Direction can oly be forward\")\n    if ore_detector(\"forward\") == \"diamond_ore\"\n        agent.place(2, \"up\")\n    else:\n        say(\"Block infront of agent is not diamond ore!\")\n        raise Exception(\"Block infront of agent is not diamond ore\")\n\ndef ore_detector(direction: str):\n    block = agent.inspect(direction)\n    if block == \"light_gray_terracotta\":\n        return \"diamond_ore\"\n    elif block == \"orange_terracotta\":\n        return \"iron_ore\"\n    else:\n        return block\n\ndef mark_other(direction: str):\n    if direction is not \"forward\":\n        say(\"Direction can only be forward\")\n        raise Exception(\"Direction can oly be forward\")\n    else:\n        agent.place(3, \"up\")\n\n@user-code\n",
     "readonly": false
    }
   },
   "outputs": [],
   "source": [
    "found_iron = 0\n",
    "while found_iron < 5:\n",
    "    if ore_detector(\"forward\") == \"iron_ore\":  \n",
    "        say(\"I found Iron\")\n",
    "        mark_iron(\"forward\")\n",
    "        found_iron = found_iron +  1\n",
    "    elif ore_detector(\"forward\") == \"diamond_ore\":\n",
    "        say(\"I found Diamond!\")\n",
    "        mark_      (\"forward\")\n",
    "        # Complete code above this line\n",
    "    else:\n",
    "        mark_other(\"forward\")"
   ]
  },
  {
   "cell_type": "markdown",
   "metadata": {},
   "source": [
    "## Step 4\n",
    "\n",
    "The mine wants you to stop what you're doing if you come across a diamond ore. To do this we need to stop our looping code. You can do this with a `break`.\n",
    "\n",
    "In a loop, you can get out of a loop at by adding a `break`. When `break` is called in your code it exits the loops that the `break` is placed within.\n",
    "\n",
    "**Place a `break` at the end of your if/else that is run after you find a diamond to stop you Agent!**"
   ]
  },
  {
   "cell_type": "code",
   "execution_count": null,
   "metadata": {
    "minecraft": {
     "closeCodeBuilderOnRun": true,
     "onCodeCancelledCommand": "scoreboard players set @s codeExecution 0",
     "onCodeErrorCommand": "scoreboard players set @s codeExecution -1",
     "onCodeStartedCommand": "scoreboard players set @s codeExecution 1",
     "onCodeStoppedCommand": "scoreboard players set @s codeExecution 0",
     "onCodeSuccessfulCommand": "scoreboard players set @s codeExecution 2",
     "overridePython": "def mark_iron(direction: str):\n    if direction is not \"forward\":\n        say(\"Direction can only be forward\")\n        raise Exception(\"Direction can oly be forward\")\n    if ore_detector(\"forward\") == \"iron_ore\"\n        agent.place(1, \"up\")\n    else:\n        say(\"Block infront of agent is not iron ore!\")\n        raise Exception(\"Block infront of agent is not iron ore\")\n\ndef mark_diamond(direction: str):\n    if direction is not \"forward\":\n        say(\"Direction can only be forward\")\n        raise Exception(\"Direction can oly be forward\")\n    if ore_detector(\"forward\") == \"diamond_ore\"\n        agent.place(2, \"up\")\n    else:\n        say(\"Block infront of agent is not diamond ore!\")\n        raise Exception(\"Block infront of agent is not diamond ore\")\n\ndef ore_detector(direction: str):\n    block = agent.inspect(direction)\n    if block == \"light_gray_terracotta\":\n        return \"diamond_ore\"\n    elif block == \"orange_terracotta\":\n        return \"iron_ore\"\n    else:\n        return block\n\ndef mark_other(direction: str):\n    if direction is not \"forward\":\n        say(\"Direction can only be forward\")\n        raise Exception(\"Direction can oly be forward\")\n    else:\n        agent.place(3, \"up\")\n\n@user-code\n",
     "readonly": false
    }
   },
   "outputs": [],
   "source": [
    "found_iron = 0\n",
    "while found_iron < 5:\n",
    "    if ore_detector(\"forward\") == \"iron_ore\":  \n",
    "        say(\"I found Iron\")\n",
    "        mark_iron(\"forward\")\n",
    "        found_iron = found_iron +  1\n",
    "    elif ore_detector(\"forward\") == \"diamond_ore\":\n",
    "        say(\"I found Diamond!\")\n",
    "        mark_diamond(\"forward\")\n",
    "        \n",
    "        # Add the line to stop your code looping in the mine above\n",
    "    else:\n",
    "        mark_other(\"forward\")"
   ]
  },
  {
   "cell_type": "markdown",
   "metadata": {},
   "source": [
    "When you're done, do and run you code!"
   ]
  }
 ],
 "metadata": {
  "kernelspec": {
   "display_name": "Python 3",
   "language": "python",
   "name": "python3"
  },
  "language_info": {
   "codemirror_mode": {
    "name": "ipython",
    "version": 3
   },
   "file_extension": ".py",
   "mimetype": "text/x-python",
   "name": "python",
   "nbconvert_exporter": "python",
   "pygments_lexer": "ipython3",
   "version": "3.8.1"
  },
  "minecraft": {
   "description": "Section 2",
   "page_id": "1.2",
   "page_name": "Section 2",
   "style": "minecraft.css"
  }
 },
 "nbformat": 4,
 "nbformat_minor": 4
}
