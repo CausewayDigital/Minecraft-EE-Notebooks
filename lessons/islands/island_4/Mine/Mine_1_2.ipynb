{
 "cells": [
  {
   "cell_type": "markdown",
   "metadata": {},
   "source": [
    "## Step 3\n",
    "\n",
    "Now that we know how to check for diamond ore, we need to mark the blocks thay contain it. To do this we can use `mark_diamond()` this will mark the diamond ore ready for processing by the mine.\n",
    "\n",
    "We also need to now mark the other ores that are not diamond to be binned. To do this we can use an `else` statement after the if statement and `mark_bin()` the mark an ore to be disposed of. An else statement is run when the `if` statement above it isn't triggered.\n",
    "\n",
    "#### Mark Diamond\n",
    "To mark the diamond that we find we can use `mark_diamond()` like so:\n",
    "```python\n",
    "mark_diamond(direction)\n",
    "```\n",
    "- `direction`: The direction we want to have the Agent mark. The directions you can use are: `forward`, `back`, `left`, `right`, `up`, `down`\n",
    "\n",
    "This will mark the block for the miners to deal with at the end of the conveyor belt.\n",
    "\n",
    "### Mark bin\n",
    "To mark a block for disposal by the mine you can use `mark_bin()`\n",
    "```python\n",
    "mark_bin(direction)\n",
    "```\n",
    "- `direction`: The direction we want to have the Agent place. The directions you can use are: `forward`, `back`, `left`, `right`, `up`, `down`.\n",
    "\n",
    "**Complete the code below so that you mark diamond ore and mark other other ores to be binned**"
   ]
  },
  {
   "cell_type": "code",
   "execution_count": null,
   "metadata": {
    "minecraft": {
     "closeCodeBuilderOnRun": true,
     "onCodeCancelledCommand": "scoreboard players set @s codeExecution 0",
     "onCodeErrorCommand": "scoreboard players set @s codeExecution -1",
     "onCodeStartedCommand": "scoreboard players set @s codeExecution 1",
     "onCodeStoppedCommand": "scoreboard players set @s codeExecution 0",
     "onCodeSuccessfulCommand": "scoreboard players set @s codeExecution 2",
     "overridePython": "import time\n\ndef check_ore(direction: str):\n    block = agent.inspect(direction)\n    block_data = agent.inspect_data(direction)\n    if block == \"stained_hardened_clay\":\n        if block_data[\"data\"] == 3:\n            return \"diamond_ore\"\n        else:\n            return \"dirt\"\n    else:\n        return block\n\ndef mark_diamond(direction: str):\n    if direction is not \"forward\":\n        say(\"Direction can only be forward\")\n        raise Exception(\"Direction can oly be forward\")\n    if check_ore(\"forward\") is not \"air\":\n        agent.place(2, \"up\")\n    else:\n        say(\"Unable to detect a block!\")\n        raise Exception(\"Unable to detect block\")\n        \ndef mark_bin(direction: str):\n    if direction is not \"forward\":\n        say(\"Direction can only be forward\")\n        raise Exception(\"Direction can oly be forward\")\n    if check_ore(\"forward\") is not \"air\":\n        agent.place(1, \"up\")\n    else:\n        say(\"Unable to detect a block!\")\n        raise Exception(\"Unable to detect block\")\n\n@user-code\n    time.sleep(0.5)",
     "readonly": false
    }
   },
   "outputs": [],
   "source": [
    "found_diamond = 0\n",
    "while found_diamond < 3:\n",
    "    if check_ore(\"forward\") == \"diamond_ore\":\n",
    "        mark_     (\"      \")\n",
    "        # Complete the line above \n",
    "        found_diamond = found_diamond + 1\n",
    "    else:\n",
    "        mark_   (\"      \")\n",
    "        # Complete the line above to dispose of other ores"
   ]
  },
  {
   "cell_type": "markdown",
   "metadata": {},
   "source": [
    "When you're done, go ahead and run you code!"
   ]
  }
 ],
 "metadata": {
  "kernelspec": {
   "display_name": "Python 3",
   "language": "python",
   "name": "python3"
  },
  "language_info": {
   "codemirror_mode": {
    "name": "ipython",
    "version": 3
   },
   "file_extension": ".py",
   "mimetype": "text/x-python",
   "name": "python",
   "nbconvert_exporter": "python",
   "pygments_lexer": "ipython3",
   "version": "3.8.1"
  },
  "minecraft": {
   "description": "Section 2",
   "page_id": "1.2",
   "page_name": "Section 2",
   "style": "minecraft.css"
  }
 },
 "nbformat": 4,
 "nbformat_minor": 4
}
