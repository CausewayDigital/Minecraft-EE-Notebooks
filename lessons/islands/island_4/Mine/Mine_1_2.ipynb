{
 "cells": [
  {
   "cell_type": "markdown",
   "metadata": {},
   "source": [
    "## Step 3\n",
    "Now that you have marked diamonds for extraction, we need to now mark the other ores that are not diamonds to be binned. to do this we can use an `else` statement after the if statement and `mark_bin()` to mark an ore to be disposed of. An else statement is run when the `if` statement above it isn't triggered.\n",
    "\n",
    "### Mark bin\n",
    "To mark a block for disposal by the mine you can use `mark_bin()`\n",
    "```python\n",
    "mark_bin(direction)\n",
    "```\n",
    "- `direction`: The direction we want to have the Agent place. The directions you can use are: `forward`, `back`, `left`, `right`, `up`, `down`.\n",
    "\n",
    "**Complete the code below so that the else statement marks the rest of the ores to be disposed of**"
   ]
  },
  {
   "cell_type": "code",
   "execution_count": null,
   "metadata": {
    "minecraft": {
     "closeCodeBuilderOnRun": true,
     "onCodeCancelledCommand": "scoreboard players set @s codeExecution 0",
     "onCodeErrorCommand": "scoreboard players set @s codeExecution -1",
     "onCodeStartedCommand": "scoreboard players set @s codeExecution 1",
     "onCodeStoppedCommand": "scoreboard players set @s codeExecution 0",
     "onCodeSuccessfulCommand": "scoreboard players set @s codeExecution 2",
     "overridePython": "def mark_diamond(direction: str):\n    if direction is not \"forward\":\n        say(\"Direction can only be forward\")\n        raise Exception(\"Direction can oly be forward\")\n    if ore_detector(\"forward\") is not \"air\":\n        agent.place(2, \"up\")\n    else:\n        say(\"Unable to detect a block!\")\n        raise Exception(\"Unable to detect block\")\n        \ndef mark_bin(direction: str):\n    if direction is not \"forward\":\n        say(\"Direction can only be forward\")\n        raise Exception(\"Direction can oly be forward\")\n    if ore_detector(\"forward\") is not \"air\":\n        agent.place(1, \"up\")\n    else:\n        say(\"Unable to detect a block!\")\n        raise Exception(\"Unable to detect block\")\n\ndef check_ore(direction: str):\n    block = agent.inspect(direction)\n    if block == \"light_gray_terracotta\":\n        return \"diamond_ore\"\n    elif block == \"orange_terracotta\":\n        return \"iron_ore\"\n    else:\n        return block\n\n@user-code\n",
     "readonly": false
    }
   },
   "outputs": [],
   "source": [
    "found_diamond = 0\n",
    "while found_diamond < 3:\n",
    "    if check_ore(\"forward\") == \"diamond_ore\":\n",
    "        mark_diamond(\"forward\")\n",
    "        # Complete the two lines of code above\n",
    "        found_diamond = found_diamond + 1\n",
    "    else:\n",
    "        mark_   (\"      \")\n",
    "        # Complete the line above"
   ]
  },
  {
   "cell_type": "markdown",
   "metadata": {},
   "source": [
    "When you're done, do and run you code!"
   ]
  }
 ],
 "metadata": {
  "kernelspec": {
   "display_name": "Python 3",
   "language": "python",
   "name": "python3"
  },
  "language_info": {
   "codemirror_mode": {
    "name": "ipython",
    "version": 3
   },
   "file_extension": ".py",
   "mimetype": "text/x-python",
   "name": "python",
   "nbconvert_exporter": "python",
   "pygments_lexer": "ipython3",
   "version": "3.8.1"
  },
  "minecraft": {
   "description": "Section 2",
   "page_id": "1.2",
   "page_name": "Section 2",
   "style": "minecraft.css"
  }
 },
 "nbformat": 4,
 "nbformat_minor": 4
}
