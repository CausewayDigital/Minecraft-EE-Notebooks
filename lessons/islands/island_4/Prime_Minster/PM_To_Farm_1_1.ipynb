{
 "cells": [
  {
   "cell_type": "markdown",
   "metadata": {},
   "source": [
    "# Message from the Prime Minister\n",
    "\n",
    "![Photo of Prime Minster](PM_Photo.jpg)\n",
    "\n",
    "I am receiving some worrying news... The island you are currently on is on a slow collision course with the mine island!   \n",
    "\n",
    "We must help the the gentleman that lives on this island...   \n",
    "I say we should build an airship for him!   \n",
    "\n",
    "Would you mind heading over to the Botanical Gardens, to fetch some dye for a new airship being built. \n",
    "Then meet with Anna, our Airship factory manager.\n",
    "\n",
    "**Prime Minster**"
   ]
  }
 ],
 "metadata": {
  "kernelspec": {
   "display_name": "Python 3",
   "language": "python",
   "name": "python3"
  },
  "language_info": {
   "codemirror_mode": {
    "name": "ipython",
    "version": 3
   },
   "file_extension": ".py",
   "mimetype": "text/x-python",
   "name": "python",
   "nbconvert_exporter": "python",
   "pygments_lexer": "ipython3",
   "version": "3.7.3"
  },
  "minecraft": {
   "description": "Section 1",
   "page_id": "1.1",
   "page_name": "Section 1",
   "style": "minecraft.css"
  }
 },
 "nbformat": 4,
 "nbformat_minor": 4
}
