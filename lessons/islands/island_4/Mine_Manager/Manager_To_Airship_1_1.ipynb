{
 "cells": [
  {
   "cell_type": "markdown",
   "metadata": {},
   "source": [
    "# Give Marcus a hand!\n",
    "\n",
    "![Marcus](Marcus.jpg)\n",
    "\n",
    "Great, you got me the diamonds.\n",
    "\n",
    "We would really appreciate your help finishing the airship off.\n",
    "\n",
    "Go talk to Marcus to lend a hand.\n"
   ]
  }
 ],
 "metadata": {
  "kernelspec": {
   "display_name": "Python 3",
   "language": "python",
   "name": "python3"
  },
  "language_info": {
   "codemirror_mode": {
    "name": "ipython",
    "version": 3
   },
   "file_extension": ".py",
   "mimetype": "text/x-python",
   "name": "python",
   "nbconvert_exporter": "python",
   "pygments_lexer": "ipython3",
   "version": "3.8.5"
  },
  "minecraft": {
   "description": "Section 1",
   "page_id": "1.1",
   "page_name": "Section 1",
   "style": "minecraft.css"
  }
 },
 "nbformat": 4,
 "nbformat_minor": 4
}
