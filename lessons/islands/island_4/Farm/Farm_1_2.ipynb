{
 "cells": [
  {
   "cell_type": "markdown",
   "metadata": {},
   "source": [
    "## Step 3\n",
    "\n",
    "Now that you've got your Agent moving, it needs to check what flower is below and decide if it should harvest(*destroy*) it or not. To do this you can use `check_flower()`, this will return the type of flower below the Agent. Then you can use it in an `if` statement to check if the flower is a `\"poppy\"`. If it is a poppy you can use `agent.destroy()` to pick the flower `\"down\"` below your Agent.\n",
    "\n",
    "How to use `check_flower()`:\n",
    "```python\n",
    "check_flower(direction)\n",
    "```\n",
    "- direction: The direction we want to have the Agent check. The directions you can use are: `forward`, `back`, `left`, `right`, `up`, `down`.\n",
    "\n",
    "Here's how you use `agent.destroy()`\n",
    "```python\n",
    "agent.destroy(direction)\n",
    "```\n",
    "\n",
    "- direction: The direction we want to have the Agent destroy a block in. The directions you can use are: `forward`, `back`, `left`, `right`, `up`, `down`.\n",
    "\n",
    "**Complete the code below so that your Agent will check all the flowers in one row of the flower bed**"
   ]
  },
  {
   "cell_type": "code",
   "execution_count": null,
   "metadata": {
    "minecraft": {
     "closeCodeBuilderOnRun": true,
     "onCodeCancelledCommand": "scoreboard players set @s codeExecution 0",
     "onCodeErrorCommand": "scoreboard players set @s codeExecution -1",
     "onCodeStartedCommand": "scoreboard players set @s codeExecution 1",
     "onCodeStoppedCommand": "scoreboard players set @s codeExecution 0",
     "onCodeSuccessfulCommand": "scoreboard players set @s codeExecution 2",
     "overridePython": "def check_flower(direction: str):\n    block = agent.inspect(direction)\n    block_data = agent.inspect_data(direction)\n    flower_list = {\n        0: 'poppy',\n        1: 'blue_orchid',\n        2: 'allium',\n        3: 'houstonia',\n        4: 'red_tulip',\n        5: 'orange_tulip',\n        6: 'white_tulip',\n        7: 'pink_tulip',\n        8: 'oxeye_daisy',\n        9: 'cornflower',\n        10: 'lily_of_the_valley',\n        }\n    if block == 'red_flower':\n        return flower_list.get(block_data['data'], block)\n    else:\n        return block\n    \n@user-code\n        ",
     "readonly": false
    }
   },
   "outputs": [],
   "source": [
    "while agent.get_item_count(1) < 4:\n",
    "    agent.move(\"forward\")\n",
    "    if check_     (\"     \")  == \"     \":\n",
    "        agent.destroy(\"    \")\n",
    "        # Complete the 2 lines above."
   ]
  },
  {
   "cell_type": "markdown",
   "metadata": {},
   "source": [
    "## Step 4\n",
    "Now that your Agent has checked one row of flowers you need to move to the next row every time a row is completed. To do this use `agent.move()` and `agent.turn()` below to get your agent to the start of the next row **and run step 3 again** until you collect all the poppies you need.\n",
    "\n",
    "How to use `agent.move()`:\n",
    "```python\n",
    "agent.move(direction)\n",
    "```\n",
    "- direction: The direction we want to have the Agent destroy a block in. The directions you can use are: `forward`, `back`, `left`, `right`, `up`, `down`.\n",
    "\n",
    "How to use `agent.turn()`:\n",
    "```python\n",
    "agent.turn(turn_direction)\n",
    "```\n",
    "- turn_direction: The direction your agent should turn in. The directions you can use are: `left`, `right`.\n",
    "\n",
    "**Use the code area below and get your agent to move to the next row and then repeat step 3.**"
   ]
  },
  {
   "cell_type": "code",
   "execution_count": null,
   "metadata": {
    "minecraft": {
     "closeCodeBuilderOnRun": true,
     "onCodeCancelledCommand": "scoreboard players set @s codeExecution 0",
     "onCodeErrorCommand": "scoreboard players set @s codeExecution -1",
     "onCodeStartedCommand": "scoreboard players set @s codeExecution 1",
     "onCodeStoppedCommand": "scoreboard players set @s codeExecution 0",
     "onCodeSuccessfulCommand": "scoreboard players set @s codeExecution 2",
     "overridePython": "def check_flower(direction: str):\n    block = agent.inspect(direction)\n    block_data = agent.inspect_data(direction)\n    flower_list = {\n        0: 'poppy',\n        1: 'blue_orchid',\n        2: 'allium',\n        3: 'houstonia',\n        4: 'red_tulip',\n        5: 'orange_tulip',\n        6: 'white_tulip',\n        7: 'pink_tulip',\n        8: 'oxeye_daisy',\n        9: 'cornflower',\n        10: 'lily_of_the_valley',\n        }\n    if block == 'red_flower':\n        return flower_list.get(block_data['data'], block)\n    else:\n        return block\n    \n@user-code\n        ",
     "readonly": false
    }
   },
   "outputs": [],
   "source": [
    "\n",
    "\n",
    "\n",
    "\n",
    "# Write your code to change rows above. Don't forget to stop the previous code before running this."
   ]
  },
  {
   "cell_type": "markdown",
   "metadata": {},
   "source": [
    "Nice! Remember to repeat steps 3 and 4 until you pick all the poppies you need!"
   ]
  }
 ],
 "metadata": {
  "kernelspec": {
   "display_name": "Python 3",
   "language": "python",
   "name": "python3"
  },
  "language_info": {
   "codemirror_mode": {
    "name": "ipython",
    "version": 3
   },
   "file_extension": ".py",
   "mimetype": "text/x-python",
   "name": "python",
   "nbconvert_exporter": "python",
   "pygments_lexer": "ipython3",
   "version": "3.8.1"
  },
  "minecraft": {
   "description": "Section 2",
   "page_id": "1.2",
   "page_name": "Section 2",
   "style": "minecraft.css"
  }
 },
 "nbformat": 4,
 "nbformat_minor": 4
}
