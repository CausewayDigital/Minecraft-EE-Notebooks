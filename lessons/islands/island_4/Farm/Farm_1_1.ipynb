{
 "cells": [
  {
   "cell_type": "markdown",
   "metadata": {},
   "source": [
    "# Automated Flower Picking and Sorting\n",
    "\n",
    "Use while loops to collect all the poppies in the flower bed.\n",
    "\n",
    "![Cover image](cover.jpg)\n",
    "\n",
    "It's nice to see you here at the greenhouse! We need help to picking some poppies to make into red dye, can you and your Agent help pick some poppies for me?"
   ]
  },
  {
   "cell_type": "markdown",
   "metadata": {},
   "source": [
    "## Step 1\n",
    "\n",
    "The first thing you need to set up is your loop. In this task, you'll need to check how many poppies your Agent has in its inventory. As you destroy the poppies, the gardener will place them into **slot 1** of you agent, you can use `agent.get_item_count()` to get the count of items in a given slot. We need to get *4* poppies for enough dye for the airship.\n",
    "\n",
    "Here's how `agent.get_item_count()` works:\n",
    "```python\n",
    "agent.get_item_count(slot)\n",
    "```\n",
    "- slot: The slot you want to get the count of items for.\n",
    "\n",
    "**Complete the code below to make a while loop that runs when there are less than 5 poppies in slot 1 of the Agent!**"
   ]
  },
  {
   "cell_type": "code",
   "execution_count": null,
   "metadata": {
    "minecraft": {
     "closeCodeBuilderOnRun": true,
     "onCodeCancelledCommand": "scoreboard players set @s codeExecution 0",
     "onCodeErrorCommand": "scoreboard players set @s codeExecution -1",
     "onCodeStartedCommand": "scoreboard players set @s codeExecution 1",
     "onCodeStoppedCommand": "scoreboard players set @s codeExecution 0",
     "onCodeSuccessfulCommand": "scoreboard players set @s codeExecution 2",
     "overridePython": "def check_flower(direction: str):\n    block = agent.inspect(direction)\n    block_data = agent.inspect_data(direction)\n    flower_list = {\n        0: 'poppy',\n        1: 'blue_orchid',\n        2: 'allium',\n        3: 'houstonia',\n        4: 'red_tulip',\n        5: 'orange_tulip',\n        6: 'white_tulip',\n        7: 'pink_tulip',\n        8: 'oxeye_daisy',\n        9: 'cornflower',\n        10: 'lily_of_the_valley',\n        }\n    if block == 'red_flower':\n        return flower_list.get(block_data['data'], block)\n    else:\n        return block\n    \n@user-code\n        ",
     "readonly": false
    }
   },
   "outputs": [],
   "source": [
    "while agent.              (1) < 4:\n",
    "    # Complete the code in the line above\n",
    "    say(\"I need more poppies!\")"
   ]
  },
  {
   "cell_type": "markdown",
   "metadata": {},
   "source": [
    "## Step 2\n",
    "\n",
    "Now that you have a while loop set up, you will need to move your agent `\"forward\"` each time the loop runs. To do this you can use `agent.move()` \n",
    "\n",
    "**Remember you can come back into the code editor to force your code to stop**"
   ]
  },
  {
   "cell_type": "code",
   "execution_count": null,
   "metadata": {
    "minecraft": {
     "closeCodeBuilderOnRun": true,
     "onCodeCancelledCommand": "scoreboard players set @s codeExecution 0",
     "onCodeErrorCommand": "scoreboard players set @s codeExecution -1",
     "onCodeStartedCommand": "scoreboard players set @s codeExecution 1",
     "onCodeStoppedCommand": "scoreboard players set @s codeExecution 0",
     "onCodeSuccessfulCommand": "scoreboard players set @s codeExecution 2",
     "overridePython": "def check_flower(direction: str):\n    block = agent.inspect(direction)\n    block_data = agent.inspect_data(direction)\n    flower_list = {\n        0: 'poppy',\n        1: 'blue_orchid',\n        2: 'allium',\n        3: 'houstonia',\n        4: 'red_tulip',\n        5: 'orange_tulip',\n        6: 'white_tulip',\n        7: 'pink_tulip',\n        8: 'oxeye_daisy',\n        9: 'cornflower',\n        10: 'lily_of_the_valley',\n        }\n    if block == 'red_flower':\n        return flower_list.get(block_data['data'], block)\n    else:\n        return block\n    \n@user-code\n        ",
     "readonly": false
    }
   },
   "outputs": [],
   "source": [
    "while agent.get_item_count(1) < 4:\n",
    "    agent.\n",
    "    # Complete the line above to move your Agent forward each time."
   ]
  },
  {
   "cell_type": "markdown",
   "metadata": {},
   "source": [
    "When you're ready, move onto the next section."
   ]
  }
 ],
 "metadata": {
  "kernelspec": {
   "display_name": "Python 3",
   "language": "python",
   "name": "python3"
  },
  "language_info": {
   "codemirror_mode": {
    "name": "ipython",
    "version": 3
   },
   "file_extension": ".py",
   "mimetype": "text/x-python",
   "name": "python",
   "nbconvert_exporter": "python",
   "pygments_lexer": "ipython3",
   "version": "3.8.1"
  },
  "minecraft": {
   "description": "Section 1",
   "page_id": "1.1",
   "page_name": "Section 1",
   "style": "minecraft.css"
  }
 },
 "nbformat": 4,
 "nbformat_minor": 4
}
