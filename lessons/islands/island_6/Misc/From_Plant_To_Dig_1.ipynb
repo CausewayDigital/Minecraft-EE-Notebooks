{
 "cells": [
  {
   "cell_type": "markdown",
   "metadata": {},
   "source": [
    "# Success   \n",
    "\n",
    "![Success](From_Plant_Found.png)\n",
    "Thanks for the help, looks like this sapling is the best option for us to send up into space."
   ]
  },
  {
   "cell_type": "markdown",
   "metadata": {},
   "source": [
    "# Artifacts hunting"
   ]
  },
  {
   "cell_type": "markdown",
   "metadata": {},
   "source": [
    "![Cover image](From_Plant_To_Dig.png)\n",
    "\n",
    "For your next task, the Prime Minister has asked for artifacts to be on-board the rocket. You should be able to find some at the Underground Dig Site.\n",
    "\n",
    "*Note, to access the dig site, return to the main island across the bridge, then turn right.*"
   ]
  }
 ],
 "metadata": {
  "kernelspec": {
   "display_name": "Python 3",
   "language": "python",
   "name": "python3"
  },
  "language_info": {
   "codemirror_mode": {
    "name": "ipython",
    "version": 3
   },
   "file_extension": ".py",
   "mimetype": "text/x-python",
   "name": "python",
   "nbconvert_exporter": "python",
   "pygments_lexer": "ipython3",
   "version": "3.8.5"
  },
  "minecraft": {
   "description": "Section 1",
   "page_id": "1.1",
   "page_name": "Section 1",
   "style": "minecraft.css"
  }
 },
 "nbformat": 4,
 "nbformat_minor": 4
}
