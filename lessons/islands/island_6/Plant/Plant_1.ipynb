{
 "cells": [
  {
   "cell_type": "markdown",
   "metadata": {},
   "source": [
    "# TITLE"
   ]
  },
  {
   "cell_type": "markdown",
   "metadata": {},
   "source": [
    "## Completed final code"
   ]
  },
  {
   "cell_type": "code",
   "execution_count": null,
   "metadata": {
    "minecraft": {
     "closeCodeBuilderOnRun": true,
     "onCodeCancelledCommand": "scoreboard players set @s codeExecution 0",
     "onCodeErrorCommand": "scoreboard players set @s codeExecution -1",
     "onCodeStartedCommand": "scoreboard players set @s codeExecution 1",
     "onCodeStoppedCommand": "scoreboard players set @s codeExecution 0",
     "onCodeSuccessfulCommand": "scoreboard players set @s codeExecution 2",
     "overridePython": "",
     "readonly": false
    }
   },
   "outputs": [],
   "source": [
    "def get_hydration(plant):\n",
    "    if plant == \"red_flower\":\n",
    "        return \"hydration 8\"\n",
    "    if plant == \"sapling\":\n",
    "        return \"hydratoin : 3\"\n",
    "    if plant == \"deadbush\":\n",
    "        return \"hydration : 0\";\n",
    "        \n",
    "def get_nutrition(plant):\n",
    "    if plant == \"red_flower\":\n",
    "        return \"nutrition 4\"\n",
    "    if plant == \"sapling\":\n",
    "        return \"nutrition : 5\"\n",
    "    if plant == \"deadbush\":\n",
    "        return \"nutrition : 7\";\n",
    "        \n",
    "def get_strength(plant):\n",
    "    if plant == \"red_flower\":\n",
    "        return \"strength 3\"\n",
    "    if plant == \"sapling\":\n",
    "        return \"strength : 5\"\n",
    "    if plant == \"deadbush\":\n",
    "        return \"strength : 6\";\n",
    "        \n",
    "def submit(answer):\n",
    "    block = answer[0]\n",
    "    proof = [block,get_hydration(block),get_nutrition(block),get_strength(block)]\n",
    "    if proof == answer:\n",
    "        for e in answer:\n",
    "            say(e + \" - Match\")\n",
    "        say(\"Great! Matches perfectly...\")\n",
    "        world.set(\"1054 154 139\", \"barrier\")\n",
    "    else:\n",
    "        say(\"Hmmm, information doesn't match up. Try again...\")\n",
    "\n",
    "# User Code\n",
    "block = agent.inspect(\"down\")\n",
    "hydration = get_hydration(block)\n",
    "nutrition = get_nutrition(block)\n",
    "strength = get_strength(block)\n",
    "plant_info = [block, hydration, nutrition, strength]\n",
    "submit(plant_info)"
   ]
  },
  {
   "cell_type": "markdown",
   "metadata": {},
   "source": [
    "## SUBTITLE1"
   ]
  },
  {
   "cell_type": "code",
   "execution_count": null,
   "metadata": {
    "minecraft": {
     "closeCodeBuilderOnRun": true,
     "onCodeCancelledCommand": "scoreboard players set @s codeExecution 0",
     "onCodeErrorCommand": "scoreboard players set @s codeExecution -1",
     "onCodeStartedCommand": "scoreboard players set @s codeExecution 1",
     "onCodeStoppedCommand": "scoreboard players set @s codeExecution 0",
     "onCodeSuccessfulCommand": "scoreboard players set @s codeExecution 2",
     "overridePython": "",
     "readonly": false
    }
   },
   "outputs": [],
   "source": []
  }
 ],
 "metadata": {
  "kernelspec": {
   "display_name": "Python 3",
   "language": "python",
   "name": "python3"
  },
  "language_info": {
   "codemirror_mode": {
    "name": "ipython",
    "version": 3
   },
   "file_extension": ".py",
   "mimetype": "text/x-python",
   "name": "python",
   "nbconvert_exporter": "python",
   "pygments_lexer": "ipython3",
   "version": "3.8.3"
  },
  "minecraft": {
   "description": "Section 1",
   "page_id": "1.1",
   "page_name": "Section 1",
   "style": "minecraft.css"
  }
 },
 "nbformat": 4,
 "nbformat_minor": 4
}
