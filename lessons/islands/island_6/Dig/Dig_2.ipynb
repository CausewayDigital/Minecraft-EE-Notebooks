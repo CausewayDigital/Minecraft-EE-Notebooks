{
 "cells": [
  {
   "cell_type": "markdown",
   "metadata": {},
   "source": [
    "## Step 3\n",
    "\n",
    "Now with the loops in place, let's write some code to only run when there is a fossil below the Agent.\n",
    "\n",
    "Use the `is_fossil_below()` function and it will return `True` when there's a fossil below, and `False` when there isn't.\n",
    "\n",
    "**Write an `if` statement inside the loops to run code when `is_fossil_below()` is `True`.**"
   ]
  },
  {
   "cell_type": "code",
   "execution_count": null,
   "metadata": {
    "minecraft": {
     "closeCodeBuilderOnRun": true,
     "onCodeCancelledCommand": "scoreboard players set @s codeExecution 0",
     "onCodeErrorCommand": "scoreboard players set @s codeExecution -1",
     "onCodeStartedCommand": "scoreboard players set @s codeExecution 1",
     "onCodeStoppedCommand": "scoreboard players set @s codeExecution 0",
     "onCodeSuccessfulCommand": "scoreboard players set @s codeExecution 2",
     "overridePython": "def return_agent():\n    agent.move(\"back\")\n    agent.move(\"back\")\n    agent.move(\"back\")\n\ndef is_fossil_below():\n    return agent.inspect(\"down\") == \"coral_block\"\n\ndef submit(final):\n    check = []\n    for e in final:\n        check.append(str(e))\n    if [\"1019 1039 110\",\"1018 1039 111\",\"1017 1039 109\"].sort() == check.sort() and len(check) == 3:\n        world.set(\"991 144 122\", \"barrier\")\n\n@user-code",
     "readonly": false
    }
   },
   "outputs": [],
   "source": [
    "coordinates = []\n",
    "\n",
    "for row in range(0,4):\n",
    "    for col in range(0,4):\n",
    "        # Add the if statement below\n",
    "        if\n",
    "            say(\"Fossil!\")"
   ]
  },
  {
   "cell_type": "markdown",
   "metadata": {},
   "source": [
    "## Step 4\n",
    "\n",
    "Now we will use the `append` function on our lists to record the co-ordinates of the fossil. The `append` function allows us to add a new item on the end of a list.\n",
    "\n",
    "Here's an example on how to use `append`...\n",
    "```python\n",
    "my_list = [\"A\", \"B\", \"C\"]\n",
    "my_list.append(\"D\") # my_list will now contain \"A\", \"B\", \"C\" AND \"D\"\n",
    "```\n",
    "\n",
    "You can also get your Agent's current position by using `agent.position`.\n",
    "\n",
    "**Write the code so that when a fossil is found, `agent.position` is appended to the `coordinates` list.**"
   ]
  },
  {
   "cell_type": "code",
   "execution_count": null,
   "metadata": {
    "minecraft": {
     "closeCodeBuilderOnRun": true,
     "onCodeCancelledCommand": "scoreboard players set @s codeExecution 0",
     "onCodeErrorCommand": "scoreboard players set @s codeExecution -1",
     "onCodeStartedCommand": "scoreboard players set @s codeExecution 1",
     "onCodeStoppedCommand": "scoreboard players set @s codeExecution 0",
     "onCodeSuccessfulCommand": "scoreboard players set @s codeExecution 2",
     "overridePython": "def return_agent():\n    agent.move(\"back\")\n    agent.move(\"back\")\n    agent.move(\"back\")\n\ndef is_fossil_below():\n    return agent.inspect(\"down\") == \"coral_block\"\n\ndef submit(final):\n    check = []\n    for e in final:\n        check.append(str(e))\n    if [\"1019 1039 110\",\"1018 1039 111\",\"1017 1039 109\"].sort() == check.sort() and len(check) == 3:\n        world.set(\"991 144 122\", \"barrier\")\n\n@user-code",
     "readonly": false
    }
   },
   "outputs": [],
   "source": [
    "coordinates = []\n",
    "\n",
    "for row in range(0,4):\n",
    "    for col in range(0,4):\n",
    "        if is_fossil_below():\n",
    "            say(\"Fossil!\")\n",
    "            \n",
    "            # Add the code above"
   ]
  }
 ],
 "metadata": {
  "kernelspec": {
   "display_name": "Python 3",
   "language": "python",
   "name": "python3"
  },
  "language_info": {
   "codemirror_mode": {
    "name": "ipython",
    "version": 3
   },
   "file_extension": ".py",
   "mimetype": "text/x-python",
   "name": "python",
   "nbconvert_exporter": "python",
   "pygments_lexer": "ipython3",
   "version": "3.8.3"
  },
  "minecraft": {
   "description": "Section 2",
   "page_id": "1.2",
   "page_name": "Section 2",
   "style": "minecraft.css"
  }
 },
 "nbformat": 4,
 "nbformat_minor": 4
}
