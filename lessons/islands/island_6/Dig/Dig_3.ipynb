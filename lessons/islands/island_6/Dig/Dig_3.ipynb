{
 "cells": [
  {
   "cell_type": "markdown",
   "metadata": {},
   "source": [
    "## Step 5\n",
    "\n",
    "Now let's get your Agent moving!\n",
    "\n",
    "The `return_agent()` function moved the agent to quickly the back wall and let's you move to the next set of blocks to scan.\n",
    "\n",
    "When all the code has been ran, your Agent will submit the co-ordinates for checking by the team.\n",
    "\n",
    "**Add an `agent.move` after the if statement to move the Agent `\"forward\"`, and another at the end of the first loop to move the Agent left.**"
   ]
  },
  {
   "cell_type": "code",
   "execution_count": null,
   "metadata": {
    "minecraft": {
     "closeCodeBuilderOnRun": true,
     "default_code": "coordinates = []\n\nfor row in range(0,4):\n    for col in range(0,4):\n        if is_fossil_below():\n            say(\"Fossil!\")\n            coordinates.append(agent.position)\n        \n        # Add code above to move the Agent forward\n    return_agent() # This moves the agent to the back wall\n    \n    # Add code above to move the Agent left\n\n# Submit co-ordinates for checking\nsubmit(coordinates)",
     "onCodeCancelledCommand": "scoreboard players set @s codeExecution 0",
     "onCodeErrorCommand": "scoreboard players set @s codeExecution -1",
     "onCodeStartedCommand": "scoreboard players set @s codeExecution 1",
     "onCodeStoppedCommand": "scoreboard players set @s codeExecution 0",
     "onCodeSuccessfulCommand": "scoreboard players set @s codeExecution 2",
     "overridePython": "def return_agent():\n    agent.move(\"back\")\n    agent.move(\"back\")\n    agent.move(\"back\")\n\ndef is_fossil_below():\n    return agent.inspect(\"down\") == \"coral_block\"\n\ndef submit(final):\n    check = []\n    for e in final:\n        check.append(str(e))\n    if [\"1019 1039 110\",\"1018 1039 111\",\"1017 1039 109\"].sort() == check.sort() and len(check) == 3:\n        world.set(\"991 144 122\", \"barrier\")\n\n@user-code",
     "readonly": false
    }
   },
   "outputs": [],
   "source": [
    "coordinates = []\n",
    "\n",
    "for row in range(0,4):\n",
    "    for col in range(0,4):\n",
    "        if is_fossil_below():\n",
    "            say(\"Fossil!\")\n",
    "            coordinates.append(agent.position)\n",
    "        \n",
    "        # Add code above to move the Agent forward\n",
    "    return_agent() # This moves the agent to the back wall\n",
    "    \n",
    "    # Add code above to move the Agent left\n",
    "\n",
    "# Submit co-ordinates for checking\n",
    "submit(coordinates)"
   ]
  }
 ],
 "metadata": {
  "kernelspec": {
   "display_name": "Python 3",
   "language": "python",
   "name": "python3"
  },
  "language_info": {
   "codemirror_mode": {
    "name": "ipython",
    "version": 3
   },
   "file_extension": ".py",
   "mimetype": "text/x-python",
   "name": "python",
   "nbconvert_exporter": "python",
   "pygments_lexer": "ipython3",
   "version": "3.8.3"
  },
  "minecraft": {
   "description": "Section 3",
   "page_id": "1.3",
   "page_name": "Section 3",
   "style": "minecraft.css"
  }
 },
 "nbformat": 4,
 "nbformat_minor": 4
}
